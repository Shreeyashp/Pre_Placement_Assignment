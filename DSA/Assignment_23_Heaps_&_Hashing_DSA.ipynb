{
  "cells": [
    {
      "cell_type": "markdown",
      "source": [
        "## **Submitted By: `Shreeyash Pardeshi`**"
      ],
      "metadata": {
        "id": "AGMrj3AdsZZF"
      }
    },
    {
      "cell_type": "markdown",
      "source": [
        "💡 Question-1:\n",
        "\n",
        "Given preorder of a binary tree, calculate its depth(or height) [starting from depth 0]. The preorder is given as a string with two possible characters.\n",
        "\n",
        "‘l’ denotes the leaf\n",
        "‘n’ denotes internal node\n",
        "The given tree can be seen as a full binary tree where every node has 0 or two children. The two children of a node can ‘n’ or ‘l’ or mix of both.\n",
        "\n",
        "Examples :\n",
        "\n",
        "Input : nlnll\n",
        "\n",
        "Output : 2\n",
        "\n",
        "\n",
        "Input : nlnnlll\n",
        "\n",
        "Output : 3\n",
        "\n",
        "\n"
      ],
      "metadata": {
        "id": "nmhaFkzDxm75"
      }
    },
    {
      "cell_type": "code",
      "source": [
        "def calculate_depth(preorder):\n",
        "    stack = []\n",
        "    depth = -1\n",
        "\n",
        "    for char in preorder:\n",
        "        if char == 'n':\n",
        "            stack.append(char)\n",
        "        elif char == 'l':\n",
        "            if not stack:\n",
        "                continue\n",
        "            while stack and stack[-1] == 'l':\n",
        "                stack.pop()\n",
        "            if stack:\n",
        "                stack.pop()  # Remove the 'n' node\n",
        "            stack.append('l')\n",
        "\n",
        "        depth = max(depth, len(stack) - 1)\n",
        "\n",
        "    return depth\n",
        "\n",
        "# Example usage\n",
        "preorder = \"nlnlll\"\n",
        "depth = calculate_depth(preorder)\n",
        "print(\"Depth:\", depth)"
      ],
      "metadata": {
        "colab": {
          "base_uri": "https://localhost:8080/"
        },
        "id": "el427wRIxcAJ",
        "outputId": "6513fa20-06d9-4f80-dc3a-915481ad5be4"
      },
      "execution_count": 15,
      "outputs": [
        {
          "output_type": "stream",
          "name": "stdout",
          "text": [
            "Depth: 1\n"
          ]
        }
      ]
    },
    {
      "cell_type": "markdown",
      "source": [
        "💡 Question-2:\n",
        "\n",
        "Given a Binary tree, the task is to print the left view of the Binary Tree. The left view of a Binary Tree is a set of leftmost nodes for every level.\n",
        "\n",
        "Examples:\n",
        "\n",
        "*Input:*\n",
        "\n",
        "        4\n",
        "\n",
        "      /   \\\n",
        "\n",
        "    5     2\n",
        "\n",
        "         /   \\\n",
        "\n",
        "        3     1\n",
        "\n",
        "       /  \\\n",
        "\n",
        "      6    7\n",
        "\n",
        "*Output: 4 5 3 6*\n",
        "\n",
        "\n"
      ],
      "metadata": {
        "id": "3R_6nzeqyPyB"
      }
    },
    {
      "cell_type": "code",
      "source": [
        "class TreeNode:\n",
        "    def __init__(self, value):\n",
        "        self.val = value\n",
        "        self.left = None\n",
        "        self.right = None\n",
        "\n",
        "def print_left_view(root):\n",
        "    if root is None:\n",
        "        return\n",
        "\n",
        "    queue = [(root, 0)]  # Queue to perform level-order traversal\n",
        "    level_map = {}  # Dictionary to keep track of the leftmost node at each level\n",
        "\n",
        "    while queue:\n",
        "        node, level = queue.pop(0)\n",
        "\n",
        "        if level not in level_map:\n",
        "            level_map[level] = node.val\n",
        "\n",
        "        if node.left:\n",
        "            queue.append((node.left, level + 1))\n",
        "\n",
        "        if node.right:\n",
        "            queue.append((node.right, level + 1))\n",
        "\n",
        "    # Print the leftmost nodes at each level\n",
        "    for level in sorted(level_map.keys()):\n",
        "        print(level_map[level], end=\" \")\n",
        "\n",
        "# Example usage\n",
        "# Constructing the given binary tree\n",
        "root = TreeNode(4)\n",
        "root.left = TreeNode(5)\n",
        "root.right = TreeNode(2)\n",
        "root.right.left = TreeNode(3)\n",
        "root.right.right = TreeNode(1)\n",
        "root.right.left.left = TreeNode(6)\n",
        "root.right.left.right = TreeNode(7)\n",
        "\n",
        "# Print the left view of the binary tree\n",
        "print_left_view(root)"
      ],
      "metadata": {
        "colab": {
          "base_uri": "https://localhost:8080/"
        },
        "id": "ehZY7KRQxns3",
        "outputId": "f3a12d7e-753d-44b9-e409-e072024d8d08"
      },
      "execution_count": 16,
      "outputs": [
        {
          "output_type": "stream",
          "name": "stdout",
          "text": [
            "4 5 3 6 "
          ]
        }
      ]
    },
    {
      "cell_type": "markdown",
      "source": [
        "💡 Question-3:\n",
        "\n",
        "Given a Binary Tree, print the Right view of it.\n",
        "\n",
        "The right view of a Binary Tree is a set of nodes visible when the tree is visited from the Right side.\n",
        "\n",
        "Examples:\n",
        "\n",
        "Input:\n",
        "\n",
        "       1\n",
        "\n",
        "    /      \\\n",
        "\n",
        "  2          3\n",
        "\n",
        "/   \\       /  \\\n",
        "\n",
        "4     5   6    7\n",
        "\n",
        "           \\\n",
        "\n",
        "             8\n",
        "\n",
        "Output:\n",
        "\n",
        "Right view of the tree is 1 3 7 8\n",
        "\n",
        "Input:\n",
        "\n",
        "      1\n",
        "\n",
        "    /\n",
        "\n",
        "  8\n",
        "\n",
        " /\n",
        "\n",
        "7\n",
        "\n",
        "Output:\n",
        "\n",
        "Right view of the tree is 1 8 7\n",
        "\n"
      ],
      "metadata": {
        "id": "tL8ZhTVFycmJ"
      }
    },
    {
      "cell_type": "markdown",
      "source": [
        "💡 Question-4:\n",
        "\n",
        "Given a Binary Tree, The task is to print the bottom view from left to right. A node x is there in output if x is the bottommost node at its horizontal distance. The horizontal distance of the left child of a node x is equal to a horizontal distance of x minus 1, and that of a right child is the horizontal distance of x plus 1.\n",
        "\n",
        "Examples:\n",
        "\n",
        "Input:\n",
        "\n",
        "         20\n",
        "\n",
        "       /     \\\n",
        "\n",
        "    8         22\n",
        "\n",
        " /      \\         \\\n",
        "\n",
        "5         3        25\n",
        "\n",
        "        /    \\\n",
        "\n",
        "      10      14\n",
        "\n",
        "Output: 5, 10, 3, 14, 25.\n",
        "\n",
        "Input:\n",
        "\n",
        "         20\n",
        "\n",
        "       /     \\\n",
        "\n",
        "    8         22\n",
        "\n",
        " /      \\      /   \\\n",
        "\n",
        "5         3    4     25\n",
        "\n",
        "        /   \\\n",
        "\n",
        "      10     14\n",
        "\n",
        "Output:\n",
        "\n",
        "5 10 4 14 25.\n",
        "\n",
        "Explanation:\n",
        "\n",
        "If there are multiple bottom-most nodes for a horizontal distance from the root, then print the later one in the level traversal.\n",
        "\n",
        "3 and 4 are both the bottom-most nodes at a horizontal distance of 0, we need to print 4.\n",
        "\n",
        "from collections import deque\n",
        "\n"
      ],
      "metadata": {
        "id": "Mw990ujyyiwL"
      }
    },
    {
      "cell_type": "code",
      "source": [
        "from collections import deque\n",
        "\n",
        "class TreeNode:\n",
        "    def __init__(self, value):\n",
        "        self.val = value\n",
        "        self.left = None\n",
        "        self.right = None\n",
        "\n",
        "def print_bottom_view(root):\n",
        "    if root is None:\n",
        "        return\n",
        "\n",
        "    # Create a dictionary to store the bottommost node at each horizontal distance\n",
        "    bottom_view_map = {}\n",
        "\n",
        "    # Create a queue for level-order traversal\n",
        "    queue = deque([(root, 0)])\n",
        "\n",
        "    while queue:\n",
        "        node, hd = queue.popleft()\n",
        "\n",
        "        # Update the bottommost node for the current horizontal distance\n",
        "        bottom_view_map[hd] = node.val\n",
        "\n",
        "        # Enqueue the left child with a horizontal distance of hd-1\n",
        "        if node.left:\n",
        "            queue.append((node.left, hd - 1))\n",
        "\n",
        "        # Enqueue the right child with a horizontal distance of hd+1\n",
        "        if node.right:\n",
        "            queue.append((node.right, hd + 1))\n",
        "\n",
        "    # Print the bottom view nodes in the order of increasing horizontal distances\n",
        "    for hd in sorted(bottom_view_map.keys()):\n",
        "        print(bottom_view_map[hd], end=\" \")\n",
        "\n",
        "# Example usage\n",
        "# Constructing the given binary tree\n",
        "root = TreeNode(20)\n",
        "root.left = TreeNode(8)\n",
        "root.right = TreeNode(22)\n",
        "root.left.left = TreeNode(5)\n",
        "root.left.right = TreeNode(3)\n",
        "root.right.right = TreeNode(25)\n",
        "root.left.right.left = TreeNode(10)\n",
        "root.left.right.right = TreeNode(14)\n",
        "\n",
        "# Print the bottom view of the binary tree\n",
        "print_bottom_view(root)"
      ],
      "metadata": {
        "colab": {
          "base_uri": "https://localhost:8080/"
        },
        "id": "VWWklUo-ySXA",
        "outputId": "893a7f8c-2f60-4ddb-eab6-22e8e1ba6194"
      },
      "execution_count": 19,
      "outputs": [
        {
          "output_type": "stream",
          "name": "stdout",
          "text": [
            "5 10 3 14 25 "
          ]
        }
      ]
    }
  ],
  "metadata": {
    "colab": {
      "provenance": []
    },
    "kernelspec": {
      "display_name": "Python 3",
      "name": "python3"
    },
    "language_info": {
      "name": "python"
    }
  },
  "nbformat": 4,
  "nbformat_minor": 0
}