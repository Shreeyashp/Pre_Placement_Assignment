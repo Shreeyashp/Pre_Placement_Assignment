{
  "nbformat": 4,
  "nbformat_minor": 0,
  "metadata": {
    "colab": {
      "provenance": []
    },
    "kernelspec": {
      "name": "python3",
      "display_name": "Python 3"
    },
    "language_info": {
      "name": "python"
    }
  },
  "cells": [
    {
      "cell_type": "markdown",
      "source": [
        "## **Submitted By: `Shreeyash Pardeshi`**"
      ],
      "metadata": {
        "id": "TT5bpHnt2cEK"
      }
    },
    {
      "cell_type": "markdown",
      "source": [
        "💡 Question 1:\n",
        "\n",
        "A permutation perm of n + 1 integers of all the integers in the range [0, n] can be represented as a string s of length n where:\n",
        "\n",
        "s[i] == 'I' if perm[i] < perm[i + 1], and\n",
        "s[i] == 'D' if perm[i] > perm[i + 1].\n",
        "Given a string s, reconstruct the permutation perm and return it. If there are multiple valid permutations perm, return any of them.\n",
        "\n",
        "Example 1:\n",
        "\n",
        "Input: s = \"IDID\"\n",
        "\n",
        "Output:\n",
        "\n",
        "[0,4,1,3,2]\n",
        "\n",
        " "
      ],
      "metadata": {
        "id": "juhoex2e__Xi"
      }
    },
    {
      "cell_type": "code",
      "source": [
        "def reconstruct_permutation(s):\n",
        "    n = len(s)\n",
        "    perm = [0] * (n + 1)\n",
        "    left, right = 0, n\n",
        "    for i in range(n):\n",
        "        if s[i] == 'I':\n",
        "            perm[i] = left\n",
        "            left += 1\n",
        "        else:\n",
        "            perm[i] = right\n",
        "            right -= 1\n",
        "    perm[n] = left\n",
        "    return perm\n",
        "\n",
        "# Example :\n",
        "input_s = \"IDID\"\n",
        "result = reconstruct_permutation(input_s)\n",
        "print(result)"
      ],
      "metadata": {
        "colab": {
          "base_uri": "https://localhost:8080/"
        },
        "id": "zVbK3FaNADzd",
        "outputId": "1ff28d68-bd02-4d29-ffa1-58426159f78c"
      },
      "execution_count": 23,
      "outputs": [
        {
          "output_type": "stream",
          "name": "stdout",
          "text": [
            "[0, 4, 1, 3, 2]\n"
          ]
        }
      ]
    },
    {
      "cell_type": "markdown",
      "source": [
        "💡 Question 2:\n",
        "\n",
        "You are given an m x n integer matrix matrix with the following two properties:\n",
        "\n",
        "Each row is sorted in non-decreasing order.\n",
        "The first integer of each row is greater than the last integer of the previous row.\n",
        "Given an integer target, return true if target is in matrix or false otherwise.\n",
        "\n",
        "You must write a solution in O(log(m * n)) time complexity.\n",
        "\n",
        "Example 1: \n",
        "\n",
        "Input: matrix = [[1,3,5,7],[10,11,16,20],[23,30,34,60]], target = 3\n",
        "\n",
        "Output: true"
      ],
      "metadata": {
        "id": "hv78MHRFAMWd"
      }
    },
    {
      "cell_type": "code",
      "source": [
        "def search_matrix(matrix, target):\n",
        "    m, n = len(matrix), len(matrix[0])\n",
        "    left, right = 0, m * n - 1\n",
        "    while left <= right:\n",
        "        mid = (left + right) // 2\n",
        "        row, col = mid // n, mid % n\n",
        "        if matrix[row][col] == target:\n",
        "            return True\n",
        "        elif matrix[row][col] < target:\n",
        "            left = mid + 1\n",
        "        else:\n",
        "            right = mid - 1\n",
        "    return False\n",
        "\n",
        "# Example :\n",
        "input_matrix = [[1, 3, 5, 7], [10, 11, 16, 20], [23, 30, 34, 60]]\n",
        "target = 3\n",
        "result = search_matrix(input_matrix, target)\n",
        "print(result)"
      ],
      "metadata": {
        "colab": {
          "base_uri": "https://localhost:8080/"
        },
        "id": "mhI3YjbiAPol",
        "outputId": "ebfd68bc-9cc5-41bd-9180-09759a7ca6ce"
      },
      "execution_count": 24,
      "outputs": [
        {
          "output_type": "stream",
          "name": "stdout",
          "text": [
            "True\n"
          ]
        }
      ]
    },
    {
      "cell_type": "markdown",
      "source": [
        "💡 Question 3:\n",
        "\n",
        "Given an array of integers arr, return true if and only if it is a valid mountain array.\n",
        "\n",
        "Recall that arr is a mountain array if and only if:\n",
        "\n",
        "arr.length >= 3\n",
        "There exists some i with 0 < i < arr.length - 1 such that:\n",
        "arr[0] < arr[1] < ... < arr[i - 1] < arr[i]\n",
        "arr[i] > arr[i + 1] > ... > arr[arr.length - 1]\n",
        "\n",
        "Example 1:\n",
        "\n",
        "Input: arr = [2,1]\n",
        "\n",
        "Output:\n",
        "\n",
        "false\n",
        "\n",
        " \n"
      ],
      "metadata": {
        "id": "QzbrqCjhAkPI"
      }
    },
    {
      "cell_type": "code",
      "source": [
        "def is_mountain_array(arr):\n",
        "    n = len(arr)\n",
        "    if n < 3:\n",
        "        return False\n",
        "    i = 0\n",
        "    while i < n - 1 and arr[i] < arr[i + 1]:\n",
        "        i += 1\n",
        "    if i == 0 or i == n - 1:\n",
        "        return False\n",
        "    while i < n - 1 and arr[i] > arr[i + 1]:\n",
        "        i += 1\n",
        "    return i == n - 1\n",
        "\n",
        "# Example :\n",
        "input_arr = [2, 1]\n",
        "result = is_mountain_array(input_arr)\n",
        "print(result)"
      ],
      "metadata": {
        "colab": {
          "base_uri": "https://localhost:8080/"
        },
        "id": "JXpCqDzXAp0b",
        "outputId": "01cff0b0-a8ce-4c40-9802-999635436b42"
      },
      "execution_count": 25,
      "outputs": [
        {
          "output_type": "stream",
          "name": "stdout",
          "text": [
            "False\n"
          ]
        }
      ]
    },
    {
      "cell_type": "markdown",
      "source": [
        "💡 Question 4:\n",
        "\n",
        "Given a binary array nums, return the maximum length of a contiguous subarray with an equal number of 0 and 1.\n",
        "\n",
        "Example 1:\n",
        "\n",
        "Input: nums = [0,1]\n",
        "\n",
        "Output: 2\n",
        "\n",
        "Explanation:\n",
        "\n",
        "[0, 1] is the longest contiguous subarray with an equal number of 0 and 1."
      ],
      "metadata": {
        "id": "odnTB-wgA1BH"
      }
    },
    {
      "cell_type": "code",
      "source": [
        "def find_max_length(nums):\n",
        "    count = {0: -1}\n",
        "    max_length = 0\n",
        "    curr_count = 0\n",
        "    for i, num in enumerate(nums):\n",
        "        if num == 0:\n",
        "            curr_count -= 1\n",
        "        else:\n",
        "            curr_count += 1\n",
        "        if curr_count in count:\n",
        "            max_length = max(max_length, i - count[curr_count])\n",
        "        else:\n",
        "            count[curr_count] = i\n",
        "    return max_length\n",
        "\n",
        "# Example usage:\n",
        "input_nums = [0, 1]\n",
        "result = find_max_length(input_nums)\n",
        "print(result)"
      ],
      "metadata": {
        "colab": {
          "base_uri": "https://localhost:8080/"
        },
        "id": "ROwXRqKaA6kD",
        "outputId": "7ebb920c-8d4d-46ca-8c2c-0dbc5c5f3a6f"
      },
      "execution_count": 26,
      "outputs": [
        {
          "output_type": "stream",
          "name": "stdout",
          "text": [
            "2\n"
          ]
        }
      ]
    },
    {
      "cell_type": "markdown",
      "source": [
        "💡 Question 5:\n",
        "\n",
        "The product sum of two equal-length arrays a and b is equal to the sum of a[i] * b[i] for all 0 <= i < a.length (0-indexed).\n",
        "\n",
        "For example, if a = [1,2,3,4] and b = [5,2,3,1], the product sum would be 15 + 22 + 33 + 41 = 22.\n",
        "Given two arrays nums1 and nums2 of length n, return the minimum product sum* if you are allowed to rearrange the order of the elements in* nums1.\n",
        "\n",
        "Example 1:\n",
        "\n",
        "Input: nums1 = [5,3,4,2], nums2 = [4,2,2,5]\n",
        "\n",
        "Output: 40\n",
        "\n",
        "Explanation:\n",
        "\n",
        "We can rearrange nums1 to become [3,5,4,2]. The product sum of [3,5,4,2] and [4,2,2,5] is 34 + 52 + 42 + 25 = 40."
      ],
      "metadata": {
        "id": "dnxioRCFBSRN"
      }
    },
    {
      "cell_type": "code",
      "source": [
        "def min_product_sum(nums1, nums2):\n",
        "    nums1.sort()\n",
        "    nums2.sort(reverse=True)\n",
        "    return sum(nums1[i] * nums2[i] for i in range(len(nums1)))\n",
        "\n",
        "# Example :\n",
        "input_nums1 = [5, 3, 4, 2]\n",
        "input_nums2 = [4, 2, 2, 5]\n",
        "result = min_product_sum(input_nums1, input_nums2)\n",
        "print(result)"
      ],
      "metadata": {
        "colab": {
          "base_uri": "https://localhost:8080/"
        },
        "id": "z451urogBLe_",
        "outputId": "0b0457df-0ed3-4a8b-bca9-ae401e3e7265"
      },
      "execution_count": 27,
      "outputs": [
        {
          "output_type": "stream",
          "name": "stdout",
          "text": [
            "40\n"
          ]
        }
      ]
    },
    {
      "cell_type": "markdown",
      "source": [
        "💡 Question 6:\n",
        "\n",
        "An integer array original is transformed into a doubled array changed by appending twice the value of every element in original, and then randomly shuffling the resulting array.\n",
        "\n",
        "Given an array changed, return original if changed is a doubled* array. If* changed is not a doubled* array, return an empty array. The elements in* original may be returned in any* order*.\n",
        "\n",
        "Example 1:\n",
        "\n",
        "Input: changed = [1,3,4,2,6,8]\n",
        "\n",
        "Output: [1,3,4]\n",
        "\n",
        "Explanation: One possible original array could be [1,3,4]:\n",
        "\n",
        "Twice the value of 1 is 1 * 2 = 2.\n",
        "Twice the value of 3 is 3 * 2 = 6.\n",
        "Twice the value of 4 is 4 * 2 = 8.\n",
        "Other original arrays could be [4,3,1] or [3,1,4]."
      ],
      "metadata": {
        "id": "F-Ai3C2WBaEB"
      }
    },
    {
      "cell_type": "code",
      "source": [
        "def find_original(changed):\n",
        "    freq = {}\n",
        "    for num in changed:\n",
        "        freq[num] = freq.get(num, 0) + 1\n",
        "\n",
        "    original = []\n",
        "    for num in changed:\n",
        "        if freq[num] > 0 and freq.get(num*2, 0) > 0:\n",
        "            original.append(num)\n",
        "            freq[num] -= 1\n",
        "            freq[num*2] -= 1\n",
        "\n",
        "    if len(original) == len(changed) // 2:\n",
        "        return original\n",
        "    else:\n",
        "        return []\n",
        "\n",
        "# Example usage:\n",
        "input_changed = [1, 3, 4, 2, 6, 8]\n",
        "result = find_original(input_changed)\n",
        "print(result)"
      ],
      "metadata": {
        "colab": {
          "base_uri": "https://localhost:8080/"
        },
        "id": "MgbG-3SuBPyS",
        "outputId": "5b541b1b-9e65-4f36-f4c6-bc19de0127f4"
      },
      "execution_count": 31,
      "outputs": [
        {
          "output_type": "stream",
          "name": "stdout",
          "text": [
            "[1, 3, 4]\n"
          ]
        }
      ]
    },
    {
      "cell_type": "markdown",
      "source": [
        "💡 Question 7:\n",
        "\n",
        "Given a positive integer n, generate an n x n matrix filled with elements from 1 to n2 in spiral order.\n",
        "\n",
        "Example 1:\n",
        "\n",
        "Input: n = 3\n",
        "\n",
        "Output: [[1,2,3],[8,9,4],[7,6,5]]"
      ],
      "metadata": {
        "id": "7oQzHrCWBhhs"
      }
    },
    {
      "cell_type": "code",
      "source": [
        "def generate_spiral_matrix(n):\n",
        "    matrix = [[0] * n for _ in range(n)]\n",
        "    num = 1\n",
        "    left, right, top, bottom = 0, n - 1, 0, n - 1\n",
        "    while left <= right and top <= bottom:\n",
        "        for i in range(left, right + 1):\n",
        "            matrix[top][i] = num\n",
        "            num += 1\n",
        "        for i in range(top + 1, bottom):\n",
        "            matrix[i][right] = num\n",
        "            num += 1\n",
        "        for i in reversed(range(left, right + 1)):\n",
        "            if top < bottom:\n",
        "                matrix[bottom][i] = num\n",
        "                num += 1\n",
        "        for i in reversed(range(top + 1, bottom)):\n",
        "            if left < right:\n",
        "                matrix[i][left] = num\n",
        "                num += 1\n",
        "        left += 1\n",
        "        right -= 1\n",
        "        top += 1\n",
        "        bottom -= 1\n",
        "    return matrix\n",
        "\n",
        "# Example :\n",
        "input_n = 3\n",
        "result = generate_spiral_matrix(input_n)\n",
        "print(result)"
      ],
      "metadata": {
        "colab": {
          "base_uri": "https://localhost:8080/"
        },
        "id": "0Ws-0cJUBkgB",
        "outputId": "30589422-bb63-4370-fcfe-7cca0fb34ba6"
      },
      "execution_count": 29,
      "outputs": [
        {
          "output_type": "stream",
          "name": "stdout",
          "text": [
            "[[1, 2, 3], [8, 9, 4], [7, 6, 5]]\n"
          ]
        }
      ]
    },
    {
      "cell_type": "markdown",
      "source": [
        "💡 Question 8:\n",
        "\n",
        "Given two sparse matrices mat1 of size m x k and mat2 of size k x n, return the result of mat1 x mat2. You may assume that multiplication is always possible.\n",
        "\n",
        "Example 1: \n",
        "\n",
        "Input: mat1 = [[1,0,0],[-1,0,3]], mat2 = [[7,0,0],[0,0,0],[0,0,1]]\n",
        "\n",
        "Output:\n",
        "\n",
        "[[7,0,0],[-7,0,3]]"
      ],
      "metadata": {
        "id": "dkUxKIdcCFRe"
      }
    },
    {
      "cell_type": "code",
      "source": [
        "def multiply_matrices(mat1, mat2):\n",
        "    m, k, n = len(mat1), len(mat1[0]), len(mat2[0])\n",
        "    result = [[0] * n for _ in range(m)]\n",
        "    for i in range(m):\n",
        "        for j in range(n):\n",
        "            for r in range(k):\n",
        "                result[i][j] += mat1[i][r] * mat2[r][j]\n",
        "    return result\n",
        "\n",
        "# Example :\n",
        "input_mat1 = [[1, 0, 0], [-1, 0, 3]]\n",
        "input_mat2 = [[7, 0, 0], [0, 0, 0], [0, 0, 1]]\n",
        "result = multiply_matrices(input_mat1, input_mat2)\n",
        "print(result)"
      ],
      "metadata": {
        "colab": {
          "base_uri": "https://localhost:8080/"
        },
        "id": "riX8UX76BvmJ",
        "outputId": "6fa9fed1-b082-4a7e-ffb5-94ffe2d0e1ac"
      },
      "execution_count": 32,
      "outputs": [
        {
          "output_type": "stream",
          "name": "stdout",
          "text": [
            "[[7, 0, 0], [-7, 0, 3]]\n"
          ]
        }
      ]
    }
  ]
}