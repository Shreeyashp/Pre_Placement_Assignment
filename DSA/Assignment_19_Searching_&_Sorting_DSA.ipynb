{
  "cells": [
    {
      "cell_type": "markdown",
      "source": [
        "## **Submitted By: `Shreeyash Pardeshi`**"
      ],
      "metadata": {
        "id": "AGMrj3AdsZZF"
      }
    },
    {
      "cell_type": "markdown",
      "source": [
        "💡 Question 1. Merge k Sorted Lists\n",
        "\n",
        "You are given an array of k linked-lists lists, each linked-list is sorted in ascending order.\n",
        "\n",
        "Merge all the linked-lists into one sorted linked-list and return it.\n",
        "\n",
        "Example 1: Input: lists = [[1,4,5],[1,3,4],[2,6]]\n",
        "\n",
        "Output: [1,1,2,3,4,4,5,6]\n",
        "\n",
        "Explanation: The linked-lists are: [ 1->4->5, 1->3->4, 2->6 ] merging them into one sorted list: 1->1->2->3->4->4->5->6\n",
        "\n"
      ],
      "metadata": {
        "id": "SdpJVh3u0DqW"
      }
    },
    {
      "cell_type": "code",
      "source": [
        "class ListNode:\n",
        "    def __init__(self, val=0, next=None):\n",
        "        self.val = val\n",
        "        self.next = next\n",
        "\n",
        "def merge_two_lists(l1, l2):\n",
        "    if not l1:\n",
        "        return l2\n",
        "    if not l2:\n",
        "        return l1\n",
        "\n",
        "    if l1.val <= l2.val:\n",
        "        merged = l1\n",
        "        merged.next = merge_two_lists(l1.next, l2)\n",
        "    else:\n",
        "        merged = l2\n",
        "        merged.next = merge_two_lists(l1, l2.next)\n",
        "\n",
        "    return merged\n",
        "\n",
        "def merge_k_lists(lists):\n",
        "    if not lists:\n",
        "        return None\n",
        "\n",
        "    while len(lists) > 1:\n",
        "        merged_lists = []\n",
        "        for i in range(0, len(lists), 2):\n",
        "            l1 = lists[i]\n",
        "            l2 = lists[i+1] if i+1 < len(lists) else None\n",
        "            merged = merge_two_lists(l1, l2)\n",
        "            merged_lists.append(merged)\n",
        "        lists = merged_lists\n",
        "\n",
        "    return lists[0]\n",
        "\n",
        "# Create sample linked lists\n",
        "l1 = ListNode(1)\n",
        "l1.next = ListNode(4)\n",
        "l1.next.next = ListNode(5)\n",
        "\n",
        "l2 = ListNode(1)\n",
        "l2.next = ListNode(3)\n",
        "l2.next.next = ListNode(4)\n",
        "\n",
        "l3 = ListNode(2)\n",
        "l3.next = ListNode(6)\n",
        "\n",
        "# Merge the linked lists\n",
        "lists = [l1, l2, l3]\n",
        "merged = merge_k_lists(lists)\n",
        "\n",
        "# Print the merged linked list\n",
        "while merged:\n",
        "    print(merged.val, end=\" \")\n",
        "    merged = merged.next"
      ],
      "metadata": {
        "colab": {
          "base_uri": "https://localhost:8080/"
        },
        "id": "T7L9QrjU0EEk",
        "outputId": "dd520a33-2f69-49e3-becf-ba18b54929c0"
      },
      "execution_count": 42,
      "outputs": [
        {
          "output_type": "stream",
          "name": "stdout",
          "text": [
            "1 1 2 3 4 4 5 6 "
          ]
        }
      ]
    },
    {
      "cell_type": "markdown",
      "source": [
        "💡 Question 2. Count of Smaller Numbers After Self\n",
        "\n",
        "Given an integer array nums, return an integer array counts where counts[i] is the number of smaller elements to the right of nums[i].\n",
        "\n",
        "Example 1:\n",
        "\n",
        "Input: nums = [5,2,6,1]\n",
        "\n",
        "Output: [2,1,1,0]\n",
        "\n",
        "Explanation: To the right of 5 there are2 smaller elements (2 and 1). To the right of 2 there is only1 smaller element (1). To the right of 6 there is1 smaller element (1). To the right of 1 there is0 smaller element."
      ],
      "metadata": {
        "id": "uNM-RFkU0hNf"
      }
    },
    {
      "cell_type": "code",
      "source": [
        "def count_smaller(nums):\n",
        "    def merge_sort(nums, indices, start, end, counts):\n",
        "        if start >= end:\n",
        "            return\n",
        "        mid = start + (end - start) // 2\n",
        "        merge_sort(nums, indices, start, mid, counts)\n",
        "        merge_sort(nums, indices, mid + 1, end, counts)\n",
        "        merge(nums, indices, start, mid, end, counts)\n",
        "\n",
        "    def merge(nums, indices, start, mid, end, counts):\n",
        "        merged = []\n",
        "        left = start\n",
        "        right = mid + 1\n",
        "        right_count = 0\n",
        "\n",
        "        while left <= mid and right <= end:\n",
        "            if nums[indices[left]] > nums[indices[right]]:\n",
        "                merged.append(indices[right])\n",
        "                right_count += 1\n",
        "                right += 1\n",
        "            else:\n",
        "                merged.append(indices[left])\n",
        "                counts[indices[left]] += right_count\n",
        "                left += 1\n",
        "\n",
        "        while left <= mid:\n",
        "            merged.append(indices[left])\n",
        "            counts[indices[left]] += right_count\n",
        "            left += 1\n",
        "\n",
        "        while right <= end:\n",
        "            merged.append(indices[right])\n",
        "            right += 1\n",
        "\n",
        "        indices[start:end + 1] = merged\n",
        "\n",
        "    n = len(nums)\n",
        "    indices = list(range(n))\n",
        "    counts = [0] * n\n",
        "\n",
        "    merge_sort(nums, indices, 0, n - 1, counts)\n",
        "\n",
        "    return counts\n",
        "\n",
        "\n",
        "# Test case\n",
        "nums = [5, 2, 6, 1]\n",
        "counts = count_smaller(nums)\n",
        "print(\"Counts of smaller elements to the right:\", counts)"
      ],
      "metadata": {
        "colab": {
          "base_uri": "https://localhost:8080/"
        },
        "id": "BCNNk4I70WCA",
        "outputId": "24f65e19-55e6-4673-f705-6e26614b0c29"
      },
      "execution_count": 43,
      "outputs": [
        {
          "output_type": "stream",
          "name": "stdout",
          "text": [
            "Counts of smaller elements to the right: [2, 1, 1, 0]\n"
          ]
        }
      ]
    },
    {
      "cell_type": "markdown",
      "source": [
        "💡 Question 3. Sort an Array\n",
        "\n",
        "Given an array of integers nums, sort the array in ascending order and return it.\n",
        "\n",
        "You must solve the problem without using any built-in functions in O(nlog(n)) time complexity and with the smallest space complexity possible.\n",
        "\n",
        "Example 1:\n",
        "\n",
        "Input: nums = [5,2,3,1]\n",
        "\n",
        "Output: [1,2,3,5]\n",
        "\n",
        "Explanation: After sorting the array, the positions of some numbers are not changed (for example, 2 and 3), while the positions of other numbers are changed (for example, 1 and 5).\n",
        "\n"
      ],
      "metadata": {
        "id": "yo560F270rwl"
      }
    },
    {
      "cell_type": "code",
      "source": [
        "def merge_sort(nums):\n",
        "    if len(nums) <= 1:\n",
        "        return nums\n",
        "\n",
        "    mid = len(nums) // 2\n",
        "    left = merge_sort(nums[:mid])\n",
        "    right = merge_sort(nums[mid:])\n",
        "\n",
        "    return merge(left, right)\n",
        "\n",
        "def merge(left, right):\n",
        "    merged = []\n",
        "    i, j = 0, 0\n",
        "\n",
        "    while i < len(left) and j < len(right):\n",
        "        if left[i] <= right[j]:\n",
        "            merged.append(left[i])\n",
        "            i += 1\n",
        "        else:\n",
        "            merged.append(right[j])\n",
        "            j += 1\n",
        "\n",
        "    while i < len(left):\n",
        "        merged.append(left[i])\n",
        "        i += 1\n",
        "\n",
        "    while j < len(right):\n",
        "        merged.append(right[j])\n",
        "        j += 1\n",
        "\n",
        "    return merged\n",
        "\n",
        "# Test case\n",
        "nums = [5, 2, 1, 3]\n",
        "sorted_nums = merge_sort(nums)\n",
        "print(\"Sorted array:\", sorted_nums)"
      ],
      "metadata": {
        "colab": {
          "base_uri": "https://localhost:8080/"
        },
        "id": "ekMrx8zy0kio",
        "outputId": "650d81db-adc4-4ce0-af2e-890893e34725"
      },
      "execution_count": 45,
      "outputs": [
        {
          "output_type": "stream",
          "name": "stdout",
          "text": [
            "Sorted array: [1, 2, 3, 5]\n"
          ]
        }
      ]
    },
    {
      "cell_type": "markdown",
      "source": [
        "💡 Question 4. Move all zeroes to end of array\n",
        "\n",
        "Given an array of random numbers, Push all the zero’s of a given array to the end of the array. For example, if the given arrays is {1, 9, 8, 4, 0, 0, 2, 7, 0, 6, 0}, it should be changed to {1, 9, 8, 4, 2, 7, 6, 0, 0, 0, 0}. The order of all other elements should be same. Expected time complexity is O(n) and extra space is O(1).\n",
        "\n",
        "Example: Input : arr[] = {1, 2, 0, 4, 3, 0, 5, 0}; Output : arr[] = {1, 2, 4, 3, 5, 0, 0, 0};\n",
        "\n",
        "Input : arr[] = {1, 2, 0, 0, 0, 3, 6}; Output : arr[] = {1, 2, 3, 6, 0, 0, 0};\n",
        "\n"
      ],
      "metadata": {
        "id": "o2SxVYXF01h9"
      }
    },
    {
      "cell_type": "code",
      "source": [
        "def move_zeroes(nums):\n",
        "    n = len(nums)\n",
        "    left = 0\n",
        "\n",
        "    for i in range(n):\n",
        "        if nums[i] != 0:\n",
        "            nums[left] = nums[i]\n",
        "            left += 1\n",
        "\n",
        "    while left < n:\n",
        "        nums[left] = 0\n",
        "        left += 1\n",
        "\n",
        "    return nums\n",
        "\n",
        "# Test case\n",
        "nums = [1, 9, 8, 4, 0, 0, 2, 7, 0, 6, 0]\n",
        "modified_nums = move_zeroes(nums)\n",
        "print(\"Modified array:\", modified_nums)"
      ],
      "metadata": {
        "colab": {
          "base_uri": "https://localhost:8080/"
        },
        "id": "9nrKx3K90sWg",
        "outputId": "d66c0836-57c6-453b-b553-f4237307b767"
      },
      "execution_count": 46,
      "outputs": [
        {
          "output_type": "stream",
          "name": "stdout",
          "text": [
            "Modified array: [1, 9, 8, 4, 2, 7, 6, 0, 0, 0, 0]\n"
          ]
        }
      ]
    },
    {
      "cell_type": "markdown",
      "source": [
        "💡 Question 5. Rearrange array in alternating positive & negative items with O(1) extra space\n",
        "\n",
        "Given an array of positive and negative numbers, arrange them in an alternate fashion such that every positive number is followed by a negative and vice-versa maintaining the order of appearance. The number of positive and negative numbers need not be equal. If there are more positive numbers they appear at the end of the array. If there are more negative numbers, they too appear at the end of the array.\n",
        "\n",
        "Examples:\n",
        "\n",
        "Input:  arr[] = {1, 2, 3, -4, -1, 4} Output: arr[] = {-4, 1, -1, 2, 3, 4}\n",
        "\n",
        "Input:  arr[] = {-5, -2, 5, 2, 4, 7, 1, 8, 0, -8} Output: arr[] = {-5, 5, -2, 2, -8, 4, 7, 1, 8, 0}\n",
        "\n"
      ],
      "metadata": {
        "id": "2BXiwcWg0-Pv"
      }
    },
    {
      "cell_type": "code",
      "source": [
        "def rearrange_array(nums):\n",
        "    n = len(nums)\n",
        "    positive = 0\n",
        "    negative = 1\n",
        "\n",
        "    while positive < n and negative < n:\n",
        "        # Find the next positive number starting from positive index\n",
        "        while positive < n and nums[positive] >= 0:\n",
        "            positive += 2\n",
        "\n",
        "        # Find the next negative number starting from negative index\n",
        "        while negative < n and nums[negative] <= 0:\n",
        "            negative += 2\n",
        "\n",
        "        # Swap the positive and negative numbers\n",
        "        if positive < n and negative < n:\n",
        "            nums[positive], nums[negative] = nums[negative], nums[positive]\n",
        "\n",
        "    return nums\n",
        "\n",
        "# Test case\n",
        "nums = [1, -2, 3, -4, 5, -6, 7, -8]\n",
        "rearranged_nums = rearrange_array(nums)\n",
        "print(\"Rearranged array:\", rearranged_nums)"
      ],
      "metadata": {
        "colab": {
          "base_uri": "https://localhost:8080/"
        },
        "id": "OtErKmBh012G",
        "outputId": "715f61a6-f237-446f-a9b3-2287a2047ac7"
      },
      "execution_count": 49,
      "outputs": [
        {
          "output_type": "stream",
          "name": "stdout",
          "text": [
            "Rearranged array: [1, -2, 3, -4, 5, -6, 7, -8]\n"
          ]
        }
      ]
    },
    {
      "cell_type": "markdown",
      "source": [
        "💡 Question 6. Merge two sorted arrays\n",
        "\n",
        "Given two sorted arrays, the task is to merge them in a sorted manner.\n",
        "\n",
        "Examples:\n",
        "\n",
        "Input: arr1[] = { 1, 3, 4, 5}, arr2[] = {2, 4, 6, 8}\n",
        "\n",
        "Output: arr3[] = {1, 2, 3, 4, 4, 5, 6, 8}\n",
        "\n",
        "Input: arr1[] = { 5, 8, 9}, arr2[] = {4, 7, 8}\n",
        "\n",
        "Output: arr3[] = {4, 5, 7, 8, 8, 9}\n",
        "\n"
      ],
      "metadata": {
        "id": "lS5G1AQc1i7w"
      }
    },
    {
      "cell_type": "code",
      "source": [
        "def merge_sorted_arrays(arr1, arr2):\n",
        "    n1 = len(arr1)\n",
        "    n2 = len(arr2)\n",
        "    merged = []\n",
        "    i = 0\n",
        "    j = 0\n",
        "\n",
        "    while i < n1 and j < n2:\n",
        "        if arr1[i] <= arr2[j]:\n",
        "            merged.append(arr1[i])\n",
        "            i += 1\n",
        "        else:\n",
        "            merged.append(arr2[j])\n",
        "            j += 1\n",
        "\n",
        "    # Append the remaining elements of arr1, if any\n",
        "    while i < n1:\n",
        "        merged.append(arr1[i])\n",
        "        i += 1\n",
        "\n",
        "    # Append the remaining elements of arr2, if any\n",
        "    while j < n2:\n",
        "        merged.append(arr2[j])\n",
        "        j += 1\n",
        "\n",
        "    return merged\n",
        "\n",
        "# Test case\n",
        "arr1 = [1, 3, 4, 5]\n",
        "arr2 = [2, 4, 6, 8]\n",
        "merged_arr = merge_sorted_arrays(arr1, arr2)\n",
        "print(\"Merged array:\", merged_arr)"
      ],
      "metadata": {
        "colab": {
          "base_uri": "https://localhost:8080/"
        },
        "id": "V8kmaFQD1SKt",
        "outputId": "c31a072a-f570-4a8b-871a-367e7885017d"
      },
      "execution_count": 52,
      "outputs": [
        {
          "output_type": "stream",
          "name": "stdout",
          "text": [
            "Merged array: [1, 2, 3, 4, 4, 5, 6, 8]\n"
          ]
        }
      ]
    },
    {
      "cell_type": "markdown",
      "source": [
        "💡 7. Intersection of Two Arrays\n",
        "\n",
        "Given two integer arrays nums1 and nums2, return an array of their intersection. Each element in the result must be unique and you may return the result in any order.\n",
        "\n",
        "Example 1:\n",
        "\n",
        "Input: nums1 = [1,2,2,1], nums2 = [2,2]\n",
        "\n",
        "Output: [2]\n",
        "\n"
      ],
      "metadata": {
        "id": "0bGDovnm1qKD"
      }
    },
    {
      "cell_type": "code",
      "source": [
        "def intersection(nums1, nums2):\n",
        "    set1 = set(nums1)\n",
        "    set2 = set(nums2)\n",
        "    return list(set1.intersection(set2))\n",
        "\n",
        "# Test case\n",
        "nums1 = [1, 2, 2, 1]\n",
        "nums2 = [2, 2]\n",
        "result = intersection(nums1, nums2)\n",
        "print(\"Intersection of the arrays:\", result)"
      ],
      "metadata": {
        "colab": {
          "base_uri": "https://localhost:8080/"
        },
        "id": "iEzgn1xX1fao",
        "outputId": "cb037105-88af-4476-86a9-bf0233a4f26d"
      },
      "execution_count": 53,
      "outputs": [
        {
          "output_type": "stream",
          "name": "stdout",
          "text": [
            "Intersection of the arrays: [2]\n"
          ]
        }
      ]
    },
    {
      "cell_type": "markdown",
      "source": [
        "💡 8. Intersection of Two Arrays II\n",
        "\n",
        "Given two integer arrays nums1 and nums2, return an array of their intersection. Each element in the result must appear as many times as it shows in both arrays and you may return the result in any order.\n",
        "\n",
        "Example 1:\n",
        "\n",
        "Input: nums1 = [1,2,2,1], nums2 = [2,2]\n",
        "\n",
        "Output: [2,2]\n",
        "\n"
      ],
      "metadata": {
        "id": "qMZxEFSX1zzZ"
      }
    },
    {
      "cell_type": "code",
      "source": [
        "from collections import Counter\n",
        "\n",
        "def intersect(nums1, nums2):\n",
        "    # Count the frequency of elements in nums1\n",
        "    counter = Counter(nums1)\n",
        "\n",
        "    result = []\n",
        "    # Iterate through nums2 and check for common elements\n",
        "    for num in nums2:\n",
        "        if num in counter and counter[num] > 0:\n",
        "            result.append(num)\n",
        "            counter[num] -= 1\n",
        "\n",
        "    return result\n",
        "\n",
        "# Test case\n",
        "nums1 = [1, 2, 2, 1]\n",
        "nums2 = [2, 2]\n",
        "result = intersect(nums1, nums2)\n",
        "print(\"Intersection of the arrays:\", result)"
      ],
      "metadata": {
        "colab": {
          "base_uri": "https://localhost:8080/"
        },
        "id": "mc8rL6BX1tyC",
        "outputId": "f11dbb7b-a48c-46f3-e2e4-d4c96c32a7ea"
      },
      "execution_count": 54,
      "outputs": [
        {
          "output_type": "stream",
          "name": "stdout",
          "text": [
            "Intersection of the arrays: [2, 2]\n"
          ]
        }
      ]
    }
  ],
  "metadata": {
    "colab": {
      "provenance": []
    },
    "kernelspec": {
      "display_name": "Python 3",
      "name": "python3"
    },
    "language_info": {
      "name": "python"
    }
  },
  "nbformat": 4,
  "nbformat_minor": 0
}