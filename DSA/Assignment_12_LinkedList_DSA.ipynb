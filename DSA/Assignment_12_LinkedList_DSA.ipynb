{
  "nbformat": 4,
  "nbformat_minor": 0,
  "metadata": {
    "colab": {
      "provenance": []
    },
    "kernelspec": {
      "name": "python3",
      "display_name": "Python 3"
    },
    "language_info": {
      "name": "python"
    }
  },
  "cells": [
    {
      "cell_type": "markdown",
      "source": [
        "### **Submitted By: `Shreeyash Pardeshi`**"
      ],
      "metadata": {
        "id": "y5INDeTlpoxY"
      }
    },
    {
      "cell_type": "markdown",
      "source": [
        "💡 **Question 1**\n",
        "\n",
        "Given a singly linked list, delete **middle** of the linked list. For example, if given linked list is 1->2->**3**->4->5 then linked list should be modified to 1->2->4->5.If there are **even** nodes, then there would be **two middle** nodes, we need to delete the second middle element. For example, if given linked list is 1->2->3->4->5->6 then it should be modified to 1->2->3->5->6.If the input linked list is NULL or has 1 node, then it should return NULL\n",
        "\n",
        "**Example 1:**\n",
        "\n",
        "```\n",
        "Input:\n",
        "LinkedList: 1->2->3->4->5\n",
        "Output:1 2 4 5\n",
        "\n",
        "```\n",
        "\n",
        "**Example 2:**\n",
        "\n",
        "```\n",
        "Input:\n",
        "LinkedList: 2->4->6->7->5->1\n",
        "Output:2 4 6 5 1\n",
        "```\n"
      ],
      "metadata": {
        "id": "2MEx2gQEt7iN"
      }
    },
    {
      "cell_type": "code",
      "source": [
        "class ListNode:\n",
        "    def __init__(self, val=0, next=None):\n",
        "        self.val = val\n",
        "        self.next = next\n",
        "\n",
        "def deleteMiddleNode(head):\n",
        "    # Check if the linked list is empty or has only one node\n",
        "    if not head or not head.next:\n",
        "        return None\n",
        "\n",
        "    slow = head\n",
        "    fast = head\n",
        "    prev = None\n",
        "\n",
        "    # Move fast pointer two steps ahead and slow pointer one step ahead\n",
        "    while fast and fast.next:\n",
        "        fast = fast.next.next\n",
        "        prev = slow\n",
        "        slow = slow.next\n",
        "\n",
        "    # Delete the middle node(s)\n",
        "    prev.next = slow.next\n",
        "\n",
        "    return head\n",
        "\n",
        "# Example 1: LinkedList: 1->2->3->4->5\n",
        "head1 = ListNode(1)\n",
        "head1.next = ListNode(2)\n",
        "head1.next.next = ListNode(3)\n",
        "head1.next.next.next = ListNode(4)\n",
        "head1.next.next.next.next = ListNode(5)\n",
        "\n",
        "new_head1 = deleteMiddleNode(head1)\n",
        "current = new_head1\n",
        "while current:\n",
        "    print(current.val, end=\" \")\n",
        "    current = current.next\n",
        "# Output: 1 2 4 5\n",
        "\n",
        "print()\n",
        "\n",
        "# Example 2: LinkedList: 1->2->3->4->5->6\n",
        "head = ListNode(2)\n",
        "head.next = ListNode(4)\n",
        "head.next.next = ListNode(6)\n",
        "head.next.next.next = ListNode(7)\n",
        "head.next.next.next.next = ListNode(5)\n",
        "head.next.next.next.next.next = ListNode(1)\n",
        "\n",
        "new_head2 = deleteMiddleNode(head)\n",
        "current = new_head2\n",
        "while current:\n",
        "    print(current.val, end=\" \")\n",
        "    current = current.next"
      ],
      "metadata": {
        "id": "y-gTU5w-7kWh",
        "outputId": "654a9edb-4f07-4f6c-b25a-a2f18fd6a922",
        "colab": {
          "base_uri": "https://localhost:8080/"
        }
      },
      "execution_count": 37,
      "outputs": [
        {
          "output_type": "stream",
          "name": "stdout",
          "text": [
            "1 2 4 5 \n",
            "2 4 6 5 1 "
          ]
        }
      ]
    },
    {
      "cell_type": "markdown",
      "source": [
        "💡 **Question 2**\n",
        "\n",
        "Given a linked list of **N** nodes. The task is to check if the linked list has a loop. Linked list can contain self loop.\n",
        "\n",
        "**Example 1:**\n",
        "\n",
        "```\n",
        "Input:\n",
        "N = 3\n",
        "value[] = {1,3,4}\n",
        "x(position at which tail is connected) = 2\n",
        "Output:True\n",
        "Explanation:In above test case N = 3.\n",
        "The linked list with nodes N = 3 is\n",
        "given. Then value of x=2 is given which\n",
        "means last node is connected with xth\n",
        "node of linked list. Therefore, there\n",
        "exists a loop.\n",
        "```\n",
        "\n",
        "**Example 2:**\n",
        "\n",
        "```\n",
        "Input:\n",
        "N = 4\n",
        "value[] = {1,8,3,4}\n",
        "x = 0\n",
        "Output:False\n",
        "Explanation:For N = 4 ,x = 0 means\n",
        "then lastNode->next = NULL, then\n",
        "the Linked list does not contains\n",
        "any loop.\n",
        "```\n"
      ],
      "metadata": {
        "id": "xnf5fYmmw7mh"
      }
    },
    {
      "cell_type": "code",
      "source": [
        "# Input: 1 -> 2 -> 3 -> 4 -> 5 -> 2 (loop)\n",
        "# Output: True\n",
        "\n",
        "# Create the linked list\n",
        "class ListNode:\n",
        "    def __init__(self, val=0, next=None):\n",
        "        self.val = val\n",
        "        self.next = next\n",
        "\n",
        "# Define the function to check if the linked list has a loop\n",
        "def hasLoop(head):\n",
        "    if not head or not head.next:\n",
        "        return False\n",
        "    slow = head\n",
        "    fast = head\n",
        "    while fast and fast.next:\n",
        "        slow = slow.next\n",
        "        fast = fast.next.next\n",
        "        if slow == fast:\n",
        "            return True\n",
        "    return False\n",
        "\n",
        "# Create the linked list with a loop\n",
        "head = ListNode(1)\n",
        "head.next = ListNode(2)\n",
        "head.next.next = ListNode(3)\n",
        "head.next.next.next = ListNode(4)\n",
        "head.next.next.next.next = ListNode(5)\n",
        "head.next.next.next.next.next = head.next\n",
        "\n",
        "# Call the function to check if the linked list has a loop\n",
        "has_loop = hasLoop(head)\n",
        "\n",
        "# Print the result\n",
        "print(has_loop)\n"
      ],
      "metadata": {
        "id": "1k9ZOLLFw_9a",
        "outputId": "4437b4c6-090d-49e4-8180-b67da5b259ac",
        "colab": {
          "base_uri": "https://localhost:8080/"
        }
      },
      "execution_count": 28,
      "outputs": [
        {
          "output_type": "stream",
          "name": "stdout",
          "text": [
            "True\n"
          ]
        }
      ]
    },
    {
      "cell_type": "code",
      "source": [
        "# Create the linked list\n",
        "head = ListNode(1)\n",
        "head.next = ListNode(2)\n",
        "head.next.next = ListNode(3)\n",
        "head.next.next.next = ListNode(4)\n",
        "head.next.next.next.next = ListNode(5)\n",
        "\n",
        "# Call the function to check if the linked list has a loop\n",
        "has_loop = hasLoop(head\n",
        "\n",
        ")\n",
        "\n",
        "# Print the result\n",
        "print(has_loop)\n"
      ],
      "metadata": {
        "id": "7W9gr8ma5OrI",
        "outputId": "8f1e6310-1417-480c-f38a-c4b5ed1694cf",
        "colab": {
          "base_uri": "https://localhost:8080/"
        }
      },
      "execution_count": 31,
      "outputs": [
        {
          "output_type": "stream",
          "name": "stdout",
          "text": [
            "False\n"
          ]
        }
      ]
    },
    {
      "cell_type": "markdown",
      "source": [
        "💡 **Question 3**\n",
        "\n",
        "Given a linked list consisting of **L** nodes and given a number **N**. The task is to find the **N**th node from the end of the linked list.\n",
        "\n",
        "**Example 1:**\n",
        "\n",
        "```\n",
        "Input:\n",
        "N = 2\n",
        "LinkedList: 1->2->3->4->5->6->7->8->9\n",
        "Output:8\n",
        "Explanation:In the first example, there\n",
        "are 9 nodes in linked list and we need\n",
        "to find 2nd node from end. 2nd node\n",
        "from end is 8.\n",
        "\n",
        "```\n",
        "\n",
        "**Example 2:**\n",
        "\n",
        "```\n",
        "Input:\n",
        "N = 5\n",
        "LinkedList: 10->5->100->5\n",
        "Output:-1\n",
        "Explanation:In the second example, there\n",
        "are 4 nodes in the linked list and we\n",
        "need to find 5th from the end. Since 'n'\n",
        "is more than the number of nodes in the\n",
        "linked list, the output is -1.\n",
        "```\n"
      ],
      "metadata": {
        "id": "k-pWE6_JxBOv"
      }
    },
    {
      "cell_type": "code",
      "source": [
        "class ListNode:\n",
        "    def __init__(self, val=0, next=None):\n",
        "        self.val = val\n",
        "        self.next = next\n",
        "\n",
        "def findNthFromEnd(head, n):\n",
        "    # Find the length of the linked list\n",
        "    length = 0\n",
        "    current = head\n",
        "    while current:\n",
        "        length += 1\n",
        "        current = current.next\n",
        "    \n",
        "    # Check if N is valid\n",
        "    if n <= 0 or n > length:\n",
        "        return -1\n",
        "    \n",
        "    # Traverse to the Nth node from the end\n",
        "    target = length - n\n",
        "    current = head\n",
        "    for _ in range(target):\n",
        "        current = current.next\n",
        "    \n",
        "    return current.val\n",
        "\n",
        "# Example 1: N = 2, LinkedList: 1->2->3->4->5->6->7->8->9\n",
        "head1 = ListNode(1)\n",
        "head1.next = ListNode(2)\n",
        "head1.next.next = ListNode(3)\n",
        "head1.next.next.next = ListNode(4)\n",
        "head1.next.next.next.next = ListNode(5)\n",
        "head1.next.next.next.next.next = ListNode(6)\n",
        "head1.next.next.next.next.next.next = ListNode(7)\n",
        "head1.next.next.next.next.next.next.next = ListNode(8)\n",
        "head1.next.next.next.next.next.next.next.next = ListNode(9)\n",
        "\n",
        "print(findNthFromEnd(head1, 2))  # Output: 8\n",
        "\n",
        "# Example 2: N = 5, LinkedList: 10->5->100->5\n",
        "head2 = ListNode(10)\n",
        "head2.next = ListNode(5)\n",
        "head2.next.next = ListNode(100)\n",
        "head2.next.next.next = ListNode(5)\n",
        "\n",
        "print(findNthFromEnd(head2, 5))  # Output: None"
      ],
      "metadata": {
        "id": "hWIustnUxF10",
        "outputId": "7ed4b065-4b96-4f21-f104-4189039d362c",
        "colab": {
          "base_uri": "https://localhost:8080/"
        }
      },
      "execution_count": 35,
      "outputs": [
        {
          "output_type": "stream",
          "name": "stdout",
          "text": [
            "8\n",
            "-1\n"
          ]
        }
      ]
    },
    {
      "cell_type": "markdown",
      "source": [
        "💡 **Question 4**\n",
        "\n",
        "Given a singly linked list of characters, write a function that returns true if the given list is a palindrome, else false.\n",
        "\n",
        "!https://media.geeksforgeeks.org/wp-content/uploads/20220816144425/LLdrawio.png\n",
        "\n",
        "**Examples:**\n",
        "\n",
        "> Input: R->A->D->A->R->NULL\n",
        "> \n",
        "> \n",
        "> **Output:** Yes\n",
        "> \n",
        "> **Input:** C->O->D->E->NULL\n",
        "> \n",
        "> **Output:** No\n",
        "> \n"
      ],
      "metadata": {
        "id": "YtpdEFAqxGbA"
      }
    },
    {
      "cell_type": "code",
      "source": [
        "class ListNode:\n",
        "    def __init__(self, val=0, next=None):\n",
        "        self.val = val\n",
        "        self.next = next\n",
        "\n",
        "def isPalindrome(head):\n",
        "    # Convert the linked list to a list\n",
        "    values = []\n",
        "    current = head\n",
        "    while current:\n",
        "        values.append(current.val)\n",
        "        current = current.next\n",
        "    \n",
        "    # Check if the list is a palindrome\n",
        "    left = 0\n",
        "    right = len(values) - 1\n",
        "    while left < right:\n",
        "        if values[left] != values[right]:\n",
        "            return False\n",
        "        left += 1\n",
        "        right -= 1\n",
        "    \n",
        "    return True\n",
        "\n",
        "# Example 1: R->A->D->A->R->NULL\n",
        "head1 = ListNode('R')\n",
        "head1.next = ListNode('A')\n",
        "head1.next.next = ListNode('D')\n",
        "head1.next.next.next = ListNode('A')\n",
        "head1.next.next.next.next = ListNode('R')\n",
        "\n",
        "print(isPalindrome(head1))  # Output: True\n",
        "\n",
        "# Example 2: C->O->D->E->NULL\n",
        "head2 = ListNode('C')\n",
        "head2.next = ListNode('O')\n",
        "head2.next.next = ListNode('D')\n",
        "head2.next.next.next = ListNode('E')\n",
        "\n",
        "print(isPalindrome(head2))  # Output: False"
      ],
      "metadata": {
        "id": "8P1y9erVxKSF",
        "outputId": "07ffd014-01dd-4092-c04d-b0803f59fa0a",
        "colab": {
          "base_uri": "https://localhost:8080/"
        }
      },
      "execution_count": 33,
      "outputs": [
        {
          "output_type": "stream",
          "name": "stdout",
          "text": [
            "True\n",
            "False\n"
          ]
        }
      ]
    },
    {
      "cell_type": "markdown",
      "source": [
        "💡 **Question 5**\n",
        "\n",
        "Given a linked list of **N** nodes such that it may contain a loop.\n",
        "\n",
        "A loop here means that the last node of the link list is connected to the node at position X(1-based index). If the link list does not have any loop, X=0.\n",
        "\n",
        "Remove the loop from the linked list, if it is present, i.e. unlink the last node which is forming the loop.\n",
        "\n",
        "**Example 1:**\n",
        "\n",
        "```\n",
        "Input:\n",
        "N = 3\n",
        "value[] = {1,3,4}\n",
        "X = 2\n",
        "Output:1\n",
        "Explanation:The link list looks like\n",
        "1 -> 3 -> 4\n",
        "     ^    |\n",
        "     |____|\n",
        "A loop is present. If you remove it\n",
        "successfully, the answer will be 1.\n",
        "\n",
        "```\n",
        "\n",
        "**Example 2:**\n",
        "\n",
        "```\n",
        "Input:\n",
        "N = 4\n",
        "value[] = {1,8,3,4}\n",
        "X = 0\n",
        "Output:1\n",
        "Explanation:The Linked list does not\n",
        "contains any loop.\n",
        "```\n",
        "\n",
        "**Example 3:**\n",
        "\n",
        "```\n",
        "Input:\n",
        "N = 4\n",
        "value[] = {1,2,3,4}\n",
        "X = 1\n",
        "Output:1\n",
        "Explanation:The link list looks like\n",
        "1 -> 2 -> 3 -> 4\n",
        "^              |\n",
        "|______________|\n",
        "A loop is present.\n",
        "If you remove it successfully,\n",
        "the answer will be 1.\n",
        "```\n",
        "\n"
      ],
      "metadata": {
        "id": "9JnhmfQ7xZwU"
      }
    },
    {
      "cell_type": "code",
      "source": [
        "class ListNode:\n",
        "    def __init__(self, val=0, next=None):\n",
        "        self.val = val\n",
        "        self.next = next\n",
        "\n",
        "def detectAndRemoveLoop(head):\n",
        "    # Check if the linked list is empty or has only one node\n",
        "    if not head or not head.next:\n",
        "        return head\n",
        "\n",
        "    slow = head\n",
        "    fast = head\n",
        "\n",
        "    # Detect the loop using the Floyd's Cycle Detection Algorithm\n",
        "    while fast and fast.next:\n",
        "        slow = slow.next\n",
        "        fast = fast.next.next\n",
        "        if slow == fast:\n",
        "            break\n",
        "\n",
        "    # If no loop is present, return the linked list\n",
        "    if slow != fast:\n",
        "        return head\n",
        "\n",
        "    # Move one pointer to the head and another at the meeting point of slow and fast pointers\n",
        "    ptr1 = head\n",
        "    while ptr1 != slow:\n",
        "        ptr1 = ptr1.next\n",
        "        slow = slow.next\n",
        "\n",
        "    # Find the previous node of the loop's start node\n",
        "    ptr2 = head\n",
        "    while ptr2.next != slow:\n",
        "        ptr2 = ptr2.next\n",
        "\n",
        "    # Unlink the last node to remove the loop\n",
        "    ptr2.next = None\n",
        "\n",
        "    return head\n",
        "\n",
        "# Example 1: N = 3, value[] = {1, 3, 4}, X = 2\n",
        "head1 = ListNode(1)\n",
        "head1.next = ListNode(3)\n",
        "head1.next.next = ListNode(4)\n",
        "head1.next.next.next = head1.next\n",
        "\n",
        "new_head1 = detectAndRemoveLoop(head1)\n",
        "current = new_head1\n",
        "while current:\n",
        "    print(current.val, end=\" \")\n",
        "    current = current.next\n",
        "# Output: 1 3 4\n",
        "\n",
        "print()\n",
        "\n",
        "# Example 2: N = 4, value[] = {1, 8, 3, 4}, X = 0\n",
        "head2 = ListNode(1)\n",
        "head2.next = ListNode(8)\n",
        "head2.next.next = ListNode(3)\n",
        "head2.next.next.next = ListNode(4)\n",
        "\n",
        "new_head2 = detectAndRemoveLoop(head2)\n",
        "current = new_head2\n",
        "while current:\n",
        "    print(current.val, end=\" \")\n",
        "    current = current.next\n",
        "# Output: 1 8 3 4\n",
        "\n",
        "print()\n",
        "\n",
        "# Example 3: N = 4, value[] = {1, 2, 3, 4}, X = 1\n",
        "head3 = ListNode(1)\n",
        "head3.next = ListNode(2)\n",
        "head3.next.next = ListNode(3)\n",
        "head3.next.next.next = ListNode(4)\n",
        "head3.next.next.next.next = head3\n",
        "\n",
        "new_head3 = detectAndRemoveLoop(head3)\n",
        "current = new_head3\n",
        "while current:\n",
        "    print(current.val, end=\" \")\n",
        "    current = current.next\n",
        "# Output: 1 2 3 4"
      ],
      "metadata": {
        "id": "BfU_qMRUxeR-",
        "outputId": "857e268e-7ae8-48ca-87e1-33a45414695f",
        "colab": {
          "base_uri": "https://localhost:8080/"
        }
      },
      "execution_count": 38,
      "outputs": [
        {
          "output_type": "stream",
          "name": "stdout",
          "text": [
            "1 \n",
            "1 8 3 4 \n",
            "1 2 3 4 "
          ]
        }
      ]
    },
    {
      "cell_type": "markdown",
      "source": [
        "💡 **Question 6**\n",
        "\n",
        "Given a linked list and two integers M and N. Traverse the linked list such that you retain M nodes then delete next N nodes, continue the same till end of the linked list.\n",
        "\n",
        "Difficulty Level: Rookie\n",
        "\n",
        "**Examples**:\n",
        "\n",
        "```\n",
        "Input:\n",
        "M = 2, N = 2\n",
        "Linked List: 1->2->3->4->5->6->7->8\n",
        "Output:\n",
        "Linked List: 1->2->5->6\n",
        "\n",
        "Input:\n",
        "M = 3, N = 2\n",
        "Linked List: 1->2->3->4->5->6->7->8->9->10\n",
        "Output:\n",
        "Linked List: 1->2->3->6->7->8\n",
        "\n",
        "Input:\n",
        "M = 1, N = 1\n",
        "Linked List: 1->2->3->4->5->6->7->8->9->10\n",
        "Output:\n",
        "Linked List: 1->3->5->7->9\n",
        "```\n"
      ],
      "metadata": {
        "id": "X7wl1W8cxert"
      }
    },
    {
      "cell_type": "code",
      "source": [
        "class ListNode:\n",
        "    def __init__(self, val=0, next=None):\n",
        "        self.val = val\n",
        "        self.next = next\n",
        "\n",
        "def deleteNodes(head, M, N):\n",
        "    if not head:\n",
        "        return head\n",
        "\n",
        "    curr = head\n",
        "    while curr:\n",
        "        # Traverse M nodes\n",
        "        for _ in range(M - 1):\n",
        "            if not curr:\n",
        "                return head\n",
        "            curr = curr.next\n",
        "\n",
        "        if not curr:\n",
        "            return head\n",
        "\n",
        "        # Delete N nodes\n",
        "        temp = curr.next\n",
        "        for _ in range(N):\n",
        "            if not temp:\n",
        "                break\n",
        "            temp = temp.next\n",
        "        curr.next = temp\n",
        "        curr = temp\n",
        "\n",
        "    return head\n",
        "\n",
        "# Example 1: M = 2, N = 2\n",
        "head1 = ListNode(1)\n",
        "head1.next = ListNode(2)\n",
        "head1.next.next = ListNode(3)\n",
        "head1.next.next.next = ListNode(4)\n",
        "head1.next.next.next.next = ListNode(5)\n",
        "head1.next.next.next.next.next = ListNode(6)\n",
        "head1.next.next.next.next.next.next = ListNode(7)\n",
        "head1.next.next.next.next.next.next.next = ListNode(8)\n",
        "\n",
        "new_head1 = deleteNodes(head1, 2, 2)\n",
        "current = new_head1\n",
        "while current:\n",
        "    print(current.val, end=\" \")\n",
        "    current = current.next\n",
        "# Output: 1 2 5 6\n",
        "\n",
        "print()\n",
        "\n",
        "# Example 2: M = 3, N = 2\n",
        "head2 = ListNode(1)\n",
        "head2.next = ListNode(2)\n",
        "head2.next.next = ListNode(3)\n",
        "head2.next.next.next = ListNode(4)\n",
        "head2.next.next.next.next = ListNode(5)\n",
        "head2.next.next.next.next.next = ListNode(6)\n",
        "head2.next.next.next.next.next.next = ListNode(7)\n",
        "head2.next.next.next.next.next.next.next = ListNode(8)\n",
        "head2.next.next.next.next.next.next.next.next = ListNode(9)\n",
        "head2.next.next.next.next.next.next.next.next.next = ListNode(10)\n",
        "\n",
        "new_head2 = deleteNodes(head2, 3, 2)\n",
        "current = new_head2\n",
        "while current:\n",
        "    print(current.val, end=\" \")\n",
        "    current = current.next\n",
        "# Output: 1 2 3 6 7 8\n",
        "\n",
        "print()\n",
        "\n",
        "# Example 3: M = 1, N = 1\n",
        "head3 = ListNode(1)\n",
        "head3.next = ListNode(2)\n",
        "head3.next.next = ListNode(3)\n",
        "head3.next.next.next = ListNode(4)\n",
        "head3.next.next.next.next = ListNode(5)\n",
        "head3.next.next.next.next.next = ListNode(6)\n",
        "head3.next.next.next.next.next.next = ListNode(7)\n",
        "head3.next.next.next.next.next.next.next = ListNode(8)\n",
        "head3.next.next.next.next.next.next.next.next = ListNode(9)\n",
        "head3.next.next.next.next.next.next.next.next.next = ListNode(10)\n",
        "\n",
        "new_head3 = deleteNodes(head3, 1, 1)\n",
        "current = new_head3\n",
        "while current:\n",
        "    print(current.val, end=\" \")\n",
        "    current = current.next\n",
        "# Output: 1 3 5 7 9"
      ],
      "metadata": {
        "id": "ebB5ovPwxj5M",
        "outputId": "94898d4a-9934-4053-a93a-ff24d1c877e3",
        "colab": {
          "base_uri": "https://localhost:8080/"
        }
      },
      "execution_count": 39,
      "outputs": [
        {
          "output_type": "stream",
          "name": "stdout",
          "text": [
            "1 2 5 6 \n",
            "1 2 3 6 7 8 \n",
            "1 3 5 7 9 "
          ]
        }
      ]
    },
    {
      "cell_type": "markdown",
      "source": [
        "💡 **Question 7**\n",
        "\n",
        "Given two linked lists, insert nodes of second list into first list at alternate positions of first list.\n",
        "For example, if first list is 5->7->17->13->11 and second is 12->10->2->4->6, the first list should become 5->12->7->10->17->2->13->4->11->6 and second list should become empty. The nodes of second list should only be inserted when there are positions available. For example, if the first list is 1->2->3 and second list is 4->5->6->7->8, then first list should become 1->4->2->5->3->6 and second list to 7->8.\n",
        "\n"
      ],
      "metadata": {
        "id": "8uxqcxhFx_2C"
      }
    },
    {
      "cell_type": "code",
      "source": [
        "class ListNode:\n",
        "    def __init__(self, val=0, next=None):\n",
        "        self.val = val\n",
        "        self.next = next\n",
        "\n",
        "def mergeLists(head1, head2):\n",
        "    if not head1 or not head2:\n",
        "        return head1 or head2\n",
        "\n",
        "    curr1 = head1\n",
        "    curr2 = head2\n",
        "\n",
        "    while curr1 and curr2:\n",
        "        temp1 = curr1.next\n",
        "        temp2 = curr2.next\n",
        "\n",
        "        curr1.next = curr2\n",
        "        curr2.next = temp1\n",
        "\n",
        "        curr1 = temp1\n",
        "        curr2 = temp2\n",
        "\n",
        "    return head1\n",
        "\n",
        "# Example:\n",
        "# First list: 5->7->17->13->11\n",
        "# Second list: 12->10->2->4->6\n",
        "head1 = ListNode(5)\n",
        "head1.next = ListNode(7)\n",
        "head1.next.next = ListNode(17)\n",
        "head1.next.next.next = ListNode(13)\n",
        "head1.next.next.next.next = ListNode(11)\n",
        "\n",
        "head2 = ListNode(12)\n",
        "head2.next = ListNode(10)\n",
        "head2.next.next = ListNode(2)\n",
        "head2.next.next.next = ListNode(4)\n",
        "head2.next.next.next.next = ListNode(6)\n",
        "\n",
        "new_head1 = mergeLists(head1, head2)\n",
        "new_head2 = head2\n",
        "\n",
        "current = new_head1\n",
        "while current:\n",
        "    print(current.val, end=\" \")\n",
        "    current = current.next\n",
        "# Output: 5 12 7 10 17 2 13 4 11 6\n",
        "\n",
        "print()\n",
        "\n",
        "current = new_head2\n",
        "while current:\n",
        "    print(current.val, end=\" \")\n",
        "    current = current.next\n",
        "# Output: (Empty)"
      ],
      "metadata": {
        "id": "15fgXLNzyApB",
        "outputId": "650cdfa4-8e01-4e10-e008-f560072ad776",
        "colab": {
          "base_uri": "https://localhost:8080/"
        }
      },
      "execution_count": 40,
      "outputs": [
        {
          "output_type": "stream",
          "name": "stdout",
          "text": [
            "5 12 7 10 17 2 13 4 11 6 \n",
            "12 7 10 17 2 13 4 11 6 "
          ]
        }
      ]
    },
    {
      "cell_type": "markdown",
      "source": [
        "💡 **Question 8**\n",
        "\n",
        "Given a singly linked list, find if the linked list is [circular](https://www.geeksforgeeks.org/circular-linked-list/amp/) or not.\n",
        "\n",
        "> A linked list is called circular if it is not NULL-terminated and all nodes are connected in the form of a cycle. Below is an example of a circular linked list.\n"
      ],
      "metadata": {
        "id": "F3rkBpeGyBGQ"
      }
    },
    {
      "cell_type": "code",
      "source": [
        "class ListNode:\n",
        "    def __init__(self, val=0, next=None):\n",
        "        self.val = val\n",
        "        self.next = next\n",
        "\n",
        "def isCircular(head):\n",
        "    if not head or not head.next:\n",
        "        return False\n",
        "\n",
        "    slow = head\n",
        "    fast = head.next\n",
        "\n",
        "    while fast and fast.next:\n",
        "        if slow == fast:\n",
        "            return True\n",
        "\n",
        "        slow = slow.next\n",
        "        fast = fast.next.next\n",
        "\n",
        "    return False\n",
        "\n",
        "# Example of a circular linked list\n",
        "# 1 -> 2 -> 3 -> 4 -> 5 -> 2 (points back to the node with value 2)\n",
        "head = ListNode(1)\n",
        "head.next = ListNode(2)\n",
        "head.next.next = ListNode(3)\n",
        "head.next.next.next = ListNode(4)\n",
        "head.next.next.next.next = ListNode(5)\n",
        "head.next.next.next.next.next = head.next\n",
        "\n",
        "print(isCircular(head))\n",
        "# Output: True\n",
        "\n",
        "# Example of a non-circular linked list\n",
        "# 1 -> 2 -> 3 -> 4 -> 5\n",
        "head = ListNode(1)\n",
        "head.next = ListNode(2)\n",
        "head.next.next = ListNode(3)\n",
        "head.next.next.next = ListNode(4)\n",
        "head.next.next.next.next = ListNode(5)\n",
        "\n",
        "print(isCircular(head))\n",
        "# Output: False"
      ],
      "metadata": {
        "id": "hMImMrHh9UJl",
        "outputId": "566f7e26-8720-4cf5-e451-296586b67baa",
        "colab": {
          "base_uri": "https://localhost:8080/"
        }
      },
      "execution_count": 41,
      "outputs": [
        {
          "output_type": "stream",
          "name": "stdout",
          "text": [
            "True\n",
            "False\n"
          ]
        }
      ]
    }
  ]
}