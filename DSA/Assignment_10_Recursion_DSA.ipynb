{
  "nbformat": 4,
  "nbformat_minor": 0,
  "metadata": {
    "colab": {
      "provenance": []
    },
    "kernelspec": {
      "name": "python3",
      "display_name": "Python 3"
    },
    "language_info": {
      "name": "python"
    }
  },
  "cells": [
    {
      "cell_type": "markdown",
      "source": [
        "### **Submitted By: `Shreeyash Pardeshi`**"
      ],
      "metadata": {
        "id": "y5INDeTlpoxY"
      }
    },
    {
      "cell_type": "markdown",
      "source": [
        "💡 **Question 1**\n",
        "\n",
        "Given an integer `n`, return *`true` if it is a power of three. Otherwise, return `false`*.\n",
        "\n",
        "An integer `n` is a power of three, if there exists an integer `x` such that `n == 3x`.\n",
        "\n",
        "**Example 1:**\n",
        "\n",
        "```\n",
        "Input: n = 27\n",
        "Output: true\n",
        "Explanation: 27 = 33\n",
        "```\n",
        "\n",
        "**Example 2:**\n",
        "\n",
        "```\n",
        "Input: n = 0\n",
        "Output: false\n",
        "Explanation: There is no x where 3x = 0.\n",
        "\n",
        "```\n",
        "\n",
        "**Example 3:**\n",
        "\n",
        "```\n",
        "Input: n = -1\n",
        "Output: false\n",
        "Explanation: There is no x where 3x = (-1).\n",
        "```\n"
      ],
      "metadata": {
        "id": "Grv4PTrEo8cE"
      }
    },
    {
      "cell_type": "code",
      "execution_count": 1,
      "metadata": {
        "colab": {
          "base_uri": "https://localhost:8080/"
        },
        "id": "vAcnriRMnDGm",
        "outputId": "a20064a7-71d4-486b-d7f8-a1562da37418"
      },
      "outputs": [
        {
          "output_type": "stream",
          "name": "stdout",
          "text": [
            "True\n",
            "False\n",
            "False\n"
          ]
        }
      ],
      "source": [
        "def is_power_of_three(n):\n",
        "    if n <= 0:\n",
        "        return False\n",
        "    while n % 3 == 0:\n",
        "        n //= 3\n",
        "    return n == 1\n",
        "\n",
        "# Example usage:\n",
        "number = 27\n",
        "print(is_power_of_three(number))  # Output: True\n",
        "\n",
        "number = 0\n",
        "print(is_power_of_three(number))  # Output: False\n",
        "\n",
        "number = -1\n",
        "print(is_power_of_three(number))  # Output: False\n"
      ]
    },
    {
      "cell_type": "markdown",
      "source": [
        "💡 **Question 2**\n",
        "\n",
        "You have a list `arr` of all integers in the range `[1, n]` sorted in a strictly increasing order. Apply the following algorithm on `arr`:\n",
        "\n",
        "- Starting from left to right, remove the first number and every other number afterward until you reach the end of the list.\n",
        "- Repeat the previous step again, but this time from right to left, remove the rightmost number and every other number from the remaining numbers.\n",
        "- Keep repeating the steps again, alternating left to right and right to left, until a single number remains.\n",
        "\n",
        "Given the integer `n`, return *the last number that remains in* `arr`.\n",
        "\n",
        "**Example 1:**\n",
        "\n",
        "```\n",
        "Input: n = 9\n",
        "Output: 6\n",
        "Explanation:\n",
        "arr = [1, 2,3, 4,5, 6,7, 8,9]\n",
        "arr = [2,4, 6,8]\n",
        "arr = [2, 6]\n",
        "arr = [6]\n",
        "\n",
        "```\n",
        "\n",
        "**Example 2:**\n",
        "\n",
        "```\n",
        "Input: n = 1\n",
        "Output: 1\n",
        "```\n"
      ],
      "metadata": {
        "id": "VqKOuLq-nlbP"
      }
    },
    {
      "cell_type": "code",
      "source": [
        "def find_last_remaining_number(n):\n",
        "    numbers = list(range(1, n+1))\n",
        "    left_to_right = True\n",
        "    while len(numbers) > 1:\n",
        "        if left_to_right:\n",
        "            numbers = numbers[1::2]\n",
        "        else:\n",
        "            numbers = numbers[-2::-2][::-1]\n",
        "        left_to_right = not left_to_right\n",
        "    return numbers[0] if numbers else None\n",
        "\n",
        "# Example usage:\n",
        "n = 9\n",
        "print(find_last_remaining_number(n))  # Output: 6\n",
        "\n",
        "n = 1\n",
        "print(find_last_remaining_number(n))  # Output: 1"
      ],
      "metadata": {
        "colab": {
          "base_uri": "https://localhost:8080/"
        },
        "id": "-9I-H6wfnZsD",
        "outputId": "810646ee-df70-4f08-a06e-6d2ab013e0b0"
      },
      "execution_count": 2,
      "outputs": [
        {
          "output_type": "stream",
          "name": "stdout",
          "text": [
            "6\n",
            "1\n"
          ]
        }
      ]
    },
    {
      "cell_type": "markdown",
      "source": [
        "💡 **Question 3**\n",
        "\n",
        "****Given a set represented as a string, write a recursive code to print all subsets of it. The subsets can be printed in any order.\n",
        "\n",
        "**Example 1:**\n",
        "\n",
        "Input :  set = “abc”\n",
        "\n",
        "Output : { “”, “a”, “b”, “c”, “ab”, “ac”, “bc”, “abc”}\n",
        "\n",
        "**Example 2:**\n",
        "\n",
        "Input : set = “abcd”\n",
        "\n",
        "Output : { “”, “a” ,”ab” ,”abc” ,”abcd”, “abd” ,”ac” ,”acd”, “ad” ,”b”, “bc” ,”bcd” ,”bd” ,”c” ,”cd” ,”d” }\n",
        "\n"
      ],
      "metadata": {
        "id": "5zi2S3-Ens8m"
      }
    },
    {
      "cell_type": "code",
      "source": [
        "def print_all_subsets(string):\n",
        "    def generate_subsets(current_set, remaining_set, index):\n",
        "        if index >= len(remaining_set):\n",
        "            subsets.append(current_set)\n",
        "            return\n",
        "        generate_subsets(current_set, remaining_set, index + 1)\n",
        "        generate_subsets(current_set + remaining_set[index], remaining_set, index + 1)\n",
        "\n",
        "    subsets = []\n",
        "    generate_subsets(\"\", string, 0)\n",
        "    return subsets\n",
        "\n",
        "# Example usage:\n",
        "string = \"abc\"\n",
        "print(print_all_subsets(string))  # Output: ['', 'a', 'b', 'c', 'ab', 'ac', 'bc', 'abc']\n",
        "\n",
        "string = \"abcd\"\n",
        "print(print_all_subsets(string))  # Output: ['', 'a', 'ab', 'abc', 'abcd', 'abd', 'ac', 'acd', 'ad', 'b', 'bc', 'bcd', 'bd', 'c', 'cd', 'd']"
      ],
      "metadata": {
        "colab": {
          "base_uri": "https://localhost:8080/"
        },
        "id": "DSpafeRLnmji",
        "outputId": "90985155-26ce-4ffa-bb3c-ccd9f31053e2"
      },
      "execution_count": 3,
      "outputs": [
        {
          "output_type": "stream",
          "name": "stdout",
          "text": [
            "['', 'c', 'b', 'bc', 'a', 'ac', 'ab', 'abc']\n",
            "['', 'd', 'c', 'cd', 'b', 'bd', 'bc', 'bcd', 'a', 'ad', 'ac', 'acd', 'ab', 'abd', 'abc', 'abcd']\n"
          ]
        }
      ]
    },
    {
      "cell_type": "markdown",
      "source": [
        "💡 **Question 4**\n",
        "\n",
        "Given a string calculate length of the string using recursion.\n",
        "\n",
        "**Examples:**\n",
        "\n",
        "```\n",
        "Input : str = \"abcd\"\n",
        "Output :4\n",
        "\n",
        "Input : str = \"GEEKSFORGEEKS\"\n",
        "Output :13\n",
        "```\n"
      ],
      "metadata": {
        "id": "cLQPvSVWnz0C"
      }
    },
    {
      "cell_type": "code",
      "source": [
        "def calculate_string_length(string):\n",
        "    if string == \"\":\n",
        "        return 0\n",
        "    return 1 + calculate_string_length(string[1:])\n",
        "\n",
        "# Example usage:\n",
        "string = \"abcd\"\n",
        "print(calculate_string_length(string))  # Output: 4\n",
        "\n",
        "string = \"GEEKSFORGEEKS\"\n",
        "print(calculate_string_length(string))  # Output: 13"
      ],
      "metadata": {
        "colab": {
          "base_uri": "https://localhost:8080/"
        },
        "id": "f6v9WdRDnt_x",
        "outputId": "ca987263-8d1e-4e75-ace7-93d8051182b2"
      },
      "execution_count": 4,
      "outputs": [
        {
          "output_type": "stream",
          "name": "stdout",
          "text": [
            "4\n",
            "13\n"
          ]
        }
      ]
    },
    {
      "cell_type": "markdown",
      "source": [
        "💡 **Question 5**\n",
        "\n",
        "We are given a string S, we need to find count of all contiguous substrings starting and ending with same character.\n",
        "\n",
        "**Examples :**\n",
        "\n",
        "```\n",
        "Input  : S = \"abcab\"\n",
        "Output : 7\n",
        "There are 15 substrings of \"abcab\"\n",
        "a, ab, abc, abca, abcab, b, bc, bca\n",
        "bcab, c, ca, cab, a, ab, b\n",
        "Out of the above substrings, there\n",
        "are 7 substrings : a, abca, b, bcab,\n",
        "c, a and b.\n",
        "\n",
        "Input  : S = \"aba\"\n",
        "Output : 4\n",
        "The substrings are a, b, a and aba\n",
        "```\n"
      ],
      "metadata": {
        "id": "7t3Q-jfFn7Hh"
      }
    },
    {
      "cell_type": "code",
      "source": [
        "def count_contiguous_substrings(string):\n",
        "    count = 0\n",
        "    length = len(string)\n",
        "    for i in range(length):\n",
        "        for j in range(i, length):\n",
        "            if string[i] == string[j]:\n",
        "                count += 1\n",
        "    return count\n",
        "\n",
        "# Example usage:\n",
        "string = \"abcab\"\n",
        "print(count_contiguous_substrings(string))  # Output: 7\n",
        "\n",
        "string = \"aba\"\n",
        "print(count_contiguous_substrings(string))  # Output: 4"
      ],
      "metadata": {
        "colab": {
          "base_uri": "https://localhost:8080/"
        },
        "id": "S4Sq9eUmn3QD",
        "outputId": "07db338c-c2b4-40a1-8d5b-733d8060154c"
      },
      "execution_count": 5,
      "outputs": [
        {
          "output_type": "stream",
          "name": "stdout",
          "text": [
            "7\n",
            "4\n"
          ]
        }
      ]
    },
    {
      "cell_type": "markdown",
      "source": [
        "💡 **Question 6**\n",
        "\n",
        "The [tower of Hanoi](https://en.wikipedia.org/wiki/Tower_of_Hanoi) is a famous puzzle where we have three rods and **N** disks. The objective of the puzzle is to move the entire stack to another rod. You are given the number of discs **N**. Initially, these discs are in the rod 1. You need to print all the steps of discs movement so that all the discs reach the 3rd rod. Also, you need to find the total moves.**Note:** The discs are arranged such that the **top disc is numbered 1** and the **bottom-most disc is numbered N**. Also, all the discs have **different sizes** and a bigger disc **cannot** be put on the top of a smaller disc. Refer the provided link to get a better clarity about the puzzle.\n",
        "\n",
        "**Example 1:**\n",
        "\n",
        "```\n",
        "Input:\n",
        "N = 2\n",
        "Output:\n",
        "move disk 1 from rod 1 to rod 2\n",
        "move disk 2 from rod 1 to rod 3\n",
        "move disk 1 from rod 2 to rod 3\n",
        "3\n",
        "Explanation:For N=2 , steps will be\n",
        "as follows in the example and total\n",
        "3 steps will be taken.\n",
        "```\n",
        "\n",
        "**Example 2:**\n",
        "\n",
        "```\n",
        "Input:\n",
        "N = 3\n",
        "Output:\n",
        "move disk 1 from rod 1 to rod 3\n",
        "move disk 2 from rod 1 to rod 2\n",
        "move disk 1 from rod 3 to rod 2\n",
        "move disk 3 from rod 1 to rod 3\n",
        "move disk 1 from rod 2 to rod 1\n",
        "move disk 2 from rod 2 to rod 3\n",
        "move disk 1 from rod 1 to rod 3\n",
        "7\n",
        "Explanation:For N=3 , steps will be\n",
        "as follows in the example and total\n",
        "7 steps will be taken.\n",
        "```\n"
      ],
      "metadata": {
        "id": "XmPzuxKyoAbX"
      }
    },
    {
      "cell_type": "code",
      "source": [
        "def tower_of_hanoi(num_discs, source, auxiliary, destination):\n",
        "    if num_discs == 1:\n",
        "        print(f\"Move disk 1 from rod {source} to rod {destination}\")\n",
        "        return 1\n",
        "    moves = 0\n",
        "    moves += tower_of_hanoi(num_discs - 1, source, destination, auxiliary)\n",
        "    print(f\"Move disk {num_discs} from rod {source} to rod {destination}\")\n",
        "    moves += 1\n",
        "    moves += tower_of_hanoi(num_discs - 1, auxiliary, source, destination)\n",
        "    return moves\n",
        "\n",
        "# Example usage:\n",
        "N = 2\n",
        "moves = tower_of_hanoi(N, 1, 2, 3)\n",
        "print(moves)  # Output: 3\n",
        "\n",
        "N = 3\n",
        "moves = tower_of_hanoi(N, 1, 2, 3)\n",
        "print(moves)  # Output: 7"
      ],
      "metadata": {
        "colab": {
          "base_uri": "https://localhost:8080/"
        },
        "id": "4Dw4lfJXn8NV",
        "outputId": "33202e5c-8212-4e25-90b8-7500a63541ca"
      },
      "execution_count": 7,
      "outputs": [
        {
          "output_type": "stream",
          "name": "stdout",
          "text": [
            "Move disk 1 from rod 1 to rod 2\n",
            "Move disk 2 from rod 1 to rod 3\n",
            "Move disk 1 from rod 2 to rod 3\n",
            "3\n",
            "Move disk 1 from rod 1 to rod 3\n",
            "Move disk 2 from rod 1 to rod 2\n",
            "Move disk 1 from rod 3 to rod 2\n",
            "Move disk 3 from rod 1 to rod 3\n",
            "Move disk 1 from rod 2 to rod 1\n",
            "Move disk 2 from rod 2 to rod 3\n",
            "Move disk 1 from rod 1 to rod 3\n",
            "7\n"
          ]
        }
      ]
    },
    {
      "cell_type": "markdown",
      "source": [
        "💡 **Question 7**\n",
        "\n",
        "Given a string **str**, the task is to print all the permutations of **str**. A **permutation** is an arrangement of all or part of a set of objects, with regard to the order of the arrangement. For instance, the words ‘bat’ and ‘tab’ represents two distinct permutation (or arrangements) of a similar three letter word.\n",
        "\n",
        "**Examples:**\n",
        "\n",
        "> Input: str = “cd”\n",
        "> \n",
        "> \n",
        "> **Output:** cd dc\n",
        "> \n",
        "> **Input:** str = “abb”\n",
        "> \n",
        "> **Output:** abb abb bab bba bab bba\n"
      ],
      "metadata": {
        "id": "61owJ1DGoSIY"
      }
    },
    {
      "cell_type": "code",
      "source": [
        "def generate_permutations(string):\n",
        "    def generate_permutations_util(string, left, right):\n",
        "        if left == right:\n",
        "            all_permutations.append(''.join(string))\n",
        "        else:\n",
        "            for i in range(left, right + 1):\n",
        "                string[left], string[i] = string[i], string[left]\n",
        "                generate_permutations_util(string, left + 1, right)\n",
        "                string[left], string[i] = string[i], string[left]\n",
        "\n",
        "    all_permutations = []\n",
        "    generate_permutations_util(list(string), 0, len(string) - 1)\n",
        "    return all_permutations\n",
        "\n",
        "# Example usage:\n",
        "string = \"cd\"\n",
        "print(generate_permutations(string))  # Output: ['cd', 'dc']\n",
        "\n",
        "string = \"abb\"\n",
        "print(generate_permutations(string))  # Output: ['abb', 'bab', 'bba']"
      ],
      "metadata": {
        "colab": {
          "base_uri": "https://localhost:8080/"
        },
        "id": "kcD4Y5LUoA0L",
        "outputId": "1e62a98d-c5fc-4980-9290-02485d07561b"
      },
      "execution_count": 8,
      "outputs": [
        {
          "output_type": "stream",
          "name": "stdout",
          "text": [
            "['cd', 'dc']\n",
            "['abb', 'abb', 'bab', 'bba', 'bba', 'bab']\n"
          ]
        }
      ]
    },
    {
      "cell_type": "markdown",
      "source": [
        "💡 **Question 8**\n",
        "\n",
        "Given a string, count total number of consonants in it. A consonant is an English alphabet character that is not vowel (a, e, i, o and u). Examples of constants are b, c, d, f, and g.\n"
      ],
      "metadata": {
        "id": "ETfJ_i6AoYMR"
      }
    },
    {
      "cell_type": "code",
      "source": [
        "def count_consonants(string):\n",
        "    vowels = \"aeiouAEIOU\"\n",
        "    count = 0\n",
        "    for char in string:\n",
        "        if char.isalpha() and char not in vowels:\n",
        "            count += 1\n",
        "    return count\n",
        "\n",
        "# Example usage:\n",
        "string = \"abc de\"\n",
        "print(count_consonants(string)) \n",
        "\n",
        "string = \"geeksforgeeks portal\"\n",
        "print(count_consonants(string))  "
      ],
      "metadata": {
        "colab": {
          "base_uri": "https://localhost:8080/"
        },
        "id": "hh1OaD8zoTeN",
        "outputId": "0cb38cc3-97f2-4db3-d209-f83487487b9a"
      },
      "execution_count": 11,
      "outputs": [
        {
          "output_type": "stream",
          "name": "stdout",
          "text": [
            "3\n",
            "12\n"
          ]
        }
      ]
    }
  ]
}