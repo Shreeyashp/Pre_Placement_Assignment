{
  "nbformat": 4,
  "nbformat_minor": 0,
  "metadata": {
    "colab": {
      "provenance": []
    },
    "kernelspec": {
      "name": "python3",
      "display_name": "Python 3"
    },
    "language_info": {
      "name": "python"
    }
  },
  "cells": [
    {
      "cell_type": "markdown",
      "source": [
        "**Question 1:\n",
        "Given an integer array nums of 2n integers, group these integers into n pairs (a1, b1), (a2, b2), ..., (an, bn) such that the sum of min(ai, bi) for all i is maximized. Return the maximized sum.**\n",
        "\n",
        "Example 1:\n",
        "\n",
        "Input: nums = [1,4,3,2]\n",
        "\n",
        "Output: 4\n",
        "\n",
        "Explanation: All possible pairings (ignoring the ordering of elements) are:\n",
        "\n",
        "1. (1, 4), (2, 3) -> min(1, 4) + min(2, 3) = 1 + 2 = 3\n",
        "2. (1, 3), (2, 4) -> min(1, 3) + min(2, 4) = 1 + 2 = 3\n",
        "3. (1, 2), (3, 4) -> min(1, 2) + min(3, 4) = 1 + 3 = 4\n",
        "\n",
        "So the maximum possible sum is 4"
      ],
      "metadata": {
        "id": "R8mT84oGbTiP"
      }
    },
    {
      "cell_type": "code",
      "execution_count": 1,
      "metadata": {
        "colab": {
          "base_uri": "https://localhost:8080/"
        },
        "id": "padEBk4qaWFE",
        "outputId": "2ff08b5a-5179-4e65-a0e4-f88eab3ee289"
      },
      "outputs": [
        {
          "output_type": "stream",
          "name": "stdout",
          "text": [
            "4\n"
          ]
        }
      ],
      "source": [
        "def maxPairSum(nums):\n",
        "    nums.sort()\n",
        "    sum_min = 0\n",
        "    for i in range(0, len(nums), 2):\n",
        "        sum_min += nums[i]\n",
        "    return sum_min\n",
        "\n",
        "nums = [1, 4, 3, 2]\n",
        "print(maxPairSum(nums))"
      ]
    },
    {
      "cell_type": "code",
      "source": [
        "nums = [3, 4, 5, 6, 3, 5, 7]\n",
        "print(maxPairSum(nums)) "
      ],
      "metadata": {
        "colab": {
          "base_uri": "https://localhost:8080/"
        },
        "id": "iVEdIOSWbsju",
        "outputId": "361ff94e-a9e9-4f30-8ebb-65d2d512a2d4"
      },
      "execution_count": 3,
      "outputs": [
        {
          "output_type": "stream",
          "name": "stdout",
          "text": [
            "19\n"
          ]
        }
      ]
    },
    {
      "cell_type": "markdown",
      "source": [
        "Question 2\n",
        "Alice has n candies, where the ith candy is of type candyType[i]. Alice noticed that she started to gain weight, so she visited a doctor.\n",
        "\n",
        "The doctor advised Alice to only eat n / 2 of the candies she has (n is always even). Alice likes her candies very much, and she wants to eat the maximum number of different types of candies while still following the doctor's advice.\n",
        "\n",
        "Given the integer array candyType of length n, return the maximum number of different types of candies she can eat if she only eats n / 2 of them.\n",
        "\n",
        "Example 1:\n",
        "\n",
        "Input: candyType = [1,1,2,2,3,3]\n",
        "\n",
        "Output: 3\n",
        "\n",
        "Explanation: Alice can only eat 6 / 2 = 3 candies. Since there are only 3 types, she can eat one of each type."
      ],
      "metadata": {
        "id": "rxGatorJb5jp"
      }
    },
    {
      "cell_type": "code",
      "source": [
        "def Candies(Type):\n",
        "    max_candies = len(Type) // 2\n",
        "    candy_set = set(Type)\n",
        "    return min(len(candy_set), max_candies)\n",
        "\n",
        "Type = [1, 1, 2, 2, 3, 3]\n",
        "print(Candies(Type))"
      ],
      "metadata": {
        "colab": {
          "base_uri": "https://localhost:8080/"
        },
        "id": "ymnxePLwb1Zo",
        "outputId": "139efc5d-b543-485c-eee3-a2fd286e19d2"
      },
      "execution_count": 4,
      "outputs": [
        {
          "output_type": "stream",
          "name": "stdout",
          "text": [
            "3\n"
          ]
        }
      ]
    },
    {
      "cell_type": "markdown",
      "source": [
        "Question 3\n",
        "We define a harmonious array as an array where the difference between its maximum value and its minimum value is exactly 1.\n",
        "\n",
        "Given an integer array nums, return the length of its longest harmonious subsequence among all its possible subsequences.\n",
        "\n",
        "A subsequence of an array is a sequence that can be derived from the array by deleting some or no elements without changing the order of the remaining elements.\n",
        "\n",
        "Example 1:\n",
        "\n",
        "Input: nums = [1,3,2,2,5,2,3,7]\n",
        "\n",
        "Output: 5\n",
        "\n",
        "Explanation: The longest harmonious subsequence is [3,2,2,2,3]."
      ],
      "metadata": {
        "id": "-zQO6cINcLmC"
      }
    },
    {
      "cell_type": "code",
      "source": [
        "def findLHS(nums):\n",
        "    num_counts = {}\n",
        "    max_len = 0\n",
        "\n",
        "    #Count the frequency of each number\n",
        "    for num in nums:\n",
        "        if num in num_counts:\n",
        "            num_counts[num] += 1\n",
        "        else:\n",
        "            num_counts[num] = 1\n",
        "\n",
        "    #the length of the longest harmonious subsequence\n",
        "    for num in num_counts:\n",
        "        if num + 1 in num_counts:\n",
        "            curr_len = num_counts[num] + num_counts[num + 1]\n",
        "            max_len = max(max_len, curr_len)\n",
        "\n",
        "    return max_len\n",
        "\n",
        "\n",
        "nums = [1,3,2,2,5,2,3,7]\n",
        "findLHS(nums)"
      ],
      "metadata": {
        "colab": {
          "base_uri": "https://localhost:8080/"
        },
        "id": "2NC9RxrncG93",
        "outputId": "1d90abe6-e09d-45f7-c2c8-3e25213ae700"
      },
      "execution_count": 5,
      "outputs": [
        {
          "output_type": "execute_result",
          "data": {
            "text/plain": [
              "5"
            ]
          },
          "metadata": {},
          "execution_count": 5
        }
      ]
    },
    {
      "cell_type": "markdown",
      "source": [
        "Question 4:\n",
        "You have a long flowerbed in which some of the plots are planted, and some are not.\n",
        "\n",
        "However, flowers cannot be planted in adjacent plots.\n",
        "\n",
        "Given an integer array flowerbed containing 0's and 1's, where 0 means empty and 1 means not empty, and an integer n, return true if n new flowers can be planted in the flowerbed without violating the no-adjacent-flowers rule and false otherwise.\n",
        "\n",
        "Example 1:\n",
        "\n",
        "Input: flowerbed = [1,0,0,0,1], n = 1\n",
        "\n",
        "Output: true"
      ],
      "metadata": {
        "id": "PGuwq_ZPccmH"
      }
    },
    {
      "cell_type": "code",
      "source": [
        "def flowers(flowerbed, n):\n",
        "    count = 0\n",
        "    length = len(flowerbed)\n",
        "    i = 0\n",
        "\n",
        "    while i < length:\n",
        "        if flowerbed[i] == 0 and (i == 0 or flowerbed[i - 1] == 0) and (i == length - 1 or flowerbed[i + 1] == 0):\n",
        "            flowerbed[i] = 1\n",
        "            count += 1\n",
        "            i += 1  \n",
        "        if count >= n:\n",
        "            return True\n",
        "        i += 1\n",
        "\n",
        "    return False\n",
        "\n",
        "\n",
        "flowerbed = [1,0,0,0,1]\n",
        "n = 1\n",
        "\n",
        "print(flowers(flowerbed, n))"
      ],
      "metadata": {
        "colab": {
          "base_uri": "https://localhost:8080/"
        },
        "id": "R5yEG38mcUYR",
        "outputId": "f501ed24-7527-451c-afa1-396f4c9437b5"
      },
      "execution_count": 7,
      "outputs": [
        {
          "output_type": "stream",
          "name": "stdout",
          "text": [
            "True\n"
          ]
        }
      ]
    },
    {
      "cell_type": "code",
      "source": [
        "flowerbed = [0, 1, 0, 1,0,1,0]\n",
        "n = 1\n",
        "\n",
        "print(flowers(flowerbed, n))"
      ],
      "metadata": {
        "colab": {
          "base_uri": "https://localhost:8080/"
        },
        "id": "UC1tvpm1cqlV",
        "outputId": "3a8d4201-0fa7-4339-e2ce-75b0f62a64ef"
      },
      "execution_count": 8,
      "outputs": [
        {
          "output_type": "stream",
          "name": "stdout",
          "text": [
            "False\n"
          ]
        }
      ]
    },
    {
      "cell_type": "markdown",
      "source": [
        "Question 5:\n",
        "Given an integer array nums, find three numbers whose product is maximum and return the maximum product.\n",
        "\n",
        "Example 1:\n",
        "\n",
        "Input: nums = [1,2,3]\n",
        "\n",
        "Output: 6"
      ],
      "metadata": {
        "id": "GDl2J9dpc4JD"
      }
    },
    {
      "cell_type": "code",
      "source": [
        "def MaxProduct(arr):\n",
        "    arr.sort()\n",
        "    maxnumlist = arr[-3:]\n",
        "    product = 1\n",
        "    for i in maxnumlist:\n",
        "        product*=i\n",
        "    return product\n",
        "\n",
        "arr = [1,2,3]\n",
        "MaxProduct(arr)"
      ],
      "metadata": {
        "colab": {
          "base_uri": "https://localhost:8080/"
        },
        "id": "IQ8-Jf0Hc1gK",
        "outputId": "8d8ed039-b4fa-496c-8e66-d975a65bf270"
      },
      "execution_count": 9,
      "outputs": [
        {
          "output_type": "execute_result",
          "data": {
            "text/plain": [
              "6"
            ]
          },
          "metadata": {},
          "execution_count": 9
        }
      ]
    },
    {
      "cell_type": "code",
      "source": [
        "arr = [1,2,9,7]\n",
        "MaxProduct(arr)"
      ],
      "metadata": {
        "colab": {
          "base_uri": "https://localhost:8080/"
        },
        "id": "k4L7EUCJdBHl",
        "outputId": "df21ab99-7c3c-4543-a733-1201c89b6543"
      },
      "execution_count": 11,
      "outputs": [
        {
          "output_type": "execute_result",
          "data": {
            "text/plain": [
              "126"
            ]
          },
          "metadata": {},
          "execution_count": 11
        }
      ]
    },
    {
      "cell_type": "markdown",
      "source": [
        "Question 6:\n",
        "Given an array of integers nums which is sorted in ascending order, and an integer target, write a function to search target in nums. If target exists, then return its index. Otherwise, return -1.\n",
        "\n",
        "You must write an algorithm with O(log n) runtime complexity.\n",
        "\n",
        "Input: nums = [-1,0,3,5,9,12], target = 9\n",
        "\n",
        "Output: 4\n",
        "\n",
        "Explanation: 9 exists in nums and its index is 4"
      ],
      "metadata": {
        "id": "1abMUZotdG6I"
      }
    },
    {
      "cell_type": "code",
      "source": [
        "def FindTarget(nums, target):\n",
        "    positive_arr = [ele for ele in nums if ele >= 0]\n",
        "    if target in positive_arr:\n",
        "        return positive_arr.index(target)+1\n",
        "    else:\n",
        "        return -1"
      ],
      "metadata": {
        "id": "TPoA1po8dF3l"
      },
      "execution_count": 12,
      "outputs": []
    },
    {
      "cell_type": "code",
      "source": [
        "nums = [-1,0,3,5,9,12]\n",
        "target = 9\n",
        "FindTarget(nums, target)"
      ],
      "metadata": {
        "colab": {
          "base_uri": "https://localhost:8080/"
        },
        "id": "9tcDdcDudPuW",
        "outputId": "436b9584-e466-4db9-cb84-2fcd7e9b6ca3"
      },
      "execution_count": 13,
      "outputs": [
        {
          "output_type": "execute_result",
          "data": {
            "text/plain": [
              "4"
            ]
          },
          "metadata": {},
          "execution_count": 13
        }
      ]
    },
    {
      "cell_type": "code",
      "source": [
        "nums = [-11,0,3,11,5,9,10,12]\n",
        "target = 10\n",
        "FindTarget(nums, target)"
      ],
      "metadata": {
        "colab": {
          "base_uri": "https://localhost:8080/"
        },
        "id": "MyX0rJd7dSWr",
        "outputId": "00f1741a-d9bc-4b7c-a246-c0bdb5405bb9"
      },
      "execution_count": 14,
      "outputs": [
        {
          "output_type": "execute_result",
          "data": {
            "text/plain": [
              "6"
            ]
          },
          "metadata": {},
          "execution_count": 14
        }
      ]
    },
    {
      "cell_type": "markdown",
      "source": [
        "Question 7:\n",
        "An array is monotonic if it is either monotone increasing or monotone decreasing.\n",
        "\n",
        "An array nums is monotone increasing if for all i <= j, nums[i] <= nums[j]. An array nums is monotone decreasing if for all i <= j, nums[i] >= nums[j].\n",
        "\n",
        "Given an integer array nums, return true if the given array is monotonic, or false otherwise.\n",
        "\n",
        "Example 1:\n",
        "\n",
        "Input: nums = [1,2,2,3]\n",
        "\n",
        "Output: true"
      ],
      "metadata": {
        "id": "mkuer3qLdacH"
      }
    },
    {
      "cell_type": "code",
      "source": [
        "def ismonotonic(nums):\n",
        "    \n",
        "    increasing = True\n",
        "    decreasing = True\n",
        "    for i in range(1, len(nums)):\n",
        "        if nums[i] < nums[i-1]:\n",
        "            increasing = False\n",
        "        if nums[i] > nums[i-1]:\n",
        "            decreasing = False\n",
        "\n",
        "    return increasing or decreasing\n",
        "\n",
        "nums = [1,2,2,3]\n",
        "ismonotonic(nums)"
      ],
      "metadata": {
        "colab": {
          "base_uri": "https://localhost:8080/"
        },
        "id": "wQxPx6jndW_W",
        "outputId": "7c09adb6-26f5-43e7-9d3b-77e0835c5f66"
      },
      "execution_count": 15,
      "outputs": [
        {
          "output_type": "execute_result",
          "data": {
            "text/plain": [
              "True"
            ]
          },
          "metadata": {},
          "execution_count": 15
        }
      ]
    },
    {
      "cell_type": "code",
      "source": [
        "nums = [1,2,2,7,3,4,5]\n",
        "ismonotonic(nums)"
      ],
      "metadata": {
        "colab": {
          "base_uri": "https://localhost:8080/"
        },
        "id": "mFtiWTjZdh1N",
        "outputId": "30b8b52c-805c-4abc-ca71-998a5abb58b6"
      },
      "execution_count": 16,
      "outputs": [
        {
          "output_type": "execute_result",
          "data": {
            "text/plain": [
              "False"
            ]
          },
          "metadata": {},
          "execution_count": 16
        }
      ]
    },
    {
      "cell_type": "markdown",
      "source": [
        "Question 8\n",
        "You are given an integer array nums and an integer k.\n",
        "\n",
        "In one operation, you can choose any index i where 0 <= i < nums.length and change nums[i] to nums[i] + x where x is an integer from the range [-k, k]. You can apply this operation at most once for each index i.\n",
        "\n",
        "The score of nums is the difference between the maximum and minimum elements in nums.\n",
        "\n",
        "Return the minimum score of nums after applying the mentioned operation at most once for each index in it.\n",
        "\n",
        "Example 1:\n",
        "\n",
        "Input: nums = [1], k = 0\n",
        "\n",
        "Output: 0\n",
        "\n",
        "Explanation: The score is max(nums) - min(nums) = 1 - 1 = 0."
      ],
      "metadata": {
        "id": "DxK2lLb8d2mB"
      }
    },
    {
      "cell_type": "code",
      "source": [
        "def min_score(nums, k):\n",
        "    minimum = nums[0]\n",
        "    maximum = nums[0]\n",
        "\n",
        "    for i in range(1, len(nums)):\n",
        "        max_increase = nums[i] + k\n",
        "        \n",
        "        if max_increase > maximum:\n",
        "            maximum = max_increase\n",
        "        min_decrease = nums[i] - k\n",
        "        \n",
        "        if min_decrease < minimum:\n",
        "            minimum = min_decrease\n",
        "            \n",
        "    score = maximum - minimum\n",
        "    return score\n",
        "\n",
        "    \n",
        "nums = [1]\n",
        "k = 0\n",
        "min_score(nums,k)"
      ],
      "metadata": {
        "colab": {
          "base_uri": "https://localhost:8080/"
        },
        "id": "5ELdmcJIdt9_",
        "outputId": "6ab78722-c2e6-4111-ab4c-4da3352f4fb9"
      },
      "execution_count": 17,
      "outputs": [
        {
          "output_type": "execute_result",
          "data": {
            "text/plain": [
              "0"
            ]
          },
          "metadata": {},
          "execution_count": 17
        }
      ]
    },
    {
      "cell_type": "markdown",
      "source": [
        "## **Submitted By: *Shreeyash Pardeshi***"
      ],
      "metadata": {
        "id": "lS_IXdfneClC"
      }
    },
    {
      "cell_type": "code",
      "source": [],
      "metadata": {
        "id": "Yxt4kYOSd-PU"
      },
      "execution_count": null,
      "outputs": []
    }
  ]
}