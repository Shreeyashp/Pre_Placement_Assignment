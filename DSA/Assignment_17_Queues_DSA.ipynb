{
  "cells": [
    {
      "cell_type": "markdown",
      "source": [
        "## **Submitted By: `Shreeyash Pardeshi`**"
      ],
      "metadata": {
        "id": "AGMrj3AdsZZF"
      }
    },
    {
      "cell_type": "markdown",
      "source": [
        "💡Question 1\n",
        "\n",
        "Given a string s, find the first non-repeating character in it and return its index. If it does not exist, return -1.\n",
        "\n",
        "Example 1:\n",
        "\n",
        "Input: s = \"leetcode\" Output: 0\n"
      ],
      "metadata": {
        "id": "oj79GP2FtyTr"
      }
    },
    {
      "cell_type": "code",
      "source": [
        "def first_non_repeating_char(s):\n",
        "    char_count = {}\n",
        "\n",
        "    # Count the frequency of each character\n",
        "    for char in s:\n",
        "        if char in char_count:\n",
        "            char_count[char] += 1\n",
        "        else:\n",
        "            char_count[char] = 1\n",
        "\n",
        "    # Find the first non-repeating character and its index\n",
        "    for i, char in enumerate(s):\n",
        "        if char_count[char] == 1:\n",
        "            return i\n",
        "\n",
        "    # If no non-repeating character found, return -1\n",
        "    return -1\n",
        "\n",
        "s = \"leetcode\"\n",
        "print(first_non_repeating_char(s))"
      ],
      "metadata": {
        "colab": {
          "base_uri": "https://localhost:8080/"
        },
        "id": "xCy5zdZztys9",
        "outputId": "85725ff2-08c2-4eab-fdc5-4ecd64149ea3"
      },
      "execution_count": 24,
      "outputs": [
        {
          "output_type": "stream",
          "name": "stdout",
          "text": [
            "0\n"
          ]
        }
      ]
    },
    {
      "cell_type": "markdown",
      "source": [
        "💡 Question 2\n",
        "\n",
        "Given a circular integer array nums of length n, return the maximum possible sum of a non-empty subarray of nums.\n",
        "\n",
        "A circular array means the end of the array connects to the beginning of the array. Formally, the next element of nums[i] is nums[(i + 1) % n] and the previous element of nums[i] is nums[(i - 1 + n) % n].\n",
        "\n",
        "A subarray may only include each element of the fixed buffer nums at most once. Formally, for a subarray nums[i], nums[i + 1], ..., nums[j], there does not exist i <= k1, k2 <= j with k1 % n == k2 % n.\n",
        "\n",
        "Example 1:\n",
        "\n",
        "Input: nums = [1,-2,3,-2] Output: 3 Explanation: Subarray [3] has maximum sum 3.\n"
      ],
      "metadata": {
        "id": "i3rT-LUku-q_"
      }
    },
    {
      "cell_type": "code",
      "source": [
        "def max_subarray_sum_circular(nums):\n",
        "    # Calculate the maximum sum using Kadane's algorithm\n",
        "    def max_subarray_sum(arr):\n",
        "        max_sum = float('-inf')\n",
        "        curr_sum = 0\n",
        "\n",
        "        for num in arr:\n",
        "            curr_sum = max(curr_sum + num, num)\n",
        "            max_sum = max(max_sum, curr_sum)\n",
        "\n",
        "        return max_sum\n",
        "\n",
        "    # Calculate the maximum sum of a non-empty subarray in the circular array\n",
        "    total_sum = sum(nums)\n",
        "    max_subarray_sum_normal = max_subarray_sum(nums)\n",
        "    max_subarray_sum_circular = total_sum - min_subarray_sum(nums)\n",
        "\n",
        "    # Return the maximum of the two sums\n",
        "    return max(max_subarray_sum_normal, max_subarray_sum_circular)\n",
        "\n",
        "# Helper function to calculate the minimum sum using Kadane's algorithm\n",
        "def min_subarray_sum(arr):\n",
        "    min_sum = float('inf')\n",
        "    curr_sum = 0\n",
        "\n",
        "    for num in arr:\n",
        "        curr_sum = min(curr_sum + num, num)\n",
        "        min_sum = min(min_sum, curr_sum)\n",
        "\n",
        "    return min_sum\n",
        "\n",
        "nums = [1, -2, 3, -2]\n",
        "print(max_subarray_sum_circular(nums))"
      ],
      "metadata": {
        "colab": {
          "base_uri": "https://localhost:8080/"
        },
        "id": "0o0i_Sppu27t",
        "outputId": "86dd49c1-9347-4a8c-ea15-b091e23478f9"
      },
      "execution_count": 25,
      "outputs": [
        {
          "output_type": "stream",
          "name": "stdout",
          "text": [
            "3\n"
          ]
        }
      ]
    },
    {
      "cell_type": "markdown",
      "source": [
        "💡 Question 3\n",
        "\n",
        "The school cafeteria offers circular and square sandwiches at lunch break, referred to by numbers 0 and 1 respectively. All students stand in a queue. Each student either prefers square or circular sandwiches.\n",
        "\n",
        "The number of sandwiches in the cafeteria is equal to the number of students. The sandwiches are placed in a stack. At each step:\n",
        "\n",
        "If the student at the front of the queue prefers the sandwich on the top of the stack, they will take it and leave the queue.\n",
        "Otherwise, they will leave it and go to the queue's end.\n",
        "This continues until none of the queue students want to take the top sandwich and are thus unable to eat.\n",
        "\n",
        "You are given two integer arrays students and sandwiches where sandwiches[i] is the type of the ith sandwich in the stack (i = 0 is the top of the stack) and students[j] is the preference of the jth student in the initial queue (j = 0 is the front of the queue). Return the number of students that are unable to eat.\n",
        "\n",
        "Example 1:\n",
        "\n",
        "Input: students = [1,1,0,0], sandwiches = [0,1,0,1] Output: 0 Explanation:\n",
        "\n",
        "Front student leaves the top sandwich and returns to the end of the line making students = [1,0,0,1].\n",
        "Front student leaves the top sandwich and returns to the end of the line making students = [0,0,1,1].\n",
        "Front student takes the top sandwich and leaves the line making students = [0,1,1] and sandwiches = [1,0,1].\n",
        "Front student leaves the top sandwich and returns to the end of the line making students = [1,1,0].\n",
        "Front student takes the top sandwich and leaves the line making students = [1,0] and sandwiches = [0,1].\n",
        "Front student leaves the top sandwich and returns to the end of the line making students = [0,1].\n",
        "Front student takes the top sandwich and leaves the line making students = [1] and sandwiches = [1].\n",
        "Front student takes the top sandwich and leaves the line making students = [] and sandwiches = [].\n",
        "Hence all students are able to eat.\n"
      ],
      "metadata": {
        "id": "xYGBZNXTvJql"
      }
    },
    {
      "cell_type": "code",
      "source": [
        "from collections import deque\n",
        "\n",
        "def count_students_unable_to_eat(students, sandwiches):\n",
        "    queue = deque(students)\n",
        "    stack = sandwiches\n",
        "    unable_to_eat_count = 0\n",
        "    loop_count = 0\n",
        "\n",
        "    while queue:\n",
        "        if queue[0] == stack[0]:\n",
        "            queue.popleft()\n",
        "            stack.pop(0)\n",
        "            loop_count = 0  # Reset the loop count\n",
        "        else:\n",
        "            # Move the student to the end of the queue\n",
        "            queue.append(queue.popleft())\n",
        "            loop_count += 1\n",
        "\n",
        "        # Check if no student can take the top sandwich\n",
        "        if loop_count == len(queue):\n",
        "            unable_to_eat_count = loop_count\n",
        "            break\n",
        "\n",
        "    return unable_to_eat_count\n",
        "\n",
        "students = [1, 1, 0, 0]\n",
        "sandwiches = [0, 1, 0, 1]\n",
        "print(count_students_unable_to_eat(students, sandwiches))"
      ],
      "metadata": {
        "colab": {
          "base_uri": "https://localhost:8080/"
        },
        "id": "MHYvvykpvAKM",
        "outputId": "fcd96f5e-fd13-4081-e5e5-ec8ce2f38083"
      },
      "execution_count": 26,
      "outputs": [
        {
          "output_type": "stream",
          "name": "stdout",
          "text": [
            "0\n"
          ]
        }
      ]
    },
    {
      "cell_type": "markdown",
      "source": [
        "💡 Question 4\n",
        "\n",
        "You have a RecentCounter class which counts the number of recent requests within a certain time frame.\n",
        "\n",
        "Implement the RecentCounter class:\n",
        "\n",
        "RecentCounter() Initializes the counter with zero recent requests.\n",
        "int ping(int t) Adds a new request at time t, where t represents some time in milliseconds, and returns the number of requests that has happened in the past 3000 milliseconds (including the new request). Specifically, return the number of requests that have happened in the inclusive range [t - 3000, t].\n",
        "It is guaranteed that every call to ping uses a strictly larger value of t than the previous call.\n",
        "\n",
        "Example 1:\n",
        "\n",
        "Input [\"RecentCounter\", \"ping\", \"ping\", \"ping\", \"ping\"] [[], [1], [100], [3001], [3002]] Output [null, 1, 2, 3, 3]\n",
        "\n",
        "Explanation RecentCounter recentCounter = new RecentCounter(); recentCounter.ping(1); // requests = [1], range is [-2999,1], return 1 recentCounter.ping(100); // requests = [1,100], range is [-2900,100], return 2 recentCounter.ping(3001); // requests = [1,100,3001], range is [1,3001], return 3 recentCounter.ping(3002); // requests = [1,100,3001,3002], range is [2,3002], return 3\n"
      ],
      "metadata": {
        "id": "r96y65f4vRrO"
      }
    },
    {
      "cell_type": "code",
      "source": [
        "from collections import deque\n",
        "\n",
        "class RecentCounter:\n",
        "    def __init__(self):\n",
        "        self.requests = deque()\n",
        "\n",
        "    def ping(self, t: int) -> int:\n",
        "        # Add the current request time to the queue\n",
        "        self.requests.append(t)\n",
        "\n",
        "        # Remove requests that are outside the time frame\n",
        "        while self.requests[0] < t - 3000:\n",
        "            self.requests.popleft()\n",
        "\n",
        "        # Return the number of requests in the time frame\n",
        "        return len(self.requests)\n",
        "\n",
        "counter = RecentCounter()\n",
        "print(counter.ping(1))\n",
        "print(counter.ping(100))\n",
        "print(counter.ping(3001))\n",
        "print(counter.ping(3002))"
      ],
      "metadata": {
        "colab": {
          "base_uri": "https://localhost:8080/"
        },
        "id": "9-P5mm-gvKs5",
        "outputId": "1b73d58b-f826-4c48-ef17-08d01e76fbcd"
      },
      "execution_count": 27,
      "outputs": [
        {
          "output_type": "stream",
          "name": "stdout",
          "text": [
            "1\n",
            "2\n",
            "3\n",
            "3\n"
          ]
        }
      ]
    },
    {
      "cell_type": "markdown",
      "source": [
        "💡 Question 5\n",
        "\n",
        "There are n friends that are playing a game. The friends are sitting in a circle and are numbered from 1 to n in clockwise order. More formally, moving clockwise from the ith friend brings you to the (i+1)th friend for 1 <= i < n, and moving clockwise from the nth friend brings you to the 1st friend.\n",
        "\n",
        "The rules of the game are as follows:\n",
        "\n",
        "Start at the 1st friend.\n",
        "Count the next k friends in the clockwise direction including the friend you started at. The counting wraps around the circle and may count some friends more than once.\n",
        "The last friend you counted leaves the circle and loses the game.\n",
        "If there is still more than one friend in the circle, go back to step 2 starting from the friend immediately clockwise of the friend who just lost and repeat.\n",
        "Else, the last friend in the circle wins the game.\n",
        "Given the number of friends, n, and an integer k, return the winner of the game.\n",
        "\n",
        "Example 1:\n",
        "\n",
        "image.png\n",
        "\n",
        "Input: n = 5, k = 2 Output: 3 Explanation: Here are the steps of the game:\n",
        "\n",
        "Start at friend 1.\n",
        "Count 2 friends clockwise, which are friends 1 and 2.\n",
        "Friend 2 leaves the circle. Next start is friend 3.\n",
        "Count 2 friends clockwise, which are friends 3 and 4.\n",
        "Friend 4 leaves the circle. Next start is friend 5.\n",
        "Count 2 friends clockwise, which are friends 5 and 1.\n",
        "Friend 1 leaves the circle. Next start is friend 3.\n",
        "Count 2 friends clockwise, which are friends 3 and 5.\n",
        "Friend 5 leaves the circle. Only friend 3 is left, so they are the winner."
      ],
      "metadata": {
        "id": "iiFxduRVvef6"
      }
    },
    {
      "cell_type": "code",
      "source": [
        "from collections import deque\n",
        "\n",
        "def find_winner(n, k):\n",
        "    friends = deque(range(1, n + 1))\n",
        "\n",
        "    while len(friends) > 1:\n",
        "        friends.rotate(-(k - 1))\n",
        "        friends.popleft()\n",
        "\n",
        "    return friends[0]\n",
        "\n",
        "\n",
        "n = 5\n",
        "k = 2\n",
        "print(find_winner(n, k))"
      ],
      "metadata": {
        "colab": {
          "base_uri": "https://localhost:8080/"
        },
        "id": "0BWPTjNevVSV",
        "outputId": "236402b6-9267-4275-8699-996ee74644d6"
      },
      "execution_count": 28,
      "outputs": [
        {
          "output_type": "stream",
          "name": "stdout",
          "text": [
            "3\n"
          ]
        }
      ]
    },
    {
      "cell_type": "markdown",
      "source": [
        "💡 Question 6\n",
        "\n",
        "You are given an integer array deck. There is a deck of cards where every card has a unique integer. The integer on the ith card is deck[i].\n",
        "\n",
        "You can order the deck in any order you want. Initially, all the cards start face down (unrevealed) in one deck.\n",
        "\n",
        "You will do the following steps repeatedly until all cards are revealed:\n",
        "\n",
        "Take the top card of the deck, reveal it, and take it out of the deck.\n",
        "If there are still cards in the deck then put the next top card of the deck at the bottom of the deck.\n",
        "If there are still unrevealed cards, go back to step 1. Otherwise, stop.\n",
        "Return an ordering of the deck that would reveal the cards in increasing order.\n",
        "\n",
        "Note that the first entry in the answer is considered to be the top of the deck.\n",
        "\n",
        "Example 1:\n",
        "\n",
        "Input: deck = [17,13,11,2,3,5,7] Output: [2,13,3,11,5,17,7] Explanation: We get the deck in the order [17,13,11,2,3,5,7] (this order does not matter), and reorder it. After reordering, the deck starts as [2,13,3,11,5,17,7], where 2 is the top of the deck. We reveal 2, and move 13 to the bottom. The deck is now [3,11,5,17,7,13]. We reveal 3, and move 11 to the bottom. The deck is now [5,17,7,13,11]. We reveal 5, and move 17 to the bottom. The deck is now [7,13,11,17]. We reveal 7, and move 13 to the bottom. The deck is now [11,17,13]. We reveal 11, and move 17 to the bottom. The deck is now [13,17]. We reveal 13, and move 17 to the bottom. The deck is now [17]. We reveal 17. Since all the cards revealed are in increasing order, the answer is correct.\n",
        "\n"
      ],
      "metadata": {
        "id": "iIRBUgK3vn5A"
      }
    },
    {
      "cell_type": "code",
      "source": [
        "import collections\n",
        "\n",
        "def deckRevealedIncreasing(deck):\n",
        "    n = len(deck)\n",
        "    deck.sort(reverse=True)\n",
        "\n",
        "    queue = collections.deque()\n",
        "    queue.appendleft(deck[0])\n",
        "\n",
        "    for i in range(1, n):\n",
        "        queue.appendleft(queue.pop())\n",
        "        queue.appendleft(deck[i])\n",
        "\n",
        "    return list(queue)\n",
        "\n",
        "\n",
        "deck = [17,13,11,2,3,5,7]\n",
        "print(deckRevealedIncreasing(deck))"
      ],
      "metadata": {
        "colab": {
          "base_uri": "https://localhost:8080/"
        },
        "id": "eu7Sef_AvdyY",
        "outputId": "c2b5bdba-1551-4472-bf3b-2293dff4b39f"
      },
      "execution_count": 29,
      "outputs": [
        {
          "output_type": "stream",
          "name": "stdout",
          "text": [
            "[2, 13, 3, 11, 5, 17, 7]\n"
          ]
        }
      ]
    },
    {
      "cell_type": "markdown",
      "source": [
        "💡 Question 7\n",
        "\n",
        "Design a queue that supports push and pop operations in the front, middle, and back.\n",
        "\n",
        "Implement the FrontMiddleBack class:\n",
        "\n",
        "FrontMiddleBack() Initializes the queue.\n",
        "void pushFront(int val) Adds val to the front of the queue.\n",
        "void pushMiddle(int val) Adds val to the middle of the queue.\n",
        "void pushBack(int val) Adds val to the back of the queue.\n",
        "int popFront() Removes the front element of the queue and returns it. If the queue is empty, return 1.\n",
        "int popMiddle() Removes the middle element of the queue and returns it. If the queue is empty, return 1.\n",
        "int popBack() Removes the back element of the queue and returns it. If the queue is empty, return 1.\n",
        "Notice that when there are two middle position choices, the operation is performed on the frontmost middle position choice. For example:\n",
        "\n",
        "Pushing 6 into the middle of [1, 2, 3, 4, 5] results in [1, 2, 6, 3, 4, 5].\n",
        "Popping the middle from [1, 2, 3, 4, 5, 6] returns 3 and results in [1, 2, 4, 5, 6].\n",
        "Example 1:\n",
        "\n",
        "Input: [\"FrontMiddleBackQueue\", \"pushFront\", \"pushBack\", \"pushMiddle\", \"pushMiddle\", \"popFront\", \"popMiddle\", \"popMiddle\", \"popBack\", \"popFront\"] [[], [1], [2], [3], [4], [], [], [], [], []] Output: [null, null, null, null, null, 1, 3, 4, 2, -1]\n",
        "\n",
        "Explanation: FrontMiddleBackQueue q = new FrontMiddleBackQueue(); q.pushFront(1); // [1] q.pushBack(2); // [1,2] q.pushMiddle(3); // [1,3, 2] q.pushMiddle(4); // [1,4, 3, 2] q.popFront(); // return 1 -> [4, 3, 2] q.popMiddle(); // return 3 -> [4, 2] q.popMiddle(); // return 4 -> [2] q.popBack(); // return 2 -> [] q.popFront(); // return -1 -> [] (The queue is empty)\n",
        "\n"
      ],
      "metadata": {
        "id": "17dewbHivxmW"
      }
    },
    {
      "cell_type": "code",
      "source": [
        "class FrontMiddleBack:\n",
        "    def __init__(self):\n",
        "        self.front = []  # List to store elements in the front half\n",
        "        self.back = []   # List to store elements in the back half\n",
        "\n",
        "    def pushFront(self, val: int) -> None:\n",
        "        self.front.append(val)\n",
        "        self._balance()\n",
        "\n",
        "    def pushMiddle(self, val: int) -> None:\n",
        "        n = len(self.front) + len(self.back)\n",
        "        if n % 2 == 0:\n",
        "            self.front.append(val)\n",
        "        else:\n",
        "            self.back.insert(0, val)\n",
        "        self._balance()\n",
        "\n",
        "    def pushBack(self, val: int) -> None:\n",
        "        self.back.append(val)\n",
        "        self._balance()\n",
        "\n",
        "    def popFront(self) -> int:\n",
        "        if not self.front and not self.back:\n",
        "            return -1\n",
        "\n",
        "        if self.front:\n",
        "            return self.front.pop()\n",
        "\n",
        "        val = self.back.pop(0)\n",
        "        self._balance()\n",
        "        return val\n",
        "\n",
        "    def popMiddle(self) -> int:\n",
        "        if not self.front and not self.back:\n",
        "            return -1\n",
        "\n",
        "        n = len(self.front) + len(self.back)\n",
        "        if n % 2 == 0:\n",
        "            val = self.front.pop()\n",
        "        else:\n",
        "            val = self.back.pop(0)\n",
        "\n",
        "        self._balance()\n",
        "        return val\n",
        "\n",
        "    def popBack(self) -> int:\n",
        "        if not self.front and not self.back:\n",
        "            return -1\n",
        "\n",
        "        if self.back:\n",
        "            return self.back.pop()\n",
        "\n",
        "        val = self.front.pop(0)\n",
        "        self._balance()\n",
        "        return val\n",
        "\n",
        "    def _balance(self) -> None:\n",
        "        n = len(self.front) + len(self.back)\n",
        "        if len(self.front) > n // 2:\n",
        "            self.back.insert(0, self.front.pop())\n",
        "        elif len(self.front) < n // 2:\n",
        "            self.front.append(self.back.pop(0))\n",
        "\n",
        "obj = FrontMiddleBack()\n",
        "obj.pushFront(1)\n",
        "obj.pushBack(2)\n",
        "obj.pushMiddle(3)\n",
        "obj.pushMiddle(4)\n",
        "print(obj.popFront())\n",
        "print(obj.popMiddle())\n",
        "print(obj.popMiddle())\n",
        "print(obj.popBack())"
      ],
      "metadata": {
        "colab": {
          "base_uri": "https://localhost:8080/"
        },
        "id": "EwIrORAnvole",
        "outputId": "a5255178-2c77-48bf-cb19-1954c5762fa6"
      },
      "execution_count": 30,
      "outputs": [
        {
          "output_type": "stream",
          "name": "stdout",
          "text": [
            "4\n",
            "3\n",
            "1\n",
            "2\n"
          ]
        }
      ]
    },
    {
      "cell_type": "markdown",
      "source": [
        "💡 Question 8\n",
        "\n",
        "For a stream of integers, implement a data structure that checks if the last k integers parsed in the stream are equal to value.\n",
        "\n",
        "Implement the DataStream class:\n",
        "\n",
        "DataStream(int value, int k) Initializes the object with an empty integer stream and the two integers value and k.\n",
        "boolean consec(int num) Adds num to the stream of integers. Returns true if the last k integers are equal to value, and false otherwise. If there are less than k integers, the condition does not hold true, so returns false.\n",
        "Example 1:\n",
        "\n",
        "Input [\"DataStream\", \"consec\", \"consec\", \"consec\", \"consec\"] [[4, 3], [4], [4], [4], [3]] Output [null, false, false, true, false]\n",
        "\n",
        "Explanation DataStream dataStream = new DataStream(4, 3); //value = 4, k = 3 dataStream.consec(4); // Only 1 integer is parsed, so returns False. dataStream.consec(4); // Only 2 integers are parsed. // Since 2 is less than k, returns False. dataStream.consec(4); // The 3 integers parsed are all equal to value, so returns True. dataStream.consec(3); // The last k integers parsed in the stream are [4,4,3]. // Since 3 is not equal to value, it returns False.\n",
        "\n"
      ],
      "metadata": {
        "id": "-NcEelWDwElW"
      }
    },
    {
      "cell_type": "code",
      "source": [
        "from collections import deque\n",
        "\n",
        "class DataStream:\n",
        "    def __init__(self, value: int, k: int):\n",
        "        self.stream = deque()\n",
        "        self.value = value\n",
        "        self.k = k\n",
        "        self.count = 0\n",
        "\n",
        "    def consec(self, num: int) -> bool:\n",
        "        if len(self.stream) == self.k:\n",
        "            removed_num = self.stream.popleft()\n",
        "            if removed_num == self.value:\n",
        "                self.count -= 1\n",
        "\n",
        "        self.stream.append(num)\n",
        "        if num == self.value:\n",
        "            self.count += 1\n",
        "\n",
        "        return self.count == self.k\n",
        "\n",
        "\n",
        "obj = DataStream(4, 3)\n",
        "print(obj.consec(4))\n",
        "print(obj.consec(4))\n",
        "print(obj.consec(4))\n",
        "print(obj.consec(3))"
      ],
      "metadata": {
        "colab": {
          "base_uri": "https://localhost:8080/"
        },
        "id": "iuttS50HvyB4",
        "outputId": "3374bf65-4476-4b60-b4ce-74128f038dce"
      },
      "execution_count": 34,
      "outputs": [
        {
          "output_type": "stream",
          "name": "stdout",
          "text": [
            "False\n",
            "False\n",
            "True\n",
            "False\n"
          ]
        }
      ]
    }
  ],
  "metadata": {
    "colab": {
      "provenance": []
    },
    "kernelspec": {
      "display_name": "Python 3",
      "name": "python3"
    },
    "language_info": {
      "name": "python"
    }
  },
  "nbformat": 4,
  "nbformat_minor": 0
}