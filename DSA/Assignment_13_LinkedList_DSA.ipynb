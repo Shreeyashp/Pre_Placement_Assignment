{
  "cells": [
    {
      "cell_type": "markdown",
      "source": [
        "## **Submitted By: `Shreeyash Pardeshi`**"
      ],
      "metadata": {
        "id": "AGMrj3AdsZZF"
      }
    },
    {
      "cell_type": "markdown",
      "source": [
        "Given two linked list of the same size, the task is to create a new linked list using those linked lists. The condition is that the greater node among both linked list will be added to the new linked list.\n",
        "\n",
        "**Examples:**\n",
        "\n",
        "```\n",
        "Input: list1 = 5->2->3->8\n",
        "list2 = 1->7->4->5\n",
        "Output: New list = 5->7->4->8\n",
        "\n",
        "Input:list1 = 2->8->9->3\n",
        "list2 = 5->3->6->4\n",
        "Output: New list = 5->8->9->4\n",
        "```\n"
      ],
      "metadata": {
        "id": "_AGB4UPBsaRj"
      }
    },
    {
      "cell_type": "code",
      "source": [
        "class Node:\n",
        "    def __init__(self, data=None):\n",
        "        self.data = data\n",
        "        self.next = None\n",
        "\n",
        "def create_new_linked_list(list1, list2):\n",
        "    if not list1 or not list2:\n",
        "        return None\n",
        "\n",
        "    new_list = None\n",
        "    new_list_tail = None\n",
        "\n",
        "    current1 = list1\n",
        "    current2 = list2\n",
        "\n",
        "    while current1 is not None and current2 is not None:\n",
        "        new_node = Node(max(current1.data, current2.data))\n",
        "\n",
        "        if new_list is None:\n",
        "            new_list = new_node\n",
        "            new_list_tail = new_node\n",
        "        else:\n",
        "            new_list_tail.next = new_node\n",
        "            new_list_tail = new_node\n",
        "\n",
        "        current1 = current1.next\n",
        "        current2 = current2.next\n",
        "\n",
        "    return new_list\n",
        "\n",
        "# Example 1\n",
        "list1 = Node(5)\n",
        "list1.next = Node(2)\n",
        "list1.next.next = Node(3)\n",
        "list1.next.next.next = Node(8)\n",
        "\n",
        "list2 = Node(1)\n",
        "list2.next = Node(7)\n",
        "list2.next.next = Node(4)\n",
        "list2.next.next.next = Node(5)\n",
        "\n",
        "new_list = create_new_linked_list(list1, list2)\n",
        "\n",
        "# Print the new list\n",
        "current = new_list\n",
        "while current is not None:\n",
        "    print(current.data, end=\" \")\n",
        "    current = current.next"
      ],
      "metadata": {
        "colab": {
          "base_uri": "https://localhost:8080/"
        },
        "id": "rZ3jsV_psl11",
        "outputId": "e1c87cf7-025a-47b7-e227-a3995cf47a28"
      },
      "execution_count": 23,
      "outputs": [
        {
          "output_type": "stream",
          "name": "stdout",
          "text": [
            "5 7 4 8 "
          ]
        }
      ]
    },
    {
      "cell_type": "code",
      "source": [
        "# Example 2\n",
        "list1 = Node(2)\n",
        "list1.next = Node(8)\n",
        "list1.next.next = Node(9)\n",
        "list1.next.next.next = Node(3)\n",
        "\n",
        "list2 = Node(5)\n",
        "list2.next = Node(3)\n",
        "list2.next.next = Node(6)\n",
        "list2.next.next.next = Node(4)\n",
        "\n",
        "new_list = create_new_linked_list(list1, list2)\n",
        "\n",
        "# Print the new list\n",
        "current = new_list\n",
        "while current is not None:\n",
        "    print(current.data, end=\" \")\n",
        "    current = current.next\n",
        "# Output: 5 8 9 4"
      ],
      "metadata": {
        "colab": {
          "base_uri": "https://localhost:8080/"
        },
        "id": "soImAMqK2KRa",
        "outputId": "79a2575c-f0c0-4529-ca85-53f985968179"
      },
      "execution_count": 24,
      "outputs": [
        {
          "output_type": "stream",
          "name": "stdout",
          "text": [
            "5 8 9 4 "
          ]
        }
      ]
    },
    {
      "cell_type": "markdown",
      "source": [
        "💡 **Question 2**\n",
        "\n",
        "Write a function that takes a list sorted in non-decreasing order and deletes any duplicate nodes from the list. The list should only be traversed once.\n",
        "\n",
        "For example if the linked list is 11->11->11->21->43->43->60 then removeDuplicates() should convert the list to 11->21->43->60.\n",
        "\n",
        "**Example 1:**\n",
        "\n",
        "```\n",
        "Input:\n",
        "LinkedList:\n",
        "11->11->11->21->43->43->60\n",
        "Output:\n",
        "11->21->43->60\n",
        "```\n",
        "\n",
        "**Example 2:**\n",
        "\n",
        "```\n",
        "Input:\n",
        "LinkedList:\n",
        "10->12->12->25->25->25->34\n",
        "Output:\n",
        "10->12->25->34\n",
        "```\n"
      ],
      "metadata": {
        "id": "XQgedn7rxDrw"
      }
    },
    {
      "cell_type": "code",
      "source": [
        "class ListNode:\n",
        "    def __init__(self, val=0, next=None):\n",
        "        self.val = val\n",
        "        self.next = next\n",
        "\n",
        "def removeDuplicates(head):\n",
        "    if not head or not head.next:\n",
        "        return head\n",
        "\n",
        "    current = head\n",
        "\n",
        "    while current.next:\n",
        "        if current.val == current.next.val:\n",
        "            current.next = current.next.next\n",
        "        else:\n",
        "            current = current.next\n",
        "\n",
        "    return head\n",
        "\n",
        "\n",
        "head = ListNode(11)\n",
        "head.next = ListNode(11)\n",
        "head.next.next = ListNode(11)\n",
        "head.next.next.next = ListNode(21)\n",
        "head.next.next.next.next = ListNode(43)\n",
        "head.next.next.next.next.next = ListNode(43)\n",
        "head.next.next.next.next.next.next = ListNode(60)\n",
        "\n",
        "# Call the removeDuplicates function\n",
        "head = removeDuplicates(head)\n",
        "\n",
        "\n",
        "current = head\n",
        "while current:\n",
        "    print(current.val, end=\"->\")\n",
        "    current = current.next"
      ],
      "metadata": {
        "colab": {
          "base_uri": "https://localhost:8080/"
        },
        "id": "vhNe447DxELq",
        "outputId": "9d3f79b1-7369-404d-96f6-b8014384d4aa"
      },
      "execution_count": 4,
      "outputs": [
        {
          "output_type": "stream",
          "name": "stdout",
          "text": [
            "11->21->43->60->"
          ]
        }
      ]
    },
    {
      "cell_type": "code",
      "source": [
        "head = ListNode(10)\n",
        "head.next = ListNode(12)\n",
        "head.next.next = ListNode(12)\n",
        "head.next.next.next = ListNode(25)\n",
        "head.next.next.next.next = ListNode(25)\n",
        "head.next.next.next.next.next = ListNode(25)\n",
        "head.next.next.next.next.next.next = ListNode(34)\n",
        "\n",
        "# Call the removeDuplicates function\n",
        "head = removeDuplicates(head)\n",
        "\n",
        "\n",
        "current = head\n",
        "while current:\n",
        "    print(current.val, end=\"->\")\n",
        "    current = current.next"
      ],
      "metadata": {
        "colab": {
          "base_uri": "https://localhost:8080/"
        },
        "id": "aqPgjQvTxEpn",
        "outputId": "f8156e88-da8f-466b-98d0-83abad3f56cb"
      },
      "execution_count": 7,
      "outputs": [
        {
          "output_type": "stream",
          "name": "stdout",
          "text": [
            "10->12->25->34->"
          ]
        }
      ]
    },
    {
      "cell_type": "markdown",
      "source": [
        "\n",
        "💡 **Question 3**\n",
        "\n",
        "Given a linked list of size **N**. The task is to reverse every **k** nodes (where k is an input to the function) in the linked list. If the number of nodes is not a multiple of *k* then left-out nodes, in the end, should be considered as a group and must be reversed (See Example 2 for clarification).\n",
        "\n",
        "**Example 1:**\n",
        "\n",
        "```\n",
        "Input:\n",
        "LinkedList: 1->2->2->4->5->6->7->8\n",
        "K = 4\n",
        "Output:4 2 2 1 8 7 6 5\n",
        "Explanation:\n",
        "The first 4 elements 1,2,2,4 are reversed first\n",
        "and then the next 4 elements 5,6,7,8. Hence, the\n",
        "resultant linked list is 4->2->2->1->8->7->6->5.\n",
        "\n",
        "```\n"
      ],
      "metadata": {
        "id": "1BP-EqDpxqaC"
      }
    },
    {
      "cell_type": "code",
      "source": [
        "class ListNode:\n",
        "    def __init__(self, val=0, next=None):\n",
        "        self.val = val\n",
        "        self.next = next\n",
        "\n",
        "def reverseKNodes(head, k):\n",
        "    if not head or not head.next or k <= 1:\n",
        "        return head\n",
        "\n",
        "    # Function to reverse a linked list within a given range\n",
        "    def reverseRange(prev, curr, k):\n",
        "        tail = curr\n",
        "        prev_next = None\n",
        "\n",
        "        while k > 0 and curr:\n",
        "            next_node = curr.next\n",
        "            curr.next = prev_next\n",
        "            prev_next = curr\n",
        "            curr = next_node\n",
        "            k -= 1\n",
        "\n",
        "        if prev:\n",
        "            prev.next = prev_next\n",
        "\n",
        "        return prev_next, tail\n",
        "\n",
        "    dummy = ListNode(0)\n",
        "    dummy.next = head\n",
        "    prev = dummy\n",
        "\n",
        "    while prev.next:\n",
        "        curr = prev.next\n",
        "        tail = curr\n",
        "\n",
        "        # Check if there are at least k nodes remaining\n",
        "        for _ in range(k - 1):\n",
        "            if tail.next:\n",
        "                tail = tail.next\n",
        "            else:\n",
        "                return dummy.next\n",
        "\n",
        "        next_node = tail.next  # Keep track of the next node after the reversed group\n",
        "\n",
        "        # Reverse the current group of k nodes\n",
        "        new_head, new_tail = reverseRange(prev, curr, k)\n",
        "\n",
        "        # Connect the reversed group with the previous and next nodes\n",
        "        prev.next = new_head\n",
        "        new_tail.next = next_node\n",
        "\n",
        "        # Move the pointers to the next group\n",
        "        prev = new_tail\n",
        "\n",
        "    return dummy.next\n",
        "\n",
        "# Create the example linked list:\n",
        "head = ListNode(1)\n",
        "head.next = ListNode(2)\n",
        "head.next.next = ListNode(2)\n",
        "head.next.next.next = ListNode(4)\n",
        "head.next.next.next.next = ListNode(5)\n",
        "head.next.next.next.next.next = ListNode(6)\n",
        "head.next.next.next.next.next.next = ListNode(7)\n",
        "head.next.next.next.next.next.next.next = ListNode(8)\n",
        "# head.next.next.next.next.next.next.next.next = ListNode(9)\n",
        "\n",
        "# Call the reverseKNodes function with k = 3\n",
        "k = 4\n",
        "head = reverseKNodes(head, k)\n",
        "\n",
        "\n",
        "current = head\n",
        "while current:\n",
        "    print(current.val, end=\"->\")\n",
        "    current = current.next"
      ],
      "metadata": {
        "colab": {
          "base_uri": "https://localhost:8080/"
        },
        "id": "9EcLvMrYxW4j",
        "outputId": "a3c1e9e6-1550-430c-e2db-deaa0e8d364a"
      },
      "execution_count": 18,
      "outputs": [
        {
          "output_type": "stream",
          "name": "stdout",
          "text": [
            "4->2->2->1->8->7->6->5->"
          ]
        }
      ]
    },
    {
      "cell_type": "code",
      "source": [
        "# Create the example linked list:\n",
        "head = ListNode(1)\n",
        "head.next = ListNode(2)\n",
        "head.next.next = ListNode(3)\n",
        "head.next.next.next = ListNode(4)\n",
        "head.next.next.next.next = ListNode(5)\n",
        "\n",
        "k = 4\n",
        "head = reverseKNodes(head, k)\n",
        "\n",
        "\n",
        "current = head\n",
        "while current:\n",
        "    print(current.val, end=\"->\")\n",
        "    current = current.next"
      ],
      "metadata": {
        "colab": {
          "base_uri": "https://localhost:8080/"
        },
        "id": "a8ODU8PD1Arw",
        "outputId": "0a5809e3-6714-4ed4-e9f6-c3c735e85ff2"
      },
      "execution_count": 20,
      "outputs": [
        {
          "output_type": "stream",
          "name": "stdout",
          "text": [
            "4->3->2->1->5->"
          ]
        }
      ]
    },
    {
      "cell_type": "markdown",
      "source": [
        "💡 **Question 4**\n",
        "\n",
        "Given a linked list, write a function to reverse every alternate k nodes (where k is an input to the function) in an efficient way. Give the complexity of your algorithm.\n",
        "\n",
        "**Example:**\n",
        "\n",
        "```\n",
        "Inputs:   1->2->3->4->5->6->7->8->9->NULL and k = 3\n",
        "Output:   3->2->1->4->5->6->9->8->7->NULL.\n",
        "```"
      ],
      "metadata": {
        "id": "CeFubWw8xq2Y"
      }
    },
    {
      "cell_type": "code",
      "source": [
        "class ListNode:\n",
        "    def __init__(self, val=0, next=None):\n",
        "        self.val = val\n",
        "        self.next = next\n",
        "\n",
        "def reverseAlternateKNodes(head, k):\n",
        "    if not head or not head.next or k <= 1:\n",
        "        return head\n",
        "\n",
        "    prev = None\n",
        "    curr = head\n",
        "    next_node = None\n",
        "    count = 0\n",
        "\n",
        "    # Reverse the first k nodes\n",
        "    while curr and count < k:\n",
        "        next_node = curr.next\n",
        "        curr.next = prev\n",
        "        prev = curr\n",
        "        curr = next_node\n",
        "        count += 1\n",
        "\n",
        "    # Connect the reversed group with the next group\n",
        "    head.next = curr\n",
        "\n",
        "    # Skip the next k nodes\n",
        "    count = 0\n",
        "    while curr and count < k - 1:\n",
        "        curr = curr.next\n",
        "        count += 1\n",
        "\n",
        "    # Recursively reverse the alternate groups\n",
        "    if curr:\n",
        "        curr.next = reverseAlternateKNodes(curr.next, k)\n",
        "\n",
        "    return prev\n",
        "\n",
        "head = ListNode(1)\n",
        "head.next = ListNode(2)\n",
        "head.next.next = ListNode(3)\n",
        "head.next.next.next = ListNode(4)\n",
        "head.next.next.next.next = ListNode(5)\n",
        "head.next.next.next.next.next = ListNode(6)\n",
        "head.next.next.next.next.next.next = ListNode(7)\n",
        "head.next.next.next.next.next.next.next = ListNode(8)\n",
        "head.next.next.next.next.next.next.next.next = ListNode(9)\n",
        "\n",
        "# Call the reverseAlternateKNodes function with k = 3\n",
        "k = 3\n",
        "head = reverseAlternateKNodes(head, k)\n",
        "\n",
        "\n",
        "current = head\n",
        "while current:\n",
        "    print(current.val, end=\"->\")\n",
        "    current = current.next"
      ],
      "metadata": {
        "colab": {
          "base_uri": "https://localhost:8080/"
        },
        "id": "9vgcVvRExrSs",
        "outputId": "f364397c-5477-4ac5-cb1f-d67caec19dc6"
      },
      "execution_count": 8,
      "outputs": [
        {
          "output_type": "stream",
          "name": "stdout",
          "text": [
            "3->2->1->4->5->6->9->8->7->"
          ]
        }
      ]
    },
    {
      "cell_type": "markdown",
      "source": [
        "💡 **Question 5**\n",
        "\n",
        "Given a linked list and a key to be deleted. Delete last occurrence of key from linked. The list may have duplicates.\n",
        "\n",
        "**Examples**:\n",
        "\n",
        "```\n",
        "Input:   1->2->3->5->2->10, key = 2\n",
        "Output:  1->2->3->5->10\n",
        "```\n"
      ],
      "metadata": {
        "id": "6G2qiMRcx-bF"
      }
    },
    {
      "cell_type": "code",
      "source": [
        "class ListNode:\n",
        "    def __init__(self, val=0, next=None):\n",
        "        self.val = val\n",
        "        self.next = next\n",
        "\n",
        "def deleteLastOccurrence(head, key):\n",
        "    if not head:\n",
        "        return None\n",
        "\n",
        "    prev_last = None  # Node before the last occurrence\n",
        "    last = None  # Last occurrence\n",
        "    current = head\n",
        "    prev = None\n",
        "    count = 0\n",
        "\n",
        "    # Traverse the list to find the last occurrence of the key\n",
        "    while current:\n",
        "        if current.val == key:\n",
        "            prev_last = prev\n",
        "            last = current\n",
        "\n",
        "        prev = current\n",
        "        current = current.next\n",
        "        count += 1\n",
        "\n",
        "    if last:\n",
        "        # If the last occurrence is the head, update the head\n",
        "        if not prev_last:\n",
        "            head = head.next\n",
        "        else:\n",
        "            prev_last.next = last.next\n",
        "\n",
        "    return head\n",
        "head = ListNode(1)\n",
        "head.next = ListNode(3)\n",
        "head.next.next = ListNode(5)\n",
        "head.next.next.next = ListNode(2)\n",
        "head.next.next.next.next = ListNode(10)\n",
        "\n",
        "# Call the deleteLastOccurrence function with key = 3\n",
        "key = 2\n",
        "head = deleteLastOccurrence(head, key)\n",
        "\n",
        "\n",
        "current = head\n",
        "while current:\n",
        "    print(current.val, end=\"->\")\n",
        "    current = current.next"
      ],
      "metadata": {
        "colab": {
          "base_uri": "https://localhost:8080/"
        },
        "id": "d190NcTzxr9w",
        "outputId": "68e0c077-9589-4c47-aed3-445b7aee2f02"
      },
      "execution_count": 9,
      "outputs": [
        {
          "output_type": "stream",
          "name": "stdout",
          "text": [
            "1->3->5->10->"
          ]
        }
      ]
    },
    {
      "cell_type": "markdown",
      "source": [
        "💡 **Question 6**\n",
        "\n",
        "Given two sorted linked lists consisting of **N** and **M** nodes respectively. The task is to merge both of the lists (in place) and return the head of the merged list.\n",
        "\n",
        "**Examples:**\n",
        "\n",
        "Input: a: 5->10->15, b: 2->3->20\n",
        "\n",
        "Output: 2->3->5->10->15->20\n",
        "\n",
        "Input: a: 1->1, b: 2->4\n",
        "\n",
        "Output: 1->1->2->4\n"
      ],
      "metadata": {
        "id": "b_wZ-diNyhdX"
      }
    },
    {
      "cell_type": "code",
      "source": [
        "class ListNode:\n",
        "    def __init__(self, val=0, next=None):\n",
        "        self.val = val\n",
        "        self.next = next\n",
        "\n",
        "def mergeSortedLists(a, b):\n",
        "    if not a:\n",
        "        return b\n",
        "    if not b:\n",
        "        return a\n",
        "\n",
        "    # Set the head of the merged list\n",
        "    if a.val <= b.val:\n",
        "        head = a\n",
        "        a = a.next\n",
        "    else:\n",
        "        head = b\n",
        "        b = b.next\n",
        "\n",
        "    current = head\n",
        "\n",
        "    # Merge the remaining nodes\n",
        "    while a and b:\n",
        "        if a.val <= b.val:\n",
        "            current.next = a\n",
        "            a = a.next\n",
        "        else:\n",
        "            current.next = b\n",
        "            b = b.next\n",
        "        current = current.next\n",
        "\n",
        "    # Append the remaining nodes from list a or list b\n",
        "    if a:\n",
        "        current.next = a\n",
        "    if b:\n",
        "        current.next = b\n",
        "\n",
        "    return head"
      ],
      "metadata": {
        "id": "zJ3_t6o8yGTp"
      },
      "execution_count": 13,
      "outputs": []
    },
    {
      "cell_type": "code",
      "source": [
        "# Example: 1\n",
        "\n",
        "a = ListNode(5)\n",
        "a.next = ListNode(10)\n",
        "a.next.next = ListNode(15)\n",
        "\n",
        "b = ListNode(2)\n",
        "b.next = ListNode(3)\n",
        "b.next.next = ListNode(20)\n",
        "\n",
        "# Call the mergeSortedLists function\n",
        "merged_head = mergeSortedLists(a, b)\n",
        "\n",
        "\n",
        "current = merged_head\n",
        "while current:\n",
        "    print(current.val, end=\"->\")\n",
        "    current = current.next"
      ],
      "metadata": {
        "colab": {
          "base_uri": "https://localhost:8080/"
        },
        "id": "Vn3lBLLdyiCl",
        "outputId": "8445ff40-4af7-4219-ec3e-10dfe805001b"
      },
      "execution_count": 14,
      "outputs": [
        {
          "output_type": "stream",
          "name": "stdout",
          "text": [
            "2->3->5->10->15->20->"
          ]
        }
      ]
    },
    {
      "cell_type": "code",
      "source": [
        "# Example: 2\n",
        "\n",
        "a = ListNode(1)\n",
        "a.next = ListNode(1)\n",
        "\n",
        "b = ListNode(2)\n",
        "b.next = ListNode(4)\n",
        "\n",
        "# Call the mergeSortedLists function\n",
        "merged_head = mergeSortedLists(a, b)\n",
        "\n",
        "\n",
        "current = merged_head\n",
        "while current:\n",
        "    print(current.val, end=\"->\")\n",
        "    current = current.next"
      ],
      "metadata": {
        "colab": {
          "base_uri": "https://localhost:8080/"
        },
        "id": "ECC_oXpCylHq",
        "outputId": "2aaff46c-9f21-44a0-bae0-c439a32aaa90"
      },
      "execution_count": 12,
      "outputs": [
        {
          "output_type": "stream",
          "name": "stdout",
          "text": [
            "1->1->2->4->"
          ]
        }
      ]
    },
    {
      "cell_type": "markdown",
      "source": [
        "\n",
        "💡 **Question 7**\n",
        "\n",
        "Given a **Doubly Linked List**, the task is to reverse the given Doubly Linked List.\n",
        "\n",
        "**Example:**\n",
        "\n",
        "```\n",
        "Original Linked list 10 8 4 2\n",
        "Reversed Linked list 2 4 8 10\n",
        "```\n"
      ],
      "metadata": {
        "id": "CEn0jcayzLvi"
      }
    },
    {
      "cell_type": "code",
      "source": [
        "class ListNode:\n",
        "    def __init__(self, val=0, prev=None, next=None):\n",
        "        self.val = val\n",
        "        self.prev = prev\n",
        "        self.next = next\n",
        "\n",
        "def reverseDoublyLinkedList(head):\n",
        "    if not head or not head.next:\n",
        "        return head\n",
        "\n",
        "    current = head\n",
        "    prev_node = None\n",
        "\n",
        "    # Swap the prev and next pointers for each node\n",
        "    while current:\n",
        "        temp = current.next\n",
        "        current.next = prev_node\n",
        "        current.prev = temp\n",
        "        prev_node = current\n",
        "        current = temp\n",
        "\n",
        "    return prev_node\n",
        "\n",
        "head = ListNode(10)\n",
        "node2 = ListNode(8)\n",
        "node3 = ListNode(4)\n",
        "node4 = ListNode(2)\n",
        "\n",
        "head.next = node2\n",
        "node2.prev = head\n",
        "node2.next = node3\n",
        "node3.prev = node2\n",
        "node3.next = node4\n",
        "node4.prev = node3\n",
        "\n",
        "\n",
        "# Call the reverseDoublyLinkedList function\n",
        "reversed_head = reverseDoublyLinkedList(head)\n",
        "\n",
        "\n",
        "current = reversed_head\n",
        "while current:\n",
        "    print(current.val, end=\"<->\")\n",
        "    current = current.next"
      ],
      "metadata": {
        "colab": {
          "base_uri": "https://localhost:8080/"
        },
        "id": "-jL5MEKeywKd",
        "outputId": "72abff3b-e4fc-4ad1-a5c1-b110b6d5d126"
      },
      "execution_count": 15,
      "outputs": [
        {
          "output_type": "stream",
          "name": "stdout",
          "text": [
            "2<->4<->8<->10<->"
          ]
        }
      ]
    },
    {
      "cell_type": "markdown",
      "source": [
        "💡 **Question 8**\n",
        "\n",
        "Given a doubly linked list and a position. The task is to delete a node from given position in a doubly linked list.\n",
        "\n",
        "**Example 1:**\n",
        "\n",
        "```\n",
        "Input:\n",
        "LinkedList = 1 <--> 3 <--> 4\n",
        "x = 3\n",
        "Output:1 3\n",
        "Explanation:After deleting the node at\n",
        "position 3 (position starts from 1),\n",
        "the linked list will be now as 1->3.\n",
        "\n",
        "```\n",
        "\n"
      ],
      "metadata": {
        "id": "S7NcNlMOzjza"
      }
    },
    {
      "cell_type": "code",
      "source": [
        "class ListNode:\n",
        "    def __init__(self, val=0, prev=None, next=None):\n",
        "        self.val = val\n",
        "        self.prev = prev\n",
        "        self.next = next\n",
        "\n",
        "def deleteNodeFromPosition(head, position):\n",
        "    if not head:\n",
        "        return head\n",
        "\n",
        "    if position == 1:\n",
        "        # If the node to be deleted is the head\n",
        "        head = head.next\n",
        "        if head:\n",
        "            head.prev = None\n",
        "        return head\n",
        "\n",
        "    current = head\n",
        "    count = 1\n",
        "\n",
        "    # Traverse to the node at the given position\n",
        "    while current and count < position:\n",
        "        current = current.next\n",
        "        count += 1\n",
        "\n",
        "    if not current:\n",
        "        # If the position is greater than the length of the list\n",
        "        return head\n",
        "\n",
        "    prev_node = current.prev\n",
        "    next_node = current.next\n",
        "\n",
        "    if prev_node:\n",
        "        prev_node.next = next_node\n",
        "\n",
        "    if next_node:\n",
        "        next_node.prev = prev_node\n",
        "\n",
        "    return head\n",
        "head = ListNode(1)\n",
        "node2 = ListNode(2)\n",
        "node3 = ListNode(3)\n",
        "node4 = ListNode(4)\n",
        "node5 = ListNode(5)\n",
        "\n",
        "head.next = node2\n",
        "node2.prev = head\n",
        "node2.next = node3\n",
        "node3.prev = node2\n",
        "node3.next = node4\n",
        "node4.prev = node3\n",
        "node4.next = node5\n",
        "node5.prev = node4\n",
        "\n",
        "# Call the deleteNodeFromPosition function with position = 3\n",
        "position = 3\n",
        "head = deleteNodeFromPosition(head, position)\n",
        "\n",
        "\n",
        "current = head\n",
        "while current:\n",
        "    print(current.val, end=\"<->\")\n",
        "    current = current.next"
      ],
      "metadata": {
        "colab": {
          "base_uri": "https://localhost:8080/"
        },
        "id": "VC1xQARkzXXs",
        "outputId": "f3ea9d19-a602-4cfb-9121-452b57a7bb74"
      },
      "execution_count": 16,
      "outputs": [
        {
          "output_type": "stream",
          "name": "stdout",
          "text": [
            "1<->2<->4<->5<->"
          ]
        }
      ]
    },
    {
      "cell_type": "code",
      "source": [
        "head = ListNode(1)\n",
        "node2 = ListNode(3)\n",
        "node3 = ListNode(4)\n",
        "# node4 = ListNode(4)\n",
        "# node5 = ListNode(5)\n",
        "\n",
        "head.next = node2\n",
        "node2.prev = head\n",
        "node2.next = node3\n",
        "node3.prev = node2\n",
        "# node3.next = node4\n",
        "# node4.prev = node3\n",
        "# node4.next = node5\n",
        "# node5.prev = node4\n",
        "\n",
        "# Call the deleteNodeFromPosition function with position = 3\n",
        "position = 3\n",
        "head = deleteNodeFromPosition(head, position)\n",
        "\n",
        "\n",
        "current = head\n",
        "while current:\n",
        "    print(current.val, end=\"<->\")\n",
        "    current = current.next"
      ],
      "metadata": {
        "colab": {
          "base_uri": "https://localhost:8080/"
        },
        "id": "JLeDNIucz2y2",
        "outputId": "861ce5c5-b32c-40ac-9efd-55db06975fef"
      },
      "execution_count": 17,
      "outputs": [
        {
          "output_type": "stream",
          "name": "stdout",
          "text": [
            "1<->3<->"
          ]
        }
      ]
    }
  ],
  "metadata": {
    "colab": {
      "provenance": []
    },
    "kernelspec": {
      "display_name": "Python 3",
      "name": "python3"
    },
    "language_info": {
      "name": "python"
    }
  },
  "nbformat": 4,
  "nbformat_minor": 0
}