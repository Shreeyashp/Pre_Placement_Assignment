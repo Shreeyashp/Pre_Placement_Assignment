{
  "cells": [
    {
      "cell_type": "markdown",
      "source": [
        "## **Submitted By: `Shreeyash Pardeshi`**"
      ],
      "metadata": {
        "id": "AGMrj3AdsZZF"
      }
    },
    {
      "cell_type": "markdown",
      "source": [
        "💡 **Question 1**\n",
        "\n",
        "Given a linked list of **N** nodes such that it may contain a loop.\n",
        "\n",
        "A loop here means that the last node of the link list is connected to the node at position X(1-based index). If the link list does not have any loop, X=0.\n",
        "\n",
        "Remove the loop from the linked list, if it is present, i.e. unlink the last node which is forming the loop.\n",
        "\n",
        "**Example 1:**\n",
        "\n",
        "```\n",
        "Input:\n",
        "N = 3\n",
        "value[] = {1,3,4}\n",
        "X = 2\n",
        "Output:1\n",
        "Explanation:The link list looks like\n",
        "1 -> 3 -> 4\n",
        "     ^    |\n",
        "     |____|\n",
        "A loop is present. If you remove it\n",
        "successfully, the answer will be 1.\n",
        "\n",
        "```\n",
        "\n",
        "**Example 2:**\n",
        "\n",
        "```\n",
        "Input:\n",
        "N = 4\n",
        "value[] = {1,8,3,4}\n",
        "X = 0\n",
        "Output:1\n",
        "Explanation:The Linked list does not\n",
        "contains any loop.\n",
        "```\n",
        "\n",
        "**Example 3:**\n",
        "\n",
        "```\n",
        "Input:\n",
        "N = 4\n",
        "value[] = {1,2,3,4}\n",
        "X = 1\n",
        "Output:1\n",
        "Explanation:The link list looks like\n",
        "1 -> 2 -> 3 -> 4\n",
        "^              |\n",
        "|______________|\n",
        "A loop is present.\n",
        "If you remove it successfully,\n",
        "the answer will be 1.\n",
        "```\n"
      ],
      "metadata": {
        "id": "y3oV3VBw3SKB"
      }
    },
    {
      "cell_type": "code",
      "source": [
        "\n",
        "class ListNode:\n",
        "    def __init__(self, val=0, next=None):\n",
        "        self.val = val\n",
        "        self.next = next\n",
        "\n",
        "\n",
        "def detectAndRemoveLoop(head):\n",
        "    slowPtr = head\n",
        "    fastPtr = head\n",
        "\n",
        "    # Detect loop using Floyd's cycle-finding algorithm\n",
        "    while fastPtr and fastPtr.next:\n",
        "        slowPtr = slowPtr.next\n",
        "        fastPtr = fastPtr.next.next\n",
        "        if slowPtr == fastPtr:\n",
        "            break\n",
        "\n",
        "    # No loop present\n",
        "    if slowPtr != fastPtr:\n",
        "        return head\n",
        "\n",
        "    # Find the position of the last node in the loop\n",
        "    loopPtr = head\n",
        "    while loopPtr.next != slowPtr.next:\n",
        "        loopPtr = loopPtr.next\n",
        "        slowPtr = slowPtr.next\n",
        "\n",
        "    # Remove the loop by setting the next pointer of the last node to None\n",
        "    loopPtr.next = None\n",
        "\n",
        "    return head\n",
        "\n",
        "\n",
        "# Create the linked list\n",
        "node1 = ListNode(1)\n",
        "node2 = ListNode(3)\n",
        "node3 = ListNode(4)\n",
        "node1.next = node2\n",
        "node2.next = node3\n",
        "node3.next = node2  # Creating a loop\n",
        "\n",
        "# Call the function to remove the loop\n",
        "head = detectAndRemoveLoop(node1)\n",
        "\n",
        "# Print the values in the modified linked list\n",
        "current = head\n",
        "while current:\n",
        "    print(current.val, end=\" \")\n",
        "    current = current.next"
      ],
      "metadata": {
        "id": "SrtiHdZu3SkJ",
        "colab": {
          "base_uri": "https://localhost:8080/"
        },
        "outputId": "7b531965-f55a-4a29-dd72-7782d95058d8"
      },
      "execution_count": 13,
      "outputs": [
        {
          "output_type": "stream",
          "name": "stdout",
          "text": [
            "1 "
          ]
        }
      ]
    },
    {
      "cell_type": "code",
      "source": [
        "node1 = ListNode(1)\n",
        "node2 = ListNode(2)\n",
        "node3 = ListNode(3)\n",
        "node4 = ListNode(4)\n",
        "\n",
        "\n",
        "node1.next = node2\n",
        "node2.next = node3\n",
        "node3.next = node2\n",
        "node4.next = node3\n",
        "\n",
        "head = detectAndRemoveLoop(node1)\n",
        "\n",
        "current = head\n",
        "while current:\n",
        "    print(current.val, end=\" \")\n",
        "    current = current.next"
      ],
      "metadata": {
        "colab": {
          "base_uri": "https://localhost:8080/"
        },
        "id": "r8OduYVMW_nV",
        "outputId": "babbc8d4-4b6b-48a4-afbc-ec811d11b3e2"
      },
      "execution_count": 14,
      "outputs": [
        {
          "output_type": "stream",
          "name": "stdout",
          "text": [
            "1 "
          ]
        }
      ]
    },
    {
      "cell_type": "markdown",
      "source": [
        "💡 **Question 2**\n",
        "\n",
        "A number **N** is represented in Linked List such that each digit corresponds to a node in linked list. You need to add 1 to it.\n",
        "\n",
        "**Example 1:**\n",
        "\n",
        "```\n",
        "Input:\n",
        "LinkedList: 4->5->6\n",
        "Output:457\n",
        "\n",
        "```\n",
        "\n",
        "**Example 2:**\n",
        "\n",
        "```\n",
        "Input:\n",
        "LinkedList: 1->2->3\n",
        "Output:124\n",
        "```\n"
      ],
      "metadata": {
        "id": "0tseajyP3cHY"
      }
    },
    {
      "cell_type": "code",
      "source": [
        "class ListNode:\n",
        "    def __init__(self, val=0, next=None):\n",
        "        self.val = val\n",
        "        self.next = next\n",
        "\n",
        "def reverseLinkedList(head):\n",
        "    prev = None\n",
        "    current = head\n",
        "\n",
        "    while current:\n",
        "        next_node = current.next\n",
        "        current.next = prev\n",
        "        prev = current\n",
        "        current = next_node\n",
        "\n",
        "    return prev\n",
        "\n",
        "def addOne(head):\n",
        "    if not head:\n",
        "        return ListNode(1)\n",
        "\n",
        "    # Reverse the linked list\n",
        "    reversed_head = reverseLinkedList(head)\n",
        "\n",
        "    # Traverse the reversed linked list and add 1\n",
        "    current = reversed_head\n",
        "    carry = 1\n",
        "\n",
        "    while current:\n",
        "        current.val += carry\n",
        "        carry = 0\n",
        "\n",
        "        if current.val >= 10:\n",
        "            current.val %= 10\n",
        "            carry = 1\n",
        "\n",
        "        if not current.next and carry:\n",
        "            # Add a new node at the end if there is a carry\n",
        "            current.next = ListNode(1)\n",
        "\n",
        "        current = current.next\n",
        "\n",
        "    # Reverse the linked list again to restore the original order\n",
        "    return reverseLinkedList(reversed_head)"
      ],
      "metadata": {
        "id": "e7jUzcym3fUS"
      },
      "execution_count": null,
      "outputs": []
    },
    {
      "cell_type": "code",
      "source": [
        "# example: 1\n",
        "\n",
        "head = ListNode(4)\n",
        "node2 = ListNode(5)\n",
        "node3 = ListNode(6)\n",
        "\n",
        "head.next = node2\n",
        "node2.next = node3\n",
        "\n",
        "# Call the addOne function\n",
        "head = addOne(head)\n",
        "\n",
        "\n",
        "current = head\n",
        "while current:\n",
        "    print(current.val, end=\"->\")\n",
        "    current = current.next"
      ],
      "metadata": {
        "colab": {
          "base_uri": "https://localhost:8080/"
        },
        "id": "uygIwFBU5pzS",
        "outputId": "1785b7f6-3712-4255-814e-09df8091272c"
      },
      "execution_count": null,
      "outputs": [
        {
          "output_type": "stream",
          "name": "stdout",
          "text": [
            "4->5->7->"
          ]
        }
      ]
    },
    {
      "cell_type": "code",
      "source": [
        "# example: 2\n",
        "\n",
        "head = ListNode(1)\n",
        "node2 = ListNode(2)\n",
        "node3 = ListNode(3)\n",
        "\n",
        "head.next = node2\n",
        "node2.next = node3\n",
        "\n",
        "# Call the addOne function\n",
        "head = addOne(head)\n",
        "\n",
        "\n",
        "current = head\n",
        "while current:\n",
        "    print(current.val, end=\"->\")\n",
        "    current = current.next"
      ],
      "metadata": {
        "colab": {
          "base_uri": "https://localhost:8080/"
        },
        "id": "9v7EYPsR5g1B",
        "outputId": "91bf760d-96e1-444e-fc9f-845b4f35fe70"
      },
      "execution_count": null,
      "outputs": [
        {
          "output_type": "stream",
          "name": "stdout",
          "text": [
            "1->2->4->"
          ]
        }
      ]
    },
    {
      "cell_type": "markdown",
      "source": [
        "💡 **Question 3**\n",
        "\n",
        "Given a Linked List of size N, where every node represents a sub-linked-list and contains two pointers:(i) a **next** pointer to the next node,(ii) a **bottom** pointer to a linked list where this node is head.Each of the sub-linked-list is in sorted order.Flatten the Link List such that all the nodes appear in a single level while maintaining the sorted order. **Note:** The flattened list will be printed using the bottom pointer instead of next pointer.\n",
        "\n",
        "**Example 1:**\n",
        "\n",
        "```\n",
        "Input:\n",
        "5 -> 10 -> 19 -> 28\n",
        "|     |     |     |\n",
        "7     20    22   35\n",
        "|           |     |\n",
        "8          50    40\n",
        "|                 |\n",
        "30               45\n",
        "Output: 5-> 7-> 8- > 10 -> 19-> 20->\n",
        "22-> 28-> 30-> 35-> 40-> 45-> 50.\n",
        "Explanation:\n",
        "The resultant linked lists has every\n",
        "node in a single level.(Note:| represents the bottom pointer.)\n",
        "\n",
        "```\n",
        "\n",
        "**Example 2:**\n",
        "\n",
        "```\n",
        "Input:\n",
        "5 -> 10 -> 19 -> 28\n",
        "|          |\n",
        "7          22\n",
        "|          |\n",
        "8          50\n",
        "|\n",
        "30\n",
        "Output: 5->7->8->10->19->22->28->30->50\n",
        "Explanation:\n",
        "The resultant linked lists has every\n",
        "node in a single level.\n",
        "\n",
        "```\n"
      ],
      "metadata": {
        "id": "aiKXt-We3f0t"
      }
    },
    {
      "cell_type": "code",
      "source": [
        "class Node:\n",
        "    def __init__(self, data):\n",
        "        self.data = data\n",
        "        self.next = None\n",
        "        self.bottom = None\n",
        "\n",
        "def merge(list1, list2):\n",
        "    # Base cases\n",
        "    if not list1:\n",
        "        return list2\n",
        "    if not list2:\n",
        "        return list1\n",
        "\n",
        "    # Create a dummy node to hold the result\n",
        "    dummy = Node(0)\n",
        "    result = dummy\n",
        "\n",
        "    # Merge the lists in sorted order\n",
        "    while list1 and list2:\n",
        "        if list1.data < list2.data:\n",
        "            result.bottom = list1\n",
        "            list1 = list1.bottom\n",
        "        else:\n",
        "            result.bottom = list2\n",
        "            list2 = list2.bottom\n",
        "        result = result.bottom\n",
        "\n",
        "    # Append any remaining nodes from list1 or list2\n",
        "    if list1:\n",
        "        result.bottom = list1\n",
        "    else:\n",
        "        result.bottom = list2\n",
        "\n",
        "    return dummy.bottom\n",
        "\n",
        "def flatten(head):\n",
        "    # Base case: an empty list or a single node list\n",
        "    if not head or not head.next:\n",
        "        return head\n",
        "\n",
        "    # Recursively flatten the rest of the list\n",
        "    head.next = flatten(head.next)\n",
        "\n",
        "    # Merge the current list with the flattened rest of the list\n",
        "    head = merge(head, head.next)\n",
        "\n",
        "    return head\n",
        "# Create a sample linked list with sub-linked lists\n",
        "head = Node(5)\n",
        "head.bottom = Node(7)\n",
        "head.bottom.bottom = Node(8)\n",
        "head.bottom.bottom.bottom = Node(30)\n",
        "\n",
        "head.next = Node(10)\n",
        "head.next.bottom = Node(20)\n",
        "\n",
        "head.next.next = Node(19)\n",
        "head.next.next.bottom = Node(22)\n",
        "head.next.next.bottom.bottom = Node(50)\n",
        "\n",
        "head.next.next.next = Node(28)\n",
        "head.next.next.next.bottom = Node(35)\n",
        "head.next.next.next.bottom.bottom = Node(40)\n",
        "head.next.next.next.bottom.bottom.bottom = Node(45)\n",
        "\n",
        "# Flatten the linked list\n",
        "head = flatten(head)\n",
        "\n",
        "# Print the flattened linked list\n",
        "current = head\n",
        "while current:\n",
        "    print(current.data, end=\" \")\n",
        "    current = current.bottom"
      ],
      "metadata": {
        "id": "-I97Hfp49H_l",
        "colab": {
          "base_uri": "https://localhost:8080/"
        },
        "outputId": "3eced0c3-a7a8-4b7c-a091-77d0963d95e8"
      },
      "execution_count": 7,
      "outputs": [
        {
          "output_type": "stream",
          "name": "stdout",
          "text": [
            "5 7 8 10 19 20 22 28 30 35 40 45 50 "
          ]
        }
      ]
    },
    {
      "cell_type": "markdown",
      "source": [
        "💡 **Question 4**\n",
        "\n",
        "You are given a special linked list with **N** nodes where each node has a next pointer pointing to its next node. You are also given **M** random pointers, where you will be given **M** number of pairs denoting two nodes **a** and **b**  **i.e. a->arb = b** (arb is pointer to random node)**.**\n",
        "\n",
        "Construct a copy of the given list. The copy should consist of exactly **N** new nodes, where each new node has its value set to the value of its corresponding original node. Both the next and random pointer of the new nodes should point to new nodes in the copied list such that the pointers in the original list and copied list represent the same list state. None of the pointers in the new list should point to nodes in the original list.\n",
        "\n",
        "For example, if there are two nodes **X** and **Y** in the original list, where **X.arb** **-->** **Y**, then for the corresponding two nodes **x** and **y** in the copied list, **x.arb --> y.**\n",
        "\n",
        "Return the head of the copied linked list.\n",
        "\n",
        "!https://contribute.geeksforgeeks.org/wp-content/uploads/clone.jpg\n",
        "\n",
        "**Note** :- The diagram isn't part of any example, it just depicts an example of how the linked list may look like.\n",
        "\n",
        "**Example 1:**\n",
        "\n",
        "```\n",
        "Input:\n",
        "N = 4, M = 2\n",
        "value = {1,2,3,4}\n",
        "pairs = {{1,2},{2,4}}\n",
        "Output:1\n",
        "Explanation:In this test case, there\n",
        "are 4 nodes in linked list.  Among these\n",
        "4 nodes,  2 nodes have arbitrary pointer\n",
        "set, rest two nodes have arbitrary pointer\n",
        "as NULL. Second line tells us the value\n",
        "of four nodes. The third line gives the\n",
        "information about arbitrary pointers.\n",
        "The first node arbitrary pointer is set to\n",
        "node 2.  The second node arbitrary pointer\n",
        "is set to node 4.\n",
        "\n",
        "```\n",
        "\n",
        "**Example 2:**\n",
        "\n",
        "```\n",
        "Input:\n",
        "N = 4, M = 2\n",
        "value[] = {1,3,5,9}\n",
        "pairs[] = {{1,1},{3,4}}\n",
        "Output:1\n",
        "Explanation:In the given testcase ,\n",
        "applying the method as stated in the\n",
        "above example, the output will be 1.\n",
        "```\n"
      ],
      "metadata": {
        "id": "W2gOQdJi3glu"
      }
    },
    {
      "cell_type": "code",
      "source": [
        "class Node:\n",
        "    def __init__(self, x):\n",
        "        self.val = x\n",
        "        self.next = None\n",
        "        self.random = None\n",
        "\n",
        "def copyRandomList(head: 'Node') -> 'Node':\n",
        "    if not head:\n",
        "        return None\n",
        "\n",
        "    # Step 1: Create new nodes and insert them after the original nodes\n",
        "    curr = head\n",
        "    while curr:\n",
        "        new_node = Node(curr.val)\n",
        "        new_node.next = curr.next\n",
        "        curr.next = new_node\n",
        "        curr = new_node.next\n",
        "\n",
        "    # Step 2: Set the random pointers for the new nodes\n",
        "    curr = head\n",
        "    while curr:\n",
        "        if curr.random:\n",
        "            curr.next.random = curr.random.next\n",
        "        curr = curr.next.next\n",
        "\n",
        "    # Step 3: Restore the original list and extract the copied list\n",
        "    curr = head\n",
        "    new_head = head.next\n",
        "    while curr:\n",
        "        new_node = curr.next\n",
        "        curr.next = new_node.next\n",
        "        if new_node.next:\n",
        "            new_node.next = new_node.next.next\n",
        "        curr = curr.next\n",
        "\n",
        "    return new_head\n",
        "\n",
        "# Example input\n",
        "head = Node(1)\n",
        "head.next = Node(2)\n",
        "head.next.next = Node(3)\n",
        "head.next.next.next = Node(4)\n",
        "\n",
        "head.random = head.next\n",
        "head.next.random = head.next.next.next\n",
        "\n",
        "# Example usage\n",
        "new_head = copyRandomList(head)\n",
        "\n",
        "# Example output\n",
        "while new_head:\n",
        "    print(f\"{new_head.val} (random: {new_head.random.val if new_head.random else None})  \", end=\",  \")\n",
        "    new_head = new_head.next\n"
      ],
      "metadata": {
        "id": "eKvq0UEI3g9b",
        "colab": {
          "base_uri": "https://localhost:8080/"
        },
        "outputId": "2d371dff-778c-420a-8c33-8b120a65f9ed"
      },
      "execution_count": 26,
      "outputs": [
        {
          "output_type": "stream",
          "name": "stdout",
          "text": [
            "1 (random: 2)  ,  2 (random: 4)  ,  3 (random: None)  ,  4 (random: None)  ,  "
          ]
        }
      ]
    },
    {
      "cell_type": "code",
      "source": [
        "# Create the linked list\n",
        "head = Node(1)\n",
        "head.next = Node(3)\n",
        "head.next.next = Node(5)\n",
        "head.next.next.next = Node(9)\n",
        "\n",
        "# Set the random pointers\n",
        "head.random = head\n",
        "head.next.next.random = head.next.next.next\n",
        "\n",
        "# Copy the linked list\n",
        "new_head = copyRandomList(head)\n",
        "\n",
        "# Print the copied linked list\n",
        "while new_head:\n",
        "    print(f\"{new_head.val} (random: {new_head.random.val if new_head.random else None})  \", end=\", \")\n",
        "    new_head = new_head.next\n"
      ],
      "metadata": {
        "colab": {
          "base_uri": "https://localhost:8080/"
        },
        "id": "Phnqw6SVaOa3",
        "outputId": "15a1e620-133b-486c-fc68-eb2bc3c22d1c"
      },
      "execution_count": 25,
      "outputs": [
        {
          "output_type": "stream",
          "name": "stdout",
          "text": [
            "1 (random: 1)  , 3 (random: None)  , 5 (random: 9)  , 9 (random: None)  , "
          ]
        }
      ]
    },
    {
      "cell_type": "markdown",
      "source": [
        "💡 **Question 5**\n",
        "\n",
        "Given the `head` of a singly linked list, group all the nodes with odd indices together followed by the nodes with even indices, and return *the reordered list*.\n",
        "\n",
        "The **first** node is considered **odd**, and the **second** node is **even**, and so on.\n",
        "\n",
        "Note that the relative order inside both the even and odd groups should remain as it was in the input.\n",
        "\n",
        "You must solve the problem in `O(1)` extra space complexity and `O(n)` time complexity.\n",
        "\n",
        "**Example 1:**\n",
        "\n",
        "!https://assets.leetcode.com/uploads/2021/03/10/oddeven-linked-list.jpg\n",
        "\n",
        "```\n",
        "Input: head = [1,2,3,4,5]\n",
        "Output: [1,3,5,2,4]\n",
        "\n",
        "```\n",
        "\n",
        "**Example 2:**\n",
        "\n",
        "!https://assets.leetcode.com/uploads/2021/03/10/oddeven2-linked-list.jpg\n",
        "\n",
        "```\n",
        "Input: head = [2,1,3,5,6,4,7]\n",
        "Output: [2,3,6,7,1,5,4]\n",
        "```\n"
      ],
      "metadata": {
        "id": "7FgknwVJ3xSo"
      }
    },
    {
      "cell_type": "code",
      "source": [
        "class ListNode:\n",
        "    def __init__(self, val=0, next=None):\n",
        "        self.val = val\n",
        "        self.next = next\n",
        "\n",
        "def oddEvenList(head):\n",
        "    if not head or not head.next:\n",
        "        return head\n",
        "\n",
        "    odd_head = head\n",
        "    even_head = head.next\n",
        "    odd_tail = odd_head\n",
        "    even_tail = even_head\n",
        "\n",
        "    current = even_head.next\n",
        "    index = 3\n",
        "\n",
        "    while current:\n",
        "        if index % 2 == 1:\n",
        "            odd_tail.next = current\n",
        "            odd_tail = odd_tail.next\n",
        "        else:\n",
        "            even_tail.next = current\n",
        "            even_tail = even_tail.next\n",
        "        current = current.next\n",
        "        index += 1\n",
        "\n",
        "    odd_tail.next = even_head\n",
        "    even_tail.next = None\n",
        "\n",
        "    return odd_head\n",
        "\n",
        "# Create the input linked list\n",
        "head = ListNode(2)\n",
        "node2 = ListNode(1)\n",
        "node3 = ListNode(3)\n",
        "node4 = ListNode(5)\n",
        "node5 = ListNode(6)\n",
        "node6 = ListNode(4)\n",
        "node7 = ListNode(7)\n",
        "\n",
        "head.next = node2\n",
        "node2.next = node3\n",
        "node3.next = node4\n",
        "node4.next = node5\n",
        "node5.next = node6\n",
        "node6.next = node7\n",
        "\n",
        "# Call the oddEvenList function\n",
        "reordered_head = oddEvenList(head)\n",
        "\n",
        "# Print the reordered linked list\n",
        "current = reordered_head\n",
        "while current:\n",
        "    print(current.val, end=\"  \")\n",
        "    current = current.next"
      ],
      "metadata": {
        "colab": {
          "base_uri": "https://localhost:8080/"
        },
        "id": "cdqLo4XX3yCj",
        "outputId": "4d15a6ca-4e16-46a3-86a5-ab19d3419e17"
      },
      "execution_count": 11,
      "outputs": [
        {
          "output_type": "stream",
          "name": "stdout",
          "text": [
            "2  3  6  7  1  5  4  "
          ]
        }
      ]
    },
    {
      "cell_type": "code",
      "source": [
        "# example: 2\n",
        "\n",
        "head = ListNode(1)\n",
        "node2 = ListNode(2)\n",
        "node3 = ListNode(3)\n",
        "node4 = ListNode(4)\n",
        "node5 = ListNode(5)\n",
        "\n",
        "head.next = node2\n",
        "node2.next = node3\n",
        "node3.next = node4\n",
        "node4.next = node5\n",
        "\n",
        "# Call the oddEvenList function\n",
        "reordered_head = oddEvenList(head)\n",
        "\n",
        "# Print the reordered linked list\n",
        "current = reordered_head\n",
        "while current:\n",
        "    print(current.val, end=\"  \")\n",
        "    current = current.next"
      ],
      "metadata": {
        "colab": {
          "base_uri": "https://localhost:8080/"
        },
        "id": "KHs2Rz0w7a9b",
        "outputId": "f6623a57-fecb-4b38-a019-cc795c2f8d08"
      },
      "execution_count": 12,
      "outputs": [
        {
          "output_type": "stream",
          "name": "stdout",
          "text": [
            "1  3  5  2  4  "
          ]
        }
      ]
    },
    {
      "cell_type": "markdown",
      "source": [
        "💡 **Question 6**\n",
        "\n",
        "Given a singly linked list of size **N**. The task is to **left-shift** the linked list by **k** nodes, where **k** is a given positive integer smaller than or equal to length of the linked list.\n",
        "\n",
        "**Example 1:**\n",
        "\n",
        "```\n",
        "Input:\n",
        "N = 5\n",
        "value[] = {2, 4, 7, 8, 9}\n",
        "k = 3\n",
        "Output:8 9 2 4 7\n",
        "Explanation:Rotate 1:4 -> 7 -> 8 -> 9 -> 2\n",
        "Rotate 2: 7 -> 8 -> 9 -> 2 -> 4\n",
        "Rotate 3: 8 -> 9 -> 2 -> 4 -> 7\n",
        "\n",
        "```\n",
        "\n",
        "**Example 2:**\n",
        "\n",
        "```\n",
        "Input:\n",
        "N = 8\n",
        "value[] = {1, 2, 3, 4, 5, 6, 7, 8}\n",
        "k = 4\n",
        "Output:5 6 7 8 1 2 3 4\n",
        "```\n"
      ],
      "metadata": {
        "id": "Miz2ZotB3yhd"
      }
    },
    {
      "cell_type": "code",
      "source": [
        "class ListNode:\n",
        "    def __init__(self, val=0, next=None):\n",
        "        self.val = val\n",
        "        self.next = next\n",
        "\n",
        "def left_shift_linked_list(head, k):\n",
        "    if not head or not head.next or k == 0:\n",
        "        return head\n",
        "\n",
        "    # Find the kth node from the beginning\n",
        "    current = head\n",
        "    for _ in range(k - 1):\n",
        "        current = current.next\n",
        "        if not current:\n",
        "            return head  # k is equal to the length of the list, no shifting required\n",
        "\n",
        "    # Set the new head and find the end of the original list\n",
        "    new_head = current.next\n",
        "    current.next = None\n",
        "    current = new_head\n",
        "    while current.next:\n",
        "        current = current.next\n",
        "\n",
        "    # Connect the end of the original list to the original head\n",
        "    current.next = head\n",
        "\n",
        "    return new_head\n",
        "# Create a sample linked list\n",
        "head = ListNode(2)\n",
        "node2 = ListNode(4)\n",
        "node3 = ListNode(7)\n",
        "node4 = ListNode(8)\n",
        "node5 = ListNode(9)\n",
        "head.next = node2\n",
        "node2.next = node3\n",
        "node3.next = node4\n",
        "node4.next = node5\n",
        "\n",
        "# Left shift the list by k nodes\n",
        "k = 3\n",
        "shifted_head = left_shift_linked_list(head, k)\n",
        "\n",
        "# Traverse and print the shifted list\n",
        "current = shifted_head\n",
        "while current:\n",
        "    print(current.val, end=\" \")\n",
        "    current = current.next"
      ],
      "metadata": {
        "id": "30TR69Fa3y6X",
        "colab": {
          "base_uri": "https://localhost:8080/"
        },
        "outputId": "ffd0f540-41e7-4fe8-b9db-d23d4e0d62e4"
      },
      "execution_count": 8,
      "outputs": [
        {
          "output_type": "stream",
          "name": "stdout",
          "text": [
            "8 9 2 4 7 "
          ]
        }
      ]
    },
    {
      "cell_type": "code",
      "source": [
        "head = ListNode(1)\n",
        "node2 = ListNode(2)\n",
        "node3 = ListNode(3)\n",
        "node4 = ListNode(4)\n",
        "node5 = ListNode(5)\n",
        "node6 = ListNode(6)\n",
        "node7 = ListNode(7)\n",
        "node8 = ListNode(8)\n",
        "\n",
        "head.next = node2\n",
        "node2.next = node3\n",
        "node3.next = node4\n",
        "node4.next = node5\n",
        "node5.next = node6\n",
        "node6.next = node7\n",
        "node7.next = node8\n",
        "\n",
        "# Left shift the list by k nodes\n",
        "k = 4\n",
        "shifted_head = left_shift_linked_list(head, k)\n",
        "\n",
        "# Traverse and print the shifted list\n",
        "current = shifted_head\n",
        "while current:\n",
        "    print(current.val, end=\" \")\n",
        "    current = current.next"
      ],
      "metadata": {
        "colab": {
          "base_uri": "https://localhost:8080/"
        },
        "id": "fTBJexV-UTB9",
        "outputId": "f191e66e-2132-493d-e519-5580a60a37a8"
      },
      "execution_count": 9,
      "outputs": [
        {
          "output_type": "stream",
          "name": "stdout",
          "text": [
            "5 6 7 8 1 2 3 4 "
          ]
        }
      ]
    },
    {
      "cell_type": "markdown",
      "source": [
        "💡 **Question 7**\n",
        "\n",
        "You are given the `head` of a linked list with `n` nodes.\n",
        "\n",
        "For each node in the list, find the value of the **next greater node**. That is, for each node, find the value of the first node that is next to it and has a **strictly larger** value than it.\n",
        "\n",
        "Return an integer array `answer` where `answer[i]` is the value of the next greater node of the `ith` node (**1-indexed**). If the `ith` node does not have a next greater node, set `answer[i] = 0`.\n",
        "\n",
        "**Example 1:**\n",
        "\n",
        "!https://assets.leetcode.com/uploads/2021/08/05/linkedlistnext1.jpg\n",
        "\n",
        "```\n",
        "Input: head = [2,1,5]\n",
        "Output: [5,5,0]\n",
        "\n",
        "```\n",
        "\n",
        "**Example 2:**\n",
        "\n",
        "!https://assets.leetcode.com/uploads/2021/08/05/linkedlistnext2.jpg\n",
        "\n",
        "```\n",
        "Input: head = [2,7,4,3,5]\n",
        "Output: [7,0,5,5,0]\n",
        "```\n"
      ],
      "metadata": {
        "id": "WyTfE0i235e6"
      }
    },
    {
      "cell_type": "code",
      "source": [
        "class ListNode:\n",
        "    def __init__(self, value):\n",
        "        self.val = value\n",
        "        self.next = None\n",
        "\n",
        "def nextGreaterNodes(head):\n",
        "    # Convert linked list to array\n",
        "    arr = []\n",
        "    curr = head\n",
        "    while curr:\n",
        "        arr.append(curr.val)\n",
        "        curr = curr.next\n",
        "\n",
        "    n = len(arr)\n",
        "    stack = []\n",
        "    answer = [0] * n\n",
        "\n",
        "    for i in range(n - 1, -1, -1):\n",
        "        while stack and stack[-1] <= arr[i]:\n",
        "            stack.pop()\n",
        "\n",
        "        if stack:\n",
        "            answer[i] = stack[-1]\n",
        "\n",
        "        stack.append(arr[i])\n",
        "\n",
        "    return answer\n",
        "\n",
        "# Create the linked list\n",
        "values = [2, 1, 5]\n",
        "head = ListNode(values[0])\n",
        "curr = head\n",
        "for value in values[1:]:\n",
        "    curr.next = ListNode(value)\n",
        "    curr = curr.next\n",
        "\n",
        "# Call the function to find the next greater nodes\n",
        "result = nextGreaterNodes(head)\n",
        "\n",
        "print(result)"
      ],
      "metadata": {
        "colab": {
          "base_uri": "https://localhost:8080/"
        },
        "id": "5TzcagBa36LP",
        "outputId": "c9c141cb-6c4e-4cde-e417-e9db1dc54527"
      },
      "execution_count": null,
      "outputs": [
        {
          "output_type": "stream",
          "name": "stdout",
          "text": [
            "[5, 5, 0]\n"
          ]
        }
      ]
    },
    {
      "cell_type": "code",
      "source": [
        "# Create the linked list\n",
        "values = [2, 7, 4, 3, 5]\n",
        "head = ListNode(values[0])\n",
        "curr = head\n",
        "for value in values[1:]:\n",
        "    curr.next = ListNode(value)\n",
        "    curr = curr.next\n",
        "\n",
        "# Call the function to find the next greater nodes\n",
        "result = nextGreaterNodes(head)\n",
        "\n",
        "print(result)"
      ],
      "metadata": {
        "colab": {
          "base_uri": "https://localhost:8080/"
        },
        "id": "JI_keQdh8KsQ",
        "outputId": "d880c9af-7ff2-4fa0-859c-a047ea6bf821"
      },
      "execution_count": null,
      "outputs": [
        {
          "output_type": "stream",
          "name": "stdout",
          "text": [
            "[7, 0, 5, 5, 0]\n"
          ]
        }
      ]
    },
    {
      "cell_type": "markdown",
      "source": [
        "💡 **Question 8**\n",
        "\n",
        "Given the `head` of a linked list, we repeatedly delete consecutive sequences of nodes that sum to `0` until there are no such sequences.\n",
        "\n",
        "After doing so, return the head of the final linked list.  You may return any such answer.\n",
        "\n",
        "(Note that in the examples below, all sequences are serializations of `ListNode` objects.)\n",
        "\n",
        "**Example 1:**\n",
        "\n",
        "```\n",
        "Input: head = [1,2,-3,3,1]\n",
        "Output: [3,1]\n",
        "Note: The answer [1,2,1] would also be accepted.\n",
        "\n",
        "```\n",
        "\n",
        "**Example 2:**\n",
        "\n",
        "```\n",
        "Input: head = [1,2,3,-3,4]\n",
        "Output: [1,2,4]\n",
        "\n",
        "```\n",
        "\n",
        "**Example 3:**\n",
        "\n",
        "```\n",
        "Input: head = [1,2,3,-3,-2]\n",
        "Output: [1]\n",
        "```\n"
      ],
      "metadata": {
        "id": "hZWpHauK3-Ek"
      }
    },
    {
      "cell_type": "code",
      "source": [
        "class ListNode:\n",
        "    def __init__(self, val=0, next=None):\n",
        "        self.val = val\n",
        "        self.next = next\n",
        "\n",
        "def removeZeroSumSublists(head):\n",
        "    dummy = ListNode(0)\n",
        "    dummy.next = head\n",
        "    hashmap = {}\n",
        "    cumulative_sum = 0\n",
        "    current = dummy\n",
        "\n",
        "    while current:\n",
        "        cumulative_sum += current.val\n",
        "\n",
        "        if cumulative_sum in hashmap:\n",
        "            # Remove the nodes between the previous occurrence of cumulative sum\n",
        "            # and the current node\n",
        "            prev = hashmap[cumulative_sum].next\n",
        "            temp_sum = cumulative_sum + prev.val\n",
        "\n",
        "            while prev != current:\n",
        "                del hashmap[temp_sum]\n",
        "                prev = prev.next\n",
        "                temp_sum += prev.val\n",
        "\n",
        "            hashmap[cumulative_sum].next = current.next\n",
        "        else:\n",
        "            hashmap[cumulative_sum] = current\n",
        "\n",
        "        current = current.next\n",
        "\n",
        "    return dummy.next\n",
        "\n",
        "head = ListNode(1)\n",
        "head.next = ListNode(2)\n",
        "head.next.next = ListNode(-3)\n",
        "head.next.next.next = ListNode(3)\n",
        "head.next.next.next.next = ListNode(1)\n",
        "new_head = removeZeroSumSublists(head)\n",
        "\n",
        "current = new_head\n",
        "while current:\n",
        "    print(current.val, end=\"  \")\n",
        "    current = current.next"
      ],
      "metadata": {
        "id": "XJwur4Zz8gjM",
        "colab": {
          "base_uri": "https://localhost:8080/"
        },
        "outputId": "50c620ad-fb14-4f08-b69a-9748218508f6"
      },
      "execution_count": 5,
      "outputs": [
        {
          "output_type": "stream",
          "name": "stdout",
          "text": [
            "3  1  "
          ]
        }
      ]
    },
    {
      "cell_type": "code",
      "source": [
        "head = ListNode(1)\n",
        "head.next = ListNode(2)\n",
        "head.next.next = ListNode(3)\n",
        "head.next.next.next = ListNode(-3)\n",
        "head.next.next.next.next = ListNode(4)\n",
        "new_head = removeZeroSumSublists(head)\n",
        "\n",
        "current = new_head\n",
        "while current:\n",
        "    print(current.val, end=\"  \")\n",
        "    current = current.next"
      ],
      "metadata": {
        "colab": {
          "base_uri": "https://localhost:8080/"
        },
        "id": "js4ouL8oREV-",
        "outputId": "14338bcf-43b7-475a-ff35-1510f01ef992"
      },
      "execution_count": 4,
      "outputs": [
        {
          "output_type": "stream",
          "name": "stdout",
          "text": [
            "1  2  4  "
          ]
        }
      ]
    },
    {
      "cell_type": "code",
      "source": [
        "head = ListNode(1)\n",
        "head.next = ListNode(2)\n",
        "head.next.next = ListNode(3)\n",
        "head.next.next.next = ListNode(-3)\n",
        "head.next.next.next.next = ListNode(-2)\n",
        "new_head = removeZeroSumSublists(head)\n",
        "\n",
        "current = new_head\n",
        "while current:\n",
        "    print(current.val, end=\"  \")\n",
        "    current = current.next"
      ],
      "metadata": {
        "colab": {
          "base_uri": "https://localhost:8080/"
        },
        "id": "1Fcw2wlrRvdp",
        "outputId": "dcc3f7b7-ae99-4635-d271-1f84a8b55c43"
      },
      "execution_count": 6,
      "outputs": [
        {
          "output_type": "stream",
          "name": "stdout",
          "text": [
            "1  "
          ]
        }
      ]
    }
  ],
  "metadata": {
    "colab": {
      "provenance": []
    },
    "kernelspec": {
      "display_name": "Python 3",
      "name": "python3"
    },
    "language_info": {
      "name": "python"
    }
  },
  "nbformat": 4,
  "nbformat_minor": 0
}