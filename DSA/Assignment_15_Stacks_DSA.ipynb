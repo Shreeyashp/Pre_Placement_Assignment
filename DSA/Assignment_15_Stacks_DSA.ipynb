{
  "cells": [
    {
      "cell_type": "markdown",
      "source": [
        "## **Submitted By: `Shreeyash Pardeshi`**"
      ],
      "metadata": {
        "id": "AGMrj3AdsZZF"
      }
    },
    {
      "cell_type": "markdown",
      "source": [
        "💡 Question 1\n",
        "\n",
        "Given an array arr[ ] of size N having elements, the task is to find the next greater element for each element of the array in order of their appearance in the array.Next greater element of an element in the array is the nearest element on the right which is greater than the current element.If there does not exist next greater of current element, then next greater element for current element is -1. For example, next greater of the last element is always -1.\n",
        "\n",
        "Example 1: Input: N = 4, arr[] = [1 3 2 4] Output: 3 4 4 -1 Explanation: In the array, the next larger element to 1 is 3 , 3 is 4 , 2 is 4 and for 4 ? since it doesn't exist, it is -1."
      ],
      "metadata": {
        "id": "32yB12cqoJPM"
      }
    },
    {
      "cell_type": "code",
      "source": [
        "def findNextGreater(arr):\n",
        "    stack = []\n",
        "    n = len(arr)\n",
        "    nextGreater = [-1] * n\n",
        "\n",
        "    for i in range(n):\n",
        "        while stack and arr[i] > arr[stack[-1]]:\n",
        "            index = stack.pop()\n",
        "            nextGreater[index] = arr[i]\n",
        "\n",
        "        stack.append(i)\n",
        "\n",
        "    while stack:\n",
        "        index = stack.pop()\n",
        "        nextGreater[index] = -1\n",
        "\n",
        "    return nextGreater\n",
        "\n",
        "n = 4\n",
        "arr = [1, 3, 2, 4]\n",
        "print(findNextGreater(arr))"
      ],
      "metadata": {
        "colab": {
          "base_uri": "https://localhost:8080/"
        },
        "id": "aZVRQmBMoytG",
        "outputId": "a9b1c486-3267-40a9-b54b-e1a8bb27652a"
      },
      "execution_count": 1,
      "outputs": [
        {
          "output_type": "stream",
          "name": "stdout",
          "text": [
            "[3, 4, 4, -1]\n"
          ]
        }
      ]
    },
    {
      "cell_type": "markdown",
      "source": [
        "💡 Question 2\n",
        "\n",
        "Given an array a of integers of length n, find the nearest smaller number for every element such that the smaller element is on left side.If no small element present on the left print -1.\n",
        "\n",
        "Example 1: Input: n = 3 a = {1, 6, 2} Output: -1 1 1 Explaination: There is no number at the left of 1. Smaller number than 6 and 2 is 1."
      ],
      "metadata": {
        "id": "jZgGOHXdo-d7"
      }
    },
    {
      "cell_type": "code",
      "source": [
        "def findNearestSmaller(a):\n",
        "    n = len(a)\n",
        "    stack = []\n",
        "    smallerLeft = [-1] * n\n",
        "\n",
        "    for i in range(n):\n",
        "        while stack and a[i] <= a[stack[-1]]:\n",
        "            stack.pop()\n",
        "\n",
        "        if stack:\n",
        "            smallerLeft[i] = a[stack[-1]]\n",
        "\n",
        "        stack.append(i)\n",
        "\n",
        "    return smallerLeft\n",
        "\n",
        "n = 3\n",
        "a = [1, 6, 2]\n",
        "print(findNearestSmaller(a))"
      ],
      "metadata": {
        "colab": {
          "base_uri": "https://localhost:8080/"
        },
        "id": "-AOFZ2who2M8",
        "outputId": "bf2eda55-c646-4790-b2c8-ff44fabb85b1"
      },
      "execution_count": 2,
      "outputs": [
        {
          "output_type": "stream",
          "name": "stdout",
          "text": [
            "[-1, 1, 1]\n"
          ]
        }
      ]
    },
    {
      "cell_type": "markdown",
      "source": [
        "💡 Question 3\n",
        "\n",
        "Implement a Stack using two queues q1 and q2.\n",
        "\n",
        "Example 1: Input: push(2) push(3) pop() push(4) pop() Output:3 4 Explanation: push(2) the stack will be {2} push(3) the stack will be {2 3} pop() poped element will be 3 the   stack will be {2} push(4) the stack will be {2 4} pop()   poped element will be 4"
      ],
      "metadata": {
        "id": "nR3bZrndpH2-"
      }
    },
    {
      "cell_type": "code",
      "source": [
        "from queue import Queue\n",
        "\n",
        "class Stack:\n",
        "    def __init__(self):\n",
        "        self.q1 = Queue()\n",
        "        self.q2 = Queue()\n",
        "\n",
        "    def push(self, value):\n",
        "        self.q2.put(value)\n",
        "        while not self.q1.empty():\n",
        "            self.q2.put(self.q1.get())\n",
        "        self.q1, self.q2 = self.q2, self.q1\n",
        "\n",
        "    def pop(self):\n",
        "        if self.q1.empty():\n",
        "            return None\n",
        "        return self.q1.get()\n",
        "\n",
        "# Example usage:\n",
        "stack = Stack()\n",
        "stack.push(2)\n",
        "stack.push(3)\n",
        "print(stack.pop())\n",
        "stack.push(4)\n",
        "print(stack.pop())"
      ],
      "metadata": {
        "colab": {
          "base_uri": "https://localhost:8080/"
        },
        "id": "5UYYcPYbpDbY",
        "outputId": "f10307b5-b8f4-4a55-91fa-69876620c34d"
      },
      "execution_count": 3,
      "outputs": [
        {
          "output_type": "stream",
          "name": "stdout",
          "text": [
            "3\n",
            "4\n"
          ]
        }
      ]
    },
    {
      "cell_type": "markdown",
      "source": [
        "💡 Question 4\n",
        "\n",
        "You are given a stack St. You have to reverse the stack using recursion.\n",
        "\n",
        "Example 1:\n",
        "\n",
        "Input:St = {3,2,1,7,6} Output:{6,7,1,2,3}"
      ],
      "metadata": {
        "id": "oHlgBnrgprt0"
      }
    },
    {
      "cell_type": "code",
      "source": [
        "def reverseStack(st):\n",
        "    if len(st) <= 1:\n",
        "        return st\n",
        "\n",
        "    topElement = st.pop()\n",
        "    st = reverseStack(st)\n",
        "    st = insertAtBottom(st, topElement)\n",
        "\n",
        "    return st\n",
        "\n",
        "def insertAtBottom(st, element):\n",
        "    if len(st) == 0:\n",
        "        st.append(element)\n",
        "        return st\n",
        "\n",
        "    topElement = st.pop()\n",
        "    st = insertAtBottom(st, element)\n",
        "    st.append(topElement)\n",
        "    return st\n",
        "\n",
        "\n",
        "st = [3,2,1,7,6]\n",
        "print(\"Original Stack:\", st)\n",
        "reversedStack = reverseStack(st)\n",
        "print(\"Reversed Stack:\", reversedStack)"
      ],
      "metadata": {
        "colab": {
          "base_uri": "https://localhost:8080/"
        },
        "id": "VWPPiqwspm3k",
        "outputId": "08bf61f2-3b1c-4605-f596-3097fa8df8ab"
      },
      "execution_count": 4,
      "outputs": [
        {
          "output_type": "stream",
          "name": "stdout",
          "text": [
            "Original Stack: [3, 2, 1, 7, 6]\n",
            "Reversed Stack: [6, 7, 1, 2, 3]\n"
          ]
        }
      ]
    },
    {
      "cell_type": "markdown",
      "source": [
        "💡 Question 5\n",
        "\n",
        "You are given a string S, the task is to reverse the string using stack.\n",
        "\n",
        "Example 1:\n",
        "\n",
        "Input: S=\"GeeksforGeeks\" Output: skeeGrofskeeG"
      ],
      "metadata": {
        "id": "srKmEZTBp45G"
      }
    },
    {
      "cell_type": "code",
      "source": [
        "def reverseString(s):\n",
        "    stack = []\n",
        "    reversedStr = \" \"\n",
        "\n",
        "    for char in s:\n",
        "        stack.append(char)\n",
        "\n",
        "    while stack:\n",
        "        reversedStr += stack.pop()\n",
        "\n",
        "    return reversedStr\n",
        "\n",
        "s=\"GeeksforGeeks\"\n",
        "print(reverseString(s))"
      ],
      "metadata": {
        "colab": {
          "base_uri": "https://localhost:8080/"
        },
        "id": "-JcvGmLfp0Rl",
        "outputId": "cbceb1c7-d0d2-4c7c-bea8-8165bd4ee299"
      },
      "execution_count": 5,
      "outputs": [
        {
          "output_type": "stream",
          "name": "stdout",
          "text": [
            " skeeGrofskeeG\n"
          ]
        }
      ]
    },
    {
      "cell_type": "markdown",
      "source": [
        "💡 Question 6\n",
        "\n",
        "Given string S representing a postfix expression, the task is to evaluate the expression and find the final value. Operators will only include the basic arithmetic operators like *, /, + and -.\n",
        "\n",
        "Example 1:\n",
        "\n",
        "Input: S = \"231*+9-\" Output: -4 Explanation: After solving the given expression, we have -4 as result."
      ],
      "metadata": {
        "id": "nCk2-qTWqBuT"
      }
    },
    {
      "cell_type": "code",
      "source": [
        "def expressionPostfix(S):\n",
        "    stack = []\n",
        "\n",
        "    for char in S:\n",
        "        if char.isdigit():\n",
        "            stack.append(int(char))\n",
        "        else:\n",
        "            operand2 = stack.pop()\n",
        "            operand1 = stack.pop()\n",
        "\n",
        "            if char == '+':\n",
        "                result = operand1 + operand2\n",
        "\n",
        "            elif char == '*':\n",
        "                result = operand1 * operand2\n",
        "\n",
        "            elif char == '-':\n",
        "                result = operand1 - operand2\n",
        "\n",
        "            elif char == '/':\n",
        "                result = operand1 / operand2\n",
        "\n",
        "            stack.append(result)\n",
        "\n",
        "    return stack.pop()\n",
        "\n",
        "\n",
        "S = \"231*+9-\"\n",
        "print(expressionPostfix(S))"
      ],
      "metadata": {
        "colab": {
          "base_uri": "https://localhost:8080/"
        },
        "id": "nqkkz7YjqCbH",
        "outputId": "1b58f925-1bc4-40de-e6b6-5766f9dd1ed0"
      },
      "execution_count": 6,
      "outputs": [
        {
          "output_type": "stream",
          "name": "stdout",
          "text": [
            "-4\n"
          ]
        }
      ]
    },
    {
      "cell_type": "markdown",
      "source": [
        "💡 Question 7\n",
        "\n",
        "Design a stack that supports push, pop, top, and retrieving the minimum element in constant time.\n",
        "\n",
        "Implement the MinStack class:\n",
        "\n",
        "MinStack() initializes the stack object.\n",
        "void push(int val) pushes the element val onto the stack.\n",
        "void pop() removes the element on the top of the stack.\n",
        "int top() gets the top element of the stack.\n",
        "int getMin() retrieves the minimum element in the stack.\n",
        "You must implement a solution with O(1) time complexity for each function.\n",
        "\n",
        "Example 1:\n",
        "\n",
        "Input [\"MinStack\",\"push\",\"push\",\"push\",\"getMin\",\"pop\",\"top\",\"getMin\"] [[],[-2],[0],[-3],[],[],[],[]]\n",
        "\n",
        "Output [null,null,null,null,-3,null,0,-2]\n",
        "\n",
        "Explanation MinStack minStack = new MinStack(); minStack.push(-2); minStack.push(0); minStack.push(-3); minStack.getMin(); // return -3 minStack.pop(); minStack.top(); // return 0 minStack.getMin(); // return -2"
      ],
      "metadata": {
        "id": "nQ0olGJxqMFw"
      }
    },
    {
      "cell_type": "code",
      "source": [
        "class minstack:\n",
        "    def __init__ (self):\n",
        "        self.stack = []\n",
        "        self.min_stack = []\n",
        "\n",
        "    def push(self, val):\n",
        "        self.stack.append(val)\n",
        "\n",
        "        if not self.min_stack or val <= self.min_stack[-1][0]:\n",
        "            self.min_stack.append((val, len(self.stack) - 1))\n",
        "\n",
        "    def pop(self):\n",
        "        if self.stack:\n",
        "            val = self.stack.pop()\n",
        "\n",
        "            if self.min_stack and len(self.stack) == self.min_stack[-1][-1]:\n",
        "                val = self.min_stack.pop()\n",
        "\n",
        "    def top(self):\n",
        "        if self.stack:\n",
        "            return self.stack[-1]\n",
        "\n",
        "    def getMin(self):\n",
        "        if self.min_stack:\n",
        "            return self.min_stack[-1][0]\n",
        "\n",
        "\n",
        "minstack = minstack()\n",
        "minstack.push(-2)\n",
        "minstack.push(0)\n",
        "minstack.push(-3)\n",
        "\n",
        "output = [\n",
        "    None,\n",
        "    None,\n",
        "    None,\n",
        "    None,\n",
        "    minstack.getMin(),  # -3\n",
        "    minstack.pop(),\n",
        "    minstack.top(),     # 0\n",
        "    minstack.getMin(),  # -2\n",
        "]\n",
        "\n",
        "print(output)"
      ],
      "metadata": {
        "colab": {
          "base_uri": "https://localhost:8080/"
        },
        "id": "FD-5Ho13qHfo",
        "outputId": "67d140ff-196a-465e-df02-946340d694bc"
      },
      "execution_count": 7,
      "outputs": [
        {
          "output_type": "stream",
          "name": "stdout",
          "text": [
            "[None, None, None, None, -3, None, 0, -2]\n"
          ]
        }
      ]
    },
    {
      "cell_type": "markdown",
      "source": [
        "💡 Question 8\n",
        "\n",
        "Given n non-negative integers representing an elevation map where the width of each bar is 1, compute how much water it can trap after raining.\n",
        "\n",
        "Example 1:\n",
        "\n",
        "Input: height = [0,1,0,2,1,0,1,3,2,1,2,1] Output: 6 Explanation: The above elevation map (black section) is represented by array [0,1,0,2,1,0,1,3,2,1,2,1]. In this case, 6 units of rain water (blue section) are being trapped."
      ],
      "metadata": {
        "id": "Df-BQRSuqh3L"
      }
    },
    {
      "cell_type": "code",
      "source": [
        "def waterStorage(height):\n",
        "    stack = []\n",
        "    left = 0\n",
        "    right = len(height) - 1\n",
        "    left_max = 0\n",
        "    right_max= 0\n",
        "    total_water = 0\n",
        "\n",
        "    while left <= right:\n",
        "        if height[left] <= height[right]:\n",
        "            left_max = max(left_max, height[left])\n",
        "            total_water += left_max - height[left]\n",
        "            left += 1\n",
        "\n",
        "        else:\n",
        "            right_max = max(right_max, height[right])\n",
        "            total_water += right_max - height[right]\n",
        "            right -= 1\n",
        "\n",
        "    return total_water\n",
        "\n",
        "\n",
        "height = [0,1,0,2,1,0,1,3,2,1,2,1]\n",
        "print(waterStorage(height))"
      ],
      "metadata": {
        "colab": {
          "base_uri": "https://localhost:8080/"
        },
        "id": "kZAvwLPqqSCn",
        "outputId": "88577bfa-63cc-4ce8-c312-e63858933c1a"
      },
      "execution_count": 8,
      "outputs": [
        {
          "output_type": "stream",
          "name": "stdout",
          "text": [
            "6\n"
          ]
        }
      ]
    }
  ],
  "metadata": {
    "colab": {
      "provenance": []
    },
    "kernelspec": {
      "display_name": "Python 3",
      "name": "python3"
    },
    "language_info": {
      "name": "python"
    }
  },
  "nbformat": 4,
  "nbformat_minor": 0
}