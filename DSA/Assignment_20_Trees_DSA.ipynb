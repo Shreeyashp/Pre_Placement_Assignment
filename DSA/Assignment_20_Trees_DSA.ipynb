{
  "cells": [
    {
      "cell_type": "markdown",
      "source": [
        "## **Submitted By: `Shreeyash Pardeshi`**"
      ],
      "metadata": {
        "id": "AGMrj3AdsZZF"
      }
    },
    {
      "cell_type": "markdown",
      "source": [
        "💡 Question-1\n",
        "\n",
        "Given a binary tree, your task is to find subtree with maximum sum in tree.\n",
        "\n",
        "Examples:\n",
        "\n",
        "Input1 :\n",
        "\n",
        "     1\n",
        "\n",
        "   /   \\\n",
        "\n",
        "  2      3\n",
        "\n",
        " / \\    / \\\n",
        "\n",
        "4   5  6   7\n",
        "\n",
        "Output1 : 28\n",
        "\n",
        "As all the tree elements are positive, the largest subtree sum is equal to sum of all tree elements.\n",
        "\n",
        "Input2 :\n",
        "\n",
        "1\n",
        "\n",
        "   /    \\\n",
        "\n",
        " -2      3\n",
        "\n",
        " / \\    /  \\\n",
        "\n",
        "4   5  -6   2\n",
        "\n",
        "Output2 : 7\n",
        "\n",
        "Subtree with largest sum is :\n",
        "\n",
        " -2\n",
        "\n",
        " / \\\n",
        "\n",
        "4   5\n",
        "\n",
        "Also, entire tree sum is also 7.\n",
        "\n"
      ],
      "metadata": {
        "id": "lnXRQYakrcLB"
      }
    },
    {
      "cell_type": "code",
      "source": [
        "class Node:\n",
        "    def __init__(self, data):\n",
        "        self.data = data\n",
        "        self.left = None\n",
        "        self.right = None\n",
        "\n",
        "def maxSubtreeSum(node):\n",
        "    if node is None:\n",
        "        return 0\n",
        "\n",
        "    left_sum = maxSubtreeSum(node.left)\n",
        "    right_sum = maxSubtreeSum(node.right)\n",
        "\n",
        "    current_sum = node.data + left_sum + right_sum\n",
        "\n",
        "    return max(current_sum, left_sum, right_sum)\n",
        "\n",
        "def findMaxSubtreeSum(root):\n",
        "    global maxSum\n",
        "    maxSum = float('-inf')\n",
        "\n",
        "    def findMaxSubtreeSumHelper(node):\n",
        "        global maxSum\n",
        "\n",
        "        if node is None:\n",
        "            return 0\n",
        "\n",
        "        current_sum = node.data + findMaxSubtreeSumHelper(node.left) + findMaxSubtreeSumHelper(node.right)\n",
        "        maxSum = max(maxSum, current_sum)\n",
        "\n",
        "        return current_sum\n",
        "\n",
        "    findMaxSubtreeSumHelper(root)\n",
        "    return maxSum\n",
        "\n",
        "# Example usage:\n",
        "root = Node(1)\n",
        "root.left = Node(2)\n",
        "root.right = Node(3)\n",
        "root.left.left = Node(4)\n",
        "root.left.right = Node(5)\n",
        "root.right.left = Node(6)\n",
        "root.right.right = Node(7)\n",
        "\n",
        "print(\"Maximum subtree sum:\", findMaxSubtreeSum(root))"
      ],
      "metadata": {
        "colab": {
          "base_uri": "https://localhost:8080/"
        },
        "id": "lvf7aCFNrXvb",
        "outputId": "f03e7d4c-b6e4-4574-a14d-623984a13fdd"
      },
      "execution_count": 1,
      "outputs": [
        {
          "output_type": "stream",
          "name": "stdout",
          "text": [
            "Maximum subtree sum: 28\n"
          ]
        }
      ]
    },
    {
      "cell_type": "markdown",
      "source": [
        "💡 Question-2\n",
        "\n",
        "Construct the BST (Binary Search Tree) from its given level order traversal.\n",
        "\n",
        "Example:\n",
        "\n",
        "Input: arr[] = {7, 4, 12, 3, 6, 8, 1, 5, 10}\n",
        "\n",
        "Output: BST:\n",
        "\n",
        "       7\n",
        "\n",
        "     /    \\\n",
        "\n",
        "    4     12\n",
        "\n",
        "   /  \\     /\n",
        "\n",
        "  3   6  8\n",
        "\n",
        " /    /     \\\n",
        "\n",
        "1    5      10\n"
      ],
      "metadata": {
        "id": "vytZT7Zlr0LE"
      }
    },
    {
      "cell_type": "code",
      "source": [
        "class Node:\n",
        "    def __init__(self, data):\n",
        "        self.data = data\n",
        "        self.left = None\n",
        "        self.right = None\n",
        "\n",
        "def constructBST(level_order):\n",
        "    if not level_order:\n",
        "        return None\n",
        "\n",
        "    root = Node(level_order[0])\n",
        "    queue = [root]\n",
        "    i = 1\n",
        "\n",
        "    while i < len(level_order):\n",
        "        parent = queue[0]\n",
        "\n",
        "        if parent.left is None:\n",
        "            parent.left = Node(level_order[i])\n",
        "            queue.append(parent.left)\n",
        "            i += 1\n",
        "\n",
        "        if i < len(level_order) and parent.right is None:\n",
        "            parent.right = Node(level_order[i])\n",
        "            queue.append(parent.right)\n",
        "            i += 1\n",
        "\n",
        "        queue.pop(0)\n",
        "\n",
        "    return root\n",
        "\n",
        "def inorderTraversal(node):\n",
        "    if node is None:\n",
        "        return []\n",
        "\n",
        "    left = inorderTraversal(node.left)\n",
        "    right = inorderTraversal(node.right)\n",
        "\n",
        "    return left + [node.data] + right\n",
        "\n",
        "# Example usage:\n",
        "level_order = [7, 4, 12, 3, 6, 8, 1, 5, 10]\n",
        "root = constructBST(level_order)\n",
        "inorder = inorderTraversal(root)\n",
        "print(\"Constructed BST (inorder traversal):\", inorder)"
      ],
      "metadata": {
        "colab": {
          "base_uri": "https://localhost:8080/"
        },
        "id": "oarA7QGGrbYX",
        "outputId": "3de70677-4a60-4909-f62a-d28d0e89ebf4"
      },
      "execution_count": 2,
      "outputs": [
        {
          "output_type": "stream",
          "name": "stdout",
          "text": [
            "Constructed BST (inorder traversal): [5, 3, 10, 4, 6, 7, 8, 12, 1]\n"
          ]
        }
      ]
    },
    {
      "cell_type": "markdown",
      "source": [
        "💡 Question-3\n",
        "\n",
        "Given an array of size n. The problem is to check whether the given array can represent the level order traversal of a Binary Search Tree or not.\n",
        "\n",
        "Examples:\n",
        "\n",
        "Input1 : arr[] = {7, 4, 12, 3, 6, 8, 1, 5, 10}\n",
        "\n",
        "Output1 : Yes\n",
        "\n",
        "For the given arr[], the Binary Search Tree is:\n",
        "\n",
        "        7\n",
        "\n",
        "      /    \\\n",
        "\n",
        "      4     12\n",
        "\n",
        "    /  \\     /\n",
        "\n",
        "    3   6  8\n",
        "\n",
        " /    /     \\\n",
        "\n",
        "1    5      10\n",
        "\n",
        "Input2 : arr[] = {11, 6, 13, 5, 12, 10}\n",
        "\n",
        "Output2 : No\n",
        "\n",
        "The given arr[] does not represent the level order traversal of a BST.\n",
        "\n"
      ],
      "metadata": {
        "id": "R7S-hR1nr9nB"
      }
    },
    {
      "cell_type": "code",
      "source": [
        "from collections import deque\n",
        "\n",
        "def isLevelOrderBST(arr):\n",
        "    if len(arr) == 0:\n",
        "        return 'No'\n",
        "\n",
        "    i = 0\n",
        "    n = len(arr)\n",
        "    queue = deque([arr[i]])\n",
        "    i += 1\n",
        "\n",
        "    while queue and i < n:\n",
        "        node = queue.popleft()\n",
        "\n",
        "        if i < n and arr[i] < node:\n",
        "            queue.append(arr[i])\n",
        "            i += 1\n",
        "\n",
        "        if i < n and arr[i] > node:\n",
        "            queue.append(arr[i])\n",
        "            i += 1\n",
        "\n",
        "    return i == n and not queue\n",
        "\n",
        "# Example usage:\n",
        "arr1 = [7, 4, 12, 3, 6, 8, 1, 5, 10]\n",
        "arr2 = [11, 6, 13, 5, 12, 10]\n",
        "\n",
        "\n",
        "print(\"Can represent level order traversal of a BST (arr2):\", isLevelOrderBST(arr2))"
      ],
      "metadata": {
        "colab": {
          "base_uri": "https://localhost:8080/"
        },
        "id": "C8NLKe2yr2Y3",
        "outputId": "b8b62f80-d84e-4eee-c4ce-346bd780e5a1"
      },
      "execution_count": 5,
      "outputs": [
        {
          "output_type": "stream",
          "name": "stdout",
          "text": [
            "Can represent level order traversal of a BST (arr2): False\n"
          ]
        }
      ]
    }
  ],
  "metadata": {
    "colab": {
      "provenance": []
    },
    "kernelspec": {
      "display_name": "Python 3",
      "name": "python3"
    },
    "language_info": {
      "name": "python"
    }
  },
  "nbformat": 4,
  "nbformat_minor": 0
}