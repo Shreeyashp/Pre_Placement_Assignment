{
  "cells": [
    {
      "cell_type": "markdown",
      "source": [
        "## **Submitted By: `Shreeyash Pardeshi`**"
      ],
      "metadata": {
        "id": "AGMrj3AdsZZF"
      }
    },
    {
      "cell_type": "markdown",
      "source": [
        "💡 Question-1\n",
        "\n",
        "You are given a binary tree. The binary tree is represented using the TreeNode class. Each TreeNode has an integer value and left and right children, represented using the TreeNode class itself. Convert this binary tree into a binary search tree.\n",
        "\n",
        "Input:\n",
        "\n",
        "     10\n",
        "\n",
        "    /   \\\n",
        "\n",
        "   2      7\n",
        "\n",
        " /   \\\n",
        "\n",
        "8      4\n",
        "\n",
        "Output:\n",
        "\n",
        "      8\n",
        "\n",
        "    /   \\\n",
        "\n",
        "   4     10\n",
        "\n",
        " /   \\\n",
        "\n",
        "2      7\n",
        "\n"
      ],
      "metadata": {
        "id": "Rz0sQiypt3Rv"
      }
    },
    {
      "cell_type": "code",
      "source": [
        "class TreeNode:\n",
        "    def __init__(self, value):\n",
        "        self.val = value\n",
        "        self.left = None\n",
        "        self.right = None\n",
        "\n",
        "def inorder_traversal(node, values):\n",
        "    if node is None:\n",
        "        return\n",
        "    inorder_traversal(node.left, values)\n",
        "    values.append(node.val)\n",
        "    inorder_traversal(node.right, values)\n",
        "\n",
        "def convert_to_bst(node, values, index):\n",
        "    if node is None:\n",
        "        return\n",
        "    convert_to_bst(node.left, values, index)\n",
        "    node.val = values[index[0]]\n",
        "    index[0] += 1\n",
        "    convert_to_bst(node.right, values, index)\n",
        "\n",
        "def binary_tree_to_bst(root):\n",
        "    values = []\n",
        "    inorder_traversal(root, values)\n",
        "    values.sort()\n",
        "    index = [0]\n",
        "    convert_to_bst(root, values, index)\n",
        "    return root\n",
        "\n",
        "# Example usage\n",
        "# Constructing the given binary tree\n",
        "root = TreeNode(10)\n",
        "root.left = TreeNode(2)\n",
        "root.right = TreeNode(7)\n",
        "root.left.left = TreeNode(8)\n",
        "root.left.right = TreeNode(4)\n",
        "\n",
        "# Converting the binary tree to a binary search tree\n",
        "bst_root = binary_tree_to_bst(root)\n",
        "\n",
        "# Printing the resulting binary search tree using an in-order traversal\n",
        "def print_inorder(node):\n",
        "    if node is None:\n",
        "        return\n",
        "    print_inorder(node.left)\n",
        "    print(node.val)\n",
        "    print_inorder(node.right)\n",
        "\n",
        "print_inorder(bst_root)"
      ],
      "metadata": {
        "colab": {
          "base_uri": "https://localhost:8080/"
        },
        "id": "KWKm7Aakt0PR",
        "outputId": "62c14ae1-4b10-4420-af99-34089066984c"
      },
      "execution_count": 6,
      "outputs": [
        {
          "output_type": "stream",
          "name": "stdout",
          "text": [
            "2\n",
            "4\n",
            "7\n",
            "8\n",
            "10\n"
          ]
        }
      ]
    },
    {
      "cell_type": "markdown",
      "source": [
        "💡 Question-2:\n",
        "\n",
        "Given a Binary Search Tree with all unique values and two keys. Find the distance between two nodes in BST. The given keys always exist in BST.\n",
        "\n",
        "Example:\n",
        "\n",
        "Consider the following BST:\n",
        "\n",
        "image.png Input-1:\n",
        "\n",
        "n = 9\n",
        "\n",
        "values = [8, 3, 1, 6, 4, 7, 10, 14,13]\n",
        "\n",
        "node-1 = 6\n",
        "\n",
        "node-2 = 14\n",
        "\n",
        "Output-1:\n",
        "\n",
        "The distance between the two keys = 4\n",
        "\n",
        "Input-2:\n",
        "\n",
        "n = 9\n",
        "\n",
        "values = [8, 3, 1, 6, 4, 7, 10, 14,13]\n",
        "\n",
        "node-1 = 3\n",
        "\n",
        "node-2 = 4\n",
        "\n",
        "Output-2:\n",
        "\n",
        "The distance between the two keys = 2\n",
        "\n"
      ],
      "metadata": {
        "id": "dYpbHn3pt--S"
      }
    },
    {
      "cell_type": "code",
      "source": [
        "class TreeNode:\n",
        "    def __init__(self, value):\n",
        "        self.val = value\n",
        "        self.left = None\n",
        "        self.right = None\n",
        "\n",
        "def find_distance(root, node1, node2):\n",
        "    if root is None:\n",
        "        return 0\n",
        "\n",
        "    if root.val > node1 and root.val > node2:\n",
        "        return find_distance(root.left, node1, node2)\n",
        "\n",
        "    if root.val < node1 and root.val < node2:\n",
        "        return find_distance(root.right, node1, node2)\n",
        "\n",
        "    if node1 <= root.val <= node2 or node2 <= root.val <= node1:\n",
        "        return distance_from_lca(root, node1) + distance_from_lca(root, node2)\n",
        "\n",
        "def distance_from_lca(node, target):\n",
        "    if node.val == target:\n",
        "        return 0\n",
        "\n",
        "    if node.val > target:\n",
        "        return 1 + distance_from_lca(node.left, target)\n",
        "\n",
        "    return 1 + distance_from_lca(node.right, target)\n",
        "\n",
        "# Example usage\n",
        "# Constructing the given binary search tree\n",
        "root = TreeNode(8)\n",
        "root.left = TreeNode(3)\n",
        "root.right = TreeNode(10)\n",
        "root.left.left = TreeNode(1)\n",
        "root.left.right = TreeNode(6)\n",
        "root.left.right.left = TreeNode(4)\n",
        "root.left.right.right = TreeNode(7)\n",
        "root.right.right = TreeNode(14)\n",
        "root.right.right.left = TreeNode(13)\n",
        "\n",
        "# Input values\n",
        "node1 = 6\n",
        "node2 = 14\n",
        "\n",
        "# Finding the distance between the two nodes\n",
        "distance = find_distance(root, node1, node2)\n",
        "print(\"The distance between the two keys =\", distance)"
      ],
      "metadata": {
        "colab": {
          "base_uri": "https://localhost:8080/"
        },
        "id": "o6XuEj-Ft2Rl",
        "outputId": "65567668-ec2a-4108-ed57-8fb08e8d169a"
      },
      "execution_count": 7,
      "outputs": [
        {
          "output_type": "stream",
          "name": "stdout",
          "text": [
            "The distance between the two keys = 4\n"
          ]
        }
      ]
    },
    {
      "cell_type": "markdown",
      "source": [
        "💡 Question-3:\n",
        "\n",
        "Write a program to convert a binary tree to a doubly linked list.\n",
        "\n",
        "Input:\n",
        "\n",
        "    10\n",
        "\n",
        "   /   \\\n",
        "\n",
        " 5     20\n",
        "\n",
        "       /   \\\n",
        "\n",
        "    30     35\n",
        "\n",
        "Output:\n",
        "\n",
        "5 10 30 20 35\n",
        "\n"
      ],
      "metadata": {
        "id": "Jfg2YkPmuWbX"
      }
    },
    {
      "cell_type": "code",
      "source": [
        "class TreeNode:\n",
        "    def __init__(self, value):\n",
        "        self.val = value\n",
        "        self.left = None\n",
        "        self.right = None\n",
        "\n",
        "def binary_tree_to_doubly_linked_list(root):\n",
        "    if root is None:\n",
        "        return None\n",
        "\n",
        "    # Initialize the previous node as None\n",
        "    prev = None\n",
        "\n",
        "    # Convert the left subtree to a doubly linked list\n",
        "    head = binary_tree_to_doubly_linked_list(root.left)\n",
        "\n",
        "    # If the left subtree's doubly linked list is not empty, set the right pointer of the last node to the current node\n",
        "    if head is not None:\n",
        "        while head.right is not None:\n",
        "            head = head.right\n",
        "        head.right = root\n",
        "        root.left = head\n",
        "\n",
        "    # Convert the right subtree to a doubly linked list\n",
        "    tail = binary_tree_to_doubly_linked_list(root.right)\n",
        "\n",
        "    # If the right subtree's doubly linked list is not empty, set the left pointer of the first node to the current node\n",
        "    if tail is not None:\n",
        "        while tail.left is not None:\n",
        "            tail = tail.left\n",
        "        tail.left = root\n",
        "        root.right = tail\n",
        "\n",
        "    # Return the head of the doubly linked list\n",
        "    return root if head is None else head\n",
        "\n",
        "def print_doubly_linked_list(head):\n",
        "    if head is None:\n",
        "        return\n",
        "    while head is not None:\n",
        "        print(head.val, end=\" \")\n",
        "        head = head.right\n",
        "    print()\n",
        "\n",
        "# Example usage\n",
        "# Constructing the given binary tree\n",
        "root = TreeNode(10)\n",
        "root.left = TreeNode(5)\n",
        "root.right = TreeNode(20)\n",
        "root.right.left = TreeNode(30)\n",
        "root.right.right = TreeNode(35)\n",
        "\n",
        "# Convert the binary tree to a doubly linked list\n",
        "head = binary_tree_to_doubly_linked_list(root)\n",
        "\n",
        "# Print the doubly linked list\n",
        "print_doubly_linked_list(head)"
      ],
      "metadata": {
        "colab": {
          "base_uri": "https://localhost:8080/"
        },
        "id": "kd1OjeV2t_h5",
        "outputId": "8c239e0e-3ecc-4a3d-954c-f782f476508e"
      },
      "execution_count": 8,
      "outputs": [
        {
          "output_type": "stream",
          "name": "stdout",
          "text": [
            "5 10 30 20 35 \n"
          ]
        }
      ]
    },
    {
      "cell_type": "markdown",
      "source": [
        "💡 Question-4:\n",
        "\n",
        "Write a program to connect nodes at the same level.\n",
        "\n",
        "Input:\n",
        "\n",
        "      1\n",
        "\n",
        "    /   \\\n",
        "\n",
        "   2      3\n",
        "\n",
        " /   \\   /   \\\n",
        "\n",
        "4     5 6    7\n",
        "\n",
        "Output:\n",
        "\n",
        "1 → -1\n",
        "\n",
        "2 → 3\n",
        "\n",
        "3 → -1\n",
        "\n",
        "4 → 5\n",
        "\n",
        "5 → 6\n",
        "\n",
        "6 → 7\n",
        "\n",
        "7 → -1\n",
        "\n"
      ],
      "metadata": {
        "id": "aAyPWt76udi8"
      }
    },
    {
      "cell_type": "code",
      "source": [
        "class TreeNode:\n",
        "    def __init__(self, value):\n",
        "        self.val = value\n",
        "        self.left = None\n",
        "        self.right = None\n",
        "        self.next = None  # next pointer for connecting nodes at the same level\n",
        "\n",
        "def connect_nodes_at_same_level(root):\n",
        "    if root is None:\n",
        "        return\n",
        "\n",
        "    # Queue to perform level order traversal\n",
        "    queue = [root]\n",
        "\n",
        "    while queue:\n",
        "        level_size = len(queue)\n",
        "\n",
        "        # Process all nodes at the current level\n",
        "        for i in range(level_size):\n",
        "            node = queue.pop(0)\n",
        "\n",
        "            # Connect the current node to the next node in the queue\n",
        "            if i < level_size - 1:\n",
        "                node.next = queue[0]\n",
        "\n",
        "            # Enqueue the left and right child of the current node\n",
        "            if node.left:\n",
        "                queue.append(node.left)\n",
        "            if node.right:\n",
        "                queue.append(node.right)\n",
        "\n",
        "    return root\n",
        "\n",
        "def print_level_order(root):\n",
        "    if root is None:\n",
        "        return\n",
        "\n",
        "    while root:\n",
        "        current = root\n",
        "        while current:\n",
        "            print(current.val, end=\" → \")\n",
        "            current = current.next\n",
        "        print(\"-1\")\n",
        "        root = root.left\n",
        "\n",
        "# Example usage\n",
        "# Constructing the given binary tree\n",
        "root = TreeNode(1)\n",
        "root.left = TreeNode(2)\n",
        "root.right = TreeNode(3)\n",
        "root.left.left = TreeNode(4)\n",
        "root.left.right = TreeNode(5)\n",
        "root.right.left = TreeNode(6)\n",
        "root.right.right = TreeNode(7)\n",
        "\n",
        "# Connect nodes at the same level\n",
        "root = connect_nodes_at_same_level(root)\n",
        "\n",
        "# Print the nodes at each level\n",
        "print_level_order(root)"
      ],
      "metadata": {
        "colab": {
          "base_uri": "https://localhost:8080/"
        },
        "id": "PbbEt3KFuXDs",
        "outputId": "da1f0ca2-793c-437b-9fcb-43c964a383d3"
      },
      "execution_count": 9,
      "outputs": [
        {
          "output_type": "stream",
          "name": "stdout",
          "text": [
            "1 → -1\n",
            "2 → 3 → -1\n",
            "4 → 5 → 6 → 7 → -1\n"
          ]
        }
      ]
    }
  ],
  "metadata": {
    "colab": {
      "provenance": []
    },
    "kernelspec": {
      "display_name": "Python 3",
      "name": "python3"
    },
    "language_info": {
      "name": "python"
    }
  },
  "nbformat": 4,
  "nbformat_minor": 0
}