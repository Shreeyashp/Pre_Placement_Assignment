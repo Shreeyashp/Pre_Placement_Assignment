{
  "nbformat": 4,
  "nbformat_minor": 0,
  "metadata": {
    "colab": {
      "provenance": []
    },
    "kernelspec": {
      "name": "python3",
      "display_name": "Python 3"
    },
    "language_info": {
      "name": "python"
    }
  },
  "cells": [
    {
      "cell_type": "markdown",
      "source": [
        "💡 Question 1:\n",
        "\n",
        "Given three integer arrays arr1, arr2 and arr3 sorted in strictly increasing order, return a sorted array of only the integers that appeared in all three arrays.\n",
        "\n",
        "Example 1:\n",
        "\n",
        "Input: arr1 = [1,2,3,4,5], arr2 = [1,2,5,7,9], arr3 = [1,3,4,5,8]\n",
        "\n",
        "Output: [1,5]\n",
        "\n",
        "Explanation: Only 1 and 5 appeared in the three arrays."
      ],
      "metadata": {
        "id": "2cVRzoJFxyYj"
      }
    },
    {
      "cell_type": "code",
      "execution_count": 1,
      "metadata": {
        "id": "I6ycCUTCvT68"
      },
      "outputs": [],
      "source": [
        "def findCommonElements(arr1, arr2, arr3):\n",
        "    common = []\n",
        "    i = j = k = 0\n",
        "\n",
        "    while i < len(arr1) and j < len(arr2) and k < len(arr3):\n",
        "        if arr1[i] == arr2[j] == arr3[k]:\n",
        "            common.append(arr1[i])\n",
        "            i += 1\n",
        "            j += 1\n",
        "            k += 1\n",
        "        elif arr1[i] < arr2[j]:\n",
        "            i += 1\n",
        "        elif arr2[j] < arr3[k]:\n",
        "            j += 1\n",
        "        else:\n",
        "            k += 1\n",
        "\n",
        "    return common"
      ]
    },
    {
      "cell_type": "code",
      "source": [
        "arr1 = [1, 2, 3, 4, 5]\n",
        "arr2 = [1, 2, 5, 7, 9]\n",
        "arr3 = [1, 3, 4, 5, 8]\n",
        "findCommonElements(arr1, arr2, arr3)"
      ],
      "metadata": {
        "colab": {
          "base_uri": "https://localhost:8080/"
        },
        "id": "vH9aF9TByDNH",
        "outputId": "ff88654d-e6cc-45e8-9719-9f92b0691f55"
      },
      "execution_count": 2,
      "outputs": [
        {
          "output_type": "execute_result",
          "data": {
            "text/plain": [
              "[1, 5]"
            ]
          },
          "metadata": {},
          "execution_count": 2
        }
      ]
    },
    {
      "cell_type": "markdown",
      "source": [
        "💡 Question 2:\n",
        "\n",
        "Given two 0-indexed integer arrays nums1 and nums2, return a list answer of size 2 where:\n",
        "\n",
        "answer[0] is a list of all distinct* integers in* nums1 which are not* present in* nums2.\n",
        "answer[1] is a list of all distinct* integers in* nums2 which are not* present in* nums1.\n",
        "Note that the integers in the lists may be returned in any order.\n",
        "\n",
        "Example 1:\n",
        "\n",
        "Input: nums1 = [1,2,3], nums2 = [2,4,6]\n",
        "\n",
        "Output: [[1,3],[4,6]]\n",
        "\n",
        "Explanation:\n",
        "\n",
        "For nums1, nums1[1] = 2 is present at index 0 of nums2, whereas nums1[0] = 1 and nums1[2] = 3 are not present in nums2. Therefore, answer[0] = [1,3].\n",
        "\n",
        "For nums2, nums2[0] = 2 is present at index 1 of nums1, whereas nums2[1] = 4 and nums2[2] = 6 are not present in nums2. Therefore, answer[1] = [4,6]."
      ],
      "metadata": {
        "id": "I6X1kB6ByJk9"
      }
    },
    {
      "cell_type": "code",
      "source": [
        "def find_disjoint_lists(list1, list2):\n",
        "    set1 = set(list1)\n",
        "    set2 = set(list2)\n",
        "    disjoint1 = [x for x in list1 if x not in set2]\n",
        "    disjoint2 = [x for x in list2 if x not in set1]\n",
        "    return [disjoint1, disjoint2]\n",
        "\n",
        "# Example :\n",
        "nums1 = [1, 2, 3]\n",
        "nums2 = [2, 4, 6]\n",
        "result = find_disjoint_lists(nums1, nums2)\n",
        "print(result)"
      ],
      "metadata": {
        "colab": {
          "base_uri": "https://localhost:8080/"
        },
        "id": "wORYwI5fyFKR",
        "outputId": "dd322e08-aa54-4636-c6c9-f2053608282a"
      },
      "execution_count": 6,
      "outputs": [
        {
          "output_type": "stream",
          "name": "stdout",
          "text": [
            "[[1, 3], [4, 6]]\n"
          ]
        }
      ]
    },
    {
      "cell_type": "markdown",
      "source": [
        "💡 Question 3:\n",
        "\n",
        "Given a 2D integer array matrix, return the transpose* of* matrix.\n",
        "\n",
        "The transpose of a matrix is the matrix flipped over its main diagonal, switching the matrix's row and column indices.\n",
        "\n",
        "Example 1:\n",
        "\n",
        "Input: matrix = [[1,2,3],[4,5,6],[7,8,9]]\n",
        "\n",
        "Output: [[1,4,7],[2,5,8],[3,6,9]]\n",
        "\n"
      ],
      "metadata": {
        "id": "LKGTTjpwzNEy"
      }
    },
    {
      "cell_type": "code",
      "source": [
        "def get_matrix_transpose(original_matrix):\n",
        "    rows, cols = len(original_matrix), len(original_matrix[0])\n",
        "    transpose_matrix = [[0 for _ in range(rows)] for _ in range(cols)]\n",
        "    for i in range(rows):\n",
        "        for j in range(cols):\n",
        "            transpose_matrix[j][i] = original_matrix[i][j]\n",
        "    return transpose_matrix\n",
        "\n",
        "# Example:\n",
        "input_matrix = [[1, 2, 3], [4, 5, 6], [7, 8, 9]]\n",
        "result = get_matrix_transpose(input_matrix)\n",
        "print(result)"
      ],
      "metadata": {
        "colab": {
          "base_uri": "https://localhost:8080/"
        },
        "id": "ANeESu6mz0e3",
        "outputId": "dbcc2082-cca1-4536-86bf-e69ec32aab0a"
      },
      "execution_count": 7,
      "outputs": [
        {
          "output_type": "stream",
          "name": "stdout",
          "text": [
            "[[1, 4, 7], [2, 5, 8], [3, 6, 9]]\n"
          ]
        }
      ]
    },
    {
      "cell_type": "markdown",
      "source": [
        "💡 Question 4:\n",
        "\n",
        "Given an integer array nums of 2n integers, group these integers into n pairs (a1, b1), (a2, b2), ..., (an, bn) such that the sum of min(ai, bi) for all i is maximized. Return the maximized sum.\n",
        "\n",
        "Example 1:\n",
        "\n",
        "Input: nums = [1,4,3,2]\n",
        "\n",
        "Output: 4\n",
        "\n",
        "Explanation: All possible pairings (ignoring the ordering of elements) are:\n",
        "\n",
        "(1, 4), (2, 3) -> min(1, 4) + min(2, 3) = 1 + 2 = 3\n",
        "\n",
        "(1, 3), (2, 4) -> min(1, 3) + min(2, 4) = 1 + 2 = 3\n",
        "\n",
        "(1, 2), (3, 4) -> min(1, 2) + min(3, 4) = 1 + 3 = 4\n",
        "\n",
        "So the maximum possible sum is 4."
      ],
      "metadata": {
        "id": "iR86D9pK04G4"
      }
    },
    {
      "cell_type": "code",
      "source": [
        "def get_max_sum_of_min_pairs(nums):\n",
        "    # Sort the input array\n",
        "    sorted_nums = sorted(nums)\n",
        "    \n",
        "    # Pair up adjacent elements and add the minimum of each pair to the sum\n",
        "    pair_sum = 0\n",
        "    for i in range(0, len(sorted_nums), 2):\n",
        "        pair_sum += sorted_nums[i]\n",
        "    \n",
        "    # Return the sum of the minimum element in each pair\n",
        "    return pair_sum\n",
        "\n",
        "# Example usage:\n",
        "input_nums = [1, 4, 3, 2]\n",
        "result = get_max_sum_of_min_pairs(input_nums)\n",
        "print(result)"
      ],
      "metadata": {
        "colab": {
          "base_uri": "https://localhost:8080/"
        },
        "id": "oQlbpb-dzn_k",
        "outputId": "1536e401-eda3-4f02-8564-398d464ae11b"
      },
      "execution_count": 8,
      "outputs": [
        {
          "output_type": "stream",
          "name": "stdout",
          "text": [
            "4\n"
          ]
        }
      ]
    },
    {
      "cell_type": "markdown",
      "source": [
        "💡 Question 5:\n",
        "\n",
        "You have n coins and you want to build a staircase with these coins. The staircase consists of k rows where the ith row has exactly i coins. The last row of the staircase may be incomplete.\n",
        "\n",
        "Given the integer n, return the number of complete rows* of the staircase you will build.\n",
        "\n",
        "input: n=5\n",
        "\n",
        "Output: 2\n",
        "\n",
        "Explanation: Because the 3rd row is incomplete, we return 2."
      ],
      "metadata": {
        "id": "JFsQnfpw1QWX"
      }
    },
    {
      "cell_type": "code",
      "source": [
        "import math\n",
        "\n",
        "def get_complete_rows_count(coins_count):\n",
        "    # Find the maximum number of complete rows using binary search\n",
        "    left = 0\n",
        "    right = coins_count\n",
        "    while left <= right:\n",
        "        mid = left + (right - left) // 2\n",
        "        if mid * (mid + 1) // 2 <= coins_count:\n",
        "            left = mid + 1\n",
        "        else:\n",
        "            right = mid - 1\n",
        "    \n",
        "    # Return the number of complete rows\n",
        "    return left - 1\n",
        "\n",
        "# Example usage:\n",
        "coins_count = 5\n",
        "complete_rows_count = get_complete_rows_count(coins_count)\n",
        "print(complete_rows_count)"
      ],
      "metadata": {
        "colab": {
          "base_uri": "https://localhost:8080/"
        },
        "id": "XlCo40B1yx9U",
        "outputId": "e5e2dd2d-cf6e-4049-b1b0-3f95eb289789"
      },
      "execution_count": 9,
      "outputs": [
        {
          "output_type": "stream",
          "name": "stdout",
          "text": [
            "2\n"
          ]
        }
      ]
    },
    {
      "cell_type": "markdown",
      "source": [
        "💡 Question 6:\n",
        "\n",
        "Given an integer array nums sorted in non-decreasing order, return an array of the squares of each number* sorted in non-decreasing order*.\n",
        "\n",
        "Example 1:\n",
        "\n",
        "Input: nums = [-4,-1,0,3,10]\n",
        "\n",
        "Output: [0,1,9,16,100]\n",
        "\n",
        "Explanation: After squaring, the array becomes [16,1,0,9,100]. After sorting, it becomes [0,1,9,16,100]\n",
        "\n",
        " "
      ],
      "metadata": {
        "id": "Ny_0XHzy1sci"
      }
    },
    {
      "cell_type": "code",
      "source": [
        "def get_sorted_squares(nums):\n",
        "    n = len(nums)\n",
        "    squares = [0] * n\n",
        "    left_pointer, right_pointer = 0, n - 1\n",
        "    for i in range(n - 1, -1, -1):\n",
        "        if abs(nums[left_pointer]) > abs(nums[right_pointer]):\n",
        "            squares[i] = nums[left_pointer] * nums[left_pointer]\n",
        "            left_pointer += 1\n",
        "        else:\n",
        "            squares[i] = nums[right_pointer] * nums[right_pointer]\n",
        "            right_pointer -= 1\n",
        "    return squares\n",
        "\n",
        "# Example usage:\n",
        "input_nums = [-4, -1, 0, 3, 10]\n",
        "result = get_sorted_squares(input_nums)\n",
        "print(result)"
      ],
      "metadata": {
        "colab": {
          "base_uri": "https://localhost:8080/"
        },
        "id": "4hT41ZmP1oFA",
        "outputId": "10398bd6-2b2b-4e75-df55-9ee2c2976d93"
      },
      "execution_count": 10,
      "outputs": [
        {
          "output_type": "stream",
          "name": "stdout",
          "text": [
            "[0, 1, 9, 16, 100]\n"
          ]
        }
      ]
    },
    {
      "cell_type": "markdown",
      "source": [
        "💡 Question 7:\n",
        "\n",
        "You are given an m x n matrix M initialized with all 0's and an array of operations ops, where ops[i] = [ai, bi] means M[x][y] should be incremented by one for all 0 <= x < ai and 0 <= y < bi.\n",
        "\n",
        "Count and return the number of maximum integers in the matrix after performing all the operations\n",
        "\n",
        "Example 1: Input: m = 3, n = 3, ops = [[2,2],[3,3]]\n",
        "\n",
        "Output: 4\n",
        "\n",
        "Explanation: The maximum integer in M is 2, and there are four of it in M. So return 4.\n",
        "\n",
        " "
      ],
      "metadata": {
        "id": "BP2ZpuPX1zJR"
      }
    },
    {
      "cell_type": "code",
      "source": [
        "def get_max_count(rows, cols, ops):\n",
        "    min_rows = rows\n",
        "    min_cols = cols\n",
        "    for op in ops:\n",
        "        min_rows = min(min_rows, op[0])\n",
        "        min_cols = min(min_cols, op[1])\n",
        "    return min_rows * min_cols\n",
        "\n",
        "# Example usage:\n",
        "rows = 3\n",
        "cols = 3\n",
        "ops = [[2, 2], [3, 3]]\n",
        "result = get_max_count(rows, cols, ops)\n",
        "print(result)"
      ],
      "metadata": {
        "colab": {
          "base_uri": "https://localhost:8080/"
        },
        "id": "VzEW7M4D13of",
        "outputId": "a1b5e244-3be1-4f5a-fe4d-19368054c643"
      },
      "execution_count": 11,
      "outputs": [
        {
          "output_type": "stream",
          "name": "stdout",
          "text": [
            "4\n"
          ]
        }
      ]
    },
    {
      "cell_type": "markdown",
      "source": [
        "💡 Question 8:\n",
        "\n",
        "Given the array nums consisting of 2n elements in the form [x1,x2,...,xn,y1,y2,...,yn].\n",
        "\n",
        "Return the array in the form [x1,y1,x2,y2,...,xn,yn].\n",
        "\n",
        "Example 1:\n",
        "\n",
        "Input: nums = [2,5,1,3,4,7], n = 3\n",
        "\n",
        "Output: [2,3,5,4,1,7]\n",
        "\n",
        "Explanation: Since x1=2, x2=5, x3=1, y1=3, y2=4, y3=7 then the answer is [2,3,5,4,1,7]."
      ],
      "metadata": {
        "id": "Yx8qb5hH2CcK"
      }
    },
    {
      "cell_type": "code",
      "source": [
        "def shuffle_array(nums, n):\n",
        "    result = []\n",
        "    for i in range(n):\n",
        "        result.append(nums[i])\n",
        "        result.append(nums[n + i])\n",
        "    return result\n",
        "\n",
        "# Example usage:\n",
        "input_nums = [2, 5, 1, 3, 4, 7]\n",
        "n = 3\n",
        "result = shuffle_array(input_nums, n)\n",
        "print(result)"
      ],
      "metadata": {
        "colab": {
          "base_uri": "https://localhost:8080/"
        },
        "id": "ugoHA1Oy2XxW",
        "outputId": "69d1aaa2-af4d-4d6a-84f4-c4a093dd657c"
      },
      "execution_count": 12,
      "outputs": [
        {
          "output_type": "stream",
          "name": "stdout",
          "text": [
            "[2, 3, 5, 4, 1, 7]\n"
          ]
        }
      ]
    },
    {
      "cell_type": "markdown",
      "source": [
        "## **Submitted By: *`Shreeyash Pardeshi`***"
      ],
      "metadata": {
        "id": "TT5bpHnt2cEK"
      }
    }
  ]
}