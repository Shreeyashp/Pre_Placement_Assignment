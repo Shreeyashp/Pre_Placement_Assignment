{
  "nbformat": 4,
  "nbformat_minor": 0,
  "metadata": {
    "colab": {
      "provenance": []
    },
    "kernelspec": {
      "name": "python3",
      "display_name": "Python 3"
    },
    "language_info": {
      "name": "python"
    }
  },
  "cells": [
    {
      "cell_type": "markdown",
      "source": [
        "Question 1:\n",
        "\n",
        "Given an integer array nums of length n and an integer target, find three integers in nums such that the sum is closest to the target.\n",
        "\n",
        "Return the sum of the three integers.\n",
        "\n",
        "You may assume that each input would have exactly one solution.\n",
        "\n",
        "Example 1:\n",
        "\n",
        "Input: nums = [-1,2,1,-4], target = 1\n",
        "\n",
        "Output: 2\n",
        "\n",
        "Explanation: The sum that is closest to the target is 2. (-1 + 2 + 1 = 2)"
      ],
      "metadata": {
        "id": "69RpJCogA529"
      }
    },
    {
      "cell_type": "code",
      "execution_count": 1,
      "metadata": {
        "id": "NH3_5GVq_zhB"
      },
      "outputs": [],
      "source": [
        "def threeSumClosest(nums, target):\n",
        "    nums = list(nums)\n",
        "    nums.sort()  \n",
        "    closest_sum = float('inf')  \n",
        "    \n",
        "    for i in range(len(nums) - 2):\n",
        "        left = i + 1\n",
        "        right = len(nums) - 1\n",
        "\n",
        "        while left < right:\n",
        "            curr_sum = nums[i] + nums[left] + nums[right]\n",
        "            if curr_sum == target:\n",
        "                return curr_sum\n",
        "\n",
        "            if abs(curr_sum - target) < abs(closest_sum - target):\n",
        "                closest_sum = curr_sum\n",
        "\n",
        "            if curr_sum < target:\n",
        "                left += 1\n",
        "            else:\n",
        "                right -= 1\n",
        "\n",
        "    return closest_sum if closest_sum != float('inf') else 0"
      ]
    },
    {
      "cell_type": "code",
      "source": [
        "nums = [-1,2,1,-4]\n",
        "target = 1\n",
        "threeSumClosest(nums,target)"
      ],
      "metadata": {
        "colab": {
          "base_uri": "https://localhost:8080/"
        },
        "id": "B7n_CNbiBD3p",
        "outputId": "b214619c-1952-4d88-8bb8-0eea95d856cf"
      },
      "execution_count": 2,
      "outputs": [
        {
          "output_type": "execute_result",
          "data": {
            "text/plain": [
              "2"
            ]
          },
          "metadata": {},
          "execution_count": 2
        }
      ]
    },
    {
      "cell_type": "code",
      "source": [
        "nums = [0,2,0],\n",
        "target = 1\n",
        "threeSumClosest(nums,target)"
      ],
      "metadata": {
        "colab": {
          "base_uri": "https://localhost:8080/"
        },
        "id": "JoaRm40IBGWz",
        "outputId": "4aa50df8-7150-4b88-dcb0-00b5a5b51f3a"
      },
      "execution_count": 3,
      "outputs": [
        {
          "output_type": "execute_result",
          "data": {
            "text/plain": [
              "0"
            ]
          },
          "metadata": {},
          "execution_count": 3
        }
      ]
    },
    {
      "cell_type": "markdown",
      "source": [
        "Question 2\n",
        "\n",
        "Given an array nums of n integers, return an array of all the unique quadruplets [nums[a], nums[b], nums[c], nums[d]] such that:\n",
        "\n",
        "● 0 <= a, b, c, d < n\n",
        "\n",
        "● a, b, c, and d are distinct.\n",
        "\n",
        "● nums[a] + nums[b] + nums[c] + nums[d] == target\n",
        "\n",
        "You may return the answer in any order.\n",
        "\n",
        "Example 1:\n",
        "\n",
        "Input: nums = [1,0,-1,0,-2,2], target = 0\n",
        "\n",
        "Output: [[-2,-1,1,2],[-2,0,0,2],[-1,0,0,1]]\n",
        "\n"
      ],
      "metadata": {
        "id": "lZXEzTZ0BSHh"
      }
    },
    {
      "cell_type": "code",
      "source": [
        "def fourSum(nums, target):\n",
        "    nums.sort()  \n",
        "    quad = []\n",
        "\n",
        "    for i in range(len(nums) - 3):\n",
        "        if i > 0 and nums[i] == nums[i - 1]:\n",
        "            continue\n",
        "            \n",
        "        for j in range(i + 1, len(nums) - 2):\n",
        "            if j > i + 1 and nums[j] == nums[j - 1]:\n",
        "                continue  \n",
        "\n",
        "            left = j + 1\n",
        "            right = len(nums) - 1\n",
        "\n",
        "            while left < right:\n",
        "                total = nums[i] + nums[j] + nums[left] + nums[right]\n",
        "                if total < target:\n",
        "                    left += 1\n",
        "                elif total > target:\n",
        "                    right -= 1\n",
        "                else:\n",
        "                    quad.append([nums[i], nums[j], nums[left], nums[right]])\n",
        "\n",
        "                    while left < right and nums[left] == nums[left + 1]:\n",
        "                        left += 1  \n",
        "                    while left < right and nums[right] == nums[right - 1]:\n",
        "                        right -= 1 \n",
        "\n",
        "                    left += 1\n",
        "                    right -= 1\n",
        "    return quad\n",
        "\n",
        "    \n",
        "nums = [1,0,-1,0,-2,2]\n",
        "target = 0\n",
        "fourSum(nums, target)"
      ],
      "metadata": {
        "colab": {
          "base_uri": "https://localhost:8080/"
        },
        "id": "qk5you50BKps",
        "outputId": "8e7cbbe0-cbb8-43fd-edfc-70da3f427f90"
      },
      "execution_count": 4,
      "outputs": [
        {
          "output_type": "execute_result",
          "data": {
            "text/plain": [
              "[[-2, -1, 1, 2], [-2, 0, 0, 2], [-1, 0, 0, 1]]"
            ]
          },
          "metadata": {},
          "execution_count": 4
        }
      ]
    },
    {
      "cell_type": "markdown",
      "source": [
        "Question 3:\n",
        "\n",
        "A permutation of an array of integers is an arrangement of its members into a sequence or linear order.\n",
        "\n",
        "● For example, for arr = [1,2,3], the following are all the permutations of arr: [1,2,3], [1,3,2], [2, 1, 3], [2, 3, 1], [3,1,2], [3,2,1].\n",
        "\n",
        "The next permutation of an array of integers is the next lexicographically greater permutation of its integer. More formally, if all the permutations of the array are sorted in one container according to their lexicographical order, then the next permutation of that array is the permutation that follows it in the sorted container.\n",
        "\n",
        "If such an arrangement is not possible, the array must be rearranged as the lowest possible order (i.e., sorted in ascending order).\n",
        "\n",
        "● For example, the next permutation of arr = [1,2,3] is [1,3,2].\n",
        "\n",
        "● Similarly, the next permutation of arr = [2,3,1] is [3,1,2].\n",
        "\n",
        "● While the next permutation of arr = [3,2,1] is [1,2,3] because [3,2,1] does not have a lexicographical larger rearrangement.\n",
        "\n",
        "Given an array of integers nums, find the next permutation of nums.\n",
        "\n",
        "The replacement must be in place and use only constant extra memory.\n",
        "\n",
        "Example 1:\n",
        "\n",
        "Input: nums = [1,2,3]\n",
        "\n",
        "Output: [1,3,2]\n"
      ],
      "metadata": {
        "id": "tELh5op8Bjo9"
      }
    },
    {
      "cell_type": "code",
      "source": [
        "def nextPermutation(nums):\n",
        "    n = len(nums)\n",
        "    i = n - 2\n",
        "\n",
        "    while i >= 0 and nums[i] >= nums[i+1]:\n",
        "        i -= 1\n",
        "\n",
        "    if i >= 0:\n",
        "        j = n - 1\n",
        "        while j > i and nums[j] <= nums[i]:\n",
        "            j -= 1\n",
        "        nums[i], nums[j] = nums[j], nums[i]\n",
        "\n",
        "    left = i + 1\n",
        "    right = n - 1\n",
        "    while left < right:\n",
        "        nums[left], nums[right] = nums[right], nums[left]\n",
        "        left += 1\n",
        "        right -= 1\n",
        "\n",
        "\n",
        "        \n",
        "nums = [1, 2, 3]\n",
        "nextPermutation(nums)\n",
        "print(nums)"
      ],
      "metadata": {
        "colab": {
          "base_uri": "https://localhost:8080/"
        },
        "id": "dkzJhQJpBW3C",
        "outputId": "a8850b80-68f6-401b-dd15-806a83ad707a"
      },
      "execution_count": 5,
      "outputs": [
        {
          "output_type": "stream",
          "name": "stdout",
          "text": [
            "[1, 3, 2]\n"
          ]
        }
      ]
    },
    {
      "cell_type": "markdown",
      "source": [
        "Question 4\n",
        "\n",
        "Given a sorted array of distinct integers and a target value, return the index if the target is found. If not, return the index where it would be if it were inserted in order.\n",
        "\n",
        "You must write an algorithm with O(log n) runtime complexity.\n",
        "\n",
        "Example 1:\n",
        "\n",
        "Input: nums = [1,3,5,6], target = 5\n",
        "\n",
        "Output: 2\n",
        "\n"
      ],
      "metadata": {
        "id": "ahWDB_t7CouK"
      }
    },
    {
      "cell_type": "code",
      "source": [
        "def find_target(arr, target):\n",
        "    if target in arr:\n",
        "        return arr.index(target)\n",
        "    else:\n",
        "        arr.append(target)\n",
        "        arr.sort()\n",
        "        return arr.index(target)\n",
        "\n",
        "        \n",
        "arr = [1,3,5,4,5,8,9,11,9]\n",
        "target = 9\n",
        "print(find_target(arr, target))"
      ],
      "metadata": {
        "colab": {
          "base_uri": "https://localhost:8080/"
        },
        "id": "HBwXfo1cBha8",
        "outputId": "cda31721-9ca2-4975-cdb3-36a01d31526a"
      },
      "execution_count": 6,
      "outputs": [
        {
          "output_type": "stream",
          "name": "stdout",
          "text": [
            "6\n"
          ]
        }
      ]
    },
    {
      "cell_type": "markdown",
      "source": [
        "Question 5:\n",
        "\n",
        "You are given a large integer represented as an integer array digits, where each digits[i] is the ith digit of the integer. The digits are ordered from most significant to least significant in left-to-right order. The large integer does not contain any leading 0's.\n",
        "\n",
        "Increment the large integer by one and return the resulting array of digits.\n",
        "\n",
        "Example 1:\n",
        "\n",
        "Input: digits = [1,2,3]\n",
        "\n",
        "Output: [1,2,4]\n",
        "\n",
        "Explanation: The array represents the integer 123.\n",
        "\n",
        "Incrementing by one gives 123 + 1 = 124.\n",
        "\n",
        "Thus, the result should be [1,2,4].\n",
        "\n"
      ],
      "metadata": {
        "id": "B85LWGDVC4Ht"
      }
    },
    {
      "cell_type": "code",
      "source": [
        "def digitsPlusOne(arr):\n",
        "    l=len(arr)-1\n",
        "    n=0\n",
        "    for i in arr:\n",
        "        n=n+(10**l)*i\n",
        "        l-=1\n",
        "    n+=1\n",
        "    return [int(d) for d in str(n)]\n",
        "\n",
        "\n",
        "arr=[1,2,3]\n",
        "digitsPlusOne(arr)"
      ],
      "metadata": {
        "colab": {
          "base_uri": "https://localhost:8080/"
        },
        "id": "4xNUAmiJCvDY",
        "outputId": "0ffbdd5c-8085-4c9b-fc0f-48c9980d4c8f"
      },
      "execution_count": 7,
      "outputs": [
        {
          "output_type": "execute_result",
          "data": {
            "text/plain": [
              "[1, 2, 4]"
            ]
          },
          "metadata": {},
          "execution_count": 7
        }
      ]
    },
    {
      "cell_type": "markdown",
      "source": [
        "Question 6:\n",
        "\n",
        "Given a non-empty array of integers nums, every element appears twice except for one. Find that single one.\n",
        "\n",
        "You must implement a solution with a linear runtime complexity and use only constant extra space.\n",
        "\n",
        "Example 1:\n",
        "\n",
        "Input: nums = [2,2,1]\n",
        "\n",
        "Output: 1\n",
        "\n"
      ],
      "metadata": {
        "id": "aczi9f1vC_FS"
      }
    },
    {
      "cell_type": "code",
      "source": [
        "nums = [1,2,2,1,3,4,5,5,4]\n",
        "for i in nums:\n",
        "    if nums.count(i) == 1:\n",
        "        print(i)"
      ],
      "metadata": {
        "colab": {
          "base_uri": "https://localhost:8080/"
        },
        "id": "QgJCEIbBDPJc",
        "outputId": "9b7860c0-bd52-47f4-ef09-bbfbc06224dc"
      },
      "execution_count": 11,
      "outputs": [
        {
          "output_type": "stream",
          "name": "stdout",
          "text": [
            "3\n"
          ]
        }
      ]
    },
    {
      "cell_type": "code",
      "source": [
        "def find_single_num(nums):\n",
        "    for num in nums:\n",
        "        if nums.count(num) == 1:\n",
        "            return num\n",
        "\n",
        "nums = [1,2,2,1,3,4,5,5,4]\n",
        "find_single_num(nums)"
      ],
      "metadata": {
        "colab": {
          "base_uri": "https://localhost:8080/"
        },
        "id": "1l0weS6IC3N2",
        "outputId": "1298d74d-cec3-45f3-c367-e4c11215a584"
      },
      "execution_count": 12,
      "outputs": [
        {
          "output_type": "execute_result",
          "data": {
            "text/plain": [
              "3"
            ]
          },
          "metadata": {},
          "execution_count": 12
        }
      ]
    },
    {
      "cell_type": "markdown",
      "source": [
        "Question 7:\n",
        "\n",
        "You are given an inclusive range [lower, upper] and a sorted unique integer array nums, where all elements are within the inclusive range.\n",
        "\n",
        "A number x is considered missing if x is in the range [lower, upper] and x is not in nums.\n",
        "\n",
        "Return the shortest sorted list of ranges that exactly covers all the missing numbers. That is, no element of nums is included in any of the ranges, and each missing number is covered by one of the ranges.\n",
        "\n",
        "Example 1:\n",
        "\n",
        "Input: nums = [0,1,3,50,75], lower = 0, upper = 99\n",
        "\n",
        "Output: [[2,2],[4,49],[51,74],[76,99]]\n",
        "\n",
        "Explanation: The ranges are:\n",
        "\n",
        "[2,2]\n",
        "\n",
        "[4,49]\n",
        "\n",
        "[51,74]\n",
        "\n",
        "[76,99]"
      ],
      "metadata": {
        "id": "0SWzN0lpDmAp"
      }
    },
    {
      "cell_type": "code",
      "source": [
        "def MissingRanges(nums, lower, upper):\n",
        "    result = []\n",
        "    def addRange(start, end):\n",
        "        result.append([start, end])\n",
        "        \n",
        "    prev = lower - 1 \n",
        "    for num in nums + [upper + 1]:\n",
        "        if prev + 1 <= num - 1:\n",
        "            addRange(prev + 1, num - 1)\n",
        "        prev = num\n",
        "\n",
        "    return result"
      ],
      "metadata": {
        "id": "ypO2XFmhDHbQ"
      },
      "execution_count": 14,
      "outputs": []
    },
    {
      "cell_type": "code",
      "source": [
        "nums = [0, 1, 3, 50, 75]\n",
        "lower = 0\n",
        "upper = 99\n",
        "print(MissingRanges(nums, lower, upper))"
      ],
      "metadata": {
        "colab": {
          "base_uri": "https://localhost:8080/"
        },
        "id": "KNNcQPIQDIDt",
        "outputId": "a95aad62-ec64-48e2-9647-bb7e7d5ee5c9"
      },
      "execution_count": 15,
      "outputs": [
        {
          "output_type": "stream",
          "name": "stdout",
          "text": [
            "[[2, 2], [4, 49], [51, 74], [76, 99]]\n"
          ]
        }
      ]
    },
    {
      "cell_type": "markdown",
      "source": [
        "Question 8:\n",
        "\n",
        "Given an array of meeting time intervals where intervals[i] = [starti, endi], determine if a person could attend all meetings.\n",
        "\n",
        "Example 1:\n",
        "\n",
        "Input: intervals = [[0,30],[5,10],[15,20]]\n",
        "\n",
        "Output: false"
      ],
      "metadata": {
        "id": "q-TxikPWDyCx"
      }
    },
    {
      "cell_type": "code",
      "source": [
        "def Meetings(intervals):\n",
        "    intervals.sort()\n",
        "    for i in range(len(intervals)-1):\n",
        "        if intervals[i][1] > intervals[i+1][0]:\n",
        "            return False\n",
        "    return True"
      ],
      "metadata": {
        "id": "YKIcoqRYD0NI"
      },
      "execution_count": 17,
      "outputs": []
    },
    {
      "cell_type": "code",
      "source": [
        "intervals = [[0,30],[5,10],[15,20]]\n",
        "print(Meetings(intervals))  # Output: False"
      ],
      "metadata": {
        "colab": {
          "base_uri": "https://localhost:8080/"
        },
        "id": "NpE9blQYEarw",
        "outputId": "48b2f57b-397b-42a7-aa42-af236031eaa1"
      },
      "execution_count": 18,
      "outputs": [
        {
          "output_type": "stream",
          "name": "stdout",
          "text": [
            "False\n"
          ]
        }
      ]
    },
    {
      "cell_type": "markdown",
      "source": [
        "## Submitted By: *Shreeyash Pardeshi* "
      ],
      "metadata": {
        "id": "tVhrySAqEfn1"
      }
    },
    {
      "cell_type": "code",
      "source": [],
      "metadata": {
        "id": "hgIUj5wcEdHo"
      },
      "execution_count": null,
      "outputs": []
    }
  ]
}