{
  "nbformat": 4,
  "nbformat_minor": 0,
  "metadata": {
    "colab": {
      "provenance": []
    },
    "kernelspec": {
      "name": "python3",
      "display_name": "Python 3"
    },
    "language_info": {
      "name": "python"
    }
  },
  "cells": [
    {
      "cell_type": "markdown",
      "source": [
        "## **Submitted By: `Shreeyash Pardeshi`**"
      ],
      "metadata": {
        "id": "TT5bpHnt2cEK"
      }
    },
    {
      "cell_type": "markdown",
      "source": [
        "💡 Question 1:\n",
        "\n",
        "Given two strings s and t, determine if they are isomorphic.\n",
        "\n",
        "Two strings s and t are isomorphic if the characters in s can be replaced to get t.\n",
        "\n",
        "All occurrences of a character must be replaced with another character while preserving the order of characters. No two characters may map to the same character, but a character may map to itself.\n",
        "\n",
        "Example 1:\n",
        "\n",
        "Input: s = \"egg\", t = \"add\"\n",
        "\n",
        "Output: true"
      ],
      "metadata": {
        "id": "1JPEfhW7DXT5"
      }
    },
    {
      "cell_type": "code",
      "source": [
        "def isIsomorphic(s,t):\n",
        "    if len(s) != len(t):\n",
        "        return False\n",
        "\n",
        "    s_map = {}\n",
        "    t_map = {}\n",
        "\n",
        "    for i in range(len(s)):\n",
        "        if s[i] in s_map:\n",
        "            if s_map[s[i]] != t[i]:\n",
        "                return False\n",
        "        else:\n",
        "            s_map[s[i]] = t[i]\n",
        "\n",
        "        if t[i] in t_map:\n",
        "            if t_map[t[i]] != s[i]:\n",
        "                return False\n",
        "        else:\n",
        "            t_map[t[i]] = s[i]\n",
        "\n",
        "    return True\n",
        "\n",
        "    \n",
        "s = \"egg\"\n",
        "t = \"add\"\n",
        "isIsomorphic(s,t)\n"
      ],
      "metadata": {
        "colab": {
          "base_uri": "https://localhost:8080/"
        },
        "id": "exNFnp0BDa1K",
        "outputId": "a347a468-4f2a-42f9-8831-c76eb0d22acb"
      },
      "execution_count": 33,
      "outputs": [
        {
          "output_type": "execute_result",
          "data": {
            "text/plain": [
              "True"
            ]
          },
          "metadata": {},
          "execution_count": 33
        }
      ]
    },
    {
      "cell_type": "code",
      "source": [
        "s = \"adfdfs\"\n",
        "t = \"adfgss\"\n",
        "isIsomorphic(s,t)"
      ],
      "metadata": {
        "colab": {
          "base_uri": "https://localhost:8080/"
        },
        "id": "Mi2s5qgBDnOP",
        "outputId": "ce2e6952-b44c-436d-f6da-8ee33b5b141c"
      },
      "execution_count": 34,
      "outputs": [
        {
          "output_type": "execute_result",
          "data": {
            "text/plain": [
              "False"
            ]
          },
          "metadata": {},
          "execution_count": 34
        }
      ]
    },
    {
      "cell_type": "markdown",
      "source": [
        "💡 Question 2:\n",
        "\n",
        "Given a string num which represents an integer, return true if num is a strobogrammatic number**.\n",
        "\n",
        "A strobogrammatic number is a number that looks the same when rotated 180 degrees (looked at upside down).\n",
        "\n",
        "Example 1:\n",
        "\n",
        "Input: num = \"69\"\n",
        "\n",
        "Output: true"
      ],
      "metadata": {
        "id": "Omz2gFCJDtGG"
      }
    },
    {
      "cell_type": "code",
      "source": [
        "def isstrobogrammatic(num):\n",
        "    strob_map = {\n",
        "        '0': '0',\n",
        "        '1': '1',\n",
        "        '6': '9',\n",
        "        '8': '8',\n",
        "        '9': '6'\n",
        "    }\n",
        "    \n",
        "    left = 0\n",
        "    right = len(num) - 1\n",
        "    \n",
        "    while left <= right:\n",
        "        if num[left] not in strob_map or strob_map[num[left]] != num[right]:\n",
        "            return False\n",
        "        left += 1\n",
        "        right -= 1\n",
        "    \n",
        "    return True\n",
        "\n",
        "\n",
        "num = '69'\n",
        "isstrobogrammatic(num)"
      ],
      "metadata": {
        "colab": {
          "base_uri": "https://localhost:8080/"
        },
        "id": "XGzXEi7dDrDs",
        "outputId": "9c1877ae-2757-44e4-842e-9c1be2b3462d"
      },
      "execution_count": 36,
      "outputs": [
        {
          "output_type": "execute_result",
          "data": {
            "text/plain": [
              "True"
            ]
          },
          "metadata": {},
          "execution_count": 36
        }
      ]
    },
    {
      "cell_type": "markdown",
      "source": [
        "💡 Question 3:\n",
        "\n",
        "Given two non-negative integers, num1 and num2 represented as string, return the sum of num1 and num2 as a string.\n",
        "\n",
        "You must solve the problem without using any built-in library for handling large integers (such as BigInteger). You must also not convert the inputs to integers directly.\n",
        "\n",
        "Example 1:\n",
        "\n",
        "Input: num1 = \"11\", num2 = \"123\"\n",
        "\n",
        "Output:\n",
        "\n",
        "\"134\""
      ],
      "metadata": {
        "id": "feGTNPdSJHcV"
      }
    },
    {
      "cell_type": "code",
      "source": [
        "def num_sum(num1, num2):\n",
        "    n1 = int(num1)\n",
        "    n2 = int(num2)\n",
        "    num = n1+n2\n",
        "    return str(num)\n",
        "    \n",
        "num1 = \"11\"\n",
        "num2 = \"123\"\n",
        "num_sum(num1, num2)"
      ],
      "metadata": {
        "colab": {
          "base_uri": "https://localhost:8080/",
          "height": 36
        },
        "id": "vptUx_BJD2S8",
        "outputId": "d1905174-a97b-4dbf-a7dc-491c8960f064"
      },
      "execution_count": 37,
      "outputs": [
        {
          "output_type": "execute_result",
          "data": {
            "text/plain": [
              "'134'"
            ],
            "application/vnd.google.colaboratory.intrinsic+json": {
              "type": "string"
            }
          },
          "metadata": {},
          "execution_count": 37
        }
      ]
    },
    {
      "cell_type": "markdown",
      "source": [
        "💡 Question 4:\n",
        "\n",
        "Given a string s, reverse the order of characters in each word within a sentence while still preserving whitespace and initial word order.\n",
        "\n",
        "Example 1:\n",
        "\n",
        "Input: s = \"Let's take LeetCode contest\"\n",
        "\n",
        "Output: \"s'teL ekat edoCteeL tsetnoc\""
      ],
      "metadata": {
        "id": "Nguefi5OJOh5"
      }
    },
    {
      "cell_type": "code",
      "source": [
        "def reverse_character(s):\n",
        "    s = s.split(' ')\n",
        "    rev_s = ' '.join([word[::-1] for word in s])\n",
        "    return rev_s\n",
        "\n",
        "    \n",
        "s = \"Let's take LeetCode contest\"\n",
        "reverse_character(s)"
      ],
      "metadata": {
        "colab": {
          "base_uri": "https://localhost:8080/",
          "height": 36
        },
        "id": "xfsM4n4MJL11",
        "outputId": "42a365b6-7b82-4ae4-eb25-48a3156671d6"
      },
      "execution_count": 38,
      "outputs": [
        {
          "output_type": "execute_result",
          "data": {
            "text/plain": [
              "\"s'teL ekat edoCteeL tsetnoc\""
            ],
            "application/vnd.google.colaboratory.intrinsic+json": {
              "type": "string"
            }
          },
          "metadata": {},
          "execution_count": 38
        }
      ]
    },
    {
      "cell_type": "markdown",
      "source": [
        "💡 Question 5:\n",
        "\n",
        "Given a string s and an integer k, reverse the first k characters for every 2k characters counting from the start of the string.\n",
        "\n",
        "If there are fewer than k characters left, reverse all of them. If there are less than 2k but greater than or equal to k characters, then reverse the first k characters and leave the other as original.\n",
        "\n",
        "Example 1:\n",
        "\n",
        "Input: s = \"abcdefg\", k = 2\n",
        "\n",
        "Output: \"bacdfeg\"\n"
      ],
      "metadata": {
        "id": "fOAtIz7XJaW0"
      }
    },
    {
      "cell_type": "code",
      "source": [
        "def reverse_string(s, k):\n",
        "    s = list(s)\n",
        "    for i in range(0, len(s), 2 * k):\n",
        "        s[i:i+k] = reversed(s[i:i+k])\n",
        "    return ''.join(s)\n",
        "    \n",
        "s = \"abcdefg\"\n",
        "k = 2\n",
        "reverse_string(s,k)"
      ],
      "metadata": {
        "colab": {
          "base_uri": "https://localhost:8080/",
          "height": 36
        },
        "id": "zIrvPakSJSuA",
        "outputId": "366715db-319c-4cc3-e4b3-1bb5cd201414"
      },
      "execution_count": 39,
      "outputs": [
        {
          "output_type": "execute_result",
          "data": {
            "text/plain": [
              "'bacdfeg'"
            ],
            "application/vnd.google.colaboratory.intrinsic+json": {
              "type": "string"
            }
          },
          "metadata": {},
          "execution_count": 39
        }
      ]
    },
    {
      "cell_type": "code",
      "source": [
        "s = \"strobogrammatic\"\n",
        "k = 15\n",
        "reverse_string(s,k)"
      ],
      "metadata": {
        "colab": {
          "base_uri": "https://localhost:8080/",
          "height": 36
        },
        "id": "CNS4ivilJduO",
        "outputId": "c4456934-3145-44f7-ca63-05ca4cceaed8"
      },
      "execution_count": 40,
      "outputs": [
        {
          "output_type": "execute_result",
          "data": {
            "text/plain": [
              "'citammargoborts'"
            ],
            "application/vnd.google.colaboratory.intrinsic+json": {
              "type": "string"
            }
          },
          "metadata": {},
          "execution_count": 40
        }
      ]
    },
    {
      "cell_type": "markdown",
      "source": [
        "💡 Question 6:\n",
        "\n",
        "Given two strings s and goal, return true if and only if s can become goal after some number of shifts* on* s.\n",
        "\n",
        "A shift on s consists of moving the leftmost character of s to the rightmost position.\n",
        "\n",
        "For example, if s = \"abcde\", then it will be \"bcdea\" after one shift.\n",
        "Example 1:\n",
        "\n",
        "Input: s = \"abcde\", goal = \"cdeab\"\n",
        "\n",
        "Output:\n",
        "\n",
        "true\n"
      ],
      "metadata": {
        "id": "LOrrSrDaJymQ"
      }
    },
    {
      "cell_type": "code",
      "source": [
        "def rot_str(s, goal):\n",
        "    if len(s) != len(goal):\n",
        "        return False\n",
        "    if s == goal:\n",
        "        return True\n",
        "    \n",
        "    for i in range(len(s)):\n",
        "        rotate = s[i:] + s[:i]\n",
        "        if goal == rotate:\n",
        "            return True\n",
        "    return False\n",
        "    \n",
        "    \n",
        "s = \"abcde\"\n",
        "goal = \"cdeab\"\n",
        "rot_str(s, goal)"
      ],
      "metadata": {
        "colab": {
          "base_uri": "https://localhost:8080/"
        },
        "id": "Zhgx4dCUJnOQ",
        "outputId": "8e212263-6a64-4aca-8e9d-2a232bdc47be"
      },
      "execution_count": 42,
      "outputs": [
        {
          "output_type": "execute_result",
          "data": {
            "text/plain": [
              "True"
            ]
          },
          "metadata": {},
          "execution_count": 42
        }
      ]
    },
    {
      "cell_type": "markdown",
      "source": [
        "💡 Question 7:\n",
        "\n",
        "Given two strings s and t, return true if they are equal when both are typed into empty text editors. '#' means a backspace character.\n",
        "\n",
        "Note that after backspacing an empty text, the text will continue empty.\n",
        "\n",
        "Example 1:\n",
        "\n",
        "Input: s = \"ab#c\", t = \"ad#c\"\n",
        "\n",
        "Output: true\n",
        "\n",
        "Explanation:\n",
        "\n",
        "Both s and t become \"ac\".\n"
      ],
      "metadata": {
        "id": "TGzXWXp5KFFZ"
      }
    },
    {
      "cell_type": "code",
      "source": [
        "def backspaceCompare(s, t):\n",
        "    def Str(string):\n",
        "        lst = []\n",
        "        for char in string:\n",
        "            if char != '#':\n",
        "                lst.append(char)\n",
        "            elif lst:\n",
        "                lst.pop()\n",
        "        return ''.join(lst)\n",
        "    return Str(s) == Str(t)\n",
        "\n",
        "    \n",
        "s = \"ab#c\"\n",
        "t = \"ad#c\"\n",
        "backspaceCompare(s,t)"
      ],
      "metadata": {
        "colab": {
          "base_uri": "https://localhost:8080/"
        },
        "id": "G7YdNOKdJulU",
        "outputId": "8864fa32-ce74-4511-ef30-abd4bd4f01ac"
      },
      "execution_count": 43,
      "outputs": [
        {
          "output_type": "execute_result",
          "data": {
            "text/plain": [
              "True"
            ]
          },
          "metadata": {},
          "execution_count": 43
        }
      ]
    },
    {
      "cell_type": "markdown",
      "source": [
        "💡 Question 8:\n",
        "\n",
        "You are given an array coordinates, coordinates[i] = [x, y], where [x, y] represents the coordinate of a point. Check if these points make a straight line in the XY plane.\n",
        "\n",
        "\n",
        "Input: coordinates = [[1,2],[2,3],[3,4],[4,5],[5,6],[6,7]]\n",
        "\n",
        "Output: true"
      ],
      "metadata": {
        "id": "KEAzgY2SKRjW"
      }
    },
    {
      "cell_type": "code",
      "source": [
        "def check_straight_line(coordinates):\n",
        "    if len(coordinates) <= 2:\n",
        "        return True\n",
        "    x0, y0 = coordinates[0]\n",
        "    x1, y1 = coordinates[1]\n",
        "    for i in range(2, len(coordinates)):\n",
        "        x, y = coordinates[i]\n",
        "        if (x1 - x0) * (y - y1) != (x - x1) * (y1 - y0):\n",
        "            return False\n",
        "    return True\n",
        "\n",
        "# Example usage:\n",
        "input_coordinates = [[1, 2], [2, 3], [3, 4], [4, 5], [5, 6], [6, 7]]\n",
        "result = check_straight_line(input_coordinates)\n",
        "print(result)"
      ],
      "metadata": {
        "colab": {
          "base_uri": "https://localhost:8080/"
        },
        "id": "gZrZ69fNKM7K",
        "outputId": "373a2c72-819c-4b07-8b04-b13170579d73"
      },
      "execution_count": 47,
      "outputs": [
        {
          "output_type": "stream",
          "name": "stdout",
          "text": [
            "True\n"
          ]
        }
      ]
    }
  ]
}