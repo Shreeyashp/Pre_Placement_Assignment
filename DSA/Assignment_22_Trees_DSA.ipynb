{
  "cells": [
    {
      "cell_type": "markdown",
      "source": [
        "## **Submitted By: `Shreeyash Pardeshi`**"
      ],
      "metadata": {
        "id": "AGMrj3AdsZZF"
      }
    },
    {
      "cell_type": "markdown",
      "source": [
        "💡 Question-1:\n",
        "\n",
        "Given a Binary Tree (Bt), convert it to a Doubly Linked List(DLL). The left and right pointers in nodes are to be used as previous and next pointers respectively in converted DLL. The order of nodes in DLL must be the same as in Inorder for the given Binary Tree. The first node of Inorder traversal (leftmost node in BT) must be the head node of the DLL.\n",
        "\n",
        "\n",
        "\n"
      ],
      "metadata": {
        "id": "DDqwwYK2wu1l"
      }
    },
    {
      "cell_type": "code",
      "source": [
        "class TreeNode:\n",
        "    def __init__(self, value):\n",
        "        self.val = value\n",
        "        self.left = None\n",
        "        self.right = None\n",
        "\n",
        "def convert_bt_to_dll(root):\n",
        "    if root is None:\n",
        "        return None\n",
        "\n",
        "    # Initialize the previous node as None\n",
        "    prev = None\n",
        "\n",
        "    # Convert the left subtree to DLL\n",
        "    head = convert_bt_to_dll(root.left)\n",
        "\n",
        "    # If the left subtree's DLL is not empty, set the right pointer of the last node to the current node\n",
        "    if head is not None:\n",
        "        while head.right is not None:\n",
        "            head = head.right\n",
        "        head.right = root\n",
        "        root.left = head\n",
        "\n",
        "    # Convert the right subtree to DLL\n",
        "    tail = convert_bt_to_dll(root.right)\n",
        "\n",
        "    # If the right subtree's DLL is not empty, set the left pointer of the first node to the current node\n",
        "    if tail is not None:\n",
        "        while tail.left is not None:\n",
        "            tail = tail.left\n",
        "        tail.left = root\n",
        "        root.right = tail\n",
        "\n",
        "    # Return the head of the DLL\n",
        "    return root if head is None else head\n",
        "\n",
        "def print_dll_forward(head):\n",
        "    if head is None:\n",
        "        return\n",
        "    while head is not None:\n",
        "        print(head.val, end=\" \")\n",
        "        head = head.right\n",
        "    print()\n",
        "\n",
        "def print_dll_backward(tail):\n",
        "    if tail is None:\n",
        "        return\n",
        "    while tail is not None:\n",
        "        print(tail.val, end=\" \")\n",
        "        tail = tail.left\n",
        "    print()\n",
        "\n",
        "# Example usage\n",
        "# Constructing the given binary tree\n",
        "root = TreeNode(10)\n",
        "root.left = TreeNode(5)\n",
        "root.right = TreeNode(20)\n",
        "root.right.left = TreeNode(15)\n",
        "root.right.right = TreeNode(30)\n",
        "\n",
        "# Convert the binary tree to DLL\n",
        "head = convert_bt_to_dll(root)\n",
        "\n",
        "# Print the DLL forward\n",
        "print(\"DLL forward:\")\n",
        "print_dll_forward(head)\n",
        "\n",
        "# Print the DLL backward\n",
        "print(\"DLL backward:\")\n",
        "print_dll_backward(root.right.right)"
      ],
      "metadata": {
        "colab": {
          "base_uri": "https://localhost:8080/"
        },
        "id": "tJx_iv0Hwr_S",
        "outputId": "81bc7506-2203-47f5-bec5-2d409c475c44"
      },
      "execution_count": 10,
      "outputs": [
        {
          "output_type": "stream",
          "name": "stdout",
          "text": [
            "DLL forward:\n",
            "5 10 15 20 30 \n",
            "DLL backward:\n",
            "20 15 10 5 \n"
          ]
        }
      ]
    },
    {
      "cell_type": "markdown",
      "source": [
        "💡 Question-2\n",
        "\n",
        "A Given a binary tree, the task is to flip the binary tree towards the right direction that is clockwise. See the below examples to see the transformation.\n",
        "\n",
        "In the flip operation, the leftmost node becomes the root of the flipped tree and its parent becomes its right child and the right sibling becomes its left child and the same should be done for all left most nodes recursively.\n",
        "\n"
      ],
      "metadata": {
        "id": "7Snl4sCKw4Wk"
      }
    },
    {
      "cell_type": "code",
      "source": [
        "class TreeNode:\n",
        "    def __init__(self, value):\n",
        "        self.val = value\n",
        "        self.left = None\n",
        "        self.right = None\n",
        "\n",
        "def flip_binary_tree(root):\n",
        "    if root is None:\n",
        "        return None\n",
        "\n",
        "    # If the current node is a leaf node, return it\n",
        "    if root.left is None and root.right is None:\n",
        "        return root\n",
        "\n",
        "    # Flip the left and right subtrees recursively\n",
        "    flipped_left = flip_binary_tree(root.left)\n",
        "    flipped_right = flip_binary_tree(root.right)\n",
        "\n",
        "    # Swap the left and right child of the current node\n",
        "    root.left = flipped_right\n",
        "    root.right = flipped_left\n",
        "\n",
        "    return root\n",
        "\n",
        "def print_binary_tree(root):\n",
        "    if root is None:\n",
        "        return\n",
        "\n",
        "    print(root.val, end=\" \")\n",
        "    print_binary_tree(root.left)\n",
        "    print_binary_tree(root.right)\n",
        "\n",
        "# Example usage\n",
        "# Constructing the given binary tree\n",
        "root = TreeNode(1)\n",
        "root.left = TreeNode(2)\n",
        "root.right = TreeNode(3)\n",
        "root.left.left = TreeNode(4)\n",
        "root.left.right = TreeNode(5)\n",
        "\n",
        "# Print the original binary tree\n",
        "print(\"Original binary tree:\")\n",
        "print_binary_tree(root)\n",
        "\n",
        "# Flip the binary tree in a clockwise direction\n",
        "flipped_root = flip_binary_tree(root)\n",
        "\n",
        "# Print the flipped binary tree\n",
        "print(\"\\nFlipped binary tree:\")\n",
        "print_binary_tree(flipped_root)"
      ],
      "metadata": {
        "colab": {
          "base_uri": "https://localhost:8080/"
        },
        "id": "kCk_ASlRwwDf",
        "outputId": "518e72bd-0d20-40ed-c911-6a12312edc23"
      },
      "execution_count": 11,
      "outputs": [
        {
          "output_type": "stream",
          "name": "stdout",
          "text": [
            "Original binary tree:\n",
            "1 2 4 5 3 \n",
            "Flipped binary tree:\n",
            "1 3 2 5 4 "
          ]
        }
      ]
    },
    {
      "cell_type": "markdown",
      "source": [
        "💡 Question-3:\n",
        "\n",
        "Given a binary tree, print all its root-to-leaf paths without using recursion. For example, consider the following Binary Tree.\n",
        "\n",
        "Input:\n",
        "\n",
        "      6\n",
        "    /    \\\n",
        "   3      5\n",
        " /   \\     \\\n",
        "2     5     4\n",
        "    /   \\\n",
        "   7     4\n",
        "\n",
        "Output:\n",
        "\n",
        "There are 4 leaves, hence 4 root to leaf paths - 6->3->2 6->3->5->7 6->3->5->4 6->5>4\n",
        "\n"
      ],
      "metadata": {
        "id": "QzcDkRHPw-1H"
      }
    },
    {
      "cell_type": "code",
      "source": [
        "class TreeNode:\n",
        "    def __init__(self, value):\n",
        "        self.val = value\n",
        "        self.left = None\n",
        "        self.right = None\n",
        "\n",
        "def print_root_to_leaf_paths(root):\n",
        "    if root is None:\n",
        "        return\n",
        "\n",
        "    # Create an empty stack to keep track of the nodes during traversal\n",
        "    stack = []\n",
        "    stack.append((root, str(root.val)))\n",
        "\n",
        "    # Perform a depth-first traversal\n",
        "    while stack:\n",
        "        node, path = stack.pop()\n",
        "\n",
        "        # If the current node is a leaf node, print the path from the root to the leaf\n",
        "        if node.left is None and node.right is None:\n",
        "            print(path)\n",
        "\n",
        "        # Push the right child and its path onto the stack\n",
        "        if node.right is not None:\n",
        "            stack.append((node.right, path + \"->\" + str(node.right.val)))\n",
        "\n",
        "        # Push the left child and its path onto the stack\n",
        "        if node.left is not None:\n",
        "            stack.append((node.left, path + \"->\" + str(node.left.val)))\n",
        "\n",
        "# Example usage\n",
        "# Constructing the given binary tree\n",
        "root = TreeNode(6)\n",
        "root.left = TreeNode(3)\n",
        "root.right = TreeNode(5)\n",
        "root.left.left = TreeNode(2)\n",
        "root.left.right = TreeNode(5)\n",
        "root.right.right = TreeNode(4)\n",
        "root.left.right.left = TreeNode(7)\n",
        "root.left.right.right = TreeNode(4)\n",
        "\n",
        "# Print all root-to-leaf paths\n",
        "print_root_to_leaf_paths(root)"
      ],
      "metadata": {
        "colab": {
          "base_uri": "https://localhost:8080/"
        },
        "id": "-fYxjCyMw5dk",
        "outputId": "3b060239-5ee8-4c61-85e9-7983581ae600"
      },
      "execution_count": 12,
      "outputs": [
        {
          "output_type": "stream",
          "name": "stdout",
          "text": [
            "6->3->2\n",
            "6->3->5->7\n",
            "6->3->5->4\n",
            "6->5->4\n"
          ]
        }
      ]
    },
    {
      "cell_type": "markdown",
      "source": [
        "💡 Question-4:\n",
        "\n",
        "Given Preorder, Inorder and Postorder traversals of some tree. Write a program to check if they all are of the same tree.\n",
        "\n",
        "Examples:\n",
        "\n",
        "Input :\n",
        "\n",
        "    Inorder -> 4 2 5 1 3\n",
        "    Preorder -> 1 2 4 5 3\n",
        "    Postorder -> 4 5 2 3 1\n",
        "Output :\n",
        "\n",
        "Yes Explanation :\n",
        "\n",
        "All of the above three traversals are of the same tree\n",
        "\n",
        "                       1\n",
        "                     /   \\\n",
        "                    2     3\n",
        "                  /   \\\n",
        "                 4     5\n",
        "\n",
        "Input :\n",
        "\n",
        "    Inorder -> 4 2 5 1 3\n",
        "    Preorder -> 1 5 4 2 3\n",
        "    Postorder -> 4 1 2 3 5\n",
        "Output :\n",
        "\n",
        "No\n",
        "\n"
      ],
      "metadata": {
        "id": "AQNS5vLSxG6K"
      }
    },
    {
      "cell_type": "code",
      "source": [
        "def check_same_tree(preorder, inorder, postorder):\n",
        "    if len(preorder) != len(inorder) or len(preorder) != len(postorder):\n",
        "        return False\n",
        "\n",
        "    def check_same_tree_recursive(preorder, inorder, postorder):\n",
        "        if not preorder:\n",
        "            return True\n",
        "\n",
        "        if preorder[0] != postorder[-1]:\n",
        "            return False\n",
        "\n",
        "        idx = inorder.index(preorder[0])\n",
        "\n",
        "        left_preorder = preorder[1:idx+1]\n",
        "        left_inorder = inorder[:idx]\n",
        "        left_postorder = postorder[:idx]\n",
        "\n",
        "        right_preorder = preorder[idx+1:]\n",
        "        right_inorder = inorder[idx+1:]\n",
        "        right_postorder = postorder[idx:-1]\n",
        "\n",
        "        return check_same_tree_recursive(left_preorder, left_inorder, left_postorder) and \\\n",
        "               check_same_tree_recursive(right_preorder, right_inorder, right_postorder)\n",
        "\n",
        "    return check_same_tree_recursive(preorder, inorder, postorder)\n",
        "\n",
        "# Example usage\n",
        "inorder = [4, 2, 5, 1, 3]\n",
        "preorder = [1, 2, 4, 5, 3]\n",
        "postorder = [4, 5, 2, 3, 1]\n",
        "print(check_same_tree(preorder, inorder, postorder))\n",
        "\n",
        "inorder = [4, 2, 5, 1, 3]\n",
        "preorder = [1, 5, 4, 2, 3]\n",
        "postorder = [4, 1, 2, 3, 5]\n",
        "print(check_same_tree(preorder, inorder, postorder))"
      ],
      "metadata": {
        "colab": {
          "base_uri": "https://localhost:8080/"
        },
        "id": "eWvym-jCxArY",
        "outputId": "59d06b73-4bf0-4617-b171-e7dbf5b6f748"
      },
      "execution_count": 13,
      "outputs": [
        {
          "output_type": "stream",
          "name": "stdout",
          "text": [
            "True\n",
            "False\n"
          ]
        }
      ]
    }
  ],
  "metadata": {
    "colab": {
      "provenance": []
    },
    "kernelspec": {
      "display_name": "Python 3",
      "name": "python3"
    },
    "language_info": {
      "name": "python"
    }
  },
  "nbformat": 4,
  "nbformat_minor": 0
}