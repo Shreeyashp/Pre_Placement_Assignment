{
  "nbformat": 4,
  "nbformat_minor": 0,
  "metadata": {
    "colab": {
      "provenance": []
    },
    "kernelspec": {
      "name": "python3",
      "display_name": "Python 3"
    },
    "language_info": {
      "name": "python"
    }
  },
  "cells": [
    {
      "cell_type": "markdown",
      "source": [
        "## **Submitted By: `Shreeyash Pardeshi`**"
      ],
      "metadata": {
        "id": "TT5bpHnt2cEK"
      }
    },
    {
      "cell_type": "markdown",
      "source": [
        "💡 **Question 1**\n",
        "\n",
        "Given two strings s1 and s2, return *the lowest **ASCII** sum of deleted characters to make two strings equal*.\n",
        "\n",
        "**Example 1:**\n",
        "\n",
        "**Input:** s1 = \"sea\", s2 = \"eat\"\n",
        "\n",
        "**Output:** 231\n",
        "\n",
        "**Explanation:** Deleting \"s\" from \"sea\" adds the ASCII value of \"s\" (115) to the sum.\n",
        "\n",
        "Deleting \"t\" from \"eat\" adds 116 to the sum.\n",
        "\n",
        "At the end, both strings are equal, and 115 + 116 = 231 is the minimum sum possible to achieve this.\n"
      ],
      "metadata": {
        "id": "W9q34vw2L8AX"
      }
    },
    {
      "cell_type": "code",
      "source": [
        "def minimum_ascii_delete(s1, s2):\n",
        "    m, n = len(s1), len(s2)\n",
        "    dp = [[0] * (n+1) for _ in range(m+1)]\n",
        "    for i in range(m-1, -1, -1):\n",
        "        dp[i][n] = dp[i+1][n] + ord(s1[i])\n",
        "    for j in range(n-1, -1, -1):\n",
        "        dp[m][j] = dp[m][j+1] + ord(s2[j])\n",
        "    for i in range(m-1, -1, -1):\n",
        "        for j in range(n-1, -1, -1):\n",
        "            if s1[i] == s2[j]:\n",
        "                dp[i][j] = dp[i+1][j+1]\n",
        "            else:\n",
        "                dp[i][j] = min(dp[i+1][j] + ord(s1[i]), dp[i][j+1] + ord(s2[j]))\n",
        "    return dp[0][0]\n",
        "\n",
        "# Example:\n",
        "input_s1 = \"sea\"\n",
        "input_s2 = \"eat\"\n",
        "result = minimum_ascii_delete(input_s1, input_s2)\n",
        "print(result)"
      ],
      "metadata": {
        "colab": {
          "base_uri": "https://localhost:8080/"
        },
        "id": "AV5AywB4MJR4",
        "outputId": "2b9a5e02-f479-4c2e-e3f2-f401b7789f4d"
      },
      "execution_count": 49,
      "outputs": [
        {
          "output_type": "stream",
          "name": "stdout",
          "text": [
            "231\n"
          ]
        }
      ]
    },
    {
      "cell_type": "markdown",
      "source": [
        "💡 **Question 2**\n",
        "\n",
        "Given a string s containing only three types of characters: '(', ')' and '*', return true *if* s *is **valid***.\n",
        "\n",
        "The following rules define a **valid** string:\n",
        "\n",
        "- Any left parenthesis '(' must have a corresponding right parenthesis ')'.\n",
        "- Any right parenthesis ')' must have a corresponding left parenthesis '('.\n",
        "- Left parenthesis '(' must go before the corresponding right parenthesis ')'.\n",
        "- '*' could be treated as a single right parenthesis ')' or a single left parenthesis '(' or an empty string \"\".\n",
        "\n",
        "**Example 1:**\n",
        "\n",
        "**Input:** s = \"()\"\n",
        "\n",
        "**Output:**\n",
        "\n",
        "true"
      ],
      "metadata": {
        "id": "jiax78vYMKOX"
      }
    },
    {
      "cell_type": "code",
      "source": [
        "def is_valid(s):\n",
        "    stack = []\n",
        "    star_stack = []\n",
        "    for i in range(len(s)):\n",
        "        if s[i] == '(':\n",
        "            stack.append(i)\n",
        "        elif s[i] == '*':\n",
        "            star_stack.append(i)\n",
        "        else:\n",
        "            if stack:\n",
        "                stack.pop()\n",
        "            elif star_stack:\n",
        "                star_stack.pop()\n",
        "            else:\n",
        "                return False\n",
        "    while stack and star_stack:\n",
        "        if stack[-1] > star_stack[-1]:\n",
        "            return False\n",
        "        stack.pop()\n",
        "        star_stack.pop()\n",
        "    return not stack\n",
        "\n",
        "# Example :\n",
        "input_s = \"()\"\n",
        "result = is_valid(input_s)\n",
        "print(result)"
      ],
      "metadata": {
        "colab": {
          "base_uri": "https://localhost:8080/"
        },
        "id": "onU7YwhlNikP",
        "outputId": "97559b1d-8b41-44e3-82b1-65b409b78ed5"
      },
      "execution_count": 51,
      "outputs": [
        {
          "output_type": "stream",
          "name": "stdout",
          "text": [
            "True\n"
          ]
        }
      ]
    },
    {
      "cell_type": "markdown",
      "source": [
        "💡 **Question 3**\n",
        "\n",
        "Given two strings word1 and word2, return *the minimum number of **steps** required to make* word1 *and* word2 *the same*.\n",
        "\n",
        "In one **step**, you can delete exactly one character in either string.\n",
        "\n",
        "**Example 1:**\n",
        "\n",
        "**Input:** word1 = \"sea\", word2 = \"eat\"\n",
        "\n",
        "**Output:** 2\n",
        "\n",
        "**Explanation:** You need one step to make \"sea\" to \"ea\" and another step to make \"eat\" to \"ea\"\n"
      ],
      "metadata": {
        "id": "xNWlUcxDNiNZ"
      }
    },
    {
      "cell_type": "code",
      "source": [
        "def min_steps_to_make_same(word1, word2):\n",
        "    m, n = len(word1), len(word2)\n",
        "    dp = [[0] * (n+1) for _ in range(m+1)]\n",
        "    for i in range(m-1, -1, -1):\n",
        "        dp[i][n] = dp[i+1][n] + 1\n",
        "    for j in range(n-1, -1, -1):\n",
        "        dp[m][j] = dp[m][j+1] + 1\n",
        "    for i in range(m-1, -1, -1):\n",
        "        for j in range(n-1, -1, -1):\n",
        "            if word1[i] == word2[j]:\n",
        "                dp[i][j] = dp[i+1][j+1]\n",
        "            else:\n",
        "                dp[i][j] = min(dp[i+1][j], dp[i][j+1]) + 1\n",
        "    return dp[0][0]\n",
        "\n",
        "# Example :\n",
        "input_word1 = \"sea\"\n",
        "input_word2 = \"eat\"\n",
        "result = min_steps_to_make_same(input_word1, input_word2)\n",
        "print(result)"
      ],
      "metadata": {
        "colab": {
          "base_uri": "https://localhost:8080/"
        },
        "id": "w46HQk5TNjwW",
        "outputId": "a2e850c8-8b89-4eb1-ec1a-e3a0b4654cb0"
      },
      "execution_count": 52,
      "outputs": [
        {
          "output_type": "stream",
          "name": "stdout",
          "text": [
            "2\n"
          ]
        }
      ]
    },
    {
      "cell_type": "markdown",
      "source": [
        "💡 **Question 4**\n",
        "\n",
        "You need to construct a binary tree from a string consisting of parenthesis and integers.\n",
        "\n",
        "The whole input represents a binary tree. It contains an integer followed by zero, one or two pairs of parenthesis. The integer represents the root's value and a pair of parenthesis contains a child binary tree with the same structure.\n",
        "You always start to construct the **left** child node of the parent first if it exists.\n",
        "\n",
        "\n",
        "**Input:** s = \"4(2(3)(1))(6(5))\"\n",
        "\n",
        "**Output:** [4,2,6,3,1,5]"
      ],
      "metadata": {
        "id": "-mVUEup3NkJB"
      }
    },
    {
      "cell_type": "code",
      "source": [
        "from typing import List\n",
        "\n",
        "class TreeNode:\n",
        "    def __init__(self, val=0, left=None, right=None):\n",
        "        self.val = val\n",
        "        self.left = left\n",
        "        self.right = right\n",
        "\n",
        "def str2tree(s: str) -> TreeNode:\n",
        "    if not s:\n",
        "        return None\n",
        "    i = 0\n",
        "    while i < len(s) and (s[i].isdigit() or s[i] == '-'):\n",
        "        i += 1\n",
        "    root = TreeNode(int(s[:i]))\n",
        "    j, count = i, 0\n",
        "    for k in range(i, len(s)):\n",
        "        if s[k] == '(':\n",
        "            count += 1\n",
        "        elif s[k] == ')':\n",
        "            count -= 1\n",
        "        if count == 0:\n",
        "            if j == i:\n",
        "                root.left = str2tree(s[i+1:k])\n",
        "            else:\n",
        "                root.left = str2tree(s[i+1:j-1])\n",
        "                root.right = str2tree(s[j+1:k])\n",
        "            j = k + 1\n",
        "    return root\n",
        "\n",
        "def bfs_traversal(root: TreeNode) -> List[int]:\n",
        "    if not root:\n",
        "        return []\n",
        "    queue = [root]\n",
        "    res = []\n",
        "    while queue:\n",
        "        node = queue.pop(0)\n",
        "        res.append(node.val)\n",
        "        if node.left:\n",
        "            queue.append(node.left)\n",
        "        if node.right:\n",
        "            queue.append(node.right)\n",
        "    return res\n",
        "\n",
        "# Example :\n",
        "s = \"4(2(3)(1))(6(5))\"\n",
        "root = str2tree(s)\n",
        "result = bfs_traversal(root)\n",
        "print(result)"
      ],
      "metadata": {
        "colab": {
          "base_uri": "https://localhost:8080/"
        },
        "id": "MwsRQewLOc87",
        "outputId": "883621d2-ff47-443b-a0c7-9caf34940a1d"
      },
      "execution_count": 58,
      "outputs": [
        {
          "output_type": "stream",
          "name": "stdout",
          "text": [
            "[4, 2, 6, 3, 1, 5]\n"
          ]
        }
      ]
    },
    {
      "cell_type": "markdown",
      "source": [
        "💡 **Question 5**\n",
        "\n",
        "Given an array of characters chars, compress it using the following algorithm:\n",
        "\n",
        "Begin with an empty string s. For each group of **consecutive repeating characters** in chars:\n",
        "\n",
        "- If the group's length is 1, append the character to s.\n",
        "- Otherwise, append the character followed by the group's length.\n",
        "\n",
        "The compressed string s **should not be returned separately**, but instead, be stored **in the input character array chars**. Note that group lengths that are 10 or longer will be split into multiple characters in chars.\n",
        "\n",
        "After you are done **modifying the input array,** return *the new length of the array*.\n",
        "\n",
        "You must write an algorithm that uses only constant extra space.\n",
        "\n",
        "**Example 1:**\n",
        "\n",
        "**Input:** chars = [\"a\",\"a\",\"b\",\"b\",\"c\",\"c\",\"c\"]\n",
        "\n",
        "**Output:** Return 6, and the first 6 characters of the input array should be: [\"a\",\"2\",\"b\",\"2\",\"c\",\"3\"]\n",
        "\n",
        "**Explanation:**\n",
        "\n",
        "The groups are \"aa\", \"bb\", and \"ccc\". This compresses to \"a2b2c3\".\n"
      ],
      "metadata": {
        "id": "HqKUYLQGOdTv"
      }
    },
    {
      "cell_type": "code",
      "source": [
        "def compress(chars):\n",
        "    i = j = count = 0\n",
        "    while i < len(chars):\n",
        "        count += 1\n",
        "        if i + 1 == len(chars) or chars[i] != chars[i + 1]:\n",
        "            chars[j] = chars[i]\n",
        "            j += 1\n",
        "            if count > 1:\n",
        "                for digit in str(count):\n",
        "                    chars[j] = digit\n",
        "                    j += 1\n",
        "            count = 0\n",
        "        i += 1\n",
        "    return j"
      ],
      "metadata": {
        "id": "VVmtjCO_PHD_"
      },
      "execution_count": 63,
      "outputs": []
    },
    {
      "cell_type": "code",
      "source": [
        "chars = ['a', 'a', 'b', 'b', 'c', 'c', 'c']\n",
        "new_length = compress(chars)\n",
        "print(new_length)  # Output: 6\n",
        "print(chars[:new_length])  # Output: ['a', '2', 'b', '2', 'c', '3']"
      ],
      "metadata": {
        "colab": {
          "base_uri": "https://localhost:8080/"
        },
        "id": "w2gwbrhUSNvj",
        "outputId": "216808e8-c781-474b-ca65-4fcd2ecdf2c8"
      },
      "execution_count": 64,
      "outputs": [
        {
          "output_type": "stream",
          "name": "stdout",
          "text": [
            "6\n",
            "['a', '2', 'b', '2', 'c', '3']\n"
          ]
        }
      ]
    },
    {
      "cell_type": "markdown",
      "source": [
        "💡 **Question 6**\n",
        "\n",
        "Given two strings s and p, return *an array of all the start indices of* p*'s anagrams in* s. You may return the answer in **any order**.\n",
        "\n",
        "An **Anagram** is a word or phrase formed by rearranging the letters of a different word or phrase, typically using all the original letters exactly once.\n",
        "\n",
        "**Example 1:**\n",
        "\n",
        "**Input:** s = \"cbaebabacd\", p = \"abc\"\n",
        "\n",
        "**Output:** [0,6]\n",
        "\n",
        "**Explanation:**\n",
        "\n",
        "The substring with start index = 0 is \"cba\", which is an anagram of \"abc\".\n",
        "\n",
        "The substring with start index = 6 is \"bac\", which is an anagram of \"abc\".\n"
      ],
      "metadata": {
        "id": "S0N-K8qnPHao"
      }
    },
    {
      "cell_type": "code",
      "source": [
        "from collections import Counter\n",
        "\n",
        "def find_anagrams(s: str, p: str) -> List[int]:\n",
        "    n, m = len(s), len(p)\n",
        "    if n < m:\n",
        "        return []\n",
        "    p_count = Counter(p)\n",
        "    s_count = Counter(s[:m])\n",
        "    res = []\n",
        "    if p_count == s_count:\n",
        "        res.append(0)\n",
        "    for i in range(1, n-m+1):\n",
        "        s_count[s[i-1]] -= 1\n",
        "        if s_count[s[i-1]] == 0:\n",
        "            del s_count[s[i-1]]\n",
        "        s_count[s[i+m-1]] += 1\n",
        "        if p_count == s_count:\n",
        "            res.append(i)\n",
        "    return res\n",
        "\n",
        "# Example :\n",
        "s = \"cbaebabacd\"\n",
        "p = \"abc\"\n",
        "result = find_anagrams(s, p)\n",
        "print(result)"
      ],
      "metadata": {
        "colab": {
          "base_uri": "https://localhost:8080/"
        },
        "id": "c4sGfqgpPsT-",
        "outputId": "7b3e579c-f252-40b1-c845-80d959b2653d"
      },
      "execution_count": 60,
      "outputs": [
        {
          "output_type": "stream",
          "name": "stdout",
          "text": [
            "[0, 6]\n"
          ]
        }
      ]
    },
    {
      "cell_type": "markdown",
      "source": [
        "💡 **Question 7**\n",
        "\n",
        "\n",
        "Given an encoded string, return its decoded string.\n",
        "\n",
        "\n",
        "The encoding rule is: k[encoded_string], where the encoded_string inside the square brackets is being repeated exactly k times. Note that k is guaranteed to be a positive integer.\n",
        "\n",
        "\n",
        "You may assume that the input string is always valid; there are no extra white spaces, square brackets are well-formed, etc. Furthermore, you may assume that the original data does not contain any digits and that digits are only for those repeat numbers, k. For example, there will not be input like 3a or 2[4].\n",
        "\n",
        "\n",
        "The test cases are generated so that the length of the output will never exceed 105.\n",
        "\n",
        "\n",
        "**Example 1:**\n",
        "\n",
        "\n",
        "**Input:** s = \"3[a]2[bc]\"\n",
        "\n",
        "\n",
        "**Output:** \"aaabcbc\"\n",
        "\n",
        "\n",
        "\n",
        "\n",
        "\n",
        "**Explanation:** You can swap s[0] = 'a' and s[1] = 'b' to get \"ba\", which is equal to goal.\n",
        "\n",
        "\n"
      ],
      "metadata": {
        "id": "EcENim2CPssK"
      }
    },
    {
      "cell_type": "code",
      "source": [
        "def decode_string(encoded_str: str) -> str:\n",
        "    stack = []\n",
        "    current_str = \"\"\n",
        "    current_num = 0\n",
        "    for c in encoded_str:\n",
        "        if c.isdigit():\n",
        "            current_num = current_num * 10 + int(c)\n",
        "        elif c == '[':\n",
        "            stack.append(current_str)\n",
        "            stack.append(current_num)\n",
        "            current_str = \"\"\n",
        "            current_num = 0\n",
        "        elif c == ']':\n",
        "            num = stack.pop()\n",
        "            prev_str = stack.pop()\n",
        "            current_str = prev_str + num * current_str\n",
        "        else:\n",
        "            current_str += c\n",
        "    return current_str\n",
        "\n",
        "# Example :\n",
        "encoded_str = \"3[a]2[bc]\"\n",
        "result = decode_string(encoded_str)\n",
        "print(result)"
      ],
      "metadata": {
        "colab": {
          "base_uri": "https://localhost:8080/"
        },
        "id": "qvHXQ028Py71",
        "outputId": "dff1f856-d984-40b6-e0e3-bc6cda936ef4"
      },
      "execution_count": 62,
      "outputs": [
        {
          "output_type": "stream",
          "name": "stdout",
          "text": [
            "aaabcbc\n"
          ]
        }
      ]
    },
    {
      "cell_type": "markdown",
      "source": [
        "\n",
        "\n",
        "💡 **Question 8**\n",
        "\n",
        "\n",
        "Given two strings s and goal, return true *if you can swap two letters in* s *so the result is equal to* goal*, otherwise, return* false*.*\n",
        "\n",
        "\n",
        "Swapping letters is defined as taking two indices i and j (0-indexed) such that i != j and swapping the characters at s[i] and s[j].\n",
        "\n",
        "\n",
        "- For example, swapping at indices 0 and 2 in \"abcd\" results in \"cbad\".\n",
        "\n",
        "\n",
        "**Example 1:**\n",
        "\n",
        "\n",
        "**Input:** s = \"ab\", goal = \"ba\"\n",
        "\n",
        "\n",
        "**Output:** true"
      ],
      "metadata": {
        "id": "GilJLe6WP3fO"
      }
    },
    {
      "cell_type": "code",
      "source": [
        "def can_swap_letters(s: str, goal: str) -> bool:\n",
        "    n = len(s)\n",
        "    if n != len(goal):\n",
        "        return False\n",
        "    diff_indices = []\n",
        "    for i in range(n):\n",
        "        if s[i] != goal[i]:\n",
        "            diff_indices.append(i)\n",
        "    if len(diff_indices) != 2:\n",
        "        return False\n",
        "    i, j = diff_indices\n",
        "    return s[i] == goal[j] and s[j] == goal[i]\n",
        "\n",
        "# Example :\n",
        "s = \"ab\"\n",
        "goal = \"ba\"\n",
        "result = can_swap_letters(s, goal)\n",
        "print(result)"
      ],
      "metadata": {
        "colab": {
          "base_uri": "https://localhost:8080/"
        },
        "id": "Q9E1Cb1KQf6M",
        "outputId": "572d50bd-2756-4be6-dd74-15bdac286648"
      },
      "execution_count": 61,
      "outputs": [
        {
          "output_type": "stream",
          "name": "stdout",
          "text": [
            "True\n"
          ]
        }
      ]
    }
  ]
}