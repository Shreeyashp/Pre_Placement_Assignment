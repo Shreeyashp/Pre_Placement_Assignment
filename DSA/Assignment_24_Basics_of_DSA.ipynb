{
  "cells": [
    {
      "cell_type": "markdown",
      "source": [
        "## **Submitted By: `Shreeyash Pardeshi`**"
      ],
      "metadata": {
        "id": "AGMrj3AdsZZF"
      }
    },
    {
      "cell_type": "markdown",
      "source": [],
      "metadata": {
        "id": "gbwPlK-AzGA7"
      }
    },
    {
      "cell_type": "markdown",
      "source": [
        "💡 1. Roman to Integer\n",
        "\n",
        "Roman numerals are represented by seven different symbols: I, V, X, L, C, D and M.\n",
        "\n",
        "SymbolValue\n",
        "I             1\n",
        "V             5\n",
        "X             10\n",
        "L             50\n",
        "C             100\n",
        "D             500\n",
        "M             1000\n",
        "For example, 2 is written as II in Roman numeral, just two ones added together. 12 is written as XII, which is simply X + II. The number 27 is written as XXVII, which is XX + V + II.\n",
        "\n",
        "Roman numerals are usually written largest to smallest from left to right. However, the numeral for four is not IIII. Instead, the number four is written as IV. Because the one is before the five we subtract it making four. The same principle applies to the number nine, which is written as IX. There are six instances where subtraction is used:\n",
        "\n",
        "I can be placed before V (5) and X (10) to make 4 and 9.\n",
        "X can be placed before L (50) and C (100) to make 40 and 90.\n",
        "C can be placed before D (500) and M (1000) to make 400 and 900.\n",
        "Given a roman numeral, convert it to an integer.\n",
        "\n",
        "Example 1:\n",
        "\n",
        "Input: s = \"III\"\n",
        "Output: 3\n",
        "Explanation: III = 3.\n",
        "\n",
        "\n",
        "Example 2:\n",
        "\n",
        "Input: s = \"LVIII\"\n",
        "Output: 58\n",
        "Explanation: L = 50, V= 5, III = 3.\n",
        "Constraints:\n",
        "\n",
        "1 <= s.length <= 15\n",
        "s contains only the characters ('I', 'V', 'X', 'L', 'C', 'D', 'M').\n",
        "It is guaranteed that s is a valid roman numeral in the range [1, 3999].\n"
      ],
      "metadata": {
        "id": "Xp93B9RqzNJd"
      }
    },
    {
      "cell_type": "code",
      "source": [
        "def roman_to_int(s):\n",
        "    roman_values = {\n",
        "        'I': 1,\n",
        "        'V': 5,\n",
        "        'X': 10,\n",
        "        'L': 50,\n",
        "        'C': 100,\n",
        "        'D': 500,\n",
        "        'M': 1000\n",
        "    }\n",
        "    total = 0\n",
        "    prev_value = 0\n",
        "\n",
        "    for i in range(len(s)):\n",
        "        current_value = roman_values[s[i]]\n",
        "        if current_value > prev_value:\n",
        "            total += current_value - 2 * prev_value\n",
        "        else:\n",
        "            total += current_value\n",
        "        prev_value = current_value\n",
        "\n",
        "    return total\n",
        "\n",
        "# Example usage\n",
        "s = \"LVIII\"\n",
        "result = roman_to_int(s)\n",
        "print(result)"
      ],
      "metadata": {
        "colab": {
          "base_uri": "https://localhost:8080/"
        },
        "id": "dHamUjp_zG_w",
        "outputId": "e46beb19-1909-428b-8bc3-7c5986434272"
      },
      "execution_count": 20,
      "outputs": [
        {
          "output_type": "stream",
          "name": "stdout",
          "text": [
            "58\n"
          ]
        }
      ]
    },
    {
      "cell_type": "markdown",
      "source": [
        "💡 2. Longest Substring Without Repeating Characters\n",
        "\n",
        "Given a string s, find the length of the longest substring without repeating characters.\n",
        "\n",
        "Example 1:\n",
        "\n",
        "Input: s = \"abcabcbb\"\n",
        "Output: 3\n",
        "Explanation: The answer is \"abc\", with the length of 3.\n",
        "Example 2:\n",
        "\n",
        "Input: s = \"bbbbb\"\n",
        "Output: 1\n",
        "Explanation: The answer is \"b\", with the length of 1.\n",
        "Example 3:\n",
        "\n",
        "Input: s = \"pwwkew\"\n",
        "Output: 3\n",
        "Explanation: The answer is \"wke\", with the length of 3.\n",
        "Notice that the answer must be a substring, \"pwke\" is a subsequence and not a substring.\n",
        "Constraints:\n",
        "\n",
        "0 <= s.length <= 50000\n",
        "s consists of English letters, digits, symbols and spaces.\n"
      ],
      "metadata": {
        "id": "te9-MUYrzgQx"
      }
    },
    {
      "cell_type": "code",
      "source": [
        "def length_of_longest_substring(s):\n",
        "    # Initialize variables\n",
        "    n = len(s)\n",
        "    longest_length = 0\n",
        "    left = 0\n",
        "    char_dict = {}\n",
        "\n",
        "    # Iterate through the string\n",
        "    for right in range(n):\n",
        "        # Check if the current character is already in the window\n",
        "        if s[right] in char_dict:\n",
        "            # Update the left pointer to the next position after the repeating character\n",
        "            left = max(left, char_dict[s[right]] + 1)\n",
        "\n",
        "        # Update the length of the longest substring\n",
        "        longest_length = max(longest_length, right - left + 1)\n",
        "\n",
        "        # Store the current character's index in the dictionary\n",
        "        char_dict[s[right]] = right\n",
        "\n",
        "    return longest_length\n",
        "\n",
        "# Example usage\n",
        "s = \"abcabcbb\"\n",
        "result = length_of_longest_substring(s)\n",
        "print(result)"
      ],
      "metadata": {
        "colab": {
          "base_uri": "https://localhost:8080/"
        },
        "id": "7FmLxEd6zOI2",
        "outputId": "2f1c858d-cd0c-42f3-cd25-86c4f2554741"
      },
      "execution_count": 21,
      "outputs": [
        {
          "output_type": "stream",
          "name": "stdout",
          "text": [
            "3\n"
          ]
        }
      ]
    },
    {
      "cell_type": "markdown",
      "source": [
        "💡 3. Majority Element\n",
        "\n",
        "Given an array nums of size n, return the majority element.\n",
        "\n",
        "The majority element is the element that appears more than ⌊n / 2⌋ times. You may assume that the majority element always exists in the array.\n",
        "\n",
        "Example 1:\n",
        "\n",
        "Input: nums = [3,2,3]\n",
        "Output: 3\n",
        "Example 2:\n",
        "\n",
        "Input: nums = [2,2,1,1,1,2,2]\n",
        "Output: 2\n",
        "Constraints:\n",
        "\n",
        "n == nums.length\n",
        "1 <= n <= 5 * 10^4\n",
        "-10^9 <= nums[i] <= 10^9\n"
      ],
      "metadata": {
        "id": "2Lc6Z2nSzmR3"
      }
    },
    {
      "cell_type": "code",
      "source": [
        "def majority_element(nums):\n",
        "    count = 0\n",
        "    candidate = None\n",
        "\n",
        "    # Find potential majority element\n",
        "    for num in nums:\n",
        "        if count == 0:\n",
        "            candidate = num\n",
        "        count += 1 if num == candidate else -1\n",
        "\n",
        "    # Verify if the candidate is the majority element\n",
        "    count = 0\n",
        "    for num in nums:\n",
        "        if num == candidate:\n",
        "            count += 1\n",
        "\n",
        "    if count > len(nums) // 2:\n",
        "        return candidate\n",
        "    else:\n",
        "        return None\n",
        "\n",
        "# Example usage\n",
        "nums = [3, 2, 3]\n",
        "result = majority_element(nums)\n",
        "print(result)"
      ],
      "metadata": {
        "colab": {
          "base_uri": "https://localhost:8080/"
        },
        "id": "fd95rCNIzgc-",
        "outputId": "8b1d826f-42a0-440a-ea14-116a87d75383"
      },
      "execution_count": 22,
      "outputs": [
        {
          "output_type": "stream",
          "name": "stdout",
          "text": [
            "3\n"
          ]
        }
      ]
    },
    {
      "cell_type": "code",
      "source": [
        "nums = [2,2,1,1,1,2,2]\n",
        "result = majority_element(nums)\n",
        "print(result)"
      ],
      "metadata": {
        "colab": {
          "base_uri": "https://localhost:8080/"
        },
        "id": "sLUY_sUezmr7",
        "outputId": "2c0eaffb-080e-417f-cc6c-1a3cbdbb3880"
      },
      "execution_count": 23,
      "outputs": [
        {
          "output_type": "stream",
          "name": "stdout",
          "text": [
            "2\n"
          ]
        }
      ]
    },
    {
      "cell_type": "markdown",
      "source": [
        "💡 4. Group Anagram\n",
        "\n",
        "Given an array of strings strs, group the anagrams together. You can return the answer in any order.\n",
        "\n",
        "An Anagram is a word or phrase formed by rearranging the letters of a different word or phrase, typically using all the original letters exactly once.\n",
        "\n",
        "Example 1:\n",
        "\n",
        "Input: strs = [\"eat\",\"tea\",\"tan\",\"ate\",\"nat\",\"bat\"]\n",
        "Output: [[\"bat\"],[\"nat\",\"tan\"],[\"ate\",\"eat\",\"tea\"]]\n",
        "\n",
        "\n",
        "Example 2:\n",
        "\n",
        "Input: strs = [\"\"]\n",
        "Output: [[\"\"]]\n",
        "\n",
        "\n",
        "Example 3:\n",
        "\n",
        "Input: strs = [\"a\"]\n",
        "Output: [[\"a\"]]\n",
        "Constraints:\n",
        "\n",
        "1 <= strs.length <= 10000\n",
        "0 <= strs[i].length <= 100\n",
        "strs[i] consists of lowercase English letters.\n"
      ],
      "metadata": {
        "id": "9qAHFN9yz1mu"
      }
    },
    {
      "cell_type": "code",
      "source": [
        "def group_anagrams(strs):\n",
        "    groups = {}\n",
        "\n",
        "    for word in strs:\n",
        "        sorted_word = \"\".join(sorted(word))\n",
        "        if sorted_word not in groups:\n",
        "            groups[sorted_word] = []\n",
        "        groups[sorted_word].append(word)\n",
        "\n",
        "    return list(groups.values())\n",
        "\n",
        "# Example usage\n",
        "strs = [\"eat\", \"tea\", \"tan\", \"ate\", \"nat\", \"bat\"]\n",
        "result = group_anagrams(strs)\n",
        "print(result)"
      ],
      "metadata": {
        "colab": {
          "base_uri": "https://localhost:8080/"
        },
        "id": "yZk0_xhnzuoG",
        "outputId": "6bcabbc4-59fb-4ebe-e8ac-151e7abcaa1f"
      },
      "execution_count": 24,
      "outputs": [
        {
          "output_type": "stream",
          "name": "stdout",
          "text": [
            "[['eat', 'tea', 'ate'], ['tan', 'nat'], ['bat']]\n"
          ]
        }
      ]
    },
    {
      "cell_type": "markdown",
      "source": [
        "💡 5. Ugly Numbers\n",
        "\n",
        "An ugly number is a positive integer whose prime factors are limited to 2, 3, and 5.\n",
        "\n",
        "Given an integer n, return the nth *ugly number*.\n",
        "\n",
        "Example 1:\n",
        "\n",
        "Input: n = 10\n",
        "Output: 12\n",
        "Explanation: [1, 2, 3, 4, 5, 6, 8, 9, 10, 12] is the sequence of the first 10 ugly numbers.\n",
        "Example 2:\n",
        "\n",
        "Input: n = 1\n",
        "Output: 1\n",
        "Explanation: 1 has no prime factors, therefore all of its prime factors are limited to 2, 3, and 5.\n",
        "Constraints:\n",
        "\n",
        "1 <= n <= 1690\n"
      ],
      "metadata": {
        "id": "iftAfhr8z9Gc"
      }
    },
    {
      "cell_type": "code",
      "source": [
        "def nth_ugly_number(n):\n",
        "    ugly = [0] * n\n",
        "    ugly[0] = 1\n",
        "    p2 = p3 = p5 = 0\n",
        "\n",
        "    for i in range(1, n):\n",
        "        next_ugly = min(ugly[p2] * 2, ugly[p3] * 3, ugly[p5] * 5)\n",
        "        ugly[i] = next_ugly\n",
        "\n",
        "        if next_ugly == ugly[p2] * 2:\n",
        "            p2 += 1\n",
        "        if next_ugly == ugly[p3] * 3:\n",
        "            p3 += 1\n",
        "        if next_ugly == ugly[p5] * 5:\n",
        "            p5 += 1\n",
        "\n",
        "    return ugly[n - 1]\n",
        "\n",
        "# Example usage\n",
        "n = 10\n",
        "result = nth_ugly_number(n)\n",
        "print(result)"
      ],
      "metadata": {
        "colab": {
          "base_uri": "https://localhost:8080/"
        },
        "id": "je4bp_Alz4C-",
        "outputId": "74f45ce6-add4-45d7-e79b-bfa3d60bfaf4"
      },
      "execution_count": 25,
      "outputs": [
        {
          "output_type": "stream",
          "name": "stdout",
          "text": [
            "12\n"
          ]
        }
      ]
    },
    {
      "cell_type": "markdown",
      "source": [
        "💡 6. Top K Frequent Words\n",
        "\n",
        "Given an array of strings words and an integer k, return the k most frequent strings.\n",
        "\n",
        "Return the answer sorted by the frequency from highest to lowest. Sort the words with the same frequency by their lexicographical order.\n",
        "\n",
        "Example 1:\n",
        "\n",
        "Input: words = [\"i\",\"love\",\"leetcode\",\"i\",\"love\",\"coding\"], k = 2\n",
        "Output: [\"i\",\"love\"]\n",
        "Explanation: \"i\" and \"love\" are the two most frequent words.\n",
        "Note that \"i\" comes before \"love\" due to a lower alphabetical order.\n",
        "Example 2:\n",
        "\n",
        "Input: words = [\"the\",\"day\",\"is\",\"sunny\",\"the\",\"the\",\"the\",\"sunny\",\"is\",\"is\"], k = 4\n",
        "Output: [\"the\",\"is\",\"sunny\",\"day\"]\n",
        "Explanation: \"the\", \"is\", \"sunny\" and \"day\" are the four most frequent words, with the number of occurrence being 4, 3, 2 and 1 respectively.\n",
        "Constraints:\n",
        "\n",
        "1 <= words.length <= 500\n",
        "1 <= words[i].length <= 10\n",
        "words[i] consists of lowercase English letters.\n",
        "k is in the range [1, The number of **unique** words[i]]\n"
      ],
      "metadata": {
        "id": "Tnmwvsz30Elj"
      }
    },
    {
      "cell_type": "code",
      "source": [
        "import heapq\n",
        "from collections import defaultdict\n",
        "\n",
        "def topKFrequent(words, k):\n",
        "    word_count = defaultdict(int)\n",
        "    for word in words:\n",
        "        word_count[word] += 1\n",
        "\n",
        "    pq = []\n",
        "    for word, count in word_count.items():\n",
        "        heapq.heappush(pq, (-count, word))\n",
        "        if len(pq) > k:\n",
        "            heapq.heappop(pq)\n",
        "\n",
        "    result = []\n",
        "    while pq:\n",
        "        result.append(heapq.heappop(pq)[1])\n",
        "\n",
        "    return result[::-1]\n",
        "\n",
        "# Example usage\n",
        "words = [\"i\",\"love\",\"leetcode\",\"i\",\"love\",\"coding\"]\n",
        "k = 2\n",
        "result = topKFrequent(words, k)\n",
        "print(result)"
      ],
      "metadata": {
        "colab": {
          "base_uri": "https://localhost:8080/"
        },
        "id": "swZoQZHuz9lQ",
        "outputId": "1bf21ba8-ebbc-46bd-afa6-b4f2130539eb"
      },
      "execution_count": 26,
      "outputs": [
        {
          "output_type": "stream",
          "name": "stdout",
          "text": [
            "['leetcode', 'coding']\n"
          ]
        }
      ]
    },
    {
      "cell_type": "markdown",
      "source": [
        "💡 7. Sliding Window Maximum\n",
        "\n",
        "You are given an array of integers nums, there is a sliding window of size k which is moving from the very left of the array to the very right. You can only see the k numbers in the window. Each time the sliding window moves right by one position.\n",
        "\n",
        "Return the max sliding window.\n",
        "\n",
        "Example 1:\n",
        "\n",
        "Input: nums = [1,3,-1,-3,5,3,6,7], k = 3\n",
        "Output: [3,3,5,5,6,7]\n",
        "Explanation:\n",
        "Window position                Max\n",
        "---------------               -----\n",
        "[1  3  -1] -3  5  3  6 7         3\n",
        " 1 [3  -1  -3] 5  3  6 7         3\n",
        " 1  3 [-1  -3  5] 3  6 7         5\n",
        " 1  3  -1 [-3  5  3] 6 7         5\n",
        " 1  3  -1  -3 [5  3  6]7         6\n",
        " 1  3  -1  -3  5 [3  6  7]       7\n",
        "Example 2:\n",
        "\n",
        "Input: nums = [1], k = 1\n",
        "Output: [1]\n",
        "Constraints:\n",
        "\n",
        "1 <= nums.length <= 100000\n",
        "-10000 <= nums[i] <= 10000\n",
        "1 <= k <= nums.length"
      ],
      "metadata": {
        "id": "hdEYc1WV0KOw"
      }
    },
    {
      "cell_type": "code",
      "source": [
        "from collections import deque\n",
        "\n",
        "def maxSlidingWindow(nums, k):\n",
        "    n = len(nums)\n",
        "    result = []\n",
        "    dq = deque()\n",
        "\n",
        "    for i in range(n):\n",
        "        # Remove indices from the front that are outside the current window\n",
        "        if dq and dq[0] < i - k + 1:\n",
        "            dq.popleft()\n",
        "\n",
        "        # Remove indices from the back corresponding to elements smaller than or equal to nums[i]\n",
        "        while dq and nums[i] >= nums[dq[-1]]:\n",
        "            dq.pop()\n",
        "\n",
        "        # Append the current index to the back of the deque\n",
        "        dq.append(i)\n",
        "\n",
        "        # Add the maximum element in the current window to the result list\n",
        "        if i >= k - 1:\n",
        "            result.append(nums[dq[0]])\n",
        "\n",
        "    return result\n",
        "\n",
        "# Example usage\n",
        "nums = [1, 3, -1, -3, 5, 3, 6, 7]\n",
        "k = 3\n",
        "result = maxSlidingWindow(nums, k)\n",
        "print(result)"
      ],
      "metadata": {
        "colab": {
          "base_uri": "https://localhost:8080/"
        },
        "id": "GjcdXM7V0E0y",
        "outputId": "b7a3880d-336d-46c9-f1e3-41d6949ca3c7"
      },
      "execution_count": 27,
      "outputs": [
        {
          "output_type": "stream",
          "name": "stdout",
          "text": [
            "[3, 3, 5, 5, 6, 7]\n"
          ]
        }
      ]
    },
    {
      "cell_type": "markdown",
      "source": [
        "💡 8. Find K Closest Elements\n",
        "\n",
        "Given a sorted integer array arr, two integers k and x, return the k closest integers to x in the array. The result should also be sorted in ascending order.\n",
        "\n",
        "An integer a is closer to x than an integer b if:\n",
        "\n",
        "|a - x| < |b - x|, or\n",
        "|a - x| == |b - x| and a < b\n",
        "Example 1:\n",
        "\n",
        "Input: arr = [1,2,3,4,5], k = 4, x = 3\n",
        "Output: [1,2,3,4]\n",
        "Example 2:\n",
        "\n",
        "Input: arr = [1,2,3,4,5], k = 4, x = -1\n",
        "Output: [1,2,3,4]\n",
        "Constraints:\n",
        "\n",
        "1 <= k <= arr.length\n",
        "1 <= arr.length <= 10000\n",
        "arr is sorted in ascending order.\n",
        "-10000 <= arr[i], x <= 10000\n"
      ],
      "metadata": {
        "id": "sVI2xCYo0SVm"
      }
    },
    {
      "cell_type": "code",
      "source": [
        "def findClosestElements(arr, k, x):\n",
        "    # Initialize left and right pointers\n",
        "    left = 0\n",
        "    right = len(arr) - 1\n",
        "\n",
        "    # Find the index of the element closest to x using binary search\n",
        "    while left < right:\n",
        "        mid = (left + right) // 2\n",
        "        if arr[mid] < x:\n",
        "            left = mid + 1\n",
        "        else:\n",
        "            right = mid\n",
        "\n",
        "    # Initialize the range of k closest elements\n",
        "    left = max(0, left - k)\n",
        "    right = min(len(arr) - 1, left + k - 1)\n",
        "\n",
        "    # Shrink the range based on the absolute difference with x\n",
        "    while right - left > k - 1:\n",
        "        if abs(arr[left] - x) > abs(arr[right] - x):\n",
        "            left += 1\n",
        "        else:\n",
        "            right -= 1\n",
        "\n",
        "    # Return the k closest elements\n",
        "    return arr[left:right + 1]\n",
        "\n",
        "# Example usage\n",
        "arr = [1, 2, 3, 4, 5]\n",
        "k = 4\n",
        "x = 3\n",
        "result = findClosestElements(arr, k, x)\n",
        "print(result)"
      ],
      "metadata": {
        "colab": {
          "base_uri": "https://localhost:8080/"
        },
        "id": "p-OVG0Nr0NJl",
        "outputId": "44fbc9b5-d5ac-42ab-eef4-f124e6094655"
      },
      "execution_count": 28,
      "outputs": [
        {
          "output_type": "stream",
          "name": "stdout",
          "text": [
            "[1, 2, 3, 4]\n"
          ]
        }
      ]
    }
  ],
  "metadata": {
    "colab": {
      "provenance": []
    },
    "kernelspec": {
      "display_name": "Python 3",
      "name": "python3"
    },
    "language_info": {
      "name": "python"
    }
  },
  "nbformat": 4,
  "nbformat_minor": 0
}