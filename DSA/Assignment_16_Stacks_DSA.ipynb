{
  "cells": [
    {
      "cell_type": "markdown",
      "source": [
        "## **Submitted By: `Shreeyash Pardeshi`**"
      ],
      "metadata": {
        "id": "AGMrj3AdsZZF"
      }
    },
    {
      "cell_type": "markdown",
      "source": [
        "💡 Question 1\n",
        "\n",
        "Given an array, for each element find the value of the nearest element to the right which is having a frequency greater than that of the current element. If there does not exist an answer for a position, then make the value ‘-1’.\n",
        "\n",
        "Examples:\n",
        "\n",
        "Input: a[] = [1, 1, 2, 3, 4, 2, 1] Output : [-1, -1, 1, 2, 2, 1, -1]\n",
        "\n",
        "Explanation: Given array a[] = [1, 1, 2, 3, 4, 2, 1] Frequency of each element is: 3, 3, 2, 1, 1, 2, 3\n",
        "\n",
        "Lets calls Next Greater Frequency element as NGF\n",
        "\n",
        "For element a[0] = 1 which has a frequency = 3, As it has frequency of 3 and no other next element has frequency more than 3 so '-1'\n",
        "For element a[1] = 1 it will be -1 same logic like a[0]\n",
        "For element a[2] = 2 which has frequency = 2, NGF element is 1 at position = 6 with frequency of 3 > 2\n",
        "For element a[3] = 3 which has frequency = 1, NGF element is 2 at position = 5 with frequency of 2 > 1\n",
        "For element a[4] = 4 which has frequency = 1, NGF element is 2 at position = 5 with frequency of 2 > 1\n",
        "For element a[5] = 2 which has frequency = 2, NGF element is 1 at position = 6 with frequency of 3 > 2\n",
        "For element a[6] = 1 there is no element to its right, hence -1\n",
        "Input : a[] = [1, 1, 1, 2, 2, 2, 2, 11, 3, 3] Output : [2, 2, 2, -1, -1, -1, -1, 3, -1, -1]"
      ],
      "metadata": {
        "id": "32yB12cqoJPM"
      }
    },
    {
      "cell_type": "code",
      "source": [
        "def findNearestGreaterFrequency(arr):\n",
        "    result = [-1] * len(arr)\n",
        "    frequencies = {}\n",
        "    stack = []\n",
        "\n",
        "    for i in range(len(arr) - 1, -1, -1):\n",
        "        if arr[i] in frequencies:\n",
        "            frequencies[arr[i]] += 1\n",
        "        else:\n",
        "            frequencies[arr[i]] = 1\n",
        "\n",
        "        while stack and frequencies[arr[i]] >= frequencies[arr[stack[-1]]]:\n",
        "            stack.pop()\n",
        "\n",
        "        if stack:\n",
        "            result[i] = arr[stack[-1]]\n",
        "\n",
        "        stack.append(i)\n",
        "\n",
        "    return result\n",
        "\n",
        "arr1 = [1, 1, 2, 3, 4, 2, 1]\n",
        "result1 = findNearestGreaterFrequency(arr1)\n",
        "print(result1)"
      ],
      "metadata": {
        "colab": {
          "base_uri": "https://localhost:8080/"
        },
        "id": "EmsYiGnBrPIb",
        "outputId": "a73681cf-caba-4c8f-af46-0749c84916dc"
      },
      "execution_count": 12,
      "outputs": [
        {
          "output_type": "stream",
          "name": "stdout",
          "text": [
            "[-1, -1, -1, -1, -1, -1, -1]\n"
          ]
        }
      ]
    },
    {
      "cell_type": "markdown",
      "source": [
        "💡 Question 2\n",
        "\n",
        "Given a stack of integers, sort it in ascending order using another temporary stack.\n",
        "\n",
        "Examples:\n",
        "\n",
        "Input : [34, 3, 31, 98, 92, 23] Output : [3, 23, 31, 34, 92, 98]\n",
        "\n",
        "Input : [3, 5, 1, 4, 2, 8] Output : [1, 2, 3, 4, 5, 8]"
      ],
      "metadata": {
        "id": "3mgM6Ag2r28W"
      }
    },
    {
      "cell_type": "code",
      "source": [
        "def sortStack(stack):\n",
        "    tmpStack = []\n",
        "\n",
        "    while stack:\n",
        "        temp = stack.pop()\n",
        "\n",
        "        while tmpStack and tmpStack[-1] > temp:\n",
        "            stack.append(tmpStack.pop())\n",
        "\n",
        "        tmpStack.append(temp)\n",
        "\n",
        "    return tmpStack\n",
        "\n",
        "stack = [34, 3, 31, 98, 92, 23]\n",
        "sortedStack = sortStack(stack)\n",
        "print(sortedStack)"
      ],
      "metadata": {
        "colab": {
          "base_uri": "https://localhost:8080/"
        },
        "id": "CIqeQru5rfeE",
        "outputId": "29319ffe-1dbc-4b4d-d93a-3900b427f75f"
      },
      "execution_count": 13,
      "outputs": [
        {
          "output_type": "stream",
          "name": "stdout",
          "text": [
            "[3, 23, 31, 34, 92, 98]\n"
          ]
        }
      ]
    },
    {
      "cell_type": "code",
      "source": [
        "stack = [3, 5, 1, 4, 2, 8]\n",
        "sortedStack = sortStack(stack)\n",
        "print(sortedStack)"
      ],
      "metadata": {
        "colab": {
          "base_uri": "https://localhost:8080/"
        },
        "id": "sEMRq7EXsFTu",
        "outputId": "b620a4c8-e415-495b-e2d2-75f3bf6ad0b1"
      },
      "execution_count": 14,
      "outputs": [
        {
          "output_type": "stream",
          "name": "stdout",
          "text": [
            "[1, 2, 3, 4, 5, 8]\n"
          ]
        }
      ]
    },
    {
      "cell_type": "markdown",
      "source": [
        "💡 Question 3\n",
        "\n",
        "Given a stack with push(), pop(), and empty() operations, The task is to delete the middle element ****of it without using any additional data structure.\n",
        "\n",
        "Input  : Stack[] = [1, 2, 3, 4, 5]\n",
        "\n",
        "Output : Stack[] = [1, 2, 4, 5]\n",
        "\n",
        "Input  : Stack[] = [1, 2, 3, 4, 5, 6]\n",
        "\n",
        "Output : Stack[] = [1, 2, 4, 5, 6]\n"
      ],
      "metadata": {
        "id": "gDt5UhUAsS-V"
      }
    },
    {
      "cell_type": "code",
      "source": [
        "def delete_middle(stack, k):\n",
        "    if k == 1:\n",
        "        stack.pop()\n",
        "        return\n",
        "    temp = stack.pop()\n",
        "    delete_middle(stack, k - 1)\n",
        "    stack.append(temp)\n",
        "\n",
        "\n",
        "def delete_middle_element(stack):\n",
        "    size = len(stack)\n",
        "    k = (size // 2) + 1\n",
        "    delete_middle(stack, k)\n",
        "\n",
        "\n",
        "\n",
        "stack = [1, 2, 3, 4, 5]\n",
        "delete_middle_element(stack)\n",
        "print(stack)\n",
        "\n",
        "stack = [1, 2, 3, 4, 5, 6]\n",
        "delete_middle_element(stack)\n",
        "print(stack)"
      ],
      "metadata": {
        "colab": {
          "base_uri": "https://localhost:8080/"
        },
        "id": "93cEM5oUsJ7T",
        "outputId": "679da579-c9b2-4ff7-ea6d-6c1748855a41"
      },
      "execution_count": 15,
      "outputs": [
        {
          "output_type": "stream",
          "name": "stdout",
          "text": [
            "[1, 2, 4, 5]\n",
            "[1, 2, 4, 5, 6]\n"
          ]
        }
      ]
    },
    {
      "cell_type": "markdown",
      "source": [
        "💡 Question 4\n",
        "\n",
        "Given a Queue consisting of first n natural numbers (in random order). The task is to check whether the given Queue elements can be arranged in increasing order in another Queue using a stack. The operation allowed are:\n",
        "\n",
        "Push and pop elements from the stack\n",
        "Pop (Or Dequeue) from the given Queue.\n",
        "Push (Or Enqueue) in the another Queue.\n",
        "Examples :\n",
        "\n",
        "Input : Queue[] = { 5, 1, 2, 3, 4 }\n",
        "\n",
        "Output : Yes\n",
        "\n",
        "Pop the first element of the given Queue\n",
        "\n",
        "i.e 5. Push 5 into the stack.\n",
        "\n",
        "Now, pop all the elements of the given Queue and push them to second Queue.\n",
        "\n",
        "Now, pop element 5 in the stack and push it to the second Queue.\n",
        "\n",
        "Input : Queue[] = { 5, 1, 2, 6, 3, 4 }\n",
        "\n",
        "Output : No\n",
        "\n",
        "Push 5 to stack.\n",
        "\n",
        "Pop 1, 2 from given Queue and push it to another Queue.\n",
        "\n",
        "Pop 6 from given Queue and push to stack.\n",
        "\n",
        "Pop 3, 4 from given Queue and push to second Queue.\n",
        "\n",
        "Now, from using any of above operation, we cannot push 5 into the second Queue because it is below the 6 in the stack.\n",
        "\n",
        "\n"
      ],
      "metadata": {
        "id": "vYuXCywDsgUS"
      }
    },
    {
      "cell_type": "code",
      "source": [
        "def check_queue_order(queue):\n",
        "    stack = []\n",
        "    expected = 1\n",
        "\n",
        "    while not queue.empty():\n",
        "        front = queue.queue[0]\n",
        "\n",
        "        if front == expected:\n",
        "            queue.get()\n",
        "            expected += 1\n",
        "        else:\n",
        "            if len(stack) == 0 or stack[-1] > front:\n",
        "                stack.append(front)\n",
        "                queue.get()\n",
        "            else:\n",
        "                return \"No\"\n",
        "\n",
        "    while len(stack) > 0:\n",
        "        if stack[-1] == expected:\n",
        "            stack.pop()\n",
        "            expected += 1\n",
        "        else:\n",
        "            return \"No\"\n",
        "\n",
        "    return \"Yes\"\n",
        "\n",
        "queue = Queue()\n",
        "queue.put(5)\n",
        "queue.put(1)\n",
        "queue.put(2)\n",
        "queue.put(3)\n",
        "queue.put(4)\n",
        "result = check_queue_order(queue)\n",
        "print(result)\n",
        "queue = Queue()\n",
        "queue.put(5)\n",
        "queue.put(1)\n",
        "queue.put(2)\n",
        "queue.put(6)\n",
        "queue.put(3)\n",
        "queue.put(4)\n",
        "result = check_queue_order(queue)\n",
        "print(result)"
      ],
      "metadata": {
        "colab": {
          "base_uri": "https://localhost:8080/"
        },
        "id": "qyC1qSZZsSZm",
        "outputId": "c6987e07-9770-4015-c5c2-3e207d19f86b"
      },
      "execution_count": 16,
      "outputs": [
        {
          "output_type": "stream",
          "name": "stdout",
          "text": [
            "Yes\n",
            "No\n"
          ]
        }
      ]
    },
    {
      "cell_type": "markdown",
      "source": [
        "💡 Question 5\n",
        "\n",
        "Given a number , write a program to reverse this number using stack.\n",
        "\n",
        "Examples:\n",
        "\n",
        "Input : 365 Output : 563\n",
        "\n",
        "Input : 6899 Output : 9986"
      ],
      "metadata": {
        "id": "E776gRxosoRA"
      }
    },
    {
      "cell_type": "code",
      "source": [
        "def reverseNumber(n):\n",
        "    stack = []\n",
        "    s = str(n)\n",
        "    reversedNum = ''\n",
        "\n",
        "    for char in s:\n",
        "        stack.append(char)\n",
        "\n",
        "    while stack:\n",
        "        reversedNum += stack.pop()\n",
        "\n",
        "    return reversedNum\n",
        "\n",
        "\n",
        "n = 365\n",
        "print(reverseNumber(n))"
      ],
      "metadata": {
        "colab": {
          "base_uri": "https://localhost:8080/"
        },
        "id": "vuacykWksfKv",
        "outputId": "78689f14-0520-4bab-cd48-c30b05a02d38"
      },
      "execution_count": 17,
      "outputs": [
        {
          "output_type": "stream",
          "name": "stdout",
          "text": [
            "563\n"
          ]
        }
      ]
    },
    {
      "cell_type": "code",
      "source": [
        "n = 6899\n",
        "print(reverseNumber(n))"
      ],
      "metadata": {
        "colab": {
          "base_uri": "https://localhost:8080/"
        },
        "id": "HjnR144VswoS",
        "outputId": "6f12e2eb-581d-46c7-8fcb-912f6bb2d33f"
      },
      "execution_count": 18,
      "outputs": [
        {
          "output_type": "stream",
          "name": "stdout",
          "text": [
            "9986\n"
          ]
        }
      ]
    },
    {
      "cell_type": "markdown",
      "source": [
        "💡 Question 6\n",
        "\n",
        "Given an integer k and a queue of integers, The task is to reverse the order of the first k elements of the queue, leaving the other elements in the same relative order.\n",
        "\n",
        "Only following standard operations are allowed on queue.\n",
        "\n",
        "enqueue(x) : Add an item x to rear of queue\n",
        "dequeue() : Remove an item from front of queue\n",
        "size() : Returns number of elements in queue.\n",
        "front() : Finds front item."
      ],
      "metadata": {
        "id": "9pN9R2_ks9EG"
      }
    },
    {
      "cell_type": "code",
      "source": [
        "from queue import Queue\n",
        "from collections import deque\n",
        "\n",
        "\n",
        "def reversedOrder(queue, k):\n",
        "    stack = []\n",
        "    temp_queue = Queue()\n",
        "\n",
        "    for ele in range(k):\n",
        "        stack.append(queue.get())\n",
        "\n",
        "    while stack:\n",
        "        temp_queue.put(stack.pop())\n",
        "\n",
        "    # Enqueue the remaining elements from the original queue into the temporary queue\n",
        "    while not queue.empty():\n",
        "        temp_queue.put(queue.get())\n",
        "\n",
        "    # Update the original queue by dequeuing elements from the temporary queue\n",
        "    while not temp_queue.empty():\n",
        "        queue.put(temp_queue.get())\n",
        "\n",
        "    return queue\n",
        "\n",
        "queue = Queue()\n",
        "queue.put(1)\n",
        "queue.put(2)\n",
        "queue.put(3)\n",
        "queue.put(4)\n",
        "queue.put(5)\n",
        "\n",
        "k = 3\n",
        "reversed_queue = reversedOrder(queue, k)\n",
        "\n",
        "while not reversed_queue.empty():\n",
        "    print(reversed_queue.get())"
      ],
      "metadata": {
        "colab": {
          "base_uri": "https://localhost:8080/"
        },
        "id": "LPxBaXU7s3_4",
        "outputId": "62597eda-c7a1-47d6-bf21-50231f97f111"
      },
      "execution_count": 19,
      "outputs": [
        {
          "output_type": "stream",
          "name": "stdout",
          "text": [
            "3\n",
            "2\n",
            "1\n",
            "4\n",
            "5\n"
          ]
        }
      ]
    },
    {
      "cell_type": "markdown",
      "source": [
        "💡 Question 7\n",
        "\n",
        "Given a sequence of n strings, the task is to check if any two similar words come together and then destroy each other then print the number of words left in the sequence after this pairwise destruction.\n",
        "\n",
        "Examples:\n",
        "\n",
        "Input : ab aa aa bcd ab\n",
        "\n",
        "Output : 3\n",
        "\n",
        "As aa, aa destroys each other so,\n",
        "\n",
        "ab bcd ab is the new sequence.\n",
        "\n",
        "Input :  tom jerry jerry tom\n",
        "\n",
        "Output : 0\n",
        "\n",
        "As first both jerry will destroy each other.\n",
        "\n",
        "Then sequence will be tom, tom they will also destroy\n",
        "\n",
        "each other. So, the final sequence doesn’t contain any\n",
        "\n",
        "word.\n"
      ],
      "metadata": {
        "id": "ms-L48K2tPd2"
      }
    },
    {
      "cell_type": "code",
      "source": [
        "def count_remaining_words(sequence):\n",
        "    words = sequence.split()\n",
        "    stack = []\n",
        "\n",
        "    for word in words:\n",
        "        if not stack or word != stack[-1]:\n",
        "            stack.append(word)\n",
        "        else:\n",
        "            stack.pop()\n",
        "\n",
        "    remaining_words = len(stack)\n",
        "    return remaining_words\n",
        "\n",
        "sequence = \"ab aa aa bcd ab\"\n",
        "result = count_remaining_words(sequence)\n",
        "print(result)\n",
        "\n",
        "sequence = \"tom jerry jerry tom\"\n",
        "result = count_remaining_words(sequence)\n",
        "print(result)"
      ],
      "metadata": {
        "colab": {
          "base_uri": "https://localhost:8080/"
        },
        "id": "gd2W2ySttI0R",
        "outputId": "9f435811-3030-4fde-b273-4568830f49d6"
      },
      "execution_count": 20,
      "outputs": [
        {
          "output_type": "stream",
          "name": "stdout",
          "text": [
            "3\n",
            "0\n"
          ]
        }
      ]
    },
    {
      "cell_type": "markdown",
      "source": [
        "💡 Question 8\n",
        "\n",
        "Given an array of integers, the task is to find the maximum absolute difference between the nearest left and the right smaller element of every element in the array.\n",
        "\n",
        "Note: If there is no smaller element on right side or left side of any element then we take zero as the smaller element. For example for the leftmost element, the nearest smaller element on the left side is considered as 0. Similarly, for rightmost elements, the smaller element on the right side is considered as 0.\n",
        "\n",
        "Examples:\n",
        "\n",
        "Input : arr[] = {2, 1, 8} Output : 1 Left smaller LS[] {0, 0, 1} Right smaller RS[] {1, 0, 0} Maximum Diff of abs(LS[i] - RS[i]) = 1\n",
        "\n",
        "Input : arr[] = {2, 4, 8, 7, 7, 9, 3} Output : 4 Left smaller LS[] = {0, 2, 4, 4, 4, 7, 2} Right smaller RS[] = {0, 3, 7, 3, 3, 3, 0} Maximum Diff of abs(LS[i] - RS[i]) = 7 - 3 = 4\n",
        "\n",
        "Input : arr[] = {5, 1, 9, 2, 5, 1, 7} Output : 1"
      ],
      "metadata": {
        "id": "QDmy8lUmtZOQ"
      }
    },
    {
      "cell_type": "code",
      "source": [
        "def max_absolute_difference(arr):\n",
        "    n = len(arr)\n",
        "    LS = [0] * n\n",
        "    RS = [0] * n\n",
        "    stack = []\n",
        "\n",
        "    # Calculate LS (Left Smaller)\n",
        "    for i in range(n):\n",
        "        while stack and stack[-1] >= arr[i]:\n",
        "            stack.pop()\n",
        "        if stack:\n",
        "            LS[i] = stack[-1]\n",
        "        stack.append(arr[i])\n",
        "\n",
        "    stack.clear()\n",
        "\n",
        "    # Calculate RS (Right Smaller)\n",
        "    for i in range(n - 1, -1, -1):\n",
        "        while stack and stack[-1] >= arr[i]:\n",
        "            stack.pop()\n",
        "        if stack:\n",
        "            RS[i] = stack[-1]\n",
        "        stack.append(arr[i])\n",
        "\n",
        "    max_diff = 0\n",
        "\n",
        "    for i in range(n):\n",
        "        diff = abs(LS[i] - RS[i])\n",
        "        if diff > max_diff:\n",
        "            max_diff = diff\n",
        "\n",
        "    return max_diff\n",
        "\n",
        "\n",
        "arr = [2, 1, 8]\n",
        "result = max_absolute_difference(arr)\n",
        "print(result)"
      ],
      "metadata": {
        "colab": {
          "base_uri": "https://localhost:8080/"
        },
        "id": "CvTcFDX0tO0l",
        "outputId": "e39c2e0f-f135-4d77-fe42-883ff696ed4f"
      },
      "execution_count": 21,
      "outputs": [
        {
          "output_type": "stream",
          "name": "stdout",
          "text": [
            "1\n"
          ]
        }
      ]
    },
    {
      "cell_type": "code",
      "source": [
        "arr = [2, 4, 8, 7, 7, 9, 3]\n",
        "result = max_absolute_difference(arr)\n",
        "print(result)"
      ],
      "metadata": {
        "colab": {
          "base_uri": "https://localhost:8080/"
        },
        "id": "pcpYQp9LtYPj",
        "outputId": "88d8bc4d-0a66-4edc-c76b-932eac843004"
      },
      "execution_count": 22,
      "outputs": [
        {
          "output_type": "stream",
          "name": "stdout",
          "text": [
            "4\n"
          ]
        }
      ]
    },
    {
      "cell_type": "code",
      "source": [
        "arr = [5, 1, 9, 2, 5, 1, 7]\n",
        "result = max_absolute_difference(arr)\n",
        "print(result)"
      ],
      "metadata": {
        "colab": {
          "base_uri": "https://localhost:8080/"
        },
        "id": "N5mybJedtibb",
        "outputId": "66027e65-7dba-40c5-c71c-136cb6593798"
      },
      "execution_count": 23,
      "outputs": [
        {
          "output_type": "stream",
          "name": "stdout",
          "text": [
            "1\n"
          ]
        }
      ]
    }
  ],
  "metadata": {
    "colab": {
      "provenance": []
    },
    "kernelspec": {
      "display_name": "Python 3",
      "name": "python3"
    },
    "language_info": {
      "name": "python"
    }
  },
  "nbformat": 4,
  "nbformat_minor": 0
}