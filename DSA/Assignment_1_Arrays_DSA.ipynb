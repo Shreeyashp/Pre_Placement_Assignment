{
  "nbformat": 4,
  "nbformat_minor": 0,
  "metadata": {
    "colab": {
      "provenance": []
    },
    "kernelspec": {
      "name": "python3",
      "display_name": "Python 3"
    },
    "language_info": {
      "name": "python"
    }
  },
  "cells": [
    {
      "cell_type": "markdown",
      "source": [
        "## Assignment No: 1"
      ],
      "metadata": {
        "id": "S_Ocs-SaYlJm"
      }
    },
    {
      "cell_type": "markdown",
      "source": [
        "**Q1. Given an array of integers nums and an integer target, return indices of the two numbers such that they add up to target.\n",
        "You may assume that each input would have exactly one solution, and you may not use the same element twice.**\n",
        "\n",
        "You can return the answer in any order.\n",
        "\n",
        "Example: Input: nums = [2,7,11,15], target = 9 Output0 [0,1]\n",
        "\n",
        "Explanation: Because nums[0] + nums[1] == 9, we return [0, 1]"
      ],
      "metadata": {
        "id": "nMbNIYtbQmbI"
      }
    },
    {
      "cell_type": "code",
      "execution_count": 20,
      "metadata": {
        "colab": {
          "base_uri": "https://localhost:8080/"
        },
        "id": "u7XaiqDzQUZL",
        "outputId": "830ec31f-f2ce-49fc-a8bb-42ae15ced0b5"
      },
      "outputs": [
        {
          "name": "stdout",
          "output_type": "stream",
          "text": [
            "2 7 11 15\n",
            "9\n"
          ]
        },
        {
          "output_type": "execute_result",
          "data": {
            "text/plain": [
              "[0, 1]"
            ]
          },
          "metadata": {},
          "execution_count": 20
        }
      ],
      "source": [
        "def twoSum(arr):\n",
        "    for i in range(len(arr)):\n",
        "        for j in range(i+1, len(arr)):\n",
        "            if arr[i] + arr[j] == target:\n",
        "                return [i, j]\n",
        "            \n",
        "arr = list(map(int, input().split()))\n",
        "target = int(input())\n",
        "\n",
        "twoSum(arr)"
      ]
    },
    {
      "cell_type": "code",
      "source": [
        "arr = list(map(int, input().split()))\n",
        "target = int(input())\n",
        "\n",
        "twoSum(arr)"
      ],
      "metadata": {
        "colab": {
          "base_uri": "https://localhost:8080/"
        },
        "id": "owzTsmgdX33D",
        "outputId": "1a657a39-46f9-4afd-b0bd-9e2b6b88c690"
      },
      "execution_count": 21,
      "outputs": [
        {
          "name": "stdout",
          "output_type": "stream",
          "text": [
            "5 6 7 8 9 4\n",
            "13\n"
          ]
        },
        {
          "output_type": "execute_result",
          "data": {
            "text/plain": [
              "[0, 3]"
            ]
          },
          "metadata": {},
          "execution_count": 21
        }
      ]
    },
    {
      "cell_type": "markdown",
      "source": [
        "**Q2. Given an integer array nums and an integer val, remove all occurrences of val in nums in-place. The order of the elements may be changed. Then return the number of elements in nums which are not equal to val.\n",
        "Consider the number of elements in nums which are not equal to val be k, to get accepted, you need to do the following things:**\n",
        "\n",
        "\n",
        "\n",
        "*  Change the array nums such that the first k elements of nums contain the elements which are not equal to val. The remaining elements of nums are not important as well as the size of nums.\n",
        "* Return k.\n",
        "\n",
        "Example : Input: nums = [3,2,2,3], val = 3 Output: 2, nums = [2,2,*,*]\n",
        "\n",
        "Explanation: Your function should return k = 2, with the first two elements of nums being 2. It does not matter what you leave beyond the returned k (hence they are underscores)"
      ],
      "metadata": {
        "id": "iYmxmHYeRXoI"
      }
    },
    {
      "cell_type": "code",
      "source": [
        "def remove_occurance(arr, val):\n",
        "    l = []\n",
        "    for i in arr:\n",
        "        if i != val:\n",
        "            l.append(i)\n",
        "    return len(l)\n",
        "\n",
        "arr = list(map(int, input().split()))\n",
        "val = int(input())    \n",
        "remove_occurance(arr,val)"
      ],
      "metadata": {
        "colab": {
          "base_uri": "https://localhost:8080/"
        },
        "id": "UMnzQJ2RRPHs",
        "outputId": "f5371eae-dd40-4e5a-d22a-91430689a882"
      },
      "execution_count": 22,
      "outputs": [
        {
          "name": "stdout",
          "output_type": "stream",
          "text": [
            "2 3 3 2\n",
            "2\n"
          ]
        },
        {
          "output_type": "execute_result",
          "data": {
            "text/plain": [
              "2"
            ]
          },
          "metadata": {},
          "execution_count": 22
        }
      ]
    },
    {
      "cell_type": "code",
      "source": [
        "arr = list(map(int, input().split()))\n",
        "val = int(input())\n",
        "remove_occurance(arr,val)"
      ],
      "metadata": {
        "colab": {
          "base_uri": "https://localhost:8080/"
        },
        "id": "uqg-ySkzYMaT",
        "outputId": "2925f297-9215-42e1-f82c-690e0a66ae99"
      },
      "execution_count": 23,
      "outputs": [
        {
          "name": "stdout",
          "output_type": "stream",
          "text": [
            "4 3 4 5 6 7 8 9 0 9 8 7 7 6 5 5 4 2\n",
            "7\n"
          ]
        },
        {
          "output_type": "execute_result",
          "data": {
            "text/plain": [
              "15"
            ]
          },
          "metadata": {},
          "execution_count": 23
        }
      ]
    },
    {
      "cell_type": "markdown",
      "source": [
        "**Q3. Given a sorted array of distinct integers and a target value, return the index if the target is found. If not, return the index where it would be if it were inserted in order.\n",
        "You must write an algorithm with O(log n) runtime complexity.**\n",
        "\n",
        "Example 1: Input: nums = [1,3,5,6], target = 5\n",
        "\n",
        "Output: 2"
      ],
      "metadata": {
        "id": "bDp6P4DWSG1I"
      }
    },
    {
      "cell_type": "code",
      "source": [
        "def search_insert(nums_list, target_num):\n",
        "    left_index = 0\n",
        "    right_index = len(nums_list) - 1\n",
        "    while left_index <= right_index:\n",
        "        middle_index = (left_index + right_index) // 2\n",
        "        if nums_list[middle_index] == target_num:\n",
        "            return middle_index\n",
        "        elif nums_list[middle_index] < target_num:\n",
        "            left_index = middle_index + 1\n",
        "        else:\n",
        "            right_index = middle_index - 1\n",
        "    return left_index\n",
        "\n",
        "\n",
        "nums = [1, 3, 5, 6]\n",
        "target = 5\n",
        "result = search_insert(nums, target)\n",
        "print(result)"
      ],
      "metadata": {
        "colab": {
          "base_uri": "https://localhost:8080/"
        },
        "id": "NccBT9U6R-kn",
        "outputId": "370cfe8a-81c9-4f11-ea96-ee7f3de99014"
      },
      "execution_count": null,
      "outputs": [
        {
          "output_type": "stream",
          "name": "stdout",
          "text": [
            "2\n"
          ]
        }
      ]
    },
    {
      "cell_type": "markdown",
      "source": [
        "**Q4. You are given a large integer represented as an integer array digits, where each digits[i] is the ith digit of the integer. The digits are ordered from most significant to least significant in left-to-right order. The large integer does not contain any leading 0's. Increment the large integer by one and return the resulting array of digits.**\n",
        "Example 1:\n",
        "\n",
        "Input: digits = [1,2,3]\n",
        "\n",
        "Output: [1,2,4]\n",
        "\n",
        "Explanation: The array represents the integer 123.\n",
        "\n",
        "Incrementing by one gives 123 + 1 = 124.\n",
        "\n",
        "Thus, the result should be [1,2,4]."
      ],
      "metadata": {
        "id": "dfp7sll0TQDa"
      }
    },
    {
      "cell_type": "code",
      "source": [
        "def increment_digits(digits_list):\n",
        "    n = len(digits_list)\n",
        "    for i in range(n-1, -1, -1):\n",
        "        if digits_list[i] < 9:\n",
        "            digits_list[i] += 1\n",
        "            break\n",
        "        else:\n",
        "            digits_list[i] = 0\n",
        "            if i == 0:\n",
        "                digits_list.insert(0, 1)\n",
        "    \n",
        "    return digits_list"
      ],
      "metadata": {
        "id": "LFxKWI2vS9KZ"
      },
      "execution_count": null,
      "outputs": []
    },
    {
      "cell_type": "code",
      "source": [
        "digits = [1, 2, 3]\n",
        "result = increment_digits(digits)\n",
        "print(result)"
      ],
      "metadata": {
        "colab": {
          "base_uri": "https://localhost:8080/"
        },
        "id": "tDVSbr09Tt-E",
        "outputId": "5a205a91-41ca-4ac8-fb40-45135a3df071"
      },
      "execution_count": null,
      "outputs": [
        {
          "output_type": "stream",
          "name": "stdout",
          "text": [
            "[1, 2, 4]\n"
          ]
        }
      ]
    },
    {
      "cell_type": "markdown",
      "source": [
        "**Q5. You are given two integer arrays nums1 and nums2, sorted in non-decreasing order, and two integers m and n, representing the number of elements in nums1 and nums2 respectively.\n",
        "Merge nums1 and nums2 into a single array sorted in non-decreasing order.\n",
        "The final sorted array should not be returned by the function, but instead be stored inside the array nums1. To accommodate this, nums1 has a length of m + n, where the first m elements denote the elements that should be merged, and the last n elements are set to 0 and should be ignored. nums2 has a length of n**\n",
        "\n",
        "Example 1:\n",
        "\n",
        "Input: nums1 = [1,2,3,0,0,0], m = 3, nums2 = [2,5,6], n = 3\n",
        "\n",
        "Output: [1,2,2,3,5,6]\n",
        "\n",
        "Explanation: The arrays we are merging are [1,2,3] and [2,5,6].\n",
        "\n",
        "The result of the merge is [1,2,2,3,5,6] with the underlined elements coming from nums1."
      ],
      "metadata": {
        "id": "vs1xM6HDUMYc"
      }
    },
    {
      "cell_type": "code",
      "source": [
        "def merge_sorted_arrays(nums1, m, nums2, n):\n",
        "    i, j, k = m-1, n-1, m+n-1\n",
        "    while i >= 0 and j >= 0:\n",
        "        if nums1[i] > nums2[j]:\n",
        "            nums1[k] = nums1[i]\n",
        "            i -= 1\n",
        "        else:\n",
        "            nums1[k] = nums2[j]\n",
        "            j -= 1\n",
        "        k -= 1\n",
        "    while j >= 0:\n",
        "        nums1[k] = nums2[j]\n",
        "        j -= 1\n",
        "        k -= 1"
      ],
      "metadata": {
        "id": "BHhFVyeLTw3m"
      },
      "execution_count": null,
      "outputs": []
    },
    {
      "cell_type": "code",
      "source": [
        "nums1 = [1, 2, 3, 0, 0, 0]\n",
        "m = 3\n",
        "nums2 = [2, 5, 6]\n",
        "n = 3\n",
        "merge_sorted_arrays(nums1, m, nums2, n)\n",
        "print(nums1)  "
      ],
      "metadata": {
        "colab": {
          "base_uri": "https://localhost:8080/"
        },
        "id": "dKCWlIaTUvDa",
        "outputId": "98293dfe-a88d-42a5-bb9c-9a949bd3ac22"
      },
      "execution_count": null,
      "outputs": [
        {
          "output_type": "stream",
          "name": "stdout",
          "text": [
            "[1, 2, 2, 3, 5, 6]\n"
          ]
        }
      ]
    },
    {
      "cell_type": "markdown",
      "source": [
        "**Q6. Given an integer array nums, return true if any value appears at least twice in the array, and return false if every element is distinct.\n",
        "Example 1: Input: nums = [1,2,3,1]**\n",
        "\n",
        "Output: true"
      ],
      "metadata": {
        "id": "0s0VcoMFU4Ua"
      }
    },
    {
      "cell_type": "code",
      "source": [
        "def valid_array(nums):\n",
        "    if len(set(nums)) == len(nums):\n",
        "        return (False)\n",
        "    else:\n",
        "        return (True)"
      ],
      "metadata": {
        "id": "GnOPbrkYUvhJ"
      },
      "execution_count": null,
      "outputs": []
    },
    {
      "cell_type": "code",
      "source": [
        "nums = [1,2,3,1]\n",
        "valid_array(nums)"
      ],
      "metadata": {
        "colab": {
          "base_uri": "https://localhost:8080/"
        },
        "id": "xvj67Yr0VhaM",
        "outputId": "59f0dc53-b55c-4bb4-8921-f3d092e060f3"
      },
      "execution_count": null,
      "outputs": [
        {
          "output_type": "execute_result",
          "data": {
            "text/plain": [
              "True"
            ]
          },
          "metadata": {},
          "execution_count": 11
        }
      ]
    },
    {
      "cell_type": "code",
      "source": [
        "nums = [3,4,5,6,7,5,4]\n",
        "valid_array(nums)"
      ],
      "metadata": {
        "colab": {
          "base_uri": "https://localhost:8080/"
        },
        "id": "Oti4c7FvVj9T",
        "outputId": "06189e62-e783-45ca-a14f-c5239e166b6d"
      },
      "execution_count": null,
      "outputs": [
        {
          "output_type": "execute_result",
          "data": {
            "text/plain": [
              "True"
            ]
          },
          "metadata": {},
          "execution_count": 12
        }
      ]
    },
    {
      "cell_type": "markdown",
      "source": [
        "**Q7. Given an integer array nums, move all 0's to the end of it while maintaining the relative order of the nonzero elements.\n",
        "Note that you must do this in-place without making a copy of the array.**\n",
        "\n",
        "Example 1:\n",
        "\n",
        "Input: nums = [0,1,0,3,12]\n",
        "\n",
        "Output: [1,3,12,0,0]"
      ],
      "metadata": {
        "id": "jajOGVhgVwWF"
      }
    },
    {
      "cell_type": "code",
      "source": [
        "def move_zeros(nums):\n",
        "    left = 0 \n",
        "    for right in range(len(nums)):\n",
        "        if nums[right] != 0:\n",
        "            nums[left] = nums[right]\n",
        "            left += 1\n",
        "    while left < len(nums):\n",
        "        nums[left] = 0\n",
        "        left += 1\n",
        "    return nums"
      ],
      "metadata": {
        "id": "e__6Vhe8Vr0n"
      },
      "execution_count": null,
      "outputs": []
    },
    {
      "cell_type": "code",
      "source": [
        "nums = [0, 1, 0, 3, 12]\n",
        "result = move_zeros(nums)\n",
        "print(result)"
      ],
      "metadata": {
        "colab": {
          "base_uri": "https://localhost:8080/"
        },
        "id": "b6N0TiQVV2wG",
        "outputId": "5d7feabb-d89f-499a-e458-3ba852bade05"
      },
      "execution_count": null,
      "outputs": [
        {
          "output_type": "stream",
          "name": "stdout",
          "text": [
            "[1, 3, 12, 0, 0]\n"
          ]
        }
      ]
    },
    {
      "cell_type": "code",
      "source": [
        "nums = [0,0,5, 9, 12]\n",
        "result = move_zeros(nums)\n",
        "print(result)"
      ],
      "metadata": {
        "colab": {
          "base_uri": "https://localhost:8080/"
        },
        "id": "ju9wTjh0V6yj",
        "outputId": "78fce26d-f33d-4040-c8d7-b2a0f4983d23"
      },
      "execution_count": null,
      "outputs": [
        {
          "output_type": "stream",
          "name": "stdout",
          "text": [
            "[5, 9, 12, 0, 0]\n"
          ]
        }
      ]
    },
    {
      "cell_type": "markdown",
      "source": [
        "**Q8. You have a set of integers s, which originally contains all the numbers from 1 to n. Unfortunately, due to some error, one of the numbers in s got duplicated to another number in the set, which results in repetition of one number and loss of another number.\n",
        "You are given an integer array nums representing the data status of this set after the error.**\n",
        "\n",
        "Find the number that occurs twice and the number that is missing and return them in the form of an array.\n",
        "\n",
        "Example 1:\n",
        "\n",
        "Input: nums = [1,2,2,4]\n",
        "\n",
        "Output: [2,3]"
      ],
      "metadata": {
        "id": "aNhG_giEWFs4"
      }
    },
    {
      "cell_type": "code",
      "source": [
        "def duplicated_and_missing_value(nums):\n",
        "    duplicate = 0\n",
        "    for i in nums:\n",
        "        if nums.count(i) == 2:\n",
        "            duplicate += i\n",
        "            break\n",
        "    missing_value = duplicate+1\n",
        "    print([duplicate,missing_value])"
      ],
      "metadata": {
        "id": "ECZ2tCMRV_qf"
      },
      "execution_count": null,
      "outputs": []
    },
    {
      "cell_type": "code",
      "source": [
        "nums = [1,2,2,3]\n",
        "duplicated_and_missing_value(nums)"
      ],
      "metadata": {
        "colab": {
          "base_uri": "https://localhost:8080/"
        },
        "id": "A8hOJYJJWX2t",
        "outputId": "aa6ee87e-60ae-4734-9340-a5c5cd4d77b5"
      },
      "execution_count": null,
      "outputs": [
        {
          "output_type": "stream",
          "name": "stdout",
          "text": [
            "[2, 3]\n"
          ]
        }
      ]
    },
    {
      "cell_type": "code",
      "source": [
        "nums = [1,2,3,4,5,6,7,8,8,9]\n",
        "duplicated_and_missing_value(nums)"
      ],
      "metadata": {
        "colab": {
          "base_uri": "https://localhost:8080/"
        },
        "id": "cW3GfFj3WbNI",
        "outputId": "b3e5c27e-f9fe-4f66-ca50-463867923e65"
      },
      "execution_count": null,
      "outputs": [
        {
          "output_type": "stream",
          "name": "stdout",
          "text": [
            "[8, 9]\n"
          ]
        }
      ]
    },
    {
      "cell_type": "markdown",
      "source": [
        "## **Submitted By**: *Shreeyash Pardeshi*"
      ],
      "metadata": {
        "id": "EdFZwxv1Ybu5"
      }
    },
    {
      "cell_type": "code",
      "source": [],
      "metadata": {
        "id": "sJaVw-aPWejp"
      },
      "execution_count": null,
      "outputs": []
    }
  ]
}