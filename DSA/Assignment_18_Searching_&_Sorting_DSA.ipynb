{
  "cells": [
    {
      "cell_type": "markdown",
      "source": [
        "## **Submitted By: `Shreeyash Pardeshi`**"
      ],
      "metadata": {
        "id": "AGMrj3AdsZZF"
      }
    },
    {
      "cell_type": "markdown",
      "source": [
        "💡Question 1. Merge Intervals\n",
        "\n",
        "Given an array of intervals where intervals[i] = [starti, endi], merge all overlapping intervals, and return an array of the non-overlapping intervals that cover all the intervals in the input.\n",
        "\n",
        "Example 1:\n",
        "\n",
        "Input: intervals = [[1,3],[2,6],[8,10],[15,18]]\n",
        "\n",
        "Output: [[1,6],[8,10],[15,18]]\n",
        "\n",
        "Explanation: Since intervals [1,3] and [2,6] overlap, merge them into [1,6].\n",
        "\n"
      ],
      "metadata": {
        "id": "Ewifm2qCxH6b"
      }
    },
    {
      "cell_type": "code",
      "source": [
        "def merge(intervals):\n",
        "    merged = []\n",
        "    intervals.sort(key=lambda x: x[0])  # Sort intervals based on start times\n",
        "\n",
        "    for interval in intervals:\n",
        "        # If the merged list is empty or the current interval does not overlap with the last merged interval\n",
        "        if not merged or interval[0] > merged[-1][1]:\n",
        "            merged.append(interval)\n",
        "        else:\n",
        "            # Merge the overlapping intervals by updating the end time of the last merged interval\n",
        "            merged[-1][1] = max(merged[-1][1], interval[1])\n",
        "\n",
        "    return merged\n",
        "\n",
        "intervals = [[1, 3], [2, 6], [8, 10], [15, 18]]\n",
        "merged_intervals = merge(intervals)\n",
        "print(merged_intervals)"
      ],
      "metadata": {
        "id": "p6CmrB4bxIUj"
      },
      "execution_count": null,
      "outputs": []
    },
    {
      "cell_type": "markdown",
      "source": [
        "💡 Question 2. Sort Colors\n",
        "\n",
        "Given an array nums with n objects colored red, white, or blue, sort them in-place so that objects of the same color are adjacent, with the colors in the order red, white, and blue.\n",
        "\n",
        "We will use the integers 0, 1, and 2 to represent the color red, white, and blue, respectively.\n",
        "\n",
        "You must solve this problem without using the library's sort function.\n",
        "\n",
        "Example 1:\n",
        "\n",
        "Input: nums = [2,0,2,1,1,0]\n",
        "\n",
        "Output: [0,0,1,1,2,2]\n",
        "\n",
        "Constraints:\n",
        "\n",
        "n == nums.length\n",
        "1 <= n <= 300\n",
        "nums[i] is either 0, 1, or 2.\n"
      ],
      "metadata": {
        "id": "pkfiyDOYx9Y8"
      }
    },
    {
      "cell_type": "code",
      "source": [
        "def sortColors(nums):\n",
        "    low = 0\n",
        "    mid = 0\n",
        "    high = len(nums) - 1\n",
        "\n",
        "    while mid <= high:\n",
        "        if nums[mid] == 0:\n",
        "            # Swap nums[low] and nums[mid], increment both low and mid pointers\n",
        "            nums[low], nums[mid] = nums[mid], nums[low]\n",
        "            low += 1\n",
        "            mid += 1\n",
        "        elif nums[mid] == 1:\n",
        "            # No need to swap, just move the mid pointer\n",
        "            mid += 1\n",
        "        else:\n",
        "            # Swap nums[mid] and nums[high], decrement the high pointer\n",
        "            nums[mid], nums[high] = nums[high], nums[mid]\n",
        "            high -= 1\n",
        "\n",
        "    return nums\n",
        "\n",
        "nums = [2, 0, 2, 1, 1, 0]\n",
        "sorted_nums = sortColors(nums)\n",
        "print(sorted_nums)"
      ],
      "metadata": {
        "colab": {
          "base_uri": "https://localhost:8080/"
        },
        "id": "0YtWCUWlx9EL",
        "outputId": "7b177d22-a32d-47ce-fb37-ea761c0dd661"
      },
      "execution_count": 35,
      "outputs": [
        {
          "output_type": "stream",
          "name": "stdout",
          "text": [
            "[0, 0, 1, 1, 2, 2]\n"
          ]
        }
      ]
    },
    {
      "cell_type": "markdown",
      "source": [
        "💡Question 3. First Bad Version Solution\n",
        "\n",
        "You are a product manager and currently leading a team to develop a new product. Unfortunately, the latest version of your product fails the quality check. Since each version is developed based on the previous version, all the versions after a bad version are also bad.\n",
        "\n",
        "Suppose you have n versions [1, 2, ..., n] and you want to find out the first bad one, which causes all the following ones to be bad.\n",
        "\n",
        "You are given an API bool isBadVersion(version) which returns whether version is bad. Implement a function to find the first bad version. You should minimize the number of calls to the API.\n",
        "\n",
        "Example 1:\n",
        "\n",
        "Input: n = 5, bad = 4\n",
        "\n",
        "Output: 4\n",
        "\n",
        "Explanation: call isBadVersion(3) -> false call isBadVersion(5) -> true call isBadVersion(4) -> true Then 4 is the first bad version.\n",
        "\n"
      ],
      "metadata": {
        "id": "POU9A4q-yKFP"
      }
    },
    {
      "cell_type": "code",
      "source": [
        "def isBadVersion(version):\n",
        "    # Placeholder implementation\n",
        "    # Replace this with your actual implementation\n",
        "    if version >= 4:\n",
        "        return True\n",
        "    else:\n",
        "        return False\n",
        "\n",
        "def firstBadVersion(n):\n",
        "    left = 1\n",
        "    right = n\n",
        "\n",
        "    while left < right:\n",
        "        mid = left + (right - left) // 2\n",
        "\n",
        "        if isBadVersion(mid):\n",
        "            right = mid\n",
        "        else:\n",
        "            left = mid + 1\n",
        "\n",
        "    return left\n",
        "\n",
        "n = 5\n",
        "first_bad = firstBadVersion(n)\n",
        "print(\"The first bad version is:\", first_bad)"
      ],
      "metadata": {
        "colab": {
          "base_uri": "https://localhost:8080/"
        },
        "id": "PPMS_qFGyCHC",
        "outputId": "922e6d01-86a3-46ac-aa16-65164f2050da"
      },
      "execution_count": 36,
      "outputs": [
        {
          "output_type": "stream",
          "name": "stdout",
          "text": [
            "The first bad version is: 4\n"
          ]
        }
      ]
    },
    {
      "cell_type": "markdown",
      "source": [
        "💡Question 4. Maximum Gap\n",
        "\n",
        "Given an integer array nums, return the maximum difference between two successive elements in its sorted form. If the array contains less than two elements, return 0.\n",
        "\n",
        "You must write an algorithm that runs in linear time and uses linear extra space.\n",
        "\n",
        "Example 1:\n",
        "\n",
        "Input: nums = [3,6,9,1]\n",
        "\n",
        "Output: 3\n",
        "\n",
        "Explanation: The sorted form of the array is [1,3,6,9], either (3,6) or (6,9) has the maximum difference 3.\n",
        "\n"
      ],
      "metadata": {
        "id": "sxM2eu8syVbu"
      }
    },
    {
      "cell_type": "code",
      "source": [
        "def maximum_gap(nums):\n",
        "    if len(nums) < 2:\n",
        "        return 0\n",
        "\n",
        "    max_num = max(nums)\n",
        "    exp = 1\n",
        "    while max_num // exp > 0:\n",
        "        count = [0] * 10\n",
        "        output = [0] * len(nums)\n",
        "\n",
        "        for num in nums:\n",
        "            digit = (num // exp) % 10\n",
        "            count[digit] += 1\n",
        "\n",
        "        for i in range(1, 10):\n",
        "            count[i] += count[i - 1]\n",
        "\n",
        "        for i in range(len(nums) - 1, -1, -1):\n",
        "            digit = (nums[i] // exp) % 10\n",
        "            output[count[digit] - 1] = nums[i]\n",
        "            count[digit] -= 1\n",
        "\n",
        "        nums = output\n",
        "        exp *= 10\n",
        "\n",
        "    max_gap = 0\n",
        "    for i in range(1, len(nums)):\n",
        "        max_gap = max(max_gap, nums[i] - nums[i - 1])\n",
        "\n",
        "    return max_gap\n",
        "\n",
        "nums = [3, 6, 9, 1]\n",
        "print(maximum_gap(nums))"
      ],
      "metadata": {
        "colab": {
          "base_uri": "https://localhost:8080/"
        },
        "id": "-8g3zcNPyKvQ",
        "outputId": "657ee984-9be3-419a-d07b-5ea1ad8469ed"
      },
      "execution_count": 37,
      "outputs": [
        {
          "output_type": "stream",
          "name": "stdout",
          "text": [
            "3\n"
          ]
        }
      ]
    },
    {
      "cell_type": "markdown",
      "source": [
        "💡Question 5. Contains Duplicate\n",
        "\n",
        "Given an integer array nums, return true if any value appears at least twice in the array, and return false if every element is distinct.\n",
        "\n",
        "Example 1:\n",
        "\n",
        "Input: nums = [1,2,3,1]\n",
        "\n",
        "Output: true\n",
        "\n"
      ],
      "metadata": {
        "id": "3Id9IaIRybXI"
      }
    },
    {
      "cell_type": "code",
      "source": [
        "def contains_duplicate(nums):\n",
        "    seen = set()\n",
        "    for num in nums:\n",
        "        if num in seen:\n",
        "            return True\n",
        "        seen.add(num)\n",
        "    return False\n",
        "\n",
        "nums = [1, 2, 3, 1]\n",
        "print(contains_duplicate(nums))"
      ],
      "metadata": {
        "colab": {
          "base_uri": "https://localhost:8080/"
        },
        "id": "5svTqphvyWOD",
        "outputId": "e40844ba-fa8f-4a15-8e8b-5a2634c856e7"
      },
      "execution_count": 38,
      "outputs": [
        {
          "output_type": "stream",
          "name": "stdout",
          "text": [
            "True\n"
          ]
        }
      ]
    },
    {
      "cell_type": "markdown",
      "source": [
        "💡Question 6. Minimum Number of Arrows to Burst Balloons\n",
        "\n",
        "There are some spherical balloons taped onto a flat wall that represents the XY-plane. The balloons are represented as a 2D integer array points where points[i] = [xstart, xend] denotes a balloon whose horizontal diameter stretches between xstart and xend. You do not know the exact y-coordinates of the balloons.\n",
        "\n",
        "Arrows can be shot up directly vertically (in the positive y-direction) from different points along the x-axis. A balloon with xstart and xend is burst by an arrow shot at x if xstart <= x <= xend. There is no limit to the number of arrows that can be shot. A shot arrow keeps traveling up infinitely, bursting any balloons in its path.\n",
        "\n",
        "Given the array points, return the minimum number of arrows that must be shot to burst all balloons.\n",
        "\n",
        "Example 1:\n",
        "\n",
        "Input: points = [[10,16],[2,8],[1,6],[7,12]]\n",
        "\n",
        "Output: 2\n",
        "\n",
        "Explanation: The balloons can be burst by 2 arrows:\n",
        "\n",
        "Shoot an arrow at x = 6, bursting the balloons [2,8] and [1,6].\n",
        "Shoot an arrow at x = 11, bursting the balloons [10,16] and [7,12].\n"
      ],
      "metadata": {
        "id": "iKktgtyOyiBd"
      }
    },
    {
      "cell_type": "code",
      "source": [
        "def find_min_arrows(points):\n",
        "    if not points:\n",
        "        return 0\n",
        "\n",
        "    points.sort(key=lambda x: x[1])\n",
        "    arrows = 1\n",
        "    end = points[0][1]\n",
        "\n",
        "    for i in range(1, len(points)):\n",
        "        if points[i][0] > end:\n",
        "            arrows += 1\n",
        "            end = points[i][1]\n",
        "\n",
        "    return arrows\n",
        "\n",
        "points = [[10,16],[2,8],[1,6],[7,12]]\n",
        "print(find_min_arrows(points))"
      ],
      "metadata": {
        "colab": {
          "base_uri": "https://localhost:8080/"
        },
        "id": "ZH-pLwuLycQZ",
        "outputId": "f24be58b-15e0-4fe6-e3a8-b284760a1e72"
      },
      "execution_count": 39,
      "outputs": [
        {
          "output_type": "stream",
          "name": "stdout",
          "text": [
            "2\n"
          ]
        }
      ]
    },
    {
      "cell_type": "markdown",
      "source": [
        "💡 7. Longest Increasing Subsequence\n",
        "\n",
        "Given an integer array nums, return the length of the longest strictly increasing**\n",
        "\n",
        "*subsequence*\n",
        "\n",
        ".\n",
        "\n",
        "Example 1:\n",
        "\n",
        "Input: nums = [10,9,2,5,3,7,101,18]\n",
        "\n",
        "Output: 4\n",
        "\n",
        "Explanation: The longest increasing subsequence is [2,3,7,101], therefore the length is 4.\n"
      ],
      "metadata": {
        "id": "ktdyFE0vyqsO"
      }
    },
    {
      "cell_type": "code",
      "source": [
        "def length_of_lis(nums):\n",
        "    if not nums:\n",
        "        return 0\n",
        "\n",
        "    dp = [1] * len(nums)\n",
        "    for i in range(1, len(nums)):\n",
        "        for j in range(i):\n",
        "            if nums[i] > nums[j]:\n",
        "                dp[i] = max(dp[i], dp[j] + 1)\n",
        "\n",
        "    return max(dp)\n",
        "\n",
        "nums = [10, 9, 2, 5, 3, 7, 101, 18]\n",
        "print(length_of_lis(nums))"
      ],
      "metadata": {
        "colab": {
          "base_uri": "https://localhost:8080/"
        },
        "id": "xUzzOVboyi8u",
        "outputId": "a6b2cb88-5cb5-49d8-ed5b-6125c9293d55"
      },
      "execution_count": 40,
      "outputs": [
        {
          "output_type": "stream",
          "name": "stdout",
          "text": [
            "4\n"
          ]
        }
      ]
    },
    {
      "cell_type": "markdown",
      "source": [
        "💡 8. 132 Pattern\n",
        "\n",
        "Given an array of n integers nums, a 132 pattern is a subsequence of three integers nums[i], nums[j] and nums[k] such that i < j < k and nums[i] < nums[k] < nums[j].\n",
        "\n",
        "Return true if there is a 132 pattern in nums, otherwise, return false.\n",
        "\n",
        "Example 1:\n",
        "\n",
        "Input: nums = [1,2,3,4]\n",
        "\n",
        "Output: false\n",
        "\n",
        "Explanation: There is no 132 pattern in the sequence.\n"
      ],
      "metadata": {
        "id": "7o1iLHS_yxyb"
      }
    },
    {
      "cell_type": "code",
      "source": [
        "def find132pattern(nums):\n",
        "    stack = []\n",
        "    second = float('-inf')\n",
        "\n",
        "    for num in reversed(nums):\n",
        "        if num < second:\n",
        "            return True\n",
        "        while stack and stack[-1] < num:\n",
        "            second = stack.pop()\n",
        "        stack.append(num)\n",
        "\n",
        "    return False\n",
        "\n",
        "nums = [1, 2, 3, 4]\n",
        "print(find132pattern(nums))"
      ],
      "metadata": {
        "colab": {
          "base_uri": "https://localhost:8080/"
        },
        "id": "XoMg42a5yrN2",
        "outputId": "0d150a91-9244-4006-a8aa-1fe83eeeca0e"
      },
      "execution_count": 41,
      "outputs": [
        {
          "output_type": "stream",
          "name": "stdout",
          "text": [
            "False\n"
          ]
        }
      ]
    }
  ],
  "metadata": {
    "colab": {
      "provenance": []
    },
    "kernelspec": {
      "display_name": "Python 3",
      "name": "python3"
    },
    "language_info": {
      "name": "python"
    }
  },
  "nbformat": 4,
  "nbformat_minor": 0
}