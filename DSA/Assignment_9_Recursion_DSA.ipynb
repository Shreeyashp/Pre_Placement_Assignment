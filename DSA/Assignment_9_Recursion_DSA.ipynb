{
  "nbformat": 4,
  "nbformat_minor": 0,
  "metadata": {
    "colab": {
      "provenance": []
    },
    "kernelspec": {
      "name": "python3",
      "display_name": "Python 3"
    },
    "language_info": {
      "name": "python"
    }
  },
  "cells": [
    {
      "cell_type": "markdown",
      "source": [
        "## **Submitted By: `Shreeyash Pardeshi`**"
      ],
      "metadata": {
        "id": "TT5bpHnt2cEK"
      }
    },
    {
      "cell_type": "markdown",
      "source": [
        "💡 **Question 1**\n",
        "\n",
        "Given an integer `n`, return *`true` if it is a power of two. Otherwise, return `false`*.\n",
        "\n",
        "An integer `n` is a power of two, if there exists an integer `x` such that `n == 2x`.\n",
        "\n",
        "**Example 1:**\n",
        "Input: n = 1\n",
        "\n",
        "Output: true\n",
        "\n",
        "**Example 2:**\n",
        "Input: n = 16\n",
        "\n",
        "Output: true\n",
        "\n",
        "**Example 3:**\n",
        "Input: n = 3\n",
        "\n",
        "Output: false\n"
      ],
      "metadata": {
        "id": "PXpSMDtgTHp6"
      }
    },
    {
      "cell_type": "code",
      "source": [
        "def is_power_of_two(num):\n",
        "    if num <= 0:\n",
        "        return False\n",
        "    while num % 2 == 0:\n",
        "        num /= 2\n",
        "    return num == 1\n",
        "\n",
        "# Example \n",
        "print(is_power_of_two(1))    # True\n",
        "print(is_power_of_two(16))   # True\n",
        "print(is_power_of_two(3))    # False"
      ],
      "metadata": {
        "colab": {
          "base_uri": "https://localhost:8080/"
        },
        "id": "Vt_pHhZFTICC",
        "outputId": "915ac8a1-f731-404f-c240-bae534b563ef"
      },
      "execution_count": 66,
      "outputs": [
        {
          "output_type": "stream",
          "name": "stdout",
          "text": [
            "True\n",
            "True\n",
            "False\n"
          ]
        }
      ]
    },
    {
      "cell_type": "markdown",
      "source": [
        "💡 **Question 2**\n",
        "\n",
        "Given a number n, find the sum of the first natural numbers.\n",
        "\n",
        "**Example 1:**\n",
        "\n",
        "Input: n = 3\n",
        "\n",
        "Output: 6\n",
        "\n",
        "**Example 2:**\n",
        "\n",
        "Input : 5\n",
        "\n",
        "Output : 15\n"
      ],
      "metadata": {
        "id": "IHChVV11UvUc"
      }
    },
    {
      "cell_type": "code",
      "source": [
        "def sum_of_natural_numbers(n):\n",
        "    return sum(range(1, n+1))\n",
        "\n",
        "# Example \n",
        "print(sum_of_natural_numbers(3))   # 6\n",
        "print(sum_of_natural_numbers(5))   # 15"
      ],
      "metadata": {
        "colab": {
          "base_uri": "https://localhost:8080/"
        },
        "id": "SSZWoPwyUWCA",
        "outputId": "28088aed-6b4e-410a-ea98-1b64199cf4c6"
      },
      "execution_count": 67,
      "outputs": [
        {
          "output_type": "stream",
          "name": "stdout",
          "text": [
            "6\n",
            "15\n"
          ]
        }
      ]
    },
    {
      "cell_type": "markdown",
      "source": [
        "💡 **Question 3**\n",
        "\n",
        "Given a positive integer, N. Find the factorial of N.\n",
        "\n",
        "**Example 1:**\n",
        "\n",
        "Input: N = 5\n",
        "\n",
        "Output: 120\n",
        "\n",
        "**Example 2:**\n",
        "\n",
        "Input: N = 4\n",
        "\n",
        "Output: 24\n"
      ],
      "metadata": {
        "id": "f0eg-SrOVPvW"
      }
    },
    {
      "cell_type": "code",
      "source": [
        "def factorial(n):\n",
        "    if n == 0:\n",
        "        return 1\n",
        "    else:\n",
        "        return n * factorial(n-1)\n",
        "\n",
        "# Example \n",
        "print(factorial(5))   # 120\n",
        "print(factorial(4))   # 24"
      ],
      "metadata": {
        "colab": {
          "base_uri": "https://localhost:8080/"
        },
        "id": "GHTl-xp_U0rO",
        "outputId": "72b767ed-fd86-4dc6-b7c5-473bfcfffd75"
      },
      "execution_count": 68,
      "outputs": [
        {
          "output_type": "stream",
          "name": "stdout",
          "text": [
            "120\n",
            "24\n"
          ]
        }
      ]
    },
    {
      "cell_type": "markdown",
      "source": [
        "💡 **Question 4**\n",
        "\n",
        "Given a number N and a power P, the task is to find the exponent of this number raised to the given power, i.e. N^P.\n",
        "\n",
        "**Example 1 :**\n",
        "\n",
        "Input: N = 5, P = 2\n",
        "\n",
        "Output: 25\n",
        "\n",
        "**Example 2 :**\n",
        "Input: N = 2, P = 5\n",
        "\n",
        "Output: 32"
      ],
      "metadata": {
        "id": "0kvrjlLeVXkZ"
      }
    },
    {
      "cell_type": "code",
      "source": [
        "def exponent(num, power):\n",
        "    if power == 0:\n",
        "        return 1\n",
        "    elif power % 2 == 0:\n",
        "        return exponent(num*num, power//2)\n",
        "    else:\n",
        "        return num * exponent(num*num, power//2)\n",
        "\n",
        "# Example \n",
        "print(exponent(5, 2))   # 25\n",
        "print(exponent(2, 5))   # 32"
      ],
      "metadata": {
        "colab": {
          "base_uri": "https://localhost:8080/"
        },
        "id": "3N-9o-kbVTQ-",
        "outputId": "28d5a8d1-bb81-4645-db72-9befc4055ee9"
      },
      "execution_count": 69,
      "outputs": [
        {
          "output_type": "stream",
          "name": "stdout",
          "text": [
            "25\n",
            "32\n"
          ]
        }
      ]
    },
    {
      "cell_type": "markdown",
      "source": [
        "💡 **Question 5**\n",
        "\n",
        "Given an array of integers **arr**, the task is to find maximum element of that array using recursion.\n",
        "\n",
        "**Example 1:**\n",
        "\n",
        "Input: arr = {1, 4, 3, -5, -4, 8, 6};\n",
        "Output: 8\n",
        "\n",
        "**Example 2:**\n",
        "\n",
        "Input: arr = {1, 4, 45, 6, 10, -8};\n",
        "Output: 45\n",
        "\n"
      ],
      "metadata": {
        "id": "TLqztqreVduR"
      }
    },
    {
      "cell_type": "code",
      "source": [
        "def max_element(arr):\n",
        "    if len(arr) == 1:\n",
        "        return arr[0]\n",
        "    else:\n",
        "        return max(arr[0], max_element(arr[1:]))\n",
        "\n",
        "# Example \n",
        "print(max_element([1, 4, 3, -5, -4, 8, 6]))   # 8\n",
        "print(max_element([1, 4, 45, 6, 10, -8]))     # 45"
      ],
      "metadata": {
        "colab": {
          "base_uri": "https://localhost:8080/"
        },
        "id": "WVSH91MIVY4I",
        "outputId": "1dbfc603-6d9f-4406-833a-64f7ea651729"
      },
      "execution_count": 70,
      "outputs": [
        {
          "output_type": "stream",
          "name": "stdout",
          "text": [
            "8\n",
            "45\n"
          ]
        }
      ]
    },
    {
      "cell_type": "markdown",
      "source": [
        "\n",
        "💡 **Question 6**\n",
        "\n",
        "Given first term (a), common difference (d) and a integer N of the Arithmetic Progression series, the task is to find Nth term of the series.\n",
        "\n",
        "**Example 1:**\n",
        "\n",
        "Input : a = 2 d = 1 N = 5\n",
        "Output : 6\n",
        "The 5th term of the series is : 6\n",
        "\n",
        "**Example 2:**\n",
        "\n",
        "Input : a = 5 d = 2 N = 10\n",
        "Output : 23\n",
        "The 10th term of the series is : 23"
      ],
      "metadata": {
        "id": "wOqYw7EDVkto"
      }
    },
    {
      "cell_type": "code",
      "source": [
        "def nth_term_of_ap(a, d, n):\n",
        "    return a + (n-1) * d\n",
        "\n",
        "# Example \n",
        "print(nth_term_of_ap(2, 1, 5))   # 6\n",
        "print(nth_term_of_ap(5, 2, 10))  # 23"
      ],
      "metadata": {
        "colab": {
          "base_uri": "https://localhost:8080/"
        },
        "id": "ljqrzUs-VmmG",
        "outputId": "189cf45d-edd0-43dd-955f-daf66e8a8aee"
      },
      "execution_count": 71,
      "outputs": [
        {
          "output_type": "stream",
          "name": "stdout",
          "text": [
            "6\n",
            "23\n"
          ]
        }
      ]
    },
    {
      "cell_type": "markdown",
      "source": [
        "💡 **Question 7**\n",
        "\n",
        "Given a string S, the task is to write a program to print all permutations of a given string.\n",
        "\n",
        "**Example 1:**\n",
        "\n",
        "***Input:***\n",
        "\n",
        "*S = “ABC”*\n",
        "\n",
        "***Output:***\n",
        "\n",
        "*“ABC”, “ACB”, “BAC”, “BCA”, “CBA”, “CAB”*\n",
        "\n",
        "**Example 2:**\n",
        "\n",
        "***Input:***\n",
        "\n",
        "*S = “XY”*\n",
        "\n",
        "***Output:***\n",
        "\n",
        "*“XY”, “YX”*"
      ],
      "metadata": {
        "id": "Sz3Cmbo0Vtct"
      }
    },
    {
      "cell_type": "code",
      "source": [
        "def permutations_of_string(s):\n",
        "    if len(s) == 0:\n",
        "        return []\n",
        "    elif len(s) == 1:\n",
        "        return [s]\n",
        "    else:\n",
        "        result = []\n",
        "        for i in range(len(s)):\n",
        "            current_char = s[i]\n",
        "            remaining_chars = s[:i] + s[i+1:]\n",
        "            for permutation in permutations_of_string(remaining_chars):\n",
        "                result.append(current_char + permutation)\n",
        "        return result\n",
        "\n",
        "# Example \n",
        "print(permutations_of_string('ABC'))   # ['ABC', 'ACB', 'BAC', 'BCA', 'CAB', 'CBA']\n",
        "print(permutations_of_string('XY'))    # ['XY', 'YX']"
      ],
      "metadata": {
        "colab": {
          "base_uri": "https://localhost:8080/"
        },
        "id": "5fSXyLPcVt3Q",
        "outputId": "5a83c9ef-3277-41fe-9ad4-340fd3de2f1e"
      },
      "execution_count": 72,
      "outputs": [
        {
          "output_type": "stream",
          "name": "stdout",
          "text": [
            "['ABC', 'ACB', 'BAC', 'BCA', 'CAB', 'CBA']\n",
            "['XY', 'YX']\n"
          ]
        }
      ]
    },
    {
      "cell_type": "markdown",
      "source": [
        "\n",
        "💡 **Question 8**\n",
        "\n",
        "Given an array, find a product of all array elements.\n",
        "\n",
        "**Example 1:**\n",
        "\n",
        "Input : arr[] = {1, 2, 3, 4, 5}\n",
        "Output : 120\n",
        "**Example 2:**\n",
        "\n",
        "Input : arr[] = {1, 6, 3}\n",
        "Output : 18"
      ],
      "metadata": {
        "id": "2zMBdTI7VuQp"
      }
    },
    {
      "cell_type": "code",
      "source": [
        "def product_of_array_elements(arr):\n",
        "    product = 1\n",
        "    for element in arr:\n",
        "        product *= element\n",
        "    return product\n",
        "\n",
        "# Example \n",
        "print(product_of_array_elements([1, 2, 3, 4, 5]))   # 120\n",
        "print(product_of_array_elements([1, 6, 3]))         # 18"
      ],
      "metadata": {
        "colab": {
          "base_uri": "https://localhost:8080/"
        },
        "id": "RSfON1skVw4C",
        "outputId": "b916730d-94ce-4720-9225-2c36878ee621"
      },
      "execution_count": 73,
      "outputs": [
        {
          "output_type": "stream",
          "name": "stdout",
          "text": [
            "120\n",
            "18\n"
          ]
        }
      ]
    }
  ]
}