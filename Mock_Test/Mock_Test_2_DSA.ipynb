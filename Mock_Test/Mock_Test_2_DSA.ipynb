{
  "cells": [
    {
      "cell_type": "markdown",
      "source": [
        "## **Submitted By: `Shreeyash Pardeshi`**"
      ],
      "metadata": {
        "id": "AGMrj3AdsZZF"
      }
    },
    {
      "cell_type": "markdown",
      "source": [
        "\n",
        "Given a non-negative integer x, return the square root of x rounded down to the nearest integer. The returned integer should be non-negative as well. You must not use any built-in exponent function or operator.\n",
        "\n",
        " Example 1:\n",
        "Input: x = 4 Output: 2 Explanation: The square root of 4 is 2, so we return 2.\n",
        "Example 2:\n",
        "\n",
        "Input: x = 8 Output: 2 Explanation: The square root of 8 is 2.82842..., and since we round it down to the nearest integer, 2 is returned.\n",
        "Constraints:\n",
        "\n",
        "0 <= x <= 2^31 - 1\n"
      ],
      "metadata": {
        "id": "K3XNA_BS7JY3"
      }
    },
    {
      "cell_type": "code",
      "source": [
        "def Sqrt(x):\n",
        "    if x == 0:\n",
        "        return 0\n",
        "\n",
        "    left, right = 1, x\n",
        "\n",
        "    while left <= right:\n",
        "        mid = left + (right - left) // 2\n",
        "\n",
        "        if mid * mid > x:\n",
        "            right = mid - 1\n",
        "        else:\n",
        "            left = mid + 1\n",
        "\n",
        "    return left - 1\n",
        "\n",
        "# Example 1\n",
        "x = 4\n",
        "result = Sqrt(x)\n",
        "print(f\"The square root of {x} is {result}\")\n",
        "\n",
        "# Example 2\n",
        "x = 8\n",
        "result = Sqrt(x)\n",
        "print(f\"The square root of {x} is {result}\")"
      ],
      "metadata": {
        "colab": {
          "base_uri": "https://localhost:8080/"
        },
        "id": "nB_GOCul7QhN",
        "outputId": "b86b7c80-c072-457a-ee6f-22cca3f9db97"
      },
      "execution_count": 2,
      "outputs": [
        {
          "output_type": "stream",
          "name": "stdout",
          "text": [
            "The square root of 4 is 2\n",
            "The square root of 8 is 2\n"
          ]
        }
      ]
    },
    {
      "cell_type": "markdown",
      "source": [
        "You are given two non-empty linked lists representing two non-negative integers. The digits are stored in reverse order, and each of their nodes contains a single digit. Add the two numbers and return the sum as a linked list.\n",
        "\n",
        "You may assume the two numbers do not contain any leading zero, except the number 0 itself.\n",
        "\n",
        "\n",
        "Example 1:\n",
        "\n",
        "Input: l1 = [2,4,3], l2 = [5,6,4] Output: [7,0,8] Explanation: 342 + 465 = 807.\n",
        "\n",
        "Example 2:\n",
        "\n",
        "Input: l1 = [0], l2 = [0] Output: [0]\n",
        "\n",
        "Example 3:\n",
        "\n",
        "Input: l1 = [9,9,9,9,9,9,9], l2 = [9,9,9,9] Output: [8,9,9,9,0,0,0,1]\n",
        "\n",
        "\n",
        "\n",
        "Constraints:\n",
        "\n",
        "The number of nodes in each linked list is in the range [1, 100].\n",
        "0 <= Node.val <= 9 It is guaranteed that the list represents a number that does not have leading zeros.\n"
      ],
      "metadata": {
        "id": "B_GDgS7s7jq6"
      }
    },
    {
      "cell_type": "code",
      "source": [
        "class ListNode:\n",
        "    def __init__(self, val=0, next=None):\n",
        "        self.val = val\n",
        "        self.next = next\n",
        "\n",
        "def addTwoNumbers(l1, l2):\n",
        "    dummy = ListNode()\n",
        "    curr = dummy\n",
        "    carry = 0\n",
        "\n",
        "    while l1 or l2 or carry:\n",
        "        sum = carry\n",
        "\n",
        "        if l1:\n",
        "            sum += l1.val\n",
        "            l1 = l1.next\n",
        "        if l2:\n",
        "            sum += l2.val\n",
        "            l2 = l2.next\n",
        "\n",
        "        carry = sum // 10\n",
        "        curr.next = ListNode(sum % 10)\n",
        "        curr = curr.next\n",
        "\n",
        "    return dummy.next\n",
        "\n",
        "# Example 1\n",
        "l1 = ListNode(2)\n",
        "l1.next = ListNode(4)\n",
        "l1.next.next = ListNode(3)\n",
        "\n",
        "l2 = ListNode(5)\n",
        "l2.next = ListNode(6)\n",
        "l2.next.next = ListNode(4)\n",
        "\n",
        "result = addTwoNumbers(l1, l2)\n",
        "output = []\n",
        "while result:\n",
        "    output.append(result.val)\n",
        "    result = result.next\n",
        "print(f\"Example 1 Output: {output}\")\n",
        "\n",
        "# Example 2\n",
        "l1 = ListNode(0)\n",
        "l2 = ListNode(0)\n",
        "\n",
        "result = addTwoNumbers(l1, l2)\n",
        "output = []\n",
        "while result:\n",
        "    output.append(result.val)\n",
        "    result = result.next\n",
        "print(f\"Example 2 Output: {output}\")\n",
        "\n",
        "# Example 3\n",
        "l1 = ListNode(9)\n",
        "l1.next = ListNode(9)\n",
        "l1.next.next = ListNode(9)\n",
        "l1.next.next.next = ListNode(9)\n",
        "l1.next.next.next.next = ListNode(9)\n",
        "l1.next.next.next.next.next = ListNode(9)\n",
        "l1.next.next.next.next.next.next = ListNode(9)\n",
        "\n",
        "l2 = ListNode(9)\n",
        "l2.next = ListNode(9)\n",
        "l2.next.next = ListNode(9)\n",
        "l2.next.next.next = ListNode(9)\n",
        "\n",
        "result = addTwoNumbers(l1, l2)\n",
        "output = []\n",
        "while result:\n",
        "    output.append(result.val)\n",
        "    result = result.next\n",
        "print(f\"Example 3 Output: {output}\")"
      ],
      "metadata": {
        "colab": {
          "base_uri": "https://localhost:8080/"
        },
        "id": "fAQAhlOW7RoQ",
        "outputId": "5fe585cb-6c7a-46eb-9709-4a4383fd7812"
      },
      "execution_count": 3,
      "outputs": [
        {
          "output_type": "stream",
          "name": "stdout",
          "text": [
            "Example 1 Output: [7, 0, 8]\n",
            "Example 2 Output: [0]\n",
            "Example 3 Output: [8, 9, 9, 9, 0, 0, 0, 1]\n"
          ]
        }
      ]
    }
  ],
  "metadata": {
    "colab": {
      "provenance": []
    },
    "kernelspec": {
      "display_name": "Python 3",
      "name": "python3"
    },
    "language_info": {
      "name": "python"
    }
  },
  "nbformat": 4,
  "nbformat_minor": 0
}